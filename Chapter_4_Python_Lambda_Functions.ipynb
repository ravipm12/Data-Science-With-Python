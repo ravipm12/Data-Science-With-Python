{
 "cells": [
  {
   "cell_type": "markdown",
   "metadata": {
    "toc": true
   },
   "source": [
    "<h1>Lambda Functions<span class=\"tocSkip\"></span></h1>\n",
    "<div class=\"toc\"><ul class=\"toc-item\"><li><span><a href=\"#Introduction\" data-toc-modified-id=\"Introduction-1\"><span class=\"toc-item-num\">1&nbsp;&nbsp;</span>Introduction</a></span></li><li><span><a href=\"#If-else-condition-within-lambda-function\" data-toc-modified-id=\"If-else-condition-within-lambda-function-2\"><span class=\"toc-item-num\">2&nbsp;&nbsp;</span>If else condition within lambda function</a></span></li><li><span><a href=\"#Contains-(...)\" data-toc-modified-id=\"Contains-(...)-3\"><span class=\"toc-item-num\">3&nbsp;&nbsp;</span>Contains (...)</a></span></li><li><span><a href=\"#Long-String\" data-toc-modified-id=\"Long-String-4\"><span class=\"toc-item-num\">4&nbsp;&nbsp;</span>Long String</a></span></li><li><span><a href=\"#Ends-With-(...)\" data-toc-modified-id=\"Ends-With-(...)-5\"><span class=\"toc-item-num\">5&nbsp;&nbsp;</span>Ends With (...)</a></span></li><li><span><a href=\"#Conditions-within\" data-toc-modified-id=\"Conditions-within-6\"><span class=\"toc-item-num\">6&nbsp;&nbsp;</span>Conditions within</a></span></li><li><span><a href=\"#Double-or-Zero\" data-toc-modified-id=\"Double-or-Zero-7\"><span class=\"toc-item-num\">7&nbsp;&nbsp;</span>Double or Zero</a></span></li><li><span><a href=\"#Even-of-Odd\" data-toc-modified-id=\"Even-of-Odd-8\"><span class=\"toc-item-num\">8&nbsp;&nbsp;</span>Even of Odd</a></span></li><li><span><a href=\"#Multiple-Of...\" data-toc-modified-id=\"Multiple-Of...-9\"><span class=\"toc-item-num\">9&nbsp;&nbsp;</span>Multiple Of...</a></span></li><li><span><a href=\"#Movie-Rating\" data-toc-modified-id=\"Movie-Rating-10\"><span class=\"toc-item-num\">10&nbsp;&nbsp;</span>Movie Rating</a></span></li><li><span><a href=\"#One's-Place\" data-toc-modified-id=\"One's-Place-11\"><span class=\"toc-item-num\">11&nbsp;&nbsp;</span>One's Place</a></span></li><li><span><a href=\"#Double-Square\" data-toc-modified-id=\"Double-Square-12\"><span class=\"toc-item-num\">12&nbsp;&nbsp;</span>Double Square</a></span></li></ul></div>"
   ]
  },
  {
   "cell_type": "markdown",
   "metadata": {},
   "source": [
    "# Introduction"
   ]
  },
  {
   "cell_type": "markdown",
   "metadata": {},
   "source": [
    "A **function** is an object that is able to accept some sort of input, possibly modify it, and return some sort of output.     \n",
    "In Python, an anonymous function is a function that is defined without a name.While normal functions are defined using the def keyword in Python, anonymous functions are defined using the lambda keyword.Hence, anonymous functions are also called lambda functions.  \n",
    "**In Python, a lambda function is a one-line shorthand for anonymous function**  \n",
    "\n",
    "Syntax : lambda arguments: expression  "
   ]
  },
  {
   "cell_type": "code",
   "execution_count": 1,
   "metadata": {},
   "outputs": [
    {
     "name": "stdout",
     "output_type": "stream",
     "text": [
      "5\n",
      "102\n",
      "0\n"
     ]
    }
   ],
   "source": [
    "add_two = lambda my_input: my_input + 2\n",
    "print(add_two(3))\n",
    "print(add_two(100))\n",
    "print(add_two(-2))"
   ]
  },
  {
   "cell_type": "markdown",
   "metadata": {},
   "source": [
    "Let’s break this syntax down:  \n",
    "1. The function is stored in a variable called add_two  \n",
    "2. The keyword \"lambda\" declares that \"add_two\" is a lambda function   \n",
    "3. my_input is what we call the input / argument we are passing into \"add_two\"  \n",
    "4. We are returning my_input plus 2 which is the expression\n"
   ]
  },
  {
   "cell_type": "markdown",
   "metadata": {},
   "source": [
    "Let us write a lambda function that checks if a string is a substring of “This is the master string”"
   ]
  },
  {
   "cell_type": "code",
   "execution_count": 1,
   "metadata": {},
   "outputs": [],
   "source": [
    "# declare the lambda function is_substring with argument as my_string and the desired expression\n",
    "is_substring = lambda my_string: my_string in \"This is the master string\""
   ]
  },
  {
   "cell_type": "code",
   "execution_count": 3,
   "metadata": {},
   "outputs": [
    {
     "name": "stdout",
     "output_type": "stream",
     "text": [
      "False\n",
      "False\n",
      "True\n",
      "True\n"
     ]
    }
   ],
   "source": [
    "# apply the lambda function to validate the presence of desired \"sub-string\"\n",
    "print(is_substring('I')) # will return False\n",
    "print(is_substring('am')) # will return False\n",
    "print(is_substring('the')) # will return True\n",
    "print(is_substring('master')) # will return True"
   ]
  },
  {
   "cell_type": "markdown",
   "metadata": {},
   "source": [
    "1. my_string is the input variable / argument \n",
    "2. my_string in.... This is what we want to do with the \"Input Variable\"  i.e. expression to evluate \n",
    "3. Here we are comparing if the \"Input String\" belongs to the \"This is the master string\" string"
   ]
  },
  {
   "cell_type": "markdown",
   "metadata": {},
   "source": [
    "# If else condition within lambda function"
   ]
  },
  {
   "cell_type": "markdown",
   "metadata": {},
   "source": [
    "Let’s say that we have a function check_if_A_grade that outputs 'Got an A!' if a grade is at least 90, and otherwise says you 'Did not get an A…'  \n",
    "\n",
    "print(check_if_A_grade(91))  \n",
    "print(check_if_A_grade(70))  \n",
    "print(check_if_A_grade(20))  \n",
    "\n",
    "...'Got an A!'  \n",
    "...'Did not get an A...'  \n",
    "...'Did not get an A...'  \n",
    "\n",
    "We can do this using an if statement in our lambda function, with syntax that looks like:\n",
    "\n",
    "**WHAT TO RETURN IF STATEMENT IS TRUE** *if* **IF STATEMENT** *else* **WHAT TO RETURN IF STATEMENT IS FALSE**"
   ]
  },
  {
   "cell_type": "code",
   "execution_count": 5,
   "metadata": {},
   "outputs": [],
   "source": [
    "check_if_A_grade = lambda grade: print(str(grade) + \n",
    "                                       ' Yes You Got an A!') if grade >= 90 else print(str(grade) + \n",
    "                                       ' No You Did not get an A...')"
   ]
  },
  {
   "cell_type": "markdown",
   "metadata": {},
   "source": [
    "This is what this line of code does:\n",
    "1. Declare lambda function with an input called grade (lambda grade:)  \n",
    "2. Note : Use should pass the \"marks\" to get the grade  \n",
    "2. Return 'Got an A!' if this statement is true: grade >= 90 if marks > 90    \n",
    "3. Otherwise, return 'Did not get an A...' if this statement is not true: marks < 90  "
   ]
  },
  {
   "cell_type": "code",
   "execution_count": 6,
   "metadata": {},
   "outputs": [
    {
     "name": "stdout",
     "output_type": "stream",
     "text": [
      "91 Yes You Got an A!\n"
     ]
    }
   ],
   "source": [
    "check_if_A_grade(91)\n",
    "#print(check_if_A_grade(70))\n",
    "#print(check_if_A_grade(20))"
   ]
  },
  {
   "cell_type": "markdown",
   "metadata": {},
   "source": [
    "# Contains (...)"
   ]
  },
  {
   "cell_type": "markdown",
   "metadata": {},
   "source": [
    "Create a lambda function named contains_a that takes an input word and returns True if the input contains the letter 'a'. Otherwise, return False"
   ]
  },
  {
   "cell_type": "code",
   "execution_count": 7,
   "metadata": {},
   "outputs": [
    {
     "name": "stdout",
     "output_type": "stream",
     "text": [
      "True\n",
      "True\n",
      "False\n"
     ]
    }
   ],
   "source": [
    "contains_a = lambda word: \"a\" in word\n",
    "\n",
    "print(contains_a(\"banana\"))\n",
    "print(contains_a(\"apple\"))\n",
    "print(contains_a(\"cherry\"))"
   ]
  },
  {
   "cell_type": "markdown",
   "metadata": {},
   "source": [
    "# Long String  \n",
    "Create a lambda function named long_string that takes an input str and returns True if the string has over 12 characters in it. Otherwise, return False"
   ]
  },
  {
   "cell_type": "code",
   "execution_count": 8,
   "metadata": {},
   "outputs": [
    {
     "name": "stdout",
     "output_type": "stream",
     "text": [
      "False\n",
      "True\n"
     ]
    }
   ],
   "source": [
    "long_string = lambda str: len(str) > 12\n",
    "\n",
    "print(long_string(\"short\"))\n",
    "print(long_string(\"photosynthesis\"))"
   ]
  },
  {
   "cell_type": "markdown",
   "metadata": {},
   "source": [
    "# Ends With (...)  \n",
    "You can get a character of a string string_name by using the syntax string_name[index], where index is the place of character you want to get, starting at 0.  \n",
    "The last character in the string is string_name[-1]."
   ]
  },
  {
   "cell_type": "code",
   "execution_count": 18,
   "metadata": {},
   "outputs": [
    {
     "name": "stdout",
     "output_type": "stream",
     "text": [
      "W\n",
      "o\n",
      "w\n"
     ]
    }
   ],
   "source": [
    "my_string = \"Whoa! A seesaw\"\n",
    "\n",
    "print(my_string[0])\n",
    "print(my_string[2])\n",
    "print(my_string[-1])"
   ]
  },
  {
   "cell_type": "markdown",
   "metadata": {},
   "source": [
    "Create a lambda function named ends_in_a that takes an input str and returns True if the last character in the string is an a. Otherwise, return False"
   ]
  },
  {
   "cell_type": "code",
   "execution_count": 9,
   "metadata": {},
   "outputs": [
    {
     "name": "stdout",
     "output_type": "stream",
     "text": [
      "True\n",
      "False\n"
     ]
    }
   ],
   "source": [
    "ends_in_a = lambda str : \"a\" == str[-1]\n",
    "\n",
    "print(ends_in_a(\"data\"))\n",
    "print(ends_in_a(\"aardvark\"))"
   ]
  },
  {
   "cell_type": "markdown",
   "metadata": {},
   "source": [
    "# Conditions within  \n",
    "Create a lambda function add_or_subtract that will return your input minus 1 if your input is positive or 0, and otherwise will return your input plus 1."
   ]
  },
  {
   "cell_type": "code",
   "execution_count": 10,
   "metadata": {},
   "outputs": [],
   "source": [
    "add_subtract = lambda input_number : input_number -1 if input_number >= 0 else input_number +1"
   ]
  },
  {
   "cell_type": "code",
   "execution_count": 11,
   "metadata": {},
   "outputs": [
    {
     "name": "stdout",
     "output_type": "stream",
     "text": [
      "3\n",
      "-1\n",
      "-1\n"
     ]
    }
   ],
   "source": [
    "print(add_subtract(4))\n",
    "print(add_subtract(-2))\n",
    "print(add_subtract(0))"
   ]
  },
  {
   "cell_type": "markdown",
   "metadata": {},
   "source": [
    "# Double or Zero  \n",
    "Create a lambda function named double_or_zero that takes an integer named num. If num is greater than 10, return double num. Otherwise, return 0."
   ]
  },
  {
   "cell_type": "code",
   "execution_count": 12,
   "metadata": {},
   "outputs": [
    {
     "name": "stdout",
     "output_type": "stream",
     "text": [
      "30\n",
      "0\n",
      "0\n"
     ]
    }
   ],
   "source": [
    "double_or_zero = lambda num: num*2 if num > 10 else 0\n",
    "\n",
    "print(double_or_zero(15))\n",
    "print(double_or_zero(5))\n",
    "print(double_or_zero(-1))"
   ]
  },
  {
   "cell_type": "markdown",
   "metadata": {},
   "source": [
    "# Even of Odd  \n",
    "Create a lambda function named even_or_odd that takes an integer named num. If num is even, return \"even\". If num is odd, return \"odd\".  \n",
    "Note : If the result of num%2 {num modulo 2} = 0 then number is completely divisible by 2 and is even"
   ]
  },
  {
   "cell_type": "code",
   "execution_count": 14,
   "metadata": {},
   "outputs": [
    {
     "name": "stdout",
     "output_type": "stream",
     "text": [
      "Odd\n",
      "Even\n"
     ]
    }
   ],
   "source": [
    "even_or_odd = lambda num: \"Even\" if num%2 == 0 else \"Odd\"\n",
    "\n",
    "print(even_or_odd(5))\n",
    "print(even_or_odd(2))"
   ]
  },
  {
   "cell_type": "markdown",
   "metadata": {},
   "source": [
    "# Multiple Of...\n",
    "Create a lambda function named multiple_of_three that takes an integer named num. If num is a multiple of three, return \"multiple of three\". Otherwise, return \"not a multiple\""
   ]
  },
  {
   "cell_type": "code",
   "execution_count": 33,
   "metadata": {},
   "outputs": [
    {
     "name": "stdout",
     "output_type": "stream",
     "text": [
      "Multiple of three\n",
      "Not a multiple of three\n"
     ]
    }
   ],
   "source": [
    "multiple_of_three = lambda num: \"Multiple of three\" if num%3 == 0 else \"Not a multiple of three\"\n",
    "\n",
    "print(multiple_of_three(6))\n",
    "print(multiple_of_three(7))"
   ]
  },
  {
   "cell_type": "markdown",
   "metadata": {},
   "source": [
    "# Movie Rating  \n",
    "Create a lambda function named rate_movie that takes a number named rating. If rating is greater than 8.5, return \"I liked this movie\". Otherwise return \"This movie was not very good\"."
   ]
  },
  {
   "cell_type": "code",
   "execution_count": 35,
   "metadata": {},
   "outputs": [
    {
     "name": "stdout",
     "output_type": "stream",
     "text": [
      "This movie was not very good\n",
      "I liked this movie\n"
     ]
    }
   ],
   "source": [
    "movie_rating = lambda rating: \"I liked this movie\" if rating > 8.5 else \"This movie was not very good\"\n",
    "\n",
    "print(movie_rating(6))\n",
    "print(movie_rating(9))"
   ]
  },
  {
   "cell_type": "markdown",
   "metadata": {},
   "source": [
    "# One's Place  \n",
    "Create a lambda function named ones_place that returns the ones’ place of the input num"
   ]
  },
  {
   "cell_type": "code",
   "execution_count": 15,
   "metadata": {},
   "outputs": [
    {
     "name": "stdout",
     "output_type": "stream",
     "text": [
      "2\n",
      "3\n",
      "2\n"
     ]
    }
   ],
   "source": [
    "ones_place = lambda num: num%10 # modulo 10 gives remainder which is 1's place\n",
    "\n",
    "print(ones_place(42))\n",
    "print(ones_place(63))\n",
    "print(ones_place(2))"
   ]
  },
  {
   "cell_type": "markdown",
   "metadata": {},
   "source": [
    "# Double Square  \n",
    "Create a lambda function named double_square that takes an input named num. The function should return twice the square of num"
   ]
  },
  {
   "cell_type": "code",
   "execution_count": 37,
   "metadata": {},
   "outputs": [
    {
     "name": "stdout",
     "output_type": "stream",
     "text": [
      "72\n"
     ]
    }
   ],
   "source": [
    "double_square = lambda num: num**2*2\n",
    "\n",
    "print(double_square(6))"
   ]
  },
  {
   "cell_type": "code",
   "execution_count": null,
   "metadata": {},
   "outputs": [],
   "source": []
  }
 ],
 "metadata": {
  "hide_input": false,
  "kernelspec": {
   "display_name": "Python 3",
   "language": "python",
   "name": "python3"
  },
  "language_info": {
   "codemirror_mode": {
    "name": "ipython",
    "version": 3
   },
   "file_extension": ".py",
   "mimetype": "text/x-python",
   "name": "python",
   "nbconvert_exporter": "python",
   "pygments_lexer": "ipython3",
   "version": "3.8.5"
  },
  "latex_envs": {
   "LaTeX_envs_menu_present": true,
   "autoclose": false,
   "autocomplete": true,
   "bibliofile": "biblio.bib",
   "cite_by": "apalike",
   "current_citInitial": 1,
   "eqLabelWithNumbers": true,
   "eqNumInitial": 1,
   "hotkeys": {
    "equation": "Ctrl-E",
    "itemize": "Ctrl-I"
   },
   "labels_anchors": false,
   "latex_user_defs": false,
   "report_style_numbering": false,
   "user_envs_cfg": false
  },
  "toc": {
   "base_numbering": 1,
   "nav_menu": {},
   "number_sections": true,
   "sideBar": true,
   "skip_h1_title": false,
   "title_cell": "Lambda Functions",
   "title_sidebar": "Contents",
   "toc_cell": true,
   "toc_position": {
    "height": "calc(100% - 180px)",
    "left": "10px",
    "top": "150px",
    "width": "168.333px"
   },
   "toc_section_display": true,
   "toc_window_display": true
  },
  "varInspector": {
   "cols": {
    "lenName": 16,
    "lenType": 16,
    "lenVar": 40
   },
   "kernels_config": {
    "python": {
     "delete_cmd_postfix": "",
     "delete_cmd_prefix": "del ",
     "library": "var_list.py",
     "varRefreshCmd": "print(var_dic_list())"
    },
    "r": {
     "delete_cmd_postfix": ") ",
     "delete_cmd_prefix": "rm(",
     "library": "var_list.r",
     "varRefreshCmd": "cat(var_dic_list()) "
    }
   },
   "types_to_exclude": [
    "module",
    "function",
    "builtin_function_or_method",
    "instance",
    "_Feature"
   ],
   "window_display": false
  }
 },
 "nbformat": 4,
 "nbformat_minor": 2
}
