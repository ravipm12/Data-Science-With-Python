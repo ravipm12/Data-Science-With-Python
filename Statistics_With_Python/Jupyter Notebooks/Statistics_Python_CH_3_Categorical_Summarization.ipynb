{
 "cells": [
  {
   "cell_type": "markdown",
   "metadata": {
    "toc": true
   },
   "source": [
    "<h1>Chapter3 Statistics-Summarizing Categorical Variables : Ravi Mummigatti : 23-12-20<span class=\"tocSkip\"></span></h1>\n",
    "<div class=\"toc\"><ul class=\"toc-item\"><li><span><a href=\"#Introduction\" data-toc-modified-id=\"Introduction-1\"><span class=\"toc-item-num\">1&nbsp;&nbsp;</span>Introduction</a></span></li><li><span><a href=\"#Nominal-categories\" data-toc-modified-id=\"Nominal-categories-2\"><span class=\"toc-item-num\">2&nbsp;&nbsp;</span>Nominal categories</a></span></li><li><span><a href=\"#Ordinal-Categorical-Variables\" data-toc-modified-id=\"Ordinal-Categorical-Variables-3\"><span class=\"toc-item-num\">3&nbsp;&nbsp;</span>Ordinal Categorical Variables</a></span></li><li><span><a href=\"#Table-of-Proportions\" data-toc-modified-id=\"Table-of-Proportions-4\"><span class=\"toc-item-num\">4&nbsp;&nbsp;</span>Table of Proportions</a></span></li><li><span><a href=\"#Binary-Categorical-Variables\" data-toc-modified-id=\"Binary-Categorical-Variables-5\"><span class=\"toc-item-num\">5&nbsp;&nbsp;</span>Binary Categorical Variables</a></span></li><li><span><a href=\"#Project-Cars-Evaluation\" data-toc-modified-id=\"Project-Cars-Evaluation-6\"><span class=\"toc-item-num\">6&nbsp;&nbsp;</span>Project Cars Evaluation</a></span></li><li><span><a href=\"#Summary\" data-toc-modified-id=\"Summary-7\"><span class=\"toc-item-num\">7&nbsp;&nbsp;</span>Summary</a></span></li></ul></div>"
   ]
  },
  {
   "attachments": {
    "CATTABLE.png": {
     "image/png": "[encoded data removed]"
    }
   },
   "cell_type": "markdown",
   "metadata": {},
   "source": [
    "# Introduction  \n",
    "When exploring data, we’re often interested in summarizing a large amount of information with a single number or visualization.\n",
    "\n",
    "Depending on what we’re trying to understand from our data, we may need to rely on different statistics. For quantitative data, we can summarize central tendency using mean, median or mode and we can summarize spread using standard deviation, variance, or percentiles. However, when working with categorical data, we may not be able to use all the same summary statistics.    \n",
    "For example, here are the first five rows and some selected columns of a dataset from the 1994 U.S. census:  \n",
    "![CATTABLE.png](attachment:CATTABLE.png)  \n",
    "Age is a quantitative variable, so we can calculate the average (or mean) age. However, for a variable like marital.status, we can’t calculate something like \"average marital status\" because the possible values of marital status are categories rather than numbers (e.g. \"Married\", \"Widowed\", \"Seperated\", etc.)  \n",
    "\n",
    "The dataset we’ll explore is a sample of the NYC 2015 Tree Census. This dataset contains information from a survey of trees in the city collected by parks department employees and community volunteers  \n",
    "\n",
    "*Dataset description :*     \n",
    "tree_id:Unique identifier for each tree in the survey  \n",
    "trunk_diam:Diameter of the tree measured 54” above the ground    \n",
    "status:Indicates whether the tree is alive, standing dead, or a stump.  \n",
    "health:Indicates the user’s perception of tree health.  \n",
    "spc_common:Common name for species, e.g. “red maple”  \n",
    "neighborhood:Name of the neighborhood the tree is located in  \n"
   ]
  },
  {
   "cell_type": "code",
   "execution_count": 1,
   "metadata": {},
   "outputs": [],
   "source": [
    "# import packages\n",
    "import pandas as pd\n",
    "import numpy as np"
   ]
  },
  {
   "cell_type": "code",
   "execution_count": 2,
   "metadata": {},
   "outputs": [
    {
     "data": {
      "text/html": [
       "<div>\n",
       "<style scoped>\n",
       "    .dataframe tbody tr th:only-of-type {\n",
       "        vertical-align: middle;\n",
       "    }\n",
       "\n",
       "    .dataframe tbody tr th {\n",
       "        vertical-align: top;\n",
       "    }\n",
       "\n",
       "    .dataframe thead th {\n",
       "        text-align: right;\n",
       "    }\n",
       "</style>\n",
       "<table border=\"1\" class=\"dataframe\">\n",
       "  <thead>\n",
       "    <tr style=\"text-align: right;\">\n",
       "      <th></th>\n",
       "      <th>tree_id</th>\n",
       "      <th>trunk_diam</th>\n",
       "      <th>status</th>\n",
       "      <th>health</th>\n",
       "      <th>spc_common</th>\n",
       "      <th>neighborhood</th>\n",
       "    </tr>\n",
       "  </thead>\n",
       "  <tbody>\n",
       "    <tr>\n",
       "      <th>0</th>\n",
       "      <td>199250</td>\n",
       "      <td>8</td>\n",
       "      <td>Alive</td>\n",
       "      <td>Good</td>\n",
       "      <td>crab apple</td>\n",
       "      <td>Lincoln Square</td>\n",
       "    </tr>\n",
       "    <tr>\n",
       "      <th>1</th>\n",
       "      <td>136891</td>\n",
       "      <td>17</td>\n",
       "      <td>Alive</td>\n",
       "      <td>Good</td>\n",
       "      <td>honeylocust</td>\n",
       "      <td>East Harlem North</td>\n",
       "    </tr>\n",
       "    <tr>\n",
       "      <th>2</th>\n",
       "      <td>200218</td>\n",
       "      <td>3</td>\n",
       "      <td>Alive</td>\n",
       "      <td>Good</td>\n",
       "      <td>ginkgo</td>\n",
       "      <td>Chinatown</td>\n",
       "    </tr>\n",
       "    <tr>\n",
       "      <th>3</th>\n",
       "      <td>53901</td>\n",
       "      <td>23</td>\n",
       "      <td>Alive</td>\n",
       "      <td>Good</td>\n",
       "      <td>green ash</td>\n",
       "      <td>Bayside-Bayside Hills</td>\n",
       "    </tr>\n",
       "    <tr>\n",
       "      <th>4</th>\n",
       "      <td>589218</td>\n",
       "      <td>21</td>\n",
       "      <td>Alive</td>\n",
       "      <td>Good</td>\n",
       "      <td>pin oak</td>\n",
       "      <td>Glen Oaks-Floral Park-New Hyde Park</td>\n",
       "    </tr>\n",
       "  </tbody>\n",
       "</table>\n",
       "</div>"
      ],
      "text/plain": [
       "   tree_id  trunk_diam status health   spc_common  \\\n",
       "0   199250           8  Alive   Good   crab apple   \n",
       "1   136891          17  Alive   Good  honeylocust   \n",
       "2   200218           3  Alive   Good       ginkgo   \n",
       "3    53901          23  Alive   Good    green ash   \n",
       "4   589218          21  Alive   Good      pin oak   \n",
       "\n",
       "                          neighborhood  \n",
       "0                       Lincoln Square  \n",
       "1                    East Harlem North  \n",
       "2                            Chinatown  \n",
       "3                Bayside-Bayside Hills  \n",
       "4  Glen Oaks-Floral Park-New Hyde Park  "
      ]
     },
     "execution_count": 2,
     "metadata": {},
     "output_type": "execute_result"
    }
   ],
   "source": [
    "# load the data and review 1st 5 rows\n",
    "trees = pd.read_csv(\"nyc_trees.csv\")\n",
    "\n",
    "trees.head()"
   ]
  },
  {
   "cell_type": "markdown",
   "metadata": {},
   "source": [
    "**Question : Which columns are categorical vars?**  \n",
    "**Answer : status , health , spc_common , neighborhood**  "
   ]
  },
  {
   "attachments": {
    "VALUE_COUNTS_1.png": {
     "image/png": "[encoded data removed]"
    }
   },
   "cell_type": "markdown",
   "metadata": {},
   "source": [
    "# Nominal categories  \n",
    "Depending on the data, some of the summary statistics we use for quantitative data can still be meaningful for categorical data. Let’s first consider a nominal categorical variable. **A nominal categorical variable is a categorical variable with no intrinsic ordering to the categories**. Examples from the census dataset introduced in the previous exercise include marital.status and race.  \n",
    "\n",
    "Because these variables’ categories have no ordering or numeric equivalents, it would also be impossible to describe central tendency(mean or median) and spread (variance, standard deviation, a range, IQR, or percentiles). However, it is still possible to calculate the mode, the most common value in the dataset.  \n",
    "\n",
    "We use the **.value_counts()** function from Python , which calculates the count of each value in a column and returns the result as a series. *By default, .value_counts() orders categories in descending order by frequency, thus the top row in the output will be the mode.*   \n",
    "\n",
    "In the code below, we use .value_counts() to extract the most common responses in the field marital.status:  \n",
    "counts = df['marital.status'].value_counts()  \n",
    "print(counts)  \n",
    "![VALUE_COUNTS_1.png](attachment:VALUE_COUNTS_1.png)  \n",
    "\n",
    "The most common value of marital.status in this dataset is 'Married-civ-spouse' (married to a civilian spouse), with 14976 observations in that category.   \n",
    "We can also extract the name of the modal category by taking the first value from the series .value_counts() returns.   \n",
    "\n",
    "modal_cat = counts.index[0]  \n",
    "print(modal_cat)  "
   ]
  },
  {
   "cell_type": "markdown",
   "metadata": {},
   "source": [
    "We are using the nyc_trees data, find the count of trees in each neighborhood. \n",
    "We will save the result as tree_counts and print the result"
   ]
  },
  {
   "cell_type": "code",
   "execution_count": 3,
   "metadata": {},
   "outputs": [
    {
     "name": "stdout",
     "output_type": "stream",
     "text": [
      "Annadale-Huguenot-Prince's Bay-Eltingville    950\n",
      "Great Kills                                   761\n",
      "East New York                                 702\n",
      "Bayside-Bayside Hills                         665\n",
      "Rossville-Woodrow                             633\n",
      "                                             ... \n",
      "67                                              1\n",
      "48                                              1\n",
      "87                                              1\n",
      "69                                              1\n",
      "75                                              1\n",
      "Name: neighborhood, Length: 442, dtype: int64\n"
     ]
    }
   ],
   "source": [
    "# Get tree counts by neighborhood\n",
    "tree_counts = trees['neighborhood'].value_counts()\n",
    "print(tree_counts)"
   ]
  },
  {
   "cell_type": "code",
   "execution_count": 4,
   "metadata": {},
   "outputs": [
    {
     "name": "stdout",
     "output_type": "stream",
     "text": [
      "The Greenest neighborhood is Annadale-Huguenot-Prince's Bay-Eltingville that has 950 trees\n"
     ]
    }
   ],
   "source": [
    "# Get neighborhoods with most trees\n",
    "greenest_neighborhood =  tree_counts.index[0] # contents at 1st index\n",
    "count_highest = tree_counts.iloc[0] # get contents at location of 1st index (1st row 1st column\")\n",
    "print(\"The Greenest neighborhood is \" + str(greenest_neighborhood) + \" that has \" + str(count_highest) + \" trees\")"
   ]
  },
  {
   "attachments": {
    "CAT_ENCODING_SUMMARY.png": {
     "image/png": "[encoded data removed]"
    }
   },
   "cell_type": "markdown",
   "metadata": {},
   "source": [
    "# Ordinal Categorical Variables  \n",
    "**Ordinal categorical variables have ordered categories**. For ordinal categorical variables, we can find the modal category and also calculate other summary statistics that are not possible for nominal categorical variables. For central tendency, this means we can also calculate a median.\n",
    "\n",
    "\n",
    "**Categorical Data Spread :  \n",
    "Calculating a mean for ordinal variables would be inappropriate because the spacing between categories may be uneven. Since standard deviation and variance both depend on the mean, these statistics should not be used to summarize categorical data. Instead, measures of spread for ordinal categorical data include percentiles and range.**  \n",
    "\n",
    "**Central Tendency of Ordinal Categorical Data :  \n",
    "For ordinal categorical data, both the median and mode can be calculated as measures of central tendency; a mean is not appropriate because it assumes equal spacing between categories. For nominal categorical data, the mode is calculable and interpretable (as the most common recorded value), but the mean and median are not.**  \n",
    "\n",
    "**Encoding Ordinal Categorical Data :  \n",
    "In order to calculate summary statistics for ordinal categorical data (eg., a median or percentile), many functions, like np.median, require numeric inputs. It is therefore helpful to store category names both as strings and as numerical values (eg., integer or float data types). This can be done using label encoding (in Pandas, using the cat.codes attribute of a ‘category’ dataframe column). For example, suppose there is a variable named response in a dataframe named df that contains responses to the question “Rate your agreement with the statement: the wealthy should pay higher taxes,” where the response options are “strongly disagree”, “disagree”, “neutral”, “agree” and “strongly agree”. The provided code can be used to calculate the median category for this data.**  \n",
    "\n",
    "![CAT_ENCODING_SUMMARY.png](attachment:CAT_ENCODING_SUMMARY.png)\n",
    "\n"
   ]
  },
  {
   "attachments": {
    "CAT_FREQUENCIES.png": {
     "image/png": "[encoded data removed]"
    }
   },
   "cell_type": "markdown",
   "metadata": {},
   "source": [
    "**Categorical Data Frequencies:  \n",
    "One way to summarize a categorical variable is to compute the frequencies of the categories. For further summarization, the frequency of the modal category (most frequent category) is often reported. For example, when analyzing a dataset with an education level variable (highschool, associates, bachelors, masters, etc.), we could calculate the frequency of each category and report the most common category. For a pandas dataframe, we can use the .value_counts() method on a column of data to calculate the frequencies of the categories.**  \n",
    "![CAT_FREQUENCIES.png](attachment:CAT_FREQUENCIES.png)\n"
   ]
  },
  {
   "cell_type": "markdown",
   "metadata": {},
   "source": [
    "**Ordinal Category : Central Tendency : Median**  \n",
    "In order to calculate numerical statistics for ordered categories, we need to first assign numerical values to the categories.  \n",
    "1. We can inspect the unique categories in this variable using .unique()  \n",
    "2. We can associate each of these categories with a numerical value, indicating an individual’s level. The easiest way to do this is to convert the variable to type 'category' using pandas.Categorical().   \n",
    "3. When converting a column to type 'category', we can also pass a list with the column’s categories to indicate the desired ordering.  \n",
    "4. Variables stored as type category have an attribute (cat.codes) that converts the categories to numbers. This allows us to perform numerical operations on this categorical field. This allows us to calculate the median category using numpy’s median() function.  "
   ]
  },
  {
   "cell_type": "markdown",
   "metadata": {},
   "source": [
    "1. Using the NYC trees dataset, find the unique values in the column health.and save it to a variable tree_health_statuses and print the result."
   ]
  },
  {
   "cell_type": "code",
   "execution_count": 5,
   "metadata": {},
   "outputs": [
    {
     "name": "stdout",
     "output_type": "stream",
     "text": [
      "['Good' 'Poor' 'Fair' nan]\n"
     ]
    }
   ],
   "source": [
    "# tree health uniques \n",
    "tree_health_statuses = trees['health'].unique()\n",
    "print(tree_health_statuses)"
   ]
  },
  {
   "cell_type": "markdown",
   "metadata": {},
   "source": [
    "2. Create a list named health_categories which lists the categories from worst to best. You should exclude NaN values from your list"
   ]
  },
  {
   "cell_type": "code",
   "execution_count": 6,
   "metadata": {},
   "outputs": [],
   "source": [
    "# ordered list of health categories\n",
    "health_categories = ['Poor' , 'Fair' , 'Good']"
   ]
  },
  {
   "cell_type": "markdown",
   "metadata": {},
   "source": [
    "3. Using the health_categories list you created, convert health in the original dataset to a categorical variable type ('category')."
   ]
  },
  {
   "cell_type": "code",
   "execution_count": 7,
   "metadata": {},
   "outputs": [],
   "source": [
    "# convert to categorical using pd.Categorical method and pass the ordered list\n",
    "trees['health'] = pd.Categorical(trees['health'] , health_categories , ordered = True)"
   ]
  },
  {
   "cell_type": "markdown",
   "metadata": {},
   "source": [
    "4. Using cat.codes, calculate the value that corresponds to the median value of health.  \n",
    "5. Save it as a variable named median_health_status and print the result"
   ]
  },
  {
   "cell_type": "code",
   "execution_count": 8,
   "metadata": {},
   "outputs": [
    {
     "data": {
      "text/html": [
       "<div>\n",
       "<style scoped>\n",
       "    .dataframe tbody tr th:only-of-type {\n",
       "        vertical-align: middle;\n",
       "    }\n",
       "\n",
       "    .dataframe tbody tr th {\n",
       "        vertical-align: top;\n",
       "    }\n",
       "\n",
       "    .dataframe thead th {\n",
       "        text-align: right;\n",
       "    }\n",
       "</style>\n",
       "<table border=\"1\" class=\"dataframe\">\n",
       "  <thead>\n",
       "    <tr style=\"text-align: right;\">\n",
       "      <th></th>\n",
       "      <th>tree_id</th>\n",
       "      <th>trunk_diam</th>\n",
       "      <th>status</th>\n",
       "      <th>health</th>\n",
       "      <th>spc_common</th>\n",
       "      <th>neighborhood</th>\n",
       "    </tr>\n",
       "  </thead>\n",
       "  <tbody>\n",
       "    <tr>\n",
       "      <th>0</th>\n",
       "      <td>199250</td>\n",
       "      <td>8</td>\n",
       "      <td>Alive</td>\n",
       "      <td>Good</td>\n",
       "      <td>crab apple</td>\n",
       "      <td>Lincoln Square</td>\n",
       "    </tr>\n",
       "    <tr>\n",
       "      <th>1</th>\n",
       "      <td>136891</td>\n",
       "      <td>17</td>\n",
       "      <td>Alive</td>\n",
       "      <td>Good</td>\n",
       "      <td>honeylocust</td>\n",
       "      <td>East Harlem North</td>\n",
       "    </tr>\n",
       "    <tr>\n",
       "      <th>2</th>\n",
       "      <td>200218</td>\n",
       "      <td>3</td>\n",
       "      <td>Alive</td>\n",
       "      <td>Good</td>\n",
       "      <td>ginkgo</td>\n",
       "      <td>Chinatown</td>\n",
       "    </tr>\n",
       "    <tr>\n",
       "      <th>3</th>\n",
       "      <td>53901</td>\n",
       "      <td>23</td>\n",
       "      <td>Alive</td>\n",
       "      <td>Good</td>\n",
       "      <td>green ash</td>\n",
       "      <td>Bayside-Bayside Hills</td>\n",
       "    </tr>\n",
       "    <tr>\n",
       "      <th>4</th>\n",
       "      <td>589218</td>\n",
       "      <td>21</td>\n",
       "      <td>Alive</td>\n",
       "      <td>Good</td>\n",
       "      <td>pin oak</td>\n",
       "      <td>Glen Oaks-Floral Park-New Hyde Park</td>\n",
       "    </tr>\n",
       "  </tbody>\n",
       "</table>\n",
       "</div>"
      ],
      "text/plain": [
       "   tree_id  trunk_diam status health   spc_common  \\\n",
       "0   199250           8  Alive   Good   crab apple   \n",
       "1   136891          17  Alive   Good  honeylocust   \n",
       "2   200218           3  Alive   Good       ginkgo   \n",
       "3    53901          23  Alive   Good    green ash   \n",
       "4   589218          21  Alive   Good      pin oak   \n",
       "\n",
       "                          neighborhood  \n",
       "0                       Lincoln Square  \n",
       "1                    East Harlem North  \n",
       "2                            Chinatown  \n",
       "3                Bayside-Bayside Hills  \n",
       "4  Glen Oaks-Floral Park-New Hyde Park  "
      ]
     },
     "execution_count": 8,
     "metadata": {},
     "output_type": "execute_result"
    }
   ],
   "source": [
    "trees.head()"
   ]
  },
  {
   "cell_type": "code",
   "execution_count": 9,
   "metadata": {},
   "outputs": [
    {
     "name": "stdout",
     "output_type": "stream",
     "text": [
      "<class 'pandas.core.frame.DataFrame'>\n",
      "RangeIndex: 50000 entries, 0 to 49999\n",
      "Data columns (total 6 columns):\n",
      " #   Column        Non-Null Count  Dtype   \n",
      "---  ------        --------------  -----   \n",
      " 0   tree_id       50000 non-null  int64   \n",
      " 1   trunk_diam    50000 non-null  int64   \n",
      " 2   status        50000 non-null  object  \n",
      " 3   health        47695 non-null  category\n",
      " 4   spc_common    47695 non-null  object  \n",
      " 5   neighborhood  50000 non-null  object  \n",
      "dtypes: category(1), int64(2), object(3)\n",
      "memory usage: 2.0+ MB\n"
     ]
    }
   ],
   "source": [
    "trees.info()"
   ]
  },
  {
   "cell_type": "code",
   "execution_count": 10,
   "metadata": {},
   "outputs": [
    {
     "name": "stdout",
     "output_type": "stream",
     "text": [
      "Good\n"
     ]
    }
   ],
   "source": [
    "#Calculate the median value of the category codes using np.median() by applying .cat.codes() to health column\n",
    "median_index = np.median(trees['health'].cat.codes)\n",
    "\n",
    "#Map that value to a category code by indexing that value in health_categories\n",
    "median_health_status = health_categories[int(median_index)]\n",
    "\n",
    "#Print the value\n",
    "print(median_health_status)"
   ]
  },
  {
   "cell_type": "markdown",
   "metadata": {},
   "source": [
    "6. Validate the results by adding a column \"health_cat\""
   ]
  },
  {
   "cell_type": "code",
   "execution_count": 11,
   "metadata": {},
   "outputs": [
    {
     "data": {
      "text/html": [
       "<div>\n",
       "<style scoped>\n",
       "    .dataframe tbody tr th:only-of-type {\n",
       "        vertical-align: middle;\n",
       "    }\n",
       "\n",
       "    .dataframe tbody tr th {\n",
       "        vertical-align: top;\n",
       "    }\n",
       "\n",
       "    .dataframe thead th {\n",
       "        text-align: right;\n",
       "    }\n",
       "</style>\n",
       "<table border=\"1\" class=\"dataframe\">\n",
       "  <thead>\n",
       "    <tr style=\"text-align: right;\">\n",
       "      <th></th>\n",
       "      <th>tree_id</th>\n",
       "      <th>trunk_diam</th>\n",
       "      <th>status</th>\n",
       "      <th>health</th>\n",
       "      <th>spc_common</th>\n",
       "      <th>neighborhood</th>\n",
       "      <th>health_cat</th>\n",
       "    </tr>\n",
       "  </thead>\n",
       "  <tbody>\n",
       "    <tr>\n",
       "      <th>0</th>\n",
       "      <td>199250</td>\n",
       "      <td>8</td>\n",
       "      <td>Alive</td>\n",
       "      <td>Good</td>\n",
       "      <td>crab apple</td>\n",
       "      <td>Lincoln Square</td>\n",
       "      <td>2</td>\n",
       "    </tr>\n",
       "    <tr>\n",
       "      <th>1</th>\n",
       "      <td>136891</td>\n",
       "      <td>17</td>\n",
       "      <td>Alive</td>\n",
       "      <td>Good</td>\n",
       "      <td>honeylocust</td>\n",
       "      <td>East Harlem North</td>\n",
       "      <td>2</td>\n",
       "    </tr>\n",
       "    <tr>\n",
       "      <th>2</th>\n",
       "      <td>200218</td>\n",
       "      <td>3</td>\n",
       "      <td>Alive</td>\n",
       "      <td>Good</td>\n",
       "      <td>ginkgo</td>\n",
       "      <td>Chinatown</td>\n",
       "      <td>2</td>\n",
       "    </tr>\n",
       "    <tr>\n",
       "      <th>3</th>\n",
       "      <td>53901</td>\n",
       "      <td>23</td>\n",
       "      <td>Alive</td>\n",
       "      <td>Good</td>\n",
       "      <td>green ash</td>\n",
       "      <td>Bayside-Bayside Hills</td>\n",
       "      <td>2</td>\n",
       "    </tr>\n",
       "    <tr>\n",
       "      <th>4</th>\n",
       "      <td>589218</td>\n",
       "      <td>21</td>\n",
       "      <td>Alive</td>\n",
       "      <td>Good</td>\n",
       "      <td>pin oak</td>\n",
       "      <td>Glen Oaks-Floral Park-New Hyde Park</td>\n",
       "      <td>2</td>\n",
       "    </tr>\n",
       "  </tbody>\n",
       "</table>\n",
       "</div>"
      ],
      "text/plain": [
       "   tree_id  trunk_diam status health   spc_common  \\\n",
       "0   199250           8  Alive   Good   crab apple   \n",
       "1   136891          17  Alive   Good  honeylocust   \n",
       "2   200218           3  Alive   Good       ginkgo   \n",
       "3    53901          23  Alive   Good    green ash   \n",
       "4   589218          21  Alive   Good      pin oak   \n",
       "\n",
       "                          neighborhood  health_cat  \n",
       "0                       Lincoln Square           2  \n",
       "1                    East Harlem North           2  \n",
       "2                            Chinatown           2  \n",
       "3                Bayside-Bayside Hills           2  \n",
       "4  Glen Oaks-Floral Park-New Hyde Park           2  "
      ]
     },
     "execution_count": 11,
     "metadata": {},
     "output_type": "execute_result"
    }
   ],
   "source": [
    "# add a column in dataframe named health_cat that has categorical encoded values of health\n",
    "trees['health_cat'] = trees['health'].cat.codes\n",
    "trees.head()"
   ]
  },
  {
   "cell_type": "code",
   "execution_count": 12,
   "metadata": {},
   "outputs": [
    {
     "data": {
      "text/plain": [
       "2.0"
      ]
     },
     "execution_count": 12,
     "metadata": {},
     "output_type": "execute_result"
    }
   ],
   "source": [
    "np.median(trees['health_cat'])"
   ]
  },
  {
   "cell_type": "markdown",
   "metadata": {},
   "source": [
    "**Why not Mean for Ordinal Encoded Variables**  \n",
    "We can use cat.codes to return numeric values and perform a wide range of operations on categorical data as well. However, before performing any operations, you should check to make sure they make sense in the context of the data.  \n",
    "\n",
    "When we use .cat.codes to translate categories into integers, those integers have equal spacing. While translating categories to numbers is often necessary to store and use the order of the categories (for calculating a statistic like the median, which only relies on ordering, not spacing), we should not use those numbers to calculate statistics — such as the mean — for which the distance between values matters.\n",
    "\n",
    "In practice, researchers sometimes (albeit, incorrectly) report means for ordinal categories. For example, a researcher might want to analyze survey responses to the question \"Rate your happiness on a scale from 1 to 5 where 1 means 'very unhappy' and 5 means 'very happy'\".  \n",
    "If that researcher calculates 'mean happiness score', they are assuming that the difference in happiness between a rating of 1 and 2 is the same as the difference in happiness for a rating of 3 and 4. In practice, this assumption is likely not true and should be acknowledged if reporting a mean of an ordinal categorical variable\n",
    "\n",
    "We will validate this through the trees dataset that now contains two variables related to trunk size. The first variable, trunk_diam contains the diameter of the trunk (in inches) for each tree. The variable tree_diam_category, on the other hand, categorizes each tree based on the size of the trunk. The categories are: 'Small (0-3in)', 'Medium (3-10in)', 'Medium-Large (10-18in)', 'Large (18-24in)','Very large (>24in)'. You’ll notice that these categories are not evenly spaced with respect to diameter."
   ]
  },
  {
   "cell_type": "code",
   "execution_count": 13,
   "metadata": {},
   "outputs": [
    {
     "data": {
      "text/html": [
       "<div>\n",
       "<style scoped>\n",
       "    .dataframe tbody tr th:only-of-type {\n",
       "        vertical-align: middle;\n",
       "    }\n",
       "\n",
       "    .dataframe tbody tr th {\n",
       "        vertical-align: top;\n",
       "    }\n",
       "\n",
       "    .dataframe thead th {\n",
       "        text-align: right;\n",
       "    }\n",
       "</style>\n",
       "<table border=\"1\" class=\"dataframe\">\n",
       "  <thead>\n",
       "    <tr style=\"text-align: right;\">\n",
       "      <th></th>\n",
       "      <th>tree_id</th>\n",
       "      <th>trunk_diam</th>\n",
       "      <th>tree_diam_category</th>\n",
       "      <th>status</th>\n",
       "      <th>health</th>\n",
       "      <th>spc_common</th>\n",
       "      <th>neighborhood</th>\n",
       "    </tr>\n",
       "  </thead>\n",
       "  <tbody>\n",
       "    <tr>\n",
       "      <th>0</th>\n",
       "      <td>199250</td>\n",
       "      <td>8</td>\n",
       "      <td>Medium-Large (10-18in)</td>\n",
       "      <td>Alive</td>\n",
       "      <td>Good</td>\n",
       "      <td>crab apple</td>\n",
       "      <td>Lincoln Square</td>\n",
       "    </tr>\n",
       "    <tr>\n",
       "      <th>1</th>\n",
       "      <td>136891</td>\n",
       "      <td>17</td>\n",
       "      <td>Large (18-24in)</td>\n",
       "      <td>Alive</td>\n",
       "      <td>Good</td>\n",
       "      <td>honeylocust</td>\n",
       "      <td>East Harlem North</td>\n",
       "    </tr>\n",
       "    <tr>\n",
       "      <th>2</th>\n",
       "      <td>200218</td>\n",
       "      <td>3</td>\n",
       "      <td>Medium (3-10in)</td>\n",
       "      <td>Alive</td>\n",
       "      <td>Good</td>\n",
       "      <td>ginkgo</td>\n",
       "      <td>Chinatown</td>\n",
       "    </tr>\n",
       "    <tr>\n",
       "      <th>3</th>\n",
       "      <td>53901</td>\n",
       "      <td>23</td>\n",
       "      <td>Very large (&gt;24in)</td>\n",
       "      <td>Alive</td>\n",
       "      <td>Good</td>\n",
       "      <td>green ash</td>\n",
       "      <td>Bayside-Bayside Hills</td>\n",
       "    </tr>\n",
       "    <tr>\n",
       "      <th>4</th>\n",
       "      <td>589218</td>\n",
       "      <td>21</td>\n",
       "      <td>Very large (&gt;24in)</td>\n",
       "      <td>Alive</td>\n",
       "      <td>Good</td>\n",
       "      <td>pin oak</td>\n",
       "      <td>Glen Oaks-Floral Park-New Hyde Park</td>\n",
       "    </tr>\n",
       "  </tbody>\n",
       "</table>\n",
       "</div>"
      ],
      "text/plain": [
       "   tree_id  trunk_diam      tree_diam_category status health   spc_common  \\\n",
       "0   199250           8  Medium-Large (10-18in)  Alive   Good   crab apple   \n",
       "1   136891          17         Large (18-24in)  Alive   Good  honeylocust   \n",
       "2   200218           3         Medium (3-10in)  Alive   Good       ginkgo   \n",
       "3    53901          23      Very large (>24in)  Alive   Good    green ash   \n",
       "4   589218          21      Very large (>24in)  Alive   Good      pin oak   \n",
       "\n",
       "                          neighborhood  \n",
       "0                       Lincoln Square  \n",
       "1                    East Harlem North  \n",
       "2                            Chinatown  \n",
       "3                Bayside-Bayside Hills  \n",
       "4  Glen Oaks-Floral Park-New Hyde Park  "
      ]
     },
     "execution_count": 13,
     "metadata": {},
     "output_type": "execute_result"
    }
   ],
   "source": [
    "import pandas as pd\n",
    "import numpy as np\n",
    "\n",
    "# Read NYC Trees2 Data\n",
    "trees_coded = pd.read_excel(\"nyc_trees_diam_label_encoded.xlsx\")\n",
    "trees_coded.head()"
   ]
  },
  {
   "cell_type": "code",
   "execution_count": 14,
   "metadata": {},
   "outputs": [
    {
     "name": "stdout",
     "output_type": "stream",
     "text": [
      "<class 'pandas.core.frame.DataFrame'>\n",
      "RangeIndex: 50000 entries, 0 to 49999\n",
      "Data columns (total 7 columns):\n",
      " #   Column              Non-Null Count  Dtype \n",
      "---  ------              --------------  ----- \n",
      " 0   tree_id             50000 non-null  int64 \n",
      " 1   trunk_diam          50000 non-null  int64 \n",
      " 2   tree_diam_category  45432 non-null  object\n",
      " 3   status              50000 non-null  object\n",
      " 4   health              47695 non-null  object\n",
      " 5   spc_common          47695 non-null  object\n",
      " 6   neighborhood        50000 non-null  object\n",
      "dtypes: int64(2), object(5)\n",
      "memory usage: 2.7+ MB\n"
     ]
    }
   ],
   "source": [
    "trees_coded.info()"
   ]
  },
  {
   "cell_type": "code",
   "execution_count": 15,
   "metadata": {},
   "outputs": [
    {
     "data": {
      "text/plain": [
       "Medium-Large (10-18in)    18870\n",
       "Large (18-24in)           13298\n",
       "Medium (3-10in)            7351\n",
       "Very large (>24in)         4556\n",
       "Small (0-3in)              1357\n",
       "Name: tree_diam_category, dtype: int64"
      ]
     },
     "execution_count": 15,
     "metadata": {},
     "output_type": "execute_result"
    }
   ],
   "source": [
    "trees_coded['tree_diam_category'].value_counts()"
   ]
  },
  {
   "cell_type": "code",
   "execution_count": 16,
   "metadata": {},
   "outputs": [],
   "source": [
    "# Label Encode the tree_diam_categorical column with defined order and convert to categorical\n",
    "trees_coded.tree_diam_category = pd.Categorical(trees_coded.tree_diam_category, \n",
    "                                              ['Small (0-3in)', 'Medium (3-10in)', 'Medium-Large (10-18in)', \n",
    "                                               'Large (18-24in)','Very large (>24in)'], ordered=True)"
   ]
  },
  {
   "cell_type": "code",
   "execution_count": 17,
   "metadata": {},
   "outputs": [
    {
     "name": "stdout",
     "output_type": "stream",
     "text": [
      "<class 'pandas.core.frame.DataFrame'>\n",
      "RangeIndex: 50000 entries, 0 to 49999\n",
      "Data columns (total 7 columns):\n",
      " #   Column              Non-Null Count  Dtype   \n",
      "---  ------              --------------  -----   \n",
      " 0   tree_id             50000 non-null  int64   \n",
      " 1   trunk_diam          50000 non-null  int64   \n",
      " 2   tree_diam_category  45432 non-null  category\n",
      " 3   status              50000 non-null  object  \n",
      " 4   health              47695 non-null  object  \n",
      " 5   spc_common          47695 non-null  object  \n",
      " 6   neighborhood        50000 non-null  object  \n",
      "dtypes: category(1), int64(2), object(4)\n",
      "memory usage: 2.3+ MB\n"
     ]
    }
   ],
   "source": [
    "trees_coded.info()"
   ]
  },
  {
   "cell_type": "code",
   "execution_count": 18,
   "metadata": {},
   "outputs": [
    {
     "name": "stdout",
     "output_type": "stream",
     "text": [
      "11.27048\n"
     ]
    }
   ],
   "source": [
    "# Get Mean Diam of diameter variable, `trunk_diam`\n",
    "mean_diam_numerical_column = np.mean(trees_coded['trunk_diam'])\n",
    "print(mean_diam_numerical_column)"
   ]
  },
  {
   "cell_type": "code",
   "execution_count": 19,
   "metadata": {},
   "outputs": [
    {
     "name": "stdout",
     "output_type": "stream",
     "text": [
      "1.97282\n"
     ]
    }
   ],
   "source": [
    "# Get Mean Category of `tree_diam_category`\n",
    "mean_diam_cat = np.mean(trees_coded['tree_diam_category'].cat.codes)\n",
    "print(mean_diam_cat)"
   ]
  },
  {
   "cell_type": "code",
   "execution_count": 20,
   "metadata": {},
   "outputs": [
    {
     "data": {
      "text/html": [
       "<div>\n",
       "<style scoped>\n",
       "    .dataframe tbody tr th:only-of-type {\n",
       "        vertical-align: middle;\n",
       "    }\n",
       "\n",
       "    .dataframe tbody tr th {\n",
       "        vertical-align: top;\n",
       "    }\n",
       "\n",
       "    .dataframe thead th {\n",
       "        text-align: right;\n",
       "    }\n",
       "</style>\n",
       "<table border=\"1\" class=\"dataframe\">\n",
       "  <thead>\n",
       "    <tr style=\"text-align: right;\">\n",
       "      <th></th>\n",
       "      <th>count</th>\n",
       "      <th>unique</th>\n",
       "      <th>top</th>\n",
       "      <th>freq</th>\n",
       "      <th>mean</th>\n",
       "      <th>std</th>\n",
       "      <th>min</th>\n",
       "      <th>25%</th>\n",
       "      <th>50%</th>\n",
       "      <th>75%</th>\n",
       "      <th>max</th>\n",
       "    </tr>\n",
       "  </thead>\n",
       "  <tbody>\n",
       "    <tr>\n",
       "      <th>tree_id</th>\n",
       "      <td>50000</td>\n",
       "      <td>NaN</td>\n",
       "      <td>NaN</td>\n",
       "      <td>NaN</td>\n",
       "      <td>365678</td>\n",
       "      <td>207790</td>\n",
       "      <td>48</td>\n",
       "      <td>187888</td>\n",
       "      <td>367660</td>\n",
       "      <td>546057</td>\n",
       "      <td>722686</td>\n",
       "    </tr>\n",
       "    <tr>\n",
       "      <th>trunk_diam</th>\n",
       "      <td>50000</td>\n",
       "      <td>NaN</td>\n",
       "      <td>NaN</td>\n",
       "      <td>NaN</td>\n",
       "      <td>11.2705</td>\n",
       "      <td>8.99711</td>\n",
       "      <td>0</td>\n",
       "      <td>4</td>\n",
       "      <td>9</td>\n",
       "      <td>16</td>\n",
       "      <td>389</td>\n",
       "    </tr>\n",
       "    <tr>\n",
       "      <th>tree_diam_category</th>\n",
       "      <td>45432</td>\n",
       "      <td>5</td>\n",
       "      <td>Medium-Large (10-18in)</td>\n",
       "      <td>18870</td>\n",
       "      <td>NaN</td>\n",
       "      <td>NaN</td>\n",
       "      <td>NaN</td>\n",
       "      <td>NaN</td>\n",
       "      <td>NaN</td>\n",
       "      <td>NaN</td>\n",
       "      <td>NaN</td>\n",
       "    </tr>\n",
       "    <tr>\n",
       "      <th>status</th>\n",
       "      <td>50000</td>\n",
       "      <td>3</td>\n",
       "      <td>Alive</td>\n",
       "      <td>47695</td>\n",
       "      <td>NaN</td>\n",
       "      <td>NaN</td>\n",
       "      <td>NaN</td>\n",
       "      <td>NaN</td>\n",
       "      <td>NaN</td>\n",
       "      <td>NaN</td>\n",
       "      <td>NaN</td>\n",
       "    </tr>\n",
       "    <tr>\n",
       "      <th>health</th>\n",
       "      <td>47695</td>\n",
       "      <td>3</td>\n",
       "      <td>Good</td>\n",
       "      <td>38680</td>\n",
       "      <td>NaN</td>\n",
       "      <td>NaN</td>\n",
       "      <td>NaN</td>\n",
       "      <td>NaN</td>\n",
       "      <td>NaN</td>\n",
       "      <td>NaN</td>\n",
       "      <td>NaN</td>\n",
       "    </tr>\n",
       "    <tr>\n",
       "      <th>spc_common</th>\n",
       "      <td>47695</td>\n",
       "      <td>131</td>\n",
       "      <td>London planetree</td>\n",
       "      <td>6472</td>\n",
       "      <td>NaN</td>\n",
       "      <td>NaN</td>\n",
       "      <td>NaN</td>\n",
       "      <td>NaN</td>\n",
       "      <td>NaN</td>\n",
       "      <td>NaN</td>\n",
       "      <td>NaN</td>\n",
       "    </tr>\n",
       "    <tr>\n",
       "      <th>neighborhood</th>\n",
       "      <td>50000</td>\n",
       "      <td>442</td>\n",
       "      <td>Annadale-Huguenot-Prince's Bay-Eltingville</td>\n",
       "      <td>950</td>\n",
       "      <td>NaN</td>\n",
       "      <td>NaN</td>\n",
       "      <td>NaN</td>\n",
       "      <td>NaN</td>\n",
       "      <td>NaN</td>\n",
       "      <td>NaN</td>\n",
       "      <td>NaN</td>\n",
       "    </tr>\n",
       "  </tbody>\n",
       "</table>\n",
       "</div>"
      ],
      "text/plain": [
       "                    count unique                                         top  \\\n",
       "tree_id             50000    NaN                                         NaN   \n",
       "trunk_diam          50000    NaN                                         NaN   \n",
       "tree_diam_category  45432      5                      Medium-Large (10-18in)   \n",
       "status              50000      3                                       Alive   \n",
       "health              47695      3                                        Good   \n",
       "spc_common          47695    131                            London planetree   \n",
       "neighborhood        50000    442  Annadale-Huguenot-Prince's Bay-Eltingville   \n",
       "\n",
       "                     freq     mean      std  min     25%     50%     75%  \\\n",
       "tree_id               NaN   365678   207790   48  187888  367660  546057   \n",
       "trunk_diam            NaN  11.2705  8.99711    0       4       9      16   \n",
       "tree_diam_category  18870      NaN      NaN  NaN     NaN     NaN     NaN   \n",
       "status              47695      NaN      NaN  NaN     NaN     NaN     NaN   \n",
       "health              38680      NaN      NaN  NaN     NaN     NaN     NaN   \n",
       "spc_common           6472      NaN      NaN  NaN     NaN     NaN     NaN   \n",
       "neighborhood          950      NaN      NaN  NaN     NaN     NaN     NaN   \n",
       "\n",
       "                       max  \n",
       "tree_id             722686  \n",
       "trunk_diam             389  \n",
       "tree_diam_category     NaN  \n",
       "status                 NaN  \n",
       "health                 NaN  \n",
       "spc_common             NaN  \n",
       "neighborhood           NaN  "
      ]
     },
     "execution_count": 20,
     "metadata": {},
     "output_type": "execute_result"
    }
   ],
   "source": [
    "trees_coded.describe(include = 'all').T"
   ]
  },
  {
   "cell_type": "markdown",
   "metadata": {},
   "source": [
    "**Inference :  \n",
    "1. Calculating Mean Diameter from Numeric Column gives 11.27 i.e. \"Large\" which falls in \"Most Frequent\" category  \n",
    "2. Calculating Mean Diameter for the encoded column gives 1.97 i.e. \"Small\" which is incorrect"
   ]
  },
  {
   "cell_type": "markdown",
   "metadata": {},
   "source": [
    "**Ordinal Category : Spread : Range / Percentile**  \n",
    "We learned that the mean is not interpretable for ordinal categorical variables because the mean relies on the assumption of equal spacing between categories.Many other statistics we might normally use for numerical data rely on the mean. Because of this, these statistics aren’t appropriate for ordinal data a.k.a. standard deviation and variance both depend on the mean, without a mean, we can’t have a reliable standard deviation or variance either!  \n",
    "Instead, we can rely on other summary statistics, like the proportion of the data within a range,percentiles/quantiles.\n"
   ]
  },
  {
   "cell_type": "markdown",
   "metadata": {},
   "source": [
    "Calculate the 25th percentile for tree_diam_category.  \n",
    "We will use the ordered list, size_labels_ordered, to find the corresponding label.  \n",
    "Save your result (the label, not the index) to a variable named p25_tree_diam_category and print it to the console."
   ]
  },
  {
   "cell_type": "code",
   "execution_count": 21,
   "metadata": {},
   "outputs": [
    {
     "data": {
      "text/html": [
       "<div>\n",
       "<style scoped>\n",
       "    .dataframe tbody tr th:only-of-type {\n",
       "        vertical-align: middle;\n",
       "    }\n",
       "\n",
       "    .dataframe tbody tr th {\n",
       "        vertical-align: top;\n",
       "    }\n",
       "\n",
       "    .dataframe thead th {\n",
       "        text-align: right;\n",
       "    }\n",
       "</style>\n",
       "<table border=\"1\" class=\"dataframe\">\n",
       "  <thead>\n",
       "    <tr style=\"text-align: right;\">\n",
       "      <th></th>\n",
       "      <th>tree_id</th>\n",
       "      <th>trunk_diam</th>\n",
       "      <th>tree_diam_category</th>\n",
       "      <th>status</th>\n",
       "      <th>health</th>\n",
       "      <th>spc_common</th>\n",
       "      <th>neighborhood</th>\n",
       "    </tr>\n",
       "  </thead>\n",
       "  <tbody>\n",
       "    <tr>\n",
       "      <th>0</th>\n",
       "      <td>199250</td>\n",
       "      <td>8</td>\n",
       "      <td>Medium-Large (10-18in)</td>\n",
       "      <td>Alive</td>\n",
       "      <td>Good</td>\n",
       "      <td>crab apple</td>\n",
       "      <td>Lincoln Square</td>\n",
       "    </tr>\n",
       "    <tr>\n",
       "      <th>1</th>\n",
       "      <td>136891</td>\n",
       "      <td>17</td>\n",
       "      <td>Large (18-24in)</td>\n",
       "      <td>Alive</td>\n",
       "      <td>Good</td>\n",
       "      <td>honeylocust</td>\n",
       "      <td>East Harlem North</td>\n",
       "    </tr>\n",
       "    <tr>\n",
       "      <th>2</th>\n",
       "      <td>200218</td>\n",
       "      <td>3</td>\n",
       "      <td>Medium (3-10in)</td>\n",
       "      <td>Alive</td>\n",
       "      <td>Good</td>\n",
       "      <td>ginkgo</td>\n",
       "      <td>Chinatown</td>\n",
       "    </tr>\n",
       "    <tr>\n",
       "      <th>3</th>\n",
       "      <td>53901</td>\n",
       "      <td>23</td>\n",
       "      <td>Very large (&gt;24in)</td>\n",
       "      <td>Alive</td>\n",
       "      <td>Good</td>\n",
       "      <td>green ash</td>\n",
       "      <td>Bayside-Bayside Hills</td>\n",
       "    </tr>\n",
       "    <tr>\n",
       "      <th>4</th>\n",
       "      <td>589218</td>\n",
       "      <td>21</td>\n",
       "      <td>Very large (&gt;24in)</td>\n",
       "      <td>Alive</td>\n",
       "      <td>Good</td>\n",
       "      <td>pin oak</td>\n",
       "      <td>Glen Oaks-Floral Park-New Hyde Park</td>\n",
       "    </tr>\n",
       "  </tbody>\n",
       "</table>\n",
       "</div>"
      ],
      "text/plain": [
       "   tree_id  trunk_diam      tree_diam_category status health   spc_common  \\\n",
       "0   199250           8  Medium-Large (10-18in)  Alive   Good   crab apple   \n",
       "1   136891          17         Large (18-24in)  Alive   Good  honeylocust   \n",
       "2   200218           3         Medium (3-10in)  Alive   Good       ginkgo   \n",
       "3    53901          23      Very large (>24in)  Alive   Good    green ash   \n",
       "4   589218          21      Very large (>24in)  Alive   Good      pin oak   \n",
       "\n",
       "                          neighborhood  \n",
       "0                       Lincoln Square  \n",
       "1                    East Harlem North  \n",
       "2                            Chinatown  \n",
       "3                Bayside-Bayside Hills  \n",
       "4  Glen Oaks-Floral Park-New Hyde Park  "
      ]
     },
     "execution_count": 21,
     "metadata": {},
     "output_type": "execute_result"
    }
   ],
   "source": [
    "import pandas as pd\n",
    "import numpy as np\n",
    "\n",
    "# Read NYC Trees Data\n",
    "nyc_trees = pd.read_excel(\"nyc_trees_diam_label_encoded.xlsx\")\n",
    "\n",
    "# Head\n",
    "nyc_trees.head()"
   ]
  },
  {
   "cell_type": "code",
   "execution_count": 22,
   "metadata": {},
   "outputs": [],
   "source": [
    "# ordered list of size categories\n",
    "size_labels_ordered = ['Small (0-3in)', 'Medium (3-10in)', 'Medium-Large (10-18in)', \n",
    "                       'Large (18-24in)','Very large (>24in)']"
   ]
  },
  {
   "cell_type": "code",
   "execution_count": 23,
   "metadata": {},
   "outputs": [],
   "source": [
    "# convert to categorical using pd.Categorical method and pass the ordered list\n",
    "nyc_trees['tree_diam_category'] = pd.Categorical(nyc_trees['tree_diam_category'] , \n",
    "                                                 size_labels_ordered , ordered = True)"
   ]
  },
  {
   "cell_type": "code",
   "execution_count": 24,
   "metadata": {},
   "outputs": [
    {
     "name": "stdout",
     "output_type": "stream",
     "text": [
      "<class 'pandas.core.frame.DataFrame'>\n",
      "RangeIndex: 50000 entries, 0 to 49999\n",
      "Data columns (total 7 columns):\n",
      " #   Column              Non-Null Count  Dtype   \n",
      "---  ------              --------------  -----   \n",
      " 0   tree_id             50000 non-null  int64   \n",
      " 1   trunk_diam          50000 non-null  int64   \n",
      " 2   tree_diam_category  45432 non-null  category\n",
      " 3   status              50000 non-null  object  \n",
      " 4   health              47695 non-null  object  \n",
      " 5   spc_common          47695 non-null  object  \n",
      " 6   neighborhood        50000 non-null  object  \n",
      "dtypes: category(1), int64(2), object(4)\n",
      "memory usage: 2.3+ MB\n"
     ]
    }
   ],
   "source": [
    "# review\n",
    "nyc_trees.info()"
   ]
  },
  {
   "cell_type": "code",
   "execution_count": 25,
   "metadata": {},
   "outputs": [
    {
     "name": "stdout",
     "output_type": "stream",
     "text": [
      "Medium (3-10in)\n"
     ]
    }
   ],
   "source": [
    "# Calculate 25th Percentile Category\n",
    "# Apply np.percentile() by applying .cat.codes() to tree_diam_category\n",
    "p25_ind = np.percentile(nyc_trees['tree_diam_category'].cat.codes, 25)\n",
    "\n",
    "# Map that value to a category code by indexing that value in health_categories\n",
    "p25_tree_diam_category = size_labels_ordered[int(p25_ind)]\n",
    "\n",
    "# Print the result\n",
    "print(p25_tree_diam_category)"
   ]
  },
  {
   "cell_type": "code",
   "execution_count": 26,
   "metadata": {},
   "outputs": [
    {
     "name": "stdout",
     "output_type": "stream",
     "text": [
      "Large (18-24in)\n"
     ]
    }
   ],
   "source": [
    "# Calculate 75th Percentile Category\n",
    "# Apply np.percentile() by applying .cat.codes() to tree_diam_category\n",
    "p75_ind = np.percentile(nyc_trees['tree_diam_category'].cat.codes, 75)\n",
    "\n",
    "# Map that value to a category code by indexing that value in health_categories\n",
    "p75_tree_diam_category = size_labels_ordered[int(p75_ind)]\n",
    "\n",
    "# Print the result\n",
    "print(p75_tree_diam_category)"
   ]
  },
  {
   "cell_type": "code",
   "execution_count": 27,
   "metadata": {},
   "outputs": [
    {
     "name": "stdout",
     "output_type": "stream",
     "text": [
      "Medium-Large (10-18in)\n"
     ]
    }
   ],
   "source": [
    "# Calculate the InterQuartile Range\n",
    "p_iqr = p75_ind - p25_ind\n",
    "\n",
    "# Map that value to a category code by indexing that value in health_categories\n",
    "p_IQR = size_labels_ordered[int(p_iqr)]\n",
    "\n",
    "# Print the result\n",
    "print(p_IQR)"
   ]
  },
  {
   "cell_type": "markdown",
   "metadata": {},
   "source": [
    "# Table of Proportions  \n",
    "We’ve already seen that we can use the .value_counts() function to get a table of frequencies for a categorical variable. **A table of frequencies is often the first approach a data scientist might use to summarize a categorical variable; however, it is sometimes useful to instead look at the proportion of values in each category.**\n",
    "\n",
    "For example, knowing that there are 14976 people in the census dataset who are married to a civilian spouse is hard to interpret without the context of knowing the numbers in the other categories. Instead, if we know that 32% of the surveyed population is married to a civilian spouse, we have more context about the relative frequency of this category. We can calculate proportions by dividing the frequency by the number of observations in the data.  \n",
    "\n",
    "**We can also calculate proportions using .value_counts() by setting the normalize parameter equal to True**  \n",
    "**Dealing with missing data : By default, those missing values are not counted by .value_counts().You can set the dropna parameter in .value_counts() to True if you want missing values to be included while calculating proportions or set it to False is you want to exclude missing values**.  \n",
    "**df['column_name'].value_counts(normalize=True) will ignore missing data and divide the frequency of each category by the total in any category**  \n",
    "**If we use dropna=False in value_counts(), then we’re calculating the proportion of all values regradless of their missingness**"
   ]
  },
  {
   "cell_type": "markdown",
   "metadata": {},
   "source": [
    "Calculate a table of proportions for the status column. Save this table of proportions as tree_status_proportions and print the result."
   ]
  },
  {
   "cell_type": "code",
   "execution_count": 28,
   "metadata": {},
   "outputs": [
    {
     "data": {
      "text/html": [
       "<div>\n",
       "<style scoped>\n",
       "    .dataframe tbody tr th:only-of-type {\n",
       "        vertical-align: middle;\n",
       "    }\n",
       "\n",
       "    .dataframe tbody tr th {\n",
       "        vertical-align: top;\n",
       "    }\n",
       "\n",
       "    .dataframe thead th {\n",
       "        text-align: right;\n",
       "    }\n",
       "</style>\n",
       "<table border=\"1\" class=\"dataframe\">\n",
       "  <thead>\n",
       "    <tr style=\"text-align: right;\">\n",
       "      <th></th>\n",
       "      <th>tree_id</th>\n",
       "      <th>trunk_diam</th>\n",
       "      <th>status</th>\n",
       "      <th>health</th>\n",
       "      <th>spc_common</th>\n",
       "      <th>neighborhood</th>\n",
       "      <th>health_cat</th>\n",
       "    </tr>\n",
       "  </thead>\n",
       "  <tbody>\n",
       "    <tr>\n",
       "      <th>0</th>\n",
       "      <td>199250</td>\n",
       "      <td>8</td>\n",
       "      <td>Alive</td>\n",
       "      <td>Good</td>\n",
       "      <td>crab apple</td>\n",
       "      <td>Lincoln Square</td>\n",
       "      <td>2</td>\n",
       "    </tr>\n",
       "    <tr>\n",
       "      <th>1</th>\n",
       "      <td>136891</td>\n",
       "      <td>17</td>\n",
       "      <td>Alive</td>\n",
       "      <td>Good</td>\n",
       "      <td>honeylocust</td>\n",
       "      <td>East Harlem North</td>\n",
       "      <td>2</td>\n",
       "    </tr>\n",
       "    <tr>\n",
       "      <th>2</th>\n",
       "      <td>200218</td>\n",
       "      <td>3</td>\n",
       "      <td>Alive</td>\n",
       "      <td>Good</td>\n",
       "      <td>ginkgo</td>\n",
       "      <td>Chinatown</td>\n",
       "      <td>2</td>\n",
       "    </tr>\n",
       "    <tr>\n",
       "      <th>3</th>\n",
       "      <td>53901</td>\n",
       "      <td>23</td>\n",
       "      <td>Alive</td>\n",
       "      <td>Good</td>\n",
       "      <td>green ash</td>\n",
       "      <td>Bayside-Bayside Hills</td>\n",
       "      <td>2</td>\n",
       "    </tr>\n",
       "    <tr>\n",
       "      <th>4</th>\n",
       "      <td>589218</td>\n",
       "      <td>21</td>\n",
       "      <td>Alive</td>\n",
       "      <td>Good</td>\n",
       "      <td>pin oak</td>\n",
       "      <td>Glen Oaks-Floral Park-New Hyde Park</td>\n",
       "      <td>2</td>\n",
       "    </tr>\n",
       "  </tbody>\n",
       "</table>\n",
       "</div>"
      ],
      "text/plain": [
       "   tree_id  trunk_diam status health   spc_common  \\\n",
       "0   199250           8  Alive   Good   crab apple   \n",
       "1   136891          17  Alive   Good  honeylocust   \n",
       "2   200218           3  Alive   Good       ginkgo   \n",
       "3    53901          23  Alive   Good    green ash   \n",
       "4   589218          21  Alive   Good      pin oak   \n",
       "\n",
       "                          neighborhood  health_cat  \n",
       "0                       Lincoln Square           2  \n",
       "1                    East Harlem North           2  \n",
       "2                            Chinatown           2  \n",
       "3                Bayside-Bayside Hills           2  \n",
       "4  Glen Oaks-Floral Park-New Hyde Park           2  "
      ]
     },
     "execution_count": 28,
     "metadata": {},
     "output_type": "execute_result"
    }
   ],
   "source": [
    "trees.head()"
   ]
  },
  {
   "cell_type": "code",
   "execution_count": 29,
   "metadata": {},
   "outputs": [
    {
     "data": {
      "text/plain": [
       "Alive    47695\n",
       "Stump     1335\n",
       "Dead       970\n",
       "Name: status, dtype: int64"
      ]
     },
     "execution_count": 29,
     "metadata": {},
     "output_type": "execute_result"
    }
   ],
   "source": [
    "trees['status'].value_counts()"
   ]
  },
  {
   "cell_type": "code",
   "execution_count": 30,
   "metadata": {},
   "outputs": [
    {
     "data": {
      "text/plain": [
       "Alive    0.9539\n",
       "Stump    0.0267\n",
       "Dead     0.0194\n",
       "Name: status, dtype: float64"
      ]
     },
     "execution_count": 30,
     "metadata": {},
     "output_type": "execute_result"
    }
   ],
   "source": [
    "status_proportions = trees['status'].value_counts(normalize=True)\n",
    "status_proportions"
   ]
  },
  {
   "cell_type": "markdown",
   "metadata": {},
   "source": [
    "Calculate the proportions for each category in the health variable.The denominator for your proportions should be the number of non-missing values in the health column"
   ]
  },
  {
   "cell_type": "code",
   "execution_count": 39,
   "metadata": {},
   "outputs": [
    {
     "name": "stdout",
     "output_type": "stream",
     "text": [
      "Good    38680\n",
      "Fair     7005\n",
      "Poor     2010\n",
      "Name: health, dtype: int64\n",
      "Good    0.810986\n",
      "Fair    0.146871\n",
      "Poor    0.042143\n",
      "Name: health, dtype: float64\n"
     ]
    }
   ],
   "source": [
    "# health proportions without missing values counted\n",
    "health_proportions = trees['health'].value_counts(normalize = True)\n",
    "health_counts = trees['health'].value_counts()\n",
    "print(health_counts)\n",
    "print(health_proportions)"
   ]
  },
  {
   "cell_type": "markdown",
   "metadata": {},
   "source": [
    "**Interpretation : Among tress with recorded health status, 81% are in Good health**"
   ]
  },
  {
   "cell_type": "markdown",
   "metadata": {},
   "source": [
    "Add a parameter to include missing values in the denominator when calculating proportions for the health variable. Save the result to a dataframe named health_proportions_2"
   ]
  },
  {
   "cell_type": "code",
   "execution_count": 48,
   "metadata": {},
   "outputs": [
    {
     "name": "stdout",
     "output_type": "stream",
     "text": [
      "Good    0.7736\n",
      "Fair    0.1401\n",
      "NaN     0.0461\n",
      "Poor    0.0402\n",
      "Name: health, dtype: float64\n"
     ]
    }
   ],
   "source": [
    "# health proportions with missing values counted\n",
    "health_proportions_2 = trees['health'].value_counts(normalize = True , dropna = False)\n",
    "print(health_proportions_2)"
   ]
  },
  {
   "cell_type": "markdown",
   "metadata": {},
   "source": [
    "**Interpretation : Of all trees surveyed , 771% are in Good health**"
   ]
  },
  {
   "cell_type": "code",
   "execution_count": 42,
   "metadata": {},
   "outputs": [
    {
     "data": {
      "text/plain": [
       "2305"
      ]
     },
     "execution_count": 42,
     "metadata": {},
     "output_type": "execute_result"
    }
   ],
   "source": [
    "# how many missing values\n",
    "trees['health'].isnull().sum()"
   ]
  },
  {
   "cell_type": "code",
   "execution_count": 46,
   "metadata": {},
   "outputs": [
    {
     "data": {
      "text/plain": [
       "Good    0.810986\n",
       "Fair    0.146871\n",
       "Poor    0.042143\n",
       "Name: health, dtype: float64"
      ]
     },
     "execution_count": 46,
     "metadata": {},
     "output_type": "execute_result"
    }
   ],
   "source": [
    "# alternate method for proportion of counts with missing value rows counted\n",
    "trees['health'].value_counts()/trees['health'].value_counts().sum()"
   ]
  },
  {
   "cell_type": "code",
   "execution_count": 47,
   "metadata": {},
   "outputs": [
    {
     "data": {
      "text/plain": [
       "Good    0.7736\n",
       "Fair    0.1401\n",
       "Poor    0.0402\n",
       "Name: health, dtype: float64"
      ]
     },
     "execution_count": 47,
     "metadata": {},
     "output_type": "execute_result"
    }
   ],
   "source": [
    "# alternate method\n",
    "trees['health'].value_counts()/len(trees['health'])"
   ]
  },
  {
   "cell_type": "markdown",
   "metadata": {},
   "source": [
    "# Binary Categorical Variables  \n",
    "**Binary categorical variables have only two categories and are often coded as 0/1 or True/False.** This makes it easy to calculate the frequency/proportion of these variables in a dataset. For example, consider a variable income_>50K, which is equal to 1 if a person makes more than 50k U.S.D per year, and 0 otherwise. If we add up all the 1s and 0s in this column, the sum will be exactly equal to the number of 1s (people making more than 50k):  \n",
    "*np.sum(df['income_>50K'])  #output: 7841*  \n",
    "In Python, the same behavior holds for columns coded as True/False because **True gets coerced to 1 and False gets coerced to 0** (this is also true in most other programming languages used by data scientists). Similarly, we can calculate the proportion equal to 1 or True by taking the mean of the column. This works because the mean is just the sum of all values in the column (which is the frequency of 1s or Trues) divided by the number of values in the column  \n",
    "*np.mean(df['income_>50K'])  #output: 0.24*    \n",
    "We can make use of this nifty trick for any variable by using a conditional to translate a non-binary variable into True and False values  \n",
    "*df.workclass == 'Local-gov'*  \n",
    "This statement will return an array with \"True and False\" based on the condition satisfied by each row  \n",
    "Then, we can use the sum or mean to calculate a frequency or proportion of Trues in the data  \n",
    "*(df.workclass == 'Local-gov').sum()  #output: 2093*  \n",
    "*(df.workclass == 'Local-gov').mean() #output: 0.064*  "
   ]
  },
  {
   "cell_type": "markdown",
   "metadata": {},
   "source": [
    "Find the frequency and proportion of trees that were recorded as Alive"
   ]
  },
  {
   "cell_type": "code",
   "execution_count": 49,
   "metadata": {},
   "outputs": [
    {
     "data": {
      "text/html": [
       "<div>\n",
       "<style scoped>\n",
       "    .dataframe tbody tr th:only-of-type {\n",
       "        vertical-align: middle;\n",
       "    }\n",
       "\n",
       "    .dataframe tbody tr th {\n",
       "        vertical-align: top;\n",
       "    }\n",
       "\n",
       "    .dataframe thead th {\n",
       "        text-align: right;\n",
       "    }\n",
       "</style>\n",
       "<table border=\"1\" class=\"dataframe\">\n",
       "  <thead>\n",
       "    <tr style=\"text-align: right;\">\n",
       "      <th></th>\n",
       "      <th>tree_id</th>\n",
       "      <th>trunk_diam</th>\n",
       "      <th>status</th>\n",
       "      <th>health</th>\n",
       "      <th>spc_common</th>\n",
       "      <th>neighborhood</th>\n",
       "      <th>health_cat</th>\n",
       "      <th>Alive</th>\n",
       "    </tr>\n",
       "  </thead>\n",
       "  <tbody>\n",
       "    <tr>\n",
       "      <th>0</th>\n",
       "      <td>199250</td>\n",
       "      <td>8</td>\n",
       "      <td>Alive</td>\n",
       "      <td>Good</td>\n",
       "      <td>crab apple</td>\n",
       "      <td>Lincoln Square</td>\n",
       "      <td>2</td>\n",
       "      <td>True</td>\n",
       "    </tr>\n",
       "    <tr>\n",
       "      <th>1</th>\n",
       "      <td>136891</td>\n",
       "      <td>17</td>\n",
       "      <td>Alive</td>\n",
       "      <td>Good</td>\n",
       "      <td>honeylocust</td>\n",
       "      <td>East Harlem North</td>\n",
       "      <td>2</td>\n",
       "      <td>True</td>\n",
       "    </tr>\n",
       "    <tr>\n",
       "      <th>2</th>\n",
       "      <td>200218</td>\n",
       "      <td>3</td>\n",
       "      <td>Alive</td>\n",
       "      <td>Good</td>\n",
       "      <td>ginkgo</td>\n",
       "      <td>Chinatown</td>\n",
       "      <td>2</td>\n",
       "      <td>True</td>\n",
       "    </tr>\n",
       "    <tr>\n",
       "      <th>3</th>\n",
       "      <td>53901</td>\n",
       "      <td>23</td>\n",
       "      <td>Alive</td>\n",
       "      <td>Good</td>\n",
       "      <td>green ash</td>\n",
       "      <td>Bayside-Bayside Hills</td>\n",
       "      <td>2</td>\n",
       "      <td>True</td>\n",
       "    </tr>\n",
       "    <tr>\n",
       "      <th>4</th>\n",
       "      <td>589218</td>\n",
       "      <td>21</td>\n",
       "      <td>Alive</td>\n",
       "      <td>Good</td>\n",
       "      <td>pin oak</td>\n",
       "      <td>Glen Oaks-Floral Park-New Hyde Park</td>\n",
       "      <td>2</td>\n",
       "      <td>True</td>\n",
       "    </tr>\n",
       "  </tbody>\n",
       "</table>\n",
       "</div>"
      ],
      "text/plain": [
       "   tree_id  trunk_diam status health   spc_common  \\\n",
       "0   199250           8  Alive   Good   crab apple   \n",
       "1   136891          17  Alive   Good  honeylocust   \n",
       "2   200218           3  Alive   Good       ginkgo   \n",
       "3    53901          23  Alive   Good    green ash   \n",
       "4   589218          21  Alive   Good      pin oak   \n",
       "\n",
       "                          neighborhood  health_cat  Alive  \n",
       "0                       Lincoln Square           2   True  \n",
       "1                    East Harlem North           2   True  \n",
       "2                            Chinatown           2   True  \n",
       "3                Bayside-Bayside Hills           2   True  \n",
       "4  Glen Oaks-Floral Park-New Hyde Park           2   True  "
      ]
     },
     "execution_count": 49,
     "metadata": {},
     "output_type": "execute_result"
    }
   ],
   "source": [
    "# create an new column with indicator \"Alive = 1\"\n",
    "trees[\"Alive\"] = trees['status'] == 'Alive'\n",
    "trees.head()"
   ]
  },
  {
   "cell_type": "code",
   "execution_count": 51,
   "metadata": {},
   "outputs": [
    {
     "data": {
      "text/plain": [
       "True     47695\n",
       "False     2305\n",
       "Name: Alive, dtype: int64"
      ]
     },
     "execution_count": 51,
     "metadata": {},
     "output_type": "execute_result"
    }
   ],
   "source": [
    "trees['Alive'].value_counts()"
   ]
  },
  {
   "cell_type": "code",
   "execution_count": 53,
   "metadata": {},
   "outputs": [
    {
     "name": "stdout",
     "output_type": "stream",
     "text": [
      "47695\n",
      "0.9539\n"
     ]
    }
   ],
   "source": [
    "# calculate the frequency and mean , here \"True:Alive will be coded as '1' else '0'\"\n",
    "print(trees['Alive'].sum())\n",
    "print(trees['Alive'].mean())"
   ]
  },
  {
   "cell_type": "markdown",
   "metadata": {},
   "source": [
    "Find the frequency and proportion of trees with trunk_diam > 30 without adding a new columns.Name the variables as \"giants_freq\" and \"giants_mean\""
   ]
  },
  {
   "cell_type": "code",
   "execution_count": 57,
   "metadata": {},
   "outputs": [
    {
     "name": "stdout",
     "output_type": "stream",
     "text": [
      "1788\n",
      "0.03576\n"
     ]
    }
   ],
   "source": [
    "# frequency equals count of \"values in tree_diam> 30\"\n",
    "giants_freq = (trees['trunk_diam']>30).sum()\n",
    "print(giants_freq)\n",
    "\n",
    "# mean equals mean of \"values in tree_diam>30\"\n",
    "giants_mean = (trees['trunk_diam']>30).mean()\n",
    "print(giants_mean)"
   ]
  },
  {
   "cell_type": "markdown",
   "metadata": {},
   "source": [
    "**Project Film Permits**  \n",
    "The dataset film_permits contains a sample of NYC filming permits. Let us explore and summarize this data. \n",
    "1. Inspect the first few rows\n",
    "2. Which variables in this data are nominal? Which are ordinal?\n",
    "3. Which Boroughs are granted permits for the most TV pilot episodes?\n",
    "4. Summarize the types (Category) and subtypes (SubCategoryName) of projects that get filming permits granted.\n"
   ]
  },
  {
   "cell_type": "code",
   "execution_count": 58,
   "metadata": {},
   "outputs": [
    {
     "data": {
      "text/html": [
       "<div>\n",
       "<style scoped>\n",
       "    .dataframe tbody tr th:only-of-type {\n",
       "        vertical-align: middle;\n",
       "    }\n",
       "\n",
       "    .dataframe tbody tr th {\n",
       "        vertical-align: top;\n",
       "    }\n",
       "\n",
       "    .dataframe thead th {\n",
       "        text-align: right;\n",
       "    }\n",
       "</style>\n",
       "<table border=\"1\" class=\"dataframe\">\n",
       "  <thead>\n",
       "    <tr style=\"text-align: right;\">\n",
       "      <th></th>\n",
       "      <th>EventID</th>\n",
       "      <th>EventType</th>\n",
       "      <th>StartDateTime</th>\n",
       "      <th>EndDateTime</th>\n",
       "      <th>Borough</th>\n",
       "      <th>Category</th>\n",
       "      <th>SubCategoryName</th>\n",
       "    </tr>\n",
       "  </thead>\n",
       "  <tbody>\n",
       "    <tr>\n",
       "      <th>0</th>\n",
       "      <td>446168</td>\n",
       "      <td>Shooting Permit</td>\n",
       "      <td>10/19/2018 14:00</td>\n",
       "      <td>10/20/2018 2:00</td>\n",
       "      <td>Manhattan</td>\n",
       "      <td>Film</td>\n",
       "      <td>Feature</td>\n",
       "    </tr>\n",
       "    <tr>\n",
       "      <th>1</th>\n",
       "      <td>186438</td>\n",
       "      <td>Shooting Permit</td>\n",
       "      <td>10/30/2014 7:00</td>\n",
       "      <td>10/31/2014 2:00</td>\n",
       "      <td>Queens</td>\n",
       "      <td>Television</td>\n",
       "      <td>Episodic series</td>\n",
       "    </tr>\n",
       "    <tr>\n",
       "      <th>2</th>\n",
       "      <td>445255</td>\n",
       "      <td>Shooting Permit</td>\n",
       "      <td>10/20/2018 7:00</td>\n",
       "      <td>10/20/2018 18:00</td>\n",
       "      <td>Brooklyn</td>\n",
       "      <td>Still Photography</td>\n",
       "      <td>Not Applicable</td>\n",
       "    </tr>\n",
       "    <tr>\n",
       "      <th>3</th>\n",
       "      <td>128794</td>\n",
       "      <td>Theater Load in and Load Outs</td>\n",
       "      <td>11/16/2013 0:01</td>\n",
       "      <td>11/17/2013 6:00</td>\n",
       "      <td>Manhattan</td>\n",
       "      <td>Theater</td>\n",
       "      <td>Theater</td>\n",
       "    </tr>\n",
       "    <tr>\n",
       "      <th>4</th>\n",
       "      <td>43547</td>\n",
       "      <td>Shooting Permit</td>\n",
       "      <td>1/10/2012 7:00</td>\n",
       "      <td>1/10/2012 19:00</td>\n",
       "      <td>Brooklyn</td>\n",
       "      <td>Television</td>\n",
       "      <td>Episodic series</td>\n",
       "    </tr>\n",
       "  </tbody>\n",
       "</table>\n",
       "</div>"
      ],
      "text/plain": [
       "   EventID                      EventType     StartDateTime       EndDateTime  \\\n",
       "0   446168                Shooting Permit  10/19/2018 14:00   10/20/2018 2:00   \n",
       "1   186438                Shooting Permit   10/30/2014 7:00   10/31/2014 2:00   \n",
       "2   445255                Shooting Permit   10/20/2018 7:00  10/20/2018 18:00   \n",
       "3   128794  Theater Load in and Load Outs   11/16/2013 0:01   11/17/2013 6:00   \n",
       "4    43547                Shooting Permit    1/10/2012 7:00   1/10/2012 19:00   \n",
       "\n",
       "     Borough           Category  SubCategoryName  \n",
       "0  Manhattan               Film          Feature  \n",
       "1     Queens         Television  Episodic series  \n",
       "2   Brooklyn  Still Photography   Not Applicable  \n",
       "3  Manhattan            Theater          Theater  \n",
       "4   Brooklyn         Television  Episodic series  "
      ]
     },
     "execution_count": 58,
     "metadata": {},
     "output_type": "execute_result"
    }
   ],
   "source": [
    "# load teh data\n",
    "films = pd.read_csv(\"film_permits.csv\")\n",
    "films.head()"
   ]
  },
  {
   "cell_type": "code",
   "execution_count": 60,
   "metadata": {},
   "outputs": [
    {
     "name": "stdout",
     "output_type": "stream",
     "text": [
      "<class 'pandas.core.frame.DataFrame'>\n",
      "RangeIndex: 9999 entries, 0 to 9998\n",
      "Data columns (total 7 columns):\n",
      " #   Column           Non-Null Count  Dtype \n",
      "---  ------           --------------  ----- \n",
      " 0   EventID          9999 non-null   int64 \n",
      " 1   EventType        9999 non-null   object\n",
      " 2   StartDateTime    9999 non-null   object\n",
      " 3   EndDateTime      9999 non-null   object\n",
      " 4   Borough          9999 non-null   object\n",
      " 5   Category         9999 non-null   object\n",
      " 6   SubCategoryName  9999 non-null   object\n",
      "dtypes: int64(1), object(6)\n",
      "memory usage: 546.9+ KB\n"
     ]
    }
   ],
   "source": [
    "# question 1 : Which variables in this data are nominal? Which are ordinal?\n",
    "films.info()\n",
    "\n",
    "## Nominal Variables : 'EventType', 'Borough', 'Category', 'SubCategoryName' ##\n",
    "## Ordinal Variables :  We might consider an Id like 'EventID' an ordinal variable in some situations ##"
   ]
  },
  {
   "cell_type": "code",
   "execution_count": 62,
   "metadata": {},
   "outputs": [
    {
     "data": {
      "text/html": [
       "<div>\n",
       "<style scoped>\n",
       "    .dataframe tbody tr th:only-of-type {\n",
       "        vertical-align: middle;\n",
       "    }\n",
       "\n",
       "    .dataframe tbody tr th {\n",
       "        vertical-align: top;\n",
       "    }\n",
       "\n",
       "    .dataframe thead th {\n",
       "        text-align: right;\n",
       "    }\n",
       "</style>\n",
       "<table border=\"1\" class=\"dataframe\">\n",
       "  <thead>\n",
       "    <tr style=\"text-align: right;\">\n",
       "      <th></th>\n",
       "      <th>EventID</th>\n",
       "      <th>EventType</th>\n",
       "      <th>StartDateTime</th>\n",
       "      <th>EndDateTime</th>\n",
       "      <th>Borough</th>\n",
       "      <th>Category</th>\n",
       "      <th>SubCategoryName</th>\n",
       "    </tr>\n",
       "  </thead>\n",
       "  <tbody>\n",
       "    <tr>\n",
       "      <th>27</th>\n",
       "      <td>241353</td>\n",
       "      <td>Shooting Permit</td>\n",
       "      <td>8/24/2015 6:00</td>\n",
       "      <td>8/24/2015 22:00</td>\n",
       "      <td>Manhattan</td>\n",
       "      <td>Television</td>\n",
       "      <td>Pilot</td>\n",
       "    </tr>\n",
       "    <tr>\n",
       "      <th>70</th>\n",
       "      <td>168182</td>\n",
       "      <td>DCAS Prep/Shoot/Wrap Permit</td>\n",
       "      <td>6/30/2014 6:00</td>\n",
       "      <td>6/30/2014 21:00</td>\n",
       "      <td>Manhattan</td>\n",
       "      <td>Television</td>\n",
       "      <td>Pilot</td>\n",
       "    </tr>\n",
       "    <tr>\n",
       "      <th>100</th>\n",
       "      <td>148384</td>\n",
       "      <td>Shooting Permit</td>\n",
       "      <td>3/27/2014 15:00</td>\n",
       "      <td>3/28/2014 6:00</td>\n",
       "      <td>Manhattan</td>\n",
       "      <td>Television</td>\n",
       "      <td>Pilot</td>\n",
       "    </tr>\n",
       "    <tr>\n",
       "      <th>171</th>\n",
       "      <td>129711</td>\n",
       "      <td>Shooting Permit</td>\n",
       "      <td>11/16/2013 14:00</td>\n",
       "      <td>11/17/2013 2:00</td>\n",
       "      <td>Brooklyn</td>\n",
       "      <td>Television</td>\n",
       "      <td>Pilot</td>\n",
       "    </tr>\n",
       "    <tr>\n",
       "      <th>184</th>\n",
       "      <td>140270</td>\n",
       "      <td>Shooting Permit</td>\n",
       "      <td>2/5/2014 10:00</td>\n",
       "      <td>2/6/2014 4:00</td>\n",
       "      <td>Manhattan</td>\n",
       "      <td>Television</td>\n",
       "      <td>Pilot</td>\n",
       "    </tr>\n",
       "  </tbody>\n",
       "</table>\n",
       "</div>"
      ],
      "text/plain": [
       "     EventID                    EventType     StartDateTime      EndDateTime  \\\n",
       "27    241353              Shooting Permit    8/24/2015 6:00  8/24/2015 22:00   \n",
       "70    168182  DCAS Prep/Shoot/Wrap Permit    6/30/2014 6:00  6/30/2014 21:00   \n",
       "100   148384              Shooting Permit   3/27/2014 15:00   3/28/2014 6:00   \n",
       "171   129711              Shooting Permit  11/16/2013 14:00  11/17/2013 2:00   \n",
       "184   140270              Shooting Permit    2/5/2014 10:00    2/6/2014 4:00   \n",
       "\n",
       "       Borough    Category SubCategoryName  \n",
       "27   Manhattan  Television           Pilot  \n",
       "70   Manhattan  Television           Pilot  \n",
       "100  Manhattan  Television           Pilot  \n",
       "171   Brooklyn  Television           Pilot  \n",
       "184  Manhattan  Television           Pilot  "
      ]
     },
     "execution_count": 62,
     "metadata": {},
     "output_type": "execute_result"
    }
   ],
   "source": [
    "# questoon 2 : Which Boroughs are granted permits for the most TV pilot episodes?  \n",
    "\n",
    "#Step 1 dataframe with SubcategoryName = Pilot\n",
    "pilot = films[films['SubCategoryName'] == 'Pilot']\n",
    "pilot.head()"
   ]
  },
  {
   "cell_type": "code",
   "execution_count": 65,
   "metadata": {},
   "outputs": [
    {
     "name": "stdout",
     "output_type": "stream",
     "text": [
      "Manhattan        149\n",
      "Brooklyn          89\n",
      "Queens            21\n",
      "Bronx             10\n",
      "Staten Island      2\n",
      "Name: Borough, dtype: int64\n",
      "Manhattan        0.549815\n",
      "Brooklyn         0.328413\n",
      "Queens           0.077491\n",
      "Bronx            0.036900\n",
      "Staten Island    0.007380\n",
      "Name: Borough, dtype: float64\n"
     ]
    }
   ],
   "source": [
    "#Step 2 count the number of values in Borough\n",
    "pilot_counts = pilot['Borough'].value_counts()\n",
    "pilot_proportions = pilot['Borough'].value_counts(normalize = True)\n",
    "print(pilot_counts)\n",
    "print(pilot_proportions)"
   ]
  },
  {
   "cell_type": "code",
   "execution_count": 67,
   "metadata": {},
   "outputs": [
    {
     "data": {
      "text/plain": [
       "Manhattan        149\n",
       "Brooklyn          89\n",
       "Queens            21\n",
       "Bronx             10\n",
       "Staten Island      2\n",
       "Name: Borough, dtype: int64"
      ]
     },
     "execution_count": 67,
     "metadata": {},
     "output_type": "execute_result"
    }
   ],
   "source": [
    "# step 1 and Step 2 in one statement\n",
    "films[films['SubCategoryName'] == 'Pilot'].Borough.value_counts()"
   ]
  },
  {
   "cell_type": "code",
   "execution_count": 69,
   "metadata": {},
   "outputs": [
    {
     "data": {
      "text/plain": [
       "Television           5271\n",
       "Film                 1765\n",
       "Theater               966\n",
       "Commercial            878\n",
       "Still Photography     658\n",
       "WEB                   313\n",
       "Student                72\n",
       "Documentary            48\n",
       "Music Video            28\n",
       "Name: Category, dtype: int64"
      ]
     },
     "execution_count": 69,
     "metadata": {},
     "output_type": "execute_result"
    }
   ],
   "source": [
    "# question 3 : Summarize the Top Categories\n",
    "films['Category'].value_counts()"
   ]
  },
  {
   "cell_type": "code",
   "execution_count": 71,
   "metadata": {},
   "outputs": [
    {
     "data": {
      "text/plain": [
       "Episodic series            2916\n",
       "Feature                    1382\n",
       "Not Applicable             1381\n",
       "Cable-episodic             1033\n",
       "Theater                     966\n",
       "Commercial                  686\n",
       "Pilot                       271\n",
       "News                        202\n",
       "Cable-other                 126\n",
       "Reality                     124\n",
       "Morning Show                121\n",
       "Short                       120\n",
       "Promo                       112\n",
       "Made for TV/mini-series      90\n",
       "Variety                      76\n",
       "Student Film                 65\n",
       "Special/Awards Show          59\n",
       "Cable-daily                  55\n",
       "Industrial/Corporate         54\n",
       "Talk Show                    48\n",
       "PSA                          27\n",
       "Game show                    25\n",
       "Signed Artist                15\n",
       "Children                     12\n",
       "Syndication/First Run        11\n",
       "Independent Artist            9\n",
       "Magazine Show                 8\n",
       "Daytime soap                  5\n",
       "Name: SubCategoryName, dtype: int64"
      ]
     },
     "execution_count": 71,
     "metadata": {},
     "output_type": "execute_result"
    }
   ],
   "source": [
    "# question 3 : Summarize the Top Subcategories\n",
    "films['SubCategoryName'].value_counts()"
   ]
  },
  {
   "cell_type": "markdown",
   "metadata": {},
   "source": [
    "# Project Cars Evaluation    \n",
    "In the following project we willuse what we’ve learned about summarizing categorical data to analyze a sample from a popular open source dataset. This dataset contains information on the cost and physical attributes of several thousand cars. Originally, this dataset was used for to train a classification model that assigned an acceptability score/category to cars based on these attributes.\n",
    "\n",
    "The car evaluation dataset has been sourced from the UCI Machine Learning Repository and has been slightly modified for this project. Specifically, one additional field manufacturer_country has been simulated for illustrative purposes.  "
   ]
  },
  {
   "cell_type": "markdown",
   "metadata": {},
   "source": [
    "**Task 1 : Load the data**"
   ]
  },
  {
   "cell_type": "code",
   "execution_count": 72,
   "metadata": {},
   "outputs": [],
   "source": [
    "import pandas as pd\n",
    "import numpy as np\n",
    "car_eval = pd.read_csv('cars_eval.csv')"
   ]
  },
  {
   "cell_type": "markdown",
   "metadata": {},
   "source": [
    "**Task 2 : Inspect the data**"
   ]
  },
  {
   "cell_type": "code",
   "execution_count": 73,
   "metadata": {},
   "outputs": [
    {
     "data": {
      "text/html": [
       "<div>\n",
       "<style scoped>\n",
       "    .dataframe tbody tr th:only-of-type {\n",
       "        vertical-align: middle;\n",
       "    }\n",
       "\n",
       "    .dataframe tbody tr th {\n",
       "        vertical-align: top;\n",
       "    }\n",
       "\n",
       "    .dataframe thead th {\n",
       "        text-align: right;\n",
       "    }\n",
       "</style>\n",
       "<table border=\"1\" class=\"dataframe\">\n",
       "  <thead>\n",
       "    <tr style=\"text-align: right;\">\n",
       "      <th></th>\n",
       "      <th>buying_cost</th>\n",
       "      <th>maintenance_cost</th>\n",
       "      <th>doors</th>\n",
       "      <th>capacity</th>\n",
       "      <th>luggage</th>\n",
       "      <th>safety</th>\n",
       "      <th>acceptability</th>\n",
       "      <th>manufacturer_country</th>\n",
       "    </tr>\n",
       "  </thead>\n",
       "  <tbody>\n",
       "    <tr>\n",
       "      <th>0</th>\n",
       "      <td>vhigh</td>\n",
       "      <td>low</td>\n",
       "      <td>4</td>\n",
       "      <td>4</td>\n",
       "      <td>small</td>\n",
       "      <td>med</td>\n",
       "      <td>unacc</td>\n",
       "      <td>China</td>\n",
       "    </tr>\n",
       "    <tr>\n",
       "      <th>1</th>\n",
       "      <td>vhigh</td>\n",
       "      <td>med</td>\n",
       "      <td>3</td>\n",
       "      <td>4</td>\n",
       "      <td>small</td>\n",
       "      <td>high</td>\n",
       "      <td>acc</td>\n",
       "      <td>France</td>\n",
       "    </tr>\n",
       "    <tr>\n",
       "      <th>2</th>\n",
       "      <td>med</td>\n",
       "      <td>high</td>\n",
       "      <td>3</td>\n",
       "      <td>2</td>\n",
       "      <td>med</td>\n",
       "      <td>high</td>\n",
       "      <td>unacc</td>\n",
       "      <td>United States</td>\n",
       "    </tr>\n",
       "    <tr>\n",
       "      <th>3</th>\n",
       "      <td>low</td>\n",
       "      <td>med</td>\n",
       "      <td>4</td>\n",
       "      <td>more</td>\n",
       "      <td>big</td>\n",
       "      <td>low</td>\n",
       "      <td>unacc</td>\n",
       "      <td>United States</td>\n",
       "    </tr>\n",
       "    <tr>\n",
       "      <th>4</th>\n",
       "      <td>low</td>\n",
       "      <td>high</td>\n",
       "      <td>2</td>\n",
       "      <td>more</td>\n",
       "      <td>med</td>\n",
       "      <td>high</td>\n",
       "      <td>acc</td>\n",
       "      <td>South Korea</td>\n",
       "    </tr>\n",
       "  </tbody>\n",
       "</table>\n",
       "</div>"
      ],
      "text/plain": [
       "  buying_cost maintenance_cost doors capacity luggage safety acceptability  \\\n",
       "0       vhigh              low     4        4   small    med         unacc   \n",
       "1       vhigh              med     3        4   small   high           acc   \n",
       "2         med             high     3        2     med   high         unacc   \n",
       "3         low              med     4     more     big    low         unacc   \n",
       "4         low             high     2     more     med   high           acc   \n",
       "\n",
       "  manufacturer_country  \n",
       "0                China  \n",
       "1               France  \n",
       "2        United States  \n",
       "3        United States  \n",
       "4          South Korea  "
      ]
     },
     "execution_count": 73,
     "metadata": {},
     "output_type": "execute_result"
    }
   ],
   "source": [
    "car_eval.head()"
   ]
  },
  {
   "cell_type": "code",
   "execution_count": 74,
   "metadata": {},
   "outputs": [
    {
     "name": "stdout",
     "output_type": "stream",
     "text": [
      "<class 'pandas.core.frame.DataFrame'>\n",
      "RangeIndex: 1000 entries, 0 to 999\n",
      "Data columns (total 8 columns):\n",
      " #   Column                Non-Null Count  Dtype \n",
      "---  ------                --------------  ----- \n",
      " 0   buying_cost           1000 non-null   object\n",
      " 1   maintenance_cost      1000 non-null   object\n",
      " 2   doors                 1000 non-null   object\n",
      " 3   capacity              1000 non-null   object\n",
      " 4   luggage               1000 non-null   object\n",
      " 5   safety                1000 non-null   object\n",
      " 6   acceptability         1000 non-null   object\n",
      " 7   manufacturer_country  1000 non-null   object\n",
      "dtypes: object(8)\n",
      "memory usage: 62.6+ KB\n"
     ]
    }
   ],
   "source": [
    "car_eval.info()"
   ]
  },
  {
   "cell_type": "markdown",
   "metadata": {},
   "source": [
    "**Task 3 : Summarizing Manufacturing Country**\n",
    "1. Create a table of frequencies of all the cars reviewed by \"manufacturer_country\". \n",
    "2. What is the modal category? Which country appears 4th most frequently?"
   ]
  },
  {
   "cell_type": "code",
   "execution_count": 76,
   "metadata": {},
   "outputs": [
    {
     "data": {
      "text/plain": [
       "Japan            228\n",
       "Germany          218\n",
       "South Korea      159\n",
       "United States    138\n",
       "Italy             97\n",
       "France            87\n",
       "China             73\n",
       "Name: manufacturer_country, dtype: int64"
      ]
     },
     "execution_count": 76,
     "metadata": {},
     "output_type": "execute_result"
    }
   ],
   "source": [
    "# table of frequencies by country of manufacture\n",
    "car_eval['manufacturer_country'].value_counts()\n",
    "\n",
    "# Note: `.value_counts()` produces a table of frequencies in order, you can reference the\n",
    "# N-th row of this table to find the Nth most common value in the data."
   ]
  },
  {
   "cell_type": "code",
   "execution_count": 78,
   "metadata": {},
   "outputs": [
    {
     "data": {
      "text/plain": [
       "Japan            0.228\n",
       "Germany          0.218\n",
       "South Korea      0.159\n",
       "United States    0.138\n",
       "Italy            0.097\n",
       "France           0.087\n",
       "China            0.073\n",
       "Name: manufacturer_country, dtype: float64"
      ]
     },
     "execution_count": 78,
     "metadata": {},
     "output_type": "execute_result"
    }
   ],
   "source": [
    "# table of proportions for countries that appear in \"manufacturer_country\" in the dataset\n",
    "car_eval['manufacturer_country'].value_counts(normalize = True)  \n",
    "\n",
    "# Note: Using normalize with `.value_counts()` normalizes the table of frequencies that `.value_counts() produces \n",
    "# A table of frequencies takes the count of observations.\n",
    "# A table of proportions takes the proportion each value represents of the total."
   ]
  },
  {
   "cell_type": "markdown",
   "metadata": {},
   "source": [
    "Inference : Japan has the proportion of cars with United States in the 4th position"
   ]
  },
  {
   "cell_type": "markdown",
   "metadata": {},
   "source": [
    "**Task 4 : Summarizing Buying Costs**"
   ]
  },
  {
   "cell_type": "markdown",
   "metadata": {},
   "source": [
    "1. Buying_cost is a categorical variable which describes the cost of buying any car in the dataset. Print out a list of the possible values for this variable"
   ]
  },
  {
   "cell_type": "code",
   "execution_count": 80,
   "metadata": {},
   "outputs": [
    {
     "data": {
      "text/plain": [
       "array(['vhigh', 'med', 'low', 'high'], dtype=object)"
      ]
     },
     "execution_count": 80,
     "metadata": {},
     "output_type": "execute_result"
    }
   ],
   "source": [
    "# unique values of buying costs\n",
    "car_eval['buying_cost'].unique()\n",
    "\n",
    "# Note: The `.unique()` method strips all unique values from a column."
   ]
  },
  {
   "cell_type": "markdown",
   "metadata": {},
   "source": [
    "2. Buying_cost is an ordinal categorical variable, which means we can create an order associated with the values in the data and perform additional numeric operations on the variable. Create a new list, buying_cost_categories, that contains the unique values in buying_cost, ordered from lowest to highest."
   ]
  },
  {
   "cell_type": "code",
   "execution_count": 81,
   "metadata": {},
   "outputs": [
    {
     "name": "stdout",
     "output_type": "stream",
     "text": [
      "['low', 'med', 'high', 'vhigh']\n"
     ]
    }
   ],
   "source": [
    "# ordered list of categories : low to high\n",
    "buying_cost_categories = ['low', 'med', 'high', 'vhigh']\n",
    "print(buying_cost_categories)"
   ]
  },
  {
   "cell_type": "markdown",
   "metadata": {},
   "source": [
    "3. Convert buying_cost to type 'category' using the list you created "
   ]
  },
  {
   "cell_type": "code",
   "execution_count": 87,
   "metadata": {},
   "outputs": [
    {
     "name": "stdout",
     "output_type": "stream",
     "text": [
      "<class 'pandas.core.frame.DataFrame'>\n",
      "RangeIndex: 1000 entries, 0 to 999\n",
      "Data columns (total 8 columns):\n",
      " #   Column                Non-Null Count  Dtype   \n",
      "---  ------                --------------  -----   \n",
      " 0   buying_cost           1000 non-null   category\n",
      " 1   maintenance_cost      1000 non-null   object  \n",
      " 2   doors                 1000 non-null   object  \n",
      " 3   capacity              1000 non-null   object  \n",
      " 4   luggage               1000 non-null   object  \n",
      " 5   safety                1000 non-null   object  \n",
      " 6   acceptability         1000 non-null   object  \n",
      " 7   manufacturer_country  1000 non-null   object  \n",
      "dtypes: category(1), object(7)\n",
      "memory usage: 56.0+ KB\n",
      "None\n",
      "0      vhigh\n",
      "1      vhigh\n",
      "2        med\n",
      "3        low\n",
      "4        low\n",
      "       ...  \n",
      "995      low\n",
      "996      low\n",
      "997    vhigh\n",
      "998      low\n",
      "999      low\n",
      "Name: buying_cost, Length: 1000, dtype: category\n",
      "Categories (4, object): ['low' < 'med' < 'high' < 'vhigh']\n"
     ]
    }
   ],
   "source": [
    "# convert buying cost to categorical and applying the ordered list\n",
    "car_eval[\"buying_cost\"] = pd.Categorical(\n",
    "    car_eval[\"buying_cost\"],\n",
    "    buying_cost_categories,\n",
    "    ordered=True\n",
    ")\n",
    "\n",
    "print(car_eval.info())\n",
    "print(car_eval.buying_cost)\n",
    "\n",
    "# Note: You can convert a field to type category using the function `pandas.Categorical()`. \n",
    "# The pandas categorical type allows us to perform numeric operations on categorical data.\n",
    "\n",
    "# You can also check the column has type category by checking `print(car_eval.buying_cost)` \n",
    "# The output out that should note the column type (see below)"
   ]
  },
  {
   "cell_type": "markdown",
   "metadata": {},
   "source": [
    "4. Calculate the median category of the buying_cost variable and print the result."
   ]
  },
  {
   "cell_type": "code",
   "execution_count": 88,
   "metadata": {},
   "outputs": [
    {
     "name": "stdout",
     "output_type": "stream",
     "text": [
      "1.0\n",
      "med\n"
     ]
    }
   ],
   "source": [
    "# apply .cat.codes and np.median to calculate median values\n",
    "median_category_num = np.median(car_eval['buying_cost'].cat.codes)\n",
    "print(median_category_num) \n",
    "\n",
    "# Map that value to a category code by indexing that value in buying_cost_categories\n",
    "median_category = buying_cost_categories[int(median_category_num)]\n",
    "\n",
    "# print the result\n",
    "print(median_category)\n",
    "\n",
    "# Note: In Python, you can use `np.median()` to calculate the median value of a numerical series. \n",
    "# In this case, we also must access the numerical values of the categories with the `.cat.codes` attribute.\n",
    "# We then map the int(median) to the value in buying_cost_category"
   ]
  },
  {
   "cell_type": "markdown",
   "metadata": {},
   "source": [
    "Inference : Median Buying Costs are \"Medium\""
   ]
  },
  {
   "cell_type": "markdown",
   "metadata": {},
   "source": [
    "**Task 5 : Summarizing Luggage Capacity**"
   ]
  },
  {
   "cell_type": "markdown",
   "metadata": {},
   "source": [
    "luggage is a categorical variable in the car evaluations dataset that records the luggage capacity for each reviewed car.   \n",
    "Calculate a table of proportions for this variable and print the result"
   ]
  },
  {
   "cell_type": "code",
   "execution_count": 91,
   "metadata": {},
   "outputs": [
    {
     "data": {
      "text/plain": [
       "small    0.339\n",
       "med      0.333\n",
       "big      0.328\n",
       "Name: luggage, dtype: float64"
      ]
     },
     "execution_count": 91,
     "metadata": {},
     "output_type": "execute_result"
    }
   ],
   "source": [
    "luggage_prop = car_eval['luggage'].value_counts(normalize = True)\n",
    "\n",
    "luggage_prop\n",
    "\n",
    "# Note: Using normalize eith `.value_counts()` normalizes the \n",
    "# table of frequencies that `value_counts() produces by default to a table of proportions"
   ]
  },
  {
   "cell_type": "markdown",
   "metadata": {},
   "source": [
    "Are there any missing values in this column? Replicate the table of proportions from the previous exercise, but do not drop any missing values from the count. Print your result"
   ]
  },
  {
   "cell_type": "code",
   "execution_count": 92,
   "metadata": {},
   "outputs": [
    {
     "data": {
      "text/plain": [
       "small    0.339\n",
       "med      0.333\n",
       "big      0.328\n",
       "Name: luggage, dtype: float64"
      ]
     },
     "execution_count": 92,
     "metadata": {},
     "output_type": "execute_result"
    }
   ],
   "source": [
    "luggage_prop_all = car_eval['luggage'].value_counts(normalize = True , dropna = False)\n",
    "\n",
    "luggage_prop_all \n",
    "# Note: Using `.value_counts()`, missing values are removed by default. \n",
    "# To keep missing values in the summary you can pass `dropna = False` to `.value_counts()`. \n",
    "# If the result using `dropna = False` is the same, then you can conclude there are no missing values. In this case, we see they are the same."
   ]
  },
  {
   "cell_type": "markdown",
   "metadata": {},
   "source": [
    "Inference : No missing values in luggage and 34% of the cars have \"small\" luggage capacity"
   ]
  },
  {
   "cell_type": "markdown",
   "metadata": {},
   "source": [
    "**Task 6 : Summarizing Passenger Capacity**"
   ]
  },
  {
   "cell_type": "markdown",
   "metadata": {},
   "source": [
    "doors is a categorical variable in the car evaluations dataset that records the count of doors for each reviewed car. Find the count of cars that have 5 or more doors. You can identify cars with 5+ doors by looking for cars that have a value of '5more' in the doors column. Print your result"
   ]
  },
  {
   "cell_type": "code",
   "execution_count": 93,
   "metadata": {},
   "outputs": [
    {
     "data": {
      "text/plain": [
       "4        263\n",
       "3        252\n",
       "5more    246\n",
       "2        239\n",
       "Name: doors, dtype: int64"
      ]
     },
     "execution_count": 93,
     "metadata": {},
     "output_type": "execute_result"
    }
   ],
   "source": [
    "car_eval['doors'].value_counts()"
   ]
  },
  {
   "cell_type": "code",
   "execution_count": 96,
   "metadata": {},
   "outputs": [
    {
     "name": "stdout",
     "output_type": "stream",
     "text": [
      "246\n",
      "0.246\n"
     ]
    }
   ],
   "source": [
    "frequency = (car_eval['doors'] == '5more').sum()\n",
    "proportion = (car_eval['doors'] == '5more').mean()\n",
    "print(frequency)\n",
    "print(proportion)\n",
    "\n",
    "# Note: You must first create a series that evaluates to true/false values. \n",
    "# car_eval['doors'] == '5more' --- the output is a series with True and False values\n",
    "# Then, by calling .sum() and .mean() on this series the value and count of  `True`/1 values are calculated"
   ]
  },
  {
   "cell_type": "markdown",
   "metadata": {},
   "source": [
    "Inference : 25% of the cars hae 5 or more doors"
   ]
  },
  {
   "cell_type": "markdown",
   "metadata": {},
   "source": [
    "# Summary  \n",
    "We have learned the steps to be taken to summarize and interpret summaries of nominal categorical and ordinal categorical variables.  \n",
    "1. For nominal categorical variables, there is no ordering to the categories. Because of this, we’re limited to using the mode to describe central tendency and there is no way to summarize the spread.  \n",
    "2. For ordinal categorical variables, there is an implied ordering to the categories. In Python, we can use pd.Categorical() to transform a variable to a categorical type.  \n",
    "3. The Categorical type allows us to access a numeric value for each category by using .cat.codes.From there, we may perform operations on this variable as if it were a regular, numeric variable.\n",
    "4. When calculating statistics for an ordinal categorical variable we should be mindful that some numeric statistics rely on the assumption of equal spacing between categories.\n",
    "5. For ordinal categorical variables, median and mode can be used to summarize the central tendency, and the IQR (or any difference between percentiles) can be used to summarize the spread.\n",
    "6. Certain summary statistics (e.g. frequencies and proportions), can be used for all categorical variables. You can create true/false columns and np.sum() and np.mean() to quickly summarize what proportion of your data meets certain criteria.\n",
    "\n"
   ]
  },
  {
   "cell_type": "code",
   "execution_count": null,
   "metadata": {},
   "outputs": [],
   "source": []
  }
 ],
 "metadata": {
  "hide_input": false,
  "kernelspec": {
   "display_name": "Python 3",
   "language": "python",
   "name": "python3"
  },
  "language_info": {
   "codemirror_mode": {
    "name": "ipython",
    "version": 3
   },
   "file_extension": ".py",
   "mimetype": "text/x-python",
   "name": "python",
   "nbconvert_exporter": "python",
   "pygments_lexer": "ipython3",
   "version": "3.8.5"
  },
  "latex_envs": {
   "LaTeX_envs_menu_present": true,
   "autoclose": false,
   "autocomplete": true,
   "bibliofile": "biblio.bib",
   "cite_by": "apalike",
   "current_citInitial": 1,
   "eqLabelWithNumbers": true,
   "eqNumInitial": 1,
   "hotkeys": {
    "equation": "Ctrl-E",
    "itemize": "Ctrl-I"
   },
   "labels_anchors": false,
   "latex_user_defs": false,
   "report_style_numbering": false,
   "user_envs_cfg": false
  },
  "toc": {
   "base_numbering": 1,
   "nav_menu": {},
   "number_sections": true,
   "sideBar": true,
   "skip_h1_title": false,
   "title_cell": "Chapter3 Statistics-Summarizing Categorical Variables : Ravi Mummigatti : 23-12-20",
   "title_sidebar": "Contents",
   "toc_cell": true,
   "toc_position": {},
   "toc_section_display": true,
   "toc_window_display": true
  },
  "varInspector": {
   "cols": {
    "lenName": 16,
    "lenType": 16,
    "lenVar": 40
   },
   "kernels_config": {
    "python": {
     "delete_cmd_postfix": "",
     "delete_cmd_prefix": "del ",
     "library": "var_list.py",
     "varRefreshCmd": "print(var_dic_list())"
    },
    "r": {
     "delete_cmd_postfix": ") ",
     "delete_cmd_prefix": "rm(",
     "library": "var_list.r",
     "varRefreshCmd": "cat(var_dic_list()) "
    }
   },
   "types_to_exclude": [
    "module",
    "function",
    "builtin_function_or_method",
    "instance",
    "_Feature"
   ],
   "window_display": false
  }
 },
 "nbformat": 4,
 "nbformat_minor": 4
}
