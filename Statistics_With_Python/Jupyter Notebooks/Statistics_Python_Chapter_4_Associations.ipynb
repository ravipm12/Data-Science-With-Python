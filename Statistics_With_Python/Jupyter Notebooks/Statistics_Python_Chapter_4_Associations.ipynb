{
 "cells": [
  {
   "cell_type": "markdown",
   "metadata": {
    "toc": true
   },
   "source": [
    "<h1>Chapter4 Statistics-Variable Associations: Ravi Mummigatti : 24-12-20<span class=\"tocSkip\"></span></h1>\n",
    "<div class=\"toc\"><ul class=\"toc-item\"><li><span><a href=\"#Introduction\" data-toc-modified-id=\"Introduction-1\"><span class=\"toc-item-num\">1&nbsp;&nbsp;</span>Introduction</a></span></li><li><span><a href=\"#Association-between-Quantitative-and-Categorical-Variables\" data-toc-modified-id=\"Association-between-Quantitative-and-Categorical-Variables-2\"><span class=\"toc-item-num\">2&nbsp;&nbsp;</span>Association between Quantitative and Categorical Variables</a></span><ul class=\"toc-item\"><li><span><a href=\"#Quantitative-and-Binary-Categorical-Variable\" data-toc-modified-id=\"Quantitative-and-Binary-Categorical-Variable-2.1\"><span class=\"toc-item-num\">2.1&nbsp;&nbsp;</span>Quantitative and Binary Categorical Variable</a></span></li><li><span><a href=\"#Quantitative-and-Non-Binary-Categorical-Variable\" data-toc-modified-id=\"Quantitative-and-Non-Binary-Categorical-Variable-2.2\"><span class=\"toc-item-num\">2.2&nbsp;&nbsp;</span>Quantitative and Non-Binary Categorical Variable</a></span></li><li><span><a href=\"#Project-:-Titanic\" data-toc-modified-id=\"Project-:-Titanic-2.3\"><span class=\"toc-item-num\">2.3&nbsp;&nbsp;</span>Project : Titanic</a></span></li></ul></li><li><span><a href=\"#Association-b/w-Quantitative-and-Quantitative-Variable\" data-toc-modified-id=\"Association-b/w-Quantitative-and-Quantitative-Variable-3\"><span class=\"toc-item-num\">3&nbsp;&nbsp;</span>Association b/w Quantitative and Quantitative Variable</a></span><ul class=\"toc-item\"><li><span><a href=\"#Scatter-Plots\" data-toc-modified-id=\"Scatter-Plots-3.1\"><span class=\"toc-item-num\">3.1&nbsp;&nbsp;</span>Scatter Plots</a></span></li><li><span><a href=\"#Covariance\" data-toc-modified-id=\"Covariance-3.2\"><span class=\"toc-item-num\">3.2&nbsp;&nbsp;</span>Covariance</a></span></li><li><span><a href=\"#Correlation\" data-toc-modified-id=\"Correlation-3.3\"><span class=\"toc-item-num\">3.3&nbsp;&nbsp;</span>Correlation</a></span></li><li><span><a href=\"#Project-:-Penguins\" data-toc-modified-id=\"Project-:-Penguins-3.4\"><span class=\"toc-item-num\">3.4&nbsp;&nbsp;</span>Project : Penguins</a></span></li></ul></li><li><span><a href=\"#Association-b/w-Categorical-and-Categorical\" data-toc-modified-id=\"Association-b/w-Categorical-and-Categorical-4\"><span class=\"toc-item-num\">4&nbsp;&nbsp;</span>Association b/w Categorical and Categorical</a></span><ul class=\"toc-item\"><li><span><a href=\"#Contingency-Tables:-Frequencies\" data-toc-modified-id=\"Contingency-Tables:-Frequencies-4.1\"><span class=\"toc-item-num\">4.1&nbsp;&nbsp;</span>Contingency Tables: Frequencies</a></span></li><li><span><a href=\"#Contingency-Tables:-Proportions\" data-toc-modified-id=\"Contingency-Tables:-Proportions-4.2\"><span class=\"toc-item-num\">4.2&nbsp;&nbsp;</span>Contingency Tables: Proportions</a></span></li><li><span><a href=\"#Contingency-Tables-:-Marginal-Proportions\" data-toc-modified-id=\"Contingency-Tables-:-Marginal-Proportions-4.3\"><span class=\"toc-item-num\">4.3&nbsp;&nbsp;</span>Contingency Tables : Marginal Proportions</a></span></li><li><span><a href=\"#Contingency-Tables-:-Expected-Propostions\" data-toc-modified-id=\"Contingency-Tables-:-Expected-Propostions-4.4\"><span class=\"toc-item-num\">4.4&nbsp;&nbsp;</span>Contingency Tables : Expected Propostions</a></span></li><li><span><a href=\"#The-Chi-Square-Statistic\" data-toc-modified-id=\"The-Chi-Square-Statistic-4.5\"><span class=\"toc-item-num\">4.5&nbsp;&nbsp;</span>The Chi-Square Statistic</a></span></li><li><span><a href=\"#Project-NBA-Trends\" data-toc-modified-id=\"Project-NBA-Trends-4.6\"><span class=\"toc-item-num\">4.6&nbsp;&nbsp;</span>Project NBA Trends</a></span></li></ul></li><li><span><a href=\"#Summary\" data-toc-modified-id=\"Summary-5\"><span class=\"toc-item-num\">5&nbsp;&nbsp;</span>Summary</a></span></li></ul></div>"
   ]
  },
  {
   "cell_type": "markdown",
   "metadata": {},
   "source": [
    "# Introduction  \n",
    "Investigating relationships between variables is key to any data analysis or model-building endeavor. While the methods discussed in this chapter cannot tell us about causal relationships, they can help us understand how two things are related so that we can form testable hypotheses about why.  \n",
    "\n",
    "At the end of this module, you will be able to:\n",
    "1. Use the following numerical summaries to quantify an association between two variables:\n",
    "* Mean and Median Differences\n",
    "* Covariance and Correlation\n",
    "* Chi-Square Statistic\n",
    "2. Use the following visualizations to look at relationships between variables:\n",
    "*  Side by Side Box Plots\n",
    "*  Overlapping Histograms\n",
    "*  Scatter Plots\n"
   ]
  },
  {
   "cell_type": "markdown",
   "metadata": {},
   "source": [
    "# Association between Quantitative and Categorical Variables \n",
    "In this lesson we will explore the relationship between quantitative and categorical variables.  \n",
    "We’ll use different statistical methods such as mean median differences, side-by-side box plots, and overlapping histograms to try to assess whether or not an association exists between the variables  \n",
    "We will explore a dataset that contains the following information about students at two portuguese schools:  \n",
    "school: the school each student attends, Gabriel Periera ('GP') or Mousinho da Silveria ('MS')   \n",
    "address: the location of the student’s home ('U' for urban and 'R' for rural)  \n",
    "absences: the number of times the student was absent during the school year  \n",
    "Mjob: the student’s mother’s job industry  \n",
    "Fjob: the student’s father’s job industry  \n",
    "G3: the student’s score on a math assessment, ranging from 0 to 20\n"
   ]
  },
  {
   "cell_type": "markdown",
   "metadata": {},
   "source": [
    "## Quantitative and Binary Categorical Variable"
   ]
  },
  {
   "cell_type": "markdown",
   "metadata": {},
   "source": [
    "Suppose we want to know: Is a student’s score (G3) associated with their school (school)?   \n",
    "If so, then knowing what school a student attends gives us information about what their score is likely to be.  \n",
    "\n",
    "To start answering this question, it is useful to save scores from each school in two separate lists"
   ]
  },
  {
   "cell_type": "code",
   "execution_count": 1,
   "metadata": {},
   "outputs": [],
   "source": [
    "import pandas as pd\n",
    "import numpy as np"
   ]
  },
  {
   "cell_type": "markdown",
   "metadata": {},
   "source": [
    "**Data review**"
   ]
  },
  {
   "cell_type": "code",
   "execution_count": 2,
   "metadata": {},
   "outputs": [
    {
     "data": {
      "text/html": [
       "<div>\n",
       "<style scoped>\n",
       "    .dataframe tbody tr th:only-of-type {\n",
       "        vertical-align: middle;\n",
       "    }\n",
       "\n",
       "    .dataframe tbody tr th {\n",
       "        vertical-align: top;\n",
       "    }\n",
       "\n",
       "    .dataframe thead th {\n",
       "        text-align: right;\n",
       "    }\n",
       "</style>\n",
       "<table border=\"1\" class=\"dataframe\">\n",
       "  <thead>\n",
       "    <tr style=\"text-align: right;\">\n",
       "      <th></th>\n",
       "      <th>school</th>\n",
       "      <th>address</th>\n",
       "      <th>absences</th>\n",
       "      <th>Mjob</th>\n",
       "      <th>Fjob</th>\n",
       "      <th>G3</th>\n",
       "    </tr>\n",
       "  </thead>\n",
       "  <tbody>\n",
       "    <tr>\n",
       "      <th>0</th>\n",
       "      <td>GP</td>\n",
       "      <td>U</td>\n",
       "      <td>6</td>\n",
       "      <td>at_home</td>\n",
       "      <td>teacher</td>\n",
       "      <td>6</td>\n",
       "    </tr>\n",
       "    <tr>\n",
       "      <th>1</th>\n",
       "      <td>GP</td>\n",
       "      <td>U</td>\n",
       "      <td>4</td>\n",
       "      <td>at_home</td>\n",
       "      <td>other</td>\n",
       "      <td>6</td>\n",
       "    </tr>\n",
       "    <tr>\n",
       "      <th>2</th>\n",
       "      <td>GP</td>\n",
       "      <td>U</td>\n",
       "      <td>10</td>\n",
       "      <td>at_home</td>\n",
       "      <td>other</td>\n",
       "      <td>10</td>\n",
       "    </tr>\n",
       "    <tr>\n",
       "      <th>3</th>\n",
       "      <td>GP</td>\n",
       "      <td>U</td>\n",
       "      <td>2</td>\n",
       "      <td>health</td>\n",
       "      <td>services</td>\n",
       "      <td>15</td>\n",
       "    </tr>\n",
       "    <tr>\n",
       "      <th>4</th>\n",
       "      <td>GP</td>\n",
       "      <td>U</td>\n",
       "      <td>4</td>\n",
       "      <td>other</td>\n",
       "      <td>other</td>\n",
       "      <td>10</td>\n",
       "    </tr>\n",
       "  </tbody>\n",
       "</table>\n",
       "</div>"
      ],
      "text/plain": [
       "  school address  absences     Mjob      Fjob  G3\n",
       "0     GP       U         6  at_home   teacher   6\n",
       "1     GP       U         4  at_home     other   6\n",
       "2     GP       U        10  at_home     other  10\n",
       "3     GP       U         2   health  services  15\n",
       "4     GP       U         4    other     other  10"
      ]
     },
     "execution_count": 2,
     "metadata": {},
     "output_type": "execute_result"
    }
   ],
   "source": [
    "students = pd.read_csv('students_grades.csv')\n",
    "students.head()"
   ]
  },
  {
   "cell_type": "code",
   "execution_count": 3,
   "metadata": {},
   "outputs": [
    {
     "name": "stdout",
     "output_type": "stream",
     "text": [
      "<class 'pandas.core.frame.DataFrame'>\n",
      "RangeIndex: 395 entries, 0 to 394\n",
      "Data columns (total 6 columns):\n",
      " #   Column    Non-Null Count  Dtype \n",
      "---  ------    --------------  ----- \n",
      " 0   school    395 non-null    object\n",
      " 1   address   395 non-null    object\n",
      " 2   absences  395 non-null    int64 \n",
      " 3   Mjob      395 non-null    object\n",
      " 4   Fjob      395 non-null    object\n",
      " 5   G3        395 non-null    int64 \n",
      "dtypes: int64(2), object(4)\n",
      "memory usage: 18.6+ KB\n"
     ]
    }
   ],
   "source": [
    "students.info()"
   ]
  },
  {
   "cell_type": "markdown",
   "metadata": {},
   "source": [
    "Categorical Variables : school , address , Mjob , Fjob  \n",
    "Numerical Variables : absences , G3"
   ]
  },
  {
   "cell_type": "markdown",
   "metadata": {},
   "source": [
    "Suppose that we want to know whether there is an association between student math scores (G3) and the student’s address (urban or rural).   \n",
    "Separate out G3 scores into two separate lists: one for students who live in an urban location ('U') and one for students who live in a rural location ('R').   \n",
    "Name these lists scores_urban and scores_rural"
   ]
  },
  {
   "cell_type": "code",
   "execution_count": 4,
   "metadata": {},
   "outputs": [],
   "source": [
    "# list of urban & riral student scores\n",
    "scores_urban = students.G3[students.address == 'U']\n",
    "scores_rural = students.G3[students.address == 'R']"
   ]
  },
  {
   "cell_type": "code",
   "execution_count": 5,
   "metadata": {},
   "outputs": [
    {
     "name": "stdout",
     "output_type": "stream",
     "text": [
      "0     6\n",
      "1     6\n",
      "2    10\n",
      "3    15\n",
      "4    10\n",
      "Name: G3, dtype: int64\n",
      "24     8\n",
      "32    16\n",
      "37    15\n",
      "38    11\n",
      "39    13\n",
      "Name: G3, dtype: int64\n"
     ]
    }
   ],
   "source": [
    "# review\n",
    "print(scores_urban.head())\n",
    "print(scores_rural.head())"
   ]
  },
  {
   "cell_type": "markdown",
   "metadata": {},
   "source": [
    "**Mean and Median Differences**  \n",
    "We began investigating whether or not there is an association between math scores and the school a student attends by using two common summary statistics, mean and median differences to quantify the association"
   ]
  },
  {
   "cell_type": "code",
   "execution_count": 6,
   "metadata": {},
   "outputs": [
    {
     "name": "stdout",
     "output_type": "stream",
     "text": [
      "Mean score - students w/ urban address: 10.674267100977199\n",
      "Mean score - students w/ rural address: 9.511363636363637\n",
      "Mean difference: 1.1629034646135619\n",
      "Median score - students w/ urban address: 11.0\n",
      "Median score - students w/ rural address: 10.0\n",
      "Median difference: 1.0\n"
     ]
    }
   ],
   "source": [
    "# mean G3 scores for each group\n",
    "scores_urban_mean = np.mean(scores_urban)\n",
    "scores_rural_mean = np.mean(scores_rural)\n",
    "\n",
    "#print mean scores:\n",
    "print('Mean score - students w/ urban address: ' + str(scores_urban_mean))\n",
    "print('Mean score - students w/ rural address: ' + str(scores_rural_mean))\n",
    "\n",
    "# Calculate the mean difference between the two groups \n",
    "mean_diff = scores_urban_mean - scores_rural_mean\n",
    "\n",
    "#print mean difference\n",
    "print('Mean difference: ' + str(mean_diff))\n",
    "\n",
    "#calculate medians for each group:\n",
    "scores_urban_median = np.median(scores_urban)\n",
    "scores_rural_median = np.median(scores_rural)\n",
    "\n",
    "#print median scores:\n",
    "print('Median score - students w/ urban address: ' + str(scores_urban_median))\n",
    "print('Median score - students w/ rural address: ' + str(scores_rural_median))\n",
    "\n",
    "# Calculate the median difference between the two groups \n",
    "median_diff = scores_urban_median - scores_rural_median\n",
    "\n",
    "#print mean difference\n",
    "print('Median difference: ' + str(median_diff))"
   ]
  },
  {
   "cell_type": "markdown",
   "metadata": {},
   "source": [
    "**Side-By_Side Box Plots**"
   ]
  },
  {
   "cell_type": "markdown",
   "metadata": {},
   "source": [
    "The difference in mean math scores for students between Rural and Urban was 1.162. How do we know whether this difference is considered small or large? To answer this question, we need to know something about the spread of the data.\n",
    "\n",
    "One way to get a better sense of spread is by looking at a visual representation of the data. Side-by-side box plots are useful in visualizing mean and median differences because they allow us to visually estimate the variation in the data. This can help us determine if mean or median differences are “large” or “small”."
   ]
  },
  {
   "cell_type": "code",
   "execution_count": 7,
   "metadata": {},
   "outputs": [
    {
     "data": {
      "image/png": "[encoded data removed]",
      "text/plain": [
       "<Figure size 432x288 with 1 Axes>"
      ]
     },
     "metadata": {},
     "output_type": "display_data"
    }
   ],
   "source": [
    "import matplotlib.pyplot as plt\n",
    "import seaborn as sns\n",
    "%matplotlib inline\n",
    "sns.set()\n",
    "# side by side boxplots of math scores at each school\n",
    "sns.boxplot(data = students , x = 'school' , y = 'G3');"
   ]
  },
  {
   "cell_type": "markdown",
   "metadata": {},
   "source": [
    "Looking at the plot, we can clearly see that there is a lot of overlap between the boxes (i.e. the middle 50% of the data). Therefore, we can be more confident that there is not much difference between the math scores of the two groups."
   ]
  },
  {
   "cell_type": "code",
   "execution_count": 8,
   "metadata": {},
   "outputs": [
    {
     "data": {
      "image/png": "[encoded data removed]",
      "text/plain": [
       "<Figure size 432x288 with 1 Axes>"
      ]
     },
     "metadata": {},
     "output_type": "display_data"
    }
   ],
   "source": [
    "# side by side boxplots of math scores by address\n",
    "sns.boxplot(data = students , x = 'address' , y = 'G3');"
   ]
  },
  {
   "cell_type": "markdown",
   "metadata": {},
   "source": [
    "Looking at the plot, we can clearly see that there is a lot of overlap between the boxes (i.e. the middle 50% of the data). Therefore, we can be more confident that there is not much difference between the math scores of the two groups."
   ]
  },
  {
   "cell_type": "markdown",
   "metadata": {},
   "source": [
    "**Overlapping Histograms**"
   ]
  },
  {
   "cell_type": "markdown",
   "metadata": {},
   "source": [
    "Another way to explore the relationship between a quantitative and categorical variable in more detail is by inspecting overlapping histograms. Setting alpha = .5 ensures that the histograms are see-through enough that we can see both of them at once. We also use normed=True make sure that the y-axis is a density rather than a frequency."
   ]
  },
  {
   "cell_type": "code",
   "execution_count": 9,
   "metadata": {},
   "outputs": [
    {
     "data": {
      "image/png": "[encoded data removed]",
      "text/plain": [
       "<Figure size 432x288 with 1 Axes>"
      ]
     },
     "metadata": {},
     "output_type": "display_data"
    }
   ],
   "source": [
    "fig, ax = plt.subplots(1, 1) # plot location\n",
    "\n",
    "ax.hist(scores_urban, alpha=0.5, label='Urban' , density = True , color=\"blue\") # 1st plot\n",
    "ax.hist(scores_rural, alpha=0.5, label='Rural' , density = True , color = \"red\") # 2nd plot\n",
    "ax.legend(loc='upper left')\n",
    "\n",
    "plt.show();"
   ]
  },
  {
   "cell_type": "code",
   "execution_count": 10,
   "metadata": {},
   "outputs": [
    {
     "data": {
      "image/png": "[encoded data removed]",
      "text/plain": [
       "<Figure size 432x288 with 1 Axes>"
      ]
     },
     "metadata": {},
     "output_type": "display_data"
    }
   ],
   "source": [
    "scores_GP = students.G3[students.school == 'GP']\n",
    "scores_MS = students.G3[students.school == 'MS']\n",
    "fig, ax = plt.subplots(1, 1)\n",
    "\n",
    "ax.hist(scores_GP, alpha=0.5, label='GP' , density = True , color=\"blue\")\n",
    "ax.hist(scores_MS, alpha=0.5, label='MS' , density = True , color = \"red\")\n",
    "ax.legend(loc='upper left')\n",
    "\n",
    "plt.show();"
   ]
  },
  {
   "cell_type": "markdown",
   "metadata": {},
   "source": [
    "While overlapping histograms and side by side boxplots can convey similar information, histograms give us more detail and can be useful in spotting patterns that were not visible in a box plot (eg., a bimodal distribution)"
   ]
  },
  {
   "cell_type": "markdown",
   "metadata": {},
   "source": [
    "## Quantitative and Non-Binary Categorical Variable"
   ]
  },
  {
   "cell_type": "markdown",
   "metadata": {},
   "source": [
    "Sometimes we are interested in an association between a quantitative variable and non-binary categorical variable. Non-binary categorical variables have more than two categories.  \n",
    "When looking at an association between a quantitative variable and a non-binary categorical variable, we must examine all pair-wise differences.  \n",
    "The easiest way to quickly visualize these comparisons is with side-by-side box plot"
   ]
  },
  {
   "cell_type": "code",
   "execution_count": 11,
   "metadata": {},
   "outputs": [
    {
     "data": {
      "image/png": "[encoded data removed]",
      "text/plain": [
       "<Figure size 432x288 with 1 Axes>"
      ]
     },
     "metadata": {},
     "output_type": "display_data"
    }
   ],
   "source": [
    "# boxplot of G3 scores compared by Mother's Job\n",
    "sns.boxplot(data = students, x = 'Mjob', y = 'G3')\n",
    "plt.show()"
   ]
  },
  {
   "cell_type": "markdown",
   "metadata": {},
   "source": [
    "Visually, we need to compare each box to every other box.   \n",
    "While most of these boxes overlap with each other, there are some pairs for which there are some apparent differences. For example, scores appear to be higher among students with mothers working in health than among students with mothers working at home or in an “other” job.   \n",
    "If there are ANY pairwise differences, we can say that the variables are associated; however, it is more useful to specifically report which groups are different"
   ]
  },
  {
   "cell_type": "code",
   "execution_count": 12,
   "metadata": {},
   "outputs": [
    {
     "data": {
      "image/png": "[encoded data removed]",
      "text/plain": [
       "<Figure size 432x288 with 1 Axes>"
      ]
     },
     "metadata": {},
     "output_type": "display_data"
    }
   ],
   "source": [
    "# boxplot of G3 scores compared by Fathers's Job\n",
    "sns.boxplot(data = students, x = 'Fjob', y = 'G3')\n",
    "plt.show()"
   ]
  },
  {
   "cell_type": "markdown",
   "metadata": {},
   "source": [
    "While most of these boxes overlap with each other, there are some pairs for which there are some apparent differences. For example, scores appear to be higher among students with fathers working in teaching industry than among students with fathers working at home or in an “other” job."
   ]
  },
  {
   "cell_type": "markdown",
   "metadata": {},
   "source": [
    "## Project : Titanic"
   ]
  },
  {
   "cell_type": "markdown",
   "metadata": {},
   "source": [
    "A new dataset named titanic has been uploaded. This data contains information about passengers on the Titanic, including the amount they paid for their fare and whether or not they survived (note: this is a subset of the full data available). To practice the skills learned in this lesson, let’s investigate whether there is an association between the fare that a passenger paid (Fare) and whether or not they survived (Survived, which is equal to 0 if the passenger died and 1 if they survived):\n",
    "1. Calculate the difference in mean fare paid by those who survived and those who died. Which group paid a higher average fare?\n",
    "2. Calculate the difference in median fare for those who survived and those who died.\n",
    "3. Create side-by-side box plots of fares by survival. Now that you can see the spread of the data, do the mean/median differences seem relatively small or large?\n",
    "4. Create overlapping histograms of fares by survival (you’ll have to delete or comment out your box plot code before you try to make a histogram). Does this provide any additional information?\n"
   ]
  },
  {
   "cell_type": "code",
   "execution_count": 13,
   "metadata": {},
   "outputs": [
    {
     "data": {
      "text/html": [
       "<div>\n",
       "<style scoped>\n",
       "    .dataframe tbody tr th:only-of-type {\n",
       "        vertical-align: middle;\n",
       "    }\n",
       "\n",
       "    .dataframe tbody tr th {\n",
       "        vertical-align: top;\n",
       "    }\n",
       "\n",
       "    .dataframe thead th {\n",
       "        text-align: right;\n",
       "    }\n",
       "</style>\n",
       "<table border=\"1\" class=\"dataframe\">\n",
       "  <thead>\n",
       "    <tr style=\"text-align: right;\">\n",
       "      <th></th>\n",
       "      <th>PassengerId</th>\n",
       "      <th>Survived</th>\n",
       "      <th>Pclass</th>\n",
       "      <th>Name</th>\n",
       "      <th>Sex</th>\n",
       "      <th>Age</th>\n",
       "      <th>SibSp</th>\n",
       "      <th>Parch</th>\n",
       "      <th>Ticket</th>\n",
       "      <th>Fare</th>\n",
       "      <th>Cabin</th>\n",
       "      <th>Embarked</th>\n",
       "    </tr>\n",
       "  </thead>\n",
       "  <tbody>\n",
       "    <tr>\n",
       "      <th>0</th>\n",
       "      <td>1</td>\n",
       "      <td>0</td>\n",
       "      <td>3</td>\n",
       "      <td>Braund, Mr. Owen Harris</td>\n",
       "      <td>male</td>\n",
       "      <td>22.0</td>\n",
       "      <td>1</td>\n",
       "      <td>0</td>\n",
       "      <td>A/5 21171</td>\n",
       "      <td>7.2500</td>\n",
       "      <td>NaN</td>\n",
       "      <td>S</td>\n",
       "    </tr>\n",
       "    <tr>\n",
       "      <th>1</th>\n",
       "      <td>2</td>\n",
       "      <td>1</td>\n",
       "      <td>1</td>\n",
       "      <td>Cumings, Mrs. John Bradley (Florence Briggs Th...</td>\n",
       "      <td>female</td>\n",
       "      <td>38.0</td>\n",
       "      <td>1</td>\n",
       "      <td>0</td>\n",
       "      <td>PC 17599</td>\n",
       "      <td>71.2833</td>\n",
       "      <td>C85</td>\n",
       "      <td>C</td>\n",
       "    </tr>\n",
       "    <tr>\n",
       "      <th>2</th>\n",
       "      <td>3</td>\n",
       "      <td>1</td>\n",
       "      <td>3</td>\n",
       "      <td>Heikkinen, Miss. Laina</td>\n",
       "      <td>female</td>\n",
       "      <td>26.0</td>\n",
       "      <td>0</td>\n",
       "      <td>0</td>\n",
       "      <td>STON/O2. 3101282</td>\n",
       "      <td>7.9250</td>\n",
       "      <td>NaN</td>\n",
       "      <td>S</td>\n",
       "    </tr>\n",
       "    <tr>\n",
       "      <th>3</th>\n",
       "      <td>4</td>\n",
       "      <td>1</td>\n",
       "      <td>1</td>\n",
       "      <td>Futrelle, Mrs. Jacques Heath (Lily May Peel)</td>\n",
       "      <td>female</td>\n",
       "      <td>35.0</td>\n",
       "      <td>1</td>\n",
       "      <td>0</td>\n",
       "      <td>113803</td>\n",
       "      <td>53.1000</td>\n",
       "      <td>C123</td>\n",
       "      <td>S</td>\n",
       "    </tr>\n",
       "    <tr>\n",
       "      <th>4</th>\n",
       "      <td>5</td>\n",
       "      <td>0</td>\n",
       "      <td>3</td>\n",
       "      <td>Allen, Mr. William Henry</td>\n",
       "      <td>male</td>\n",
       "      <td>35.0</td>\n",
       "      <td>0</td>\n",
       "      <td>0</td>\n",
       "      <td>373450</td>\n",
       "      <td>8.0500</td>\n",
       "      <td>NaN</td>\n",
       "      <td>S</td>\n",
       "    </tr>\n",
       "  </tbody>\n",
       "</table>\n",
       "</div>"
      ],
      "text/plain": [
       "   PassengerId  Survived  Pclass  \\\n",
       "0            1         0       3   \n",
       "1            2         1       1   \n",
       "2            3         1       3   \n",
       "3            4         1       1   \n",
       "4            5         0       3   \n",
       "\n",
       "                                                Name     Sex   Age  SibSp  \\\n",
       "0                            Braund, Mr. Owen Harris    male  22.0      1   \n",
       "1  Cumings, Mrs. John Bradley (Florence Briggs Th...  female  38.0      1   \n",
       "2                             Heikkinen, Miss. Laina  female  26.0      0   \n",
       "3       Futrelle, Mrs. Jacques Heath (Lily May Peel)  female  35.0      1   \n",
       "4                           Allen, Mr. William Henry    male  35.0      0   \n",
       "\n",
       "   Parch            Ticket     Fare Cabin Embarked  \n",
       "0      0         A/5 21171   7.2500   NaN        S  \n",
       "1      0          PC 17599  71.2833   C85        C  \n",
       "2      0  STON/O2. 3101282   7.9250   NaN        S  \n",
       "3      0            113803  53.1000  C123        S  \n",
       "4      0            373450   8.0500   NaN        S  "
      ]
     },
     "execution_count": 13,
     "metadata": {},
     "output_type": "execute_result"
    }
   ],
   "source": [
    "# load data\n",
    "df = pd.read_csv(\"titanic.csv\")\n",
    "df.head()"
   ]
  },
  {
   "cell_type": "markdown",
   "metadata": {},
   "source": [
    "**Task 1 : Mean & Median Diffrence in fairs**"
   ]
  },
  {
   "cell_type": "code",
   "execution_count": 14,
   "metadata": {},
   "outputs": [],
   "source": [
    "#separate out fares by survival\n",
    "fares_died = df.Fare[df.Survived == 0]\n",
    "fares_survived = df.Fare[df.Survived == 1]"
   ]
  },
  {
   "cell_type": "code",
   "execution_count": 15,
   "metadata": {},
   "outputs": [
    {
     "name": "stdout",
     "output_type": "stream",
     "text": [
      "mean difference: 18.082197554799468\n"
     ]
    }
   ],
   "source": [
    "#mean difference\n",
    "mean_fare_died = np.mean(fares_died)\n",
    "mean_fare_surv = np.mean(fares_survived)\n",
    "mean_diff = mean_fare_surv-mean_fare_died\n",
    "print('mean difference: ' + str(mean_diff))"
   ]
  },
  {
   "cell_type": "code",
   "execution_count": 16,
   "metadata": {},
   "outputs": [
    {
     "name": "stdout",
     "output_type": "stream",
     "text": [
      "median difference: 1.0\n"
     ]
    }
   ],
   "source": [
    "#median difference\n",
    "med_fare_died = np.median(fares_died)\n",
    "med_fare_surv = np.median(fares_survived)\n",
    "med_diff = med_fare_surv-med_fare_died\n",
    "print('median difference: ' + str(median_diff))"
   ]
  },
  {
   "cell_type": "markdown",
   "metadata": {},
   "source": [
    "**Task 2 :**    \n",
    "1. Side-By-Side Box Plots : Fair by Survived  \n",
    "2. Overlapping Histograms"
   ]
  },
  {
   "cell_type": "code",
   "execution_count": 17,
   "metadata": {},
   "outputs": [
    {
     "data": {
      "image/png": "[encoded data removed]",
      "text/plain": [
       "<Figure size 720x1080 with 2 Axes>"
      ]
     },
     "metadata": {},
     "output_type": "display_data"
    }
   ],
   "source": [
    "#create subplots (scroll to see plots)\n",
    "fig = plt.figure(figsize = (10,15))  \n",
    "\n",
    "#create the boxplot:\n",
    "ax = fig.add_subplot(2,1,1)\n",
    "ax = sns.boxplot(data = df, x = 'Survived', y = 'Fare')\n",
    "\n",
    "#create the histograms:\n",
    "ax = fig.add_subplot(2,1,2)\n",
    "ax.hist(fares_died, alpha=0.5, label='Died' , density = True , color=\"blue\")\n",
    "ax.hist(fares_survived, alpha=0.5, label='Survived' , density = True , color = \"red\")\n",
    "ax.legend(loc='upper right')\n",
    "\n",
    "plt.show();"
   ]
  },
  {
   "cell_type": "markdown",
   "metadata": {},
   "source": [
    "1. Median fares are higher for \"Survived\" and spread out v/s \"Died\"  \n",
    "2. Higher the Fair more is the chance of Survival"
   ]
  },
  {
   "cell_type": "markdown",
   "metadata": {},
   "source": [
    "# Association b/w Quantitative and Quantitative Variable  \n",
    "We will examine some data about Texas housing rentals on Craigslist — an online classifieds site. The data dictionary is as follows:\n",
    "price: monthly rental price in U.S.D.  \n",
    "type: type of housing (eg., 'apartment', 'house', 'condo', etc.)  \n",
    "sqfeet: housing area, in square feet  \n",
    "beds: number of beds  \n",
    "baths: number of baths  \n",
    "lat: latitude  \n",
    "long: longitude  \n",
    "Except for type, all of these variables are quantitative"
   ]
  },
  {
   "cell_type": "markdown",
   "metadata": {},
   "source": [
    "## Scatter Plots  \n",
    "One of the best ways to quickly visualize the relationship between quantitative variables is to plot them against each other in a **scatter plot**. This makes it easy to look for patterns or trends in the data"
   ]
  },
  {
   "cell_type": "code",
   "execution_count": 18,
   "metadata": {},
   "outputs": [
    {
     "data": {
      "text/html": [
       "<div>\n",
       "<style scoped>\n",
       "    .dataframe tbody tr th:only-of-type {\n",
       "        vertical-align: middle;\n",
       "    }\n",
       "\n",
       "    .dataframe tbody tr th {\n",
       "        vertical-align: top;\n",
       "    }\n",
       "\n",
       "    .dataframe thead th {\n",
       "        text-align: right;\n",
       "    }\n",
       "</style>\n",
       "<table border=\"1\" class=\"dataframe\">\n",
       "  <thead>\n",
       "    <tr style=\"text-align: right;\">\n",
       "      <th></th>\n",
       "      <th>price</th>\n",
       "      <th>type</th>\n",
       "      <th>sqfeet</th>\n",
       "      <th>beds</th>\n",
       "      <th>baths</th>\n",
       "      <th>lat</th>\n",
       "      <th>long</th>\n",
       "    </tr>\n",
       "  </thead>\n",
       "  <tbody>\n",
       "    <tr>\n",
       "      <th>0</th>\n",
       "      <td>615</td>\n",
       "      <td>apartment</td>\n",
       "      <td>364</td>\n",
       "      <td>0</td>\n",
       "      <td>1.0</td>\n",
       "      <td>35.1653</td>\n",
       "      <td>-101.8840</td>\n",
       "    </tr>\n",
       "    <tr>\n",
       "      <th>1</th>\n",
       "      <td>1346</td>\n",
       "      <td>apartment</td>\n",
       "      <td>816</td>\n",
       "      <td>1</td>\n",
       "      <td>1.0</td>\n",
       "      <td>32.9865</td>\n",
       "      <td>-96.6860</td>\n",
       "    </tr>\n",
       "    <tr>\n",
       "      <th>2</th>\n",
       "      <td>900</td>\n",
       "      <td>apartment</td>\n",
       "      <td>500</td>\n",
       "      <td>1</td>\n",
       "      <td>1.0</td>\n",
       "      <td>30.2355</td>\n",
       "      <td>-97.7292</td>\n",
       "    </tr>\n",
       "    <tr>\n",
       "      <th>3</th>\n",
       "      <td>650</td>\n",
       "      <td>apartment</td>\n",
       "      <td>700</td>\n",
       "      <td>1</td>\n",
       "      <td>1.0</td>\n",
       "      <td>26.1923</td>\n",
       "      <td>-98.2657</td>\n",
       "    </tr>\n",
       "    <tr>\n",
       "      <th>4</th>\n",
       "      <td>1330</td>\n",
       "      <td>apartment</td>\n",
       "      <td>1040</td>\n",
       "      <td>2</td>\n",
       "      <td>2.0</td>\n",
       "      <td>30.6380</td>\n",
       "      <td>-96.2940</td>\n",
       "    </tr>\n",
       "  </tbody>\n",
       "</table>\n",
       "</div>"
      ],
      "text/plain": [
       "   price       type  sqfeet  beds  baths      lat      long\n",
       "0    615  apartment     364     0    1.0  35.1653 -101.8840\n",
       "1   1346  apartment     816     1    1.0  32.9865  -96.6860\n",
       "2    900  apartment     500     1    1.0  30.2355  -97.7292\n",
       "3    650  apartment     700     1    1.0  26.1923  -98.2657\n",
       "4   1330  apartment    1040     2    2.0  30.6380  -96.2940"
      ]
     },
     "execution_count": 18,
     "metadata": {},
     "output_type": "execute_result"
    }
   ],
   "source": [
    "# load data\n",
    "housing = pd.read_csv('housing_sample.csv')\n",
    "housing .head()"
   ]
  },
  {
   "cell_type": "code",
   "execution_count": 20,
   "metadata": {},
   "outputs": [
    {
     "data": {
      "image/png": "[encoded data removed]",
      "text/plain": [
       "<Figure size 432x288 with 1 Axes>"
      ]
     },
     "metadata": {},
     "output_type": "display_data"
    }
   ],
   "source": [
    "# scatter plot rent v/s area\n",
    "sns.scatterplot(x = housing.price, y = housing.sqfeet)\n",
    "plt.xlabel('Rental Price (USD)')\n",
    "plt.ylabel('Area (Square Feet)')\n",
    "plt.show();"
   ]
  },
  {
   "cell_type": "markdown",
   "metadata": {},
   "source": [
    "We observe a lot of variation in the data, and also observe that expensive housing tends to come with slightly more space. This suggests an association between these two variables."
   ]
  },
  {
   "cell_type": "code",
   "execution_count": 21,
   "metadata": {},
   "outputs": [
    {
     "data": {
      "image/png": "[encoded data removed]",
      "text/plain": [
       "<Figure size 432x288 with 1 Axes>"
      ]
     },
     "metadata": {},
     "output_type": "display_data"
    }
   ],
   "source": [
    "# scatter plot area v/s # of bedrooms\n",
    "sns.scatterplot(x = housing.beds, y = housing.sqfeet)\n",
    "plt.xlabel('# of bedrooms')\n",
    "plt.ylabel('Area (Square Feet)')\n",
    "plt.show();"
   ]
  },
  {
   "cell_type": "markdown",
   "metadata": {},
   "source": [
    "We observe variation in area as the number of bed rooms increase and also there is a variation in area for housing with the same number of bedrooms"
   ]
  },
  {
   "cell_type": "code",
   "execution_count": 23,
   "metadata": {},
   "outputs": [
    {
     "data": {
      "image/png": "[encoded data removed]",
      "text/plain": [
       "<Figure size 432x288 with 1 Axes>"
      ]
     },
     "metadata": {},
     "output_type": "display_data"
    }
   ],
   "source": [
    "# box plot area v/s # of bedrooms\n",
    "sns.boxplot(x = housing.beds, y = housing.sqfeet)\n",
    "plt.xlabel('# of bedrooms')\n",
    "plt.ylabel('Area (Square Feet)')\n",
    "plt.show();"
   ]
  },
  {
   "cell_type": "markdown",
   "metadata": {},
   "source": [
    "## Covariance\n",
    "Covariance is a summary statistic that describes the strength of a linear relationship.A linear relationship is one where a straight line would best describe the pattern of points in a scatter plot.  \n",
    "Covariance describes how much two random variables vary together. It’s similar to variance, but where variance tells you how a single variable varies, co variance tells you how two variables vary together.  \n",
    "Covariance can range from $-\\infty {  to  } \\infty$. A positive covariance indicates that a larger value of one variable is associated with a larger value of the other. A negative covariance indicates a larger value of one variable is associated with a smaller value of the other. A covariance of 0 indicates no linear relationship.\n",
    "\n",
    "Cov(X,Y) = Σ E((X-μ)E(Y-ν)) / n-1 where:  \n",
    "X is a random variable  \n",
    "E(X) = μ is the expected value (the mean) of the random variable X and  \n",
    "E(Y) = ν is the expected value (the mean) of the random variable Y  \n",
    "n = the number of items in the data set    \n",
    "\n",
    "To calculate covariance, we can use the **cov()** function from NumPy, which produces a covariance matrix for two or more variables"
   ]
  },
  {
   "cell_type": "code",
   "execution_count": 24,
   "metadata": {},
   "outputs": [
    {
     "name": "stdout",
     "output_type": "stream",
     "text": [
      "[[150471.6135777   65426.51623487]\n",
      " [ 65426.51623487 110668.97801735]]\n"
     ]
    }
   ],
   "source": [
    "# covariance matrix of price v/s size\n",
    "cov_mat_price_sqfeet = np.cov(housing.price, housing.sqfeet)\n",
    "print(cov_mat_price_sqfeet)"
   ]
  },
  {
   "cell_type": "markdown",
   "metadata": {},
   "source": [
    "*Left Diagonal is the \"Covariance\" co-efficient that quantifies the strength of covariance.In this case it is 65426*"
   ]
  },
  {
   "cell_type": "code",
   "execution_count": 25,
   "metadata": {},
   "outputs": [
    {
     "name": "stdout",
     "output_type": "stream",
     "text": [
      "[[1.10668978e+05 2.28223306e+02]\n",
      " [2.28223306e+02 7.24471949e-01]]\n"
     ]
    }
   ],
   "source": [
    "# covariance matrix of beds vs size\n",
    "cov_mat_sqfeet_beds = np.cov(housing.sqfeet , housing.beds)\n",
    "print(cov_mat_sqfeet_beds)"
   ]
  },
  {
   "cell_type": "markdown",
   "metadata": {},
   "source": [
    "*Covariance between beds and size is 228.2*"
   ]
  },
  {
   "cell_type": "markdown",
   "metadata": {},
   "source": [
    "A large covariance can mean a strong relationship between variables. However, you can’t compare variances over data sets with different scales (like pounds and inches). A weak covariance in one data set may be a strong one in a different data set with different scales.\n",
    "\n",
    "The main problem with interpretation is that the wide range of results that it takes on makes it hard to interpret. For example, your data set could return a value of 3, or 3,000. This wide range of values is cause by a simple fact; The larger the X and Y values, the larger the covariance"
   ]
  },
  {
   "cell_type": "markdown",
   "metadata": {},
   "source": [
    "## Correlation\n",
    "Pearson Correlation (often referred to simply as “correlation”) is a scaled form of covariance. It also measures the strength of a linear relationship, but ranges from -1 to +1, making it more interpretable.\n",
    "\n",
    "Highly associated variables with a positive linear relationship will have a correlation close to 1. Highly associated variables with a negative linear relationship will have a correlation close to -1. Variables that do not have a linear association (or a linear association with a slope of zero) will have correlations close to 0  \n",
    "\n",
    "The pearsonr() function from scipy.stats can be used to calculate the correlation coefficient(r).  \n",
    "\n",
    "Correlation is only useful in determining linear relationship between two variables. Zero correlation may imply no linear dependence, but that does not preclude any other form of dependence (such as, polynomial) between the variables concerned.  \n",
    "\n",
    "Further, correlation does not indicate any cause and effect relationship. Correlation simply quantifies how well two variables are related, if at all, and its direction (i.e. positive or negative).  \n",
    "\n",
    "Typically, the rule of thumb for correlation values is as follows:  \n",
    "1. r between −0.4 and +0.4 indicates absence of linear dependence  \n",
    "2. r between −0.7 and −0.4 or r between +0.4 and +0.7 indicates moderate linear dependence, the sign indicating its direction  \n",
    "3. r less than −0.7 or r greater than +0.7 indicates strong linear dependence"
   ]
  },
  {
   "cell_type": "code",
   "execution_count": 27,
   "metadata": {},
   "outputs": [
    {
     "name": "stdout",
     "output_type": "stream",
     "text": [
      "0.5070065351127468\n"
     ]
    }
   ],
   "source": [
    "# correlation coefficient between price and area\n",
    "from scipy.stats import pearsonr\n",
    "corr_price_sqfeet, p = pearsonr(housing.price, housing.sqfeet)\n",
    "print(corr_price_sqfeet)"
   ]
  },
  {
   "cell_type": "code",
   "execution_count": 28,
   "metadata": {},
   "outputs": [
    {
     "name": "stdout",
     "output_type": "stream",
     "text": [
      "0.8060022524416222\n"
     ]
    },
    {
     "data": {
      "image/png": "[encoded data removed]",
      "text/plain": [
       "<Figure size 432x288 with 1 Axes>"
      ]
     },
     "metadata": {},
     "output_type": "display_data"
    }
   ],
   "source": [
    "# calculate corr_sqfeet_beds and print it out:\n",
    "corr_sqfeet_beds, p = pearsonr(housing.beds, housing.sqfeet)\n",
    "print(corr_sqfeet_beds)\n",
    "\n",
    "# create the scatter plot here:\n",
    "sns.scatterplot(x = housing.beds, y = housing.sqfeet)\n",
    "plt.xlabel('# of bedrooms')\n",
    "plt.ylabel('Area (Square Feet)')\n",
    "plt.show();"
   ]
  },
  {
   "cell_type": "markdown",
   "metadata": {},
   "source": [
    "*Area in squarefeet and # of beds are highly corelated*"
   ]
  },
  {
   "attachments": {
    "ZEROCORRELATIONSCATTER.png": {
     "image/png": "[encoded data removed]"
    }
   },
   "cell_type": "markdown",
   "metadata": {},
   "source": [
    "It’s important to note that there are some limitations to using correlation or covariance as a way of assessing whether there is an association between two variables. Because correlation and covariance both measure the **strength of linear relationships** with non-zero slopes, for any non-linear relationship correlation can be misleading.  \n",
    "\n",
    "The four scatter plots below show pairs of variables with near-zero correlations. The bottom left image shows an example of a perfect linear association where the slope is zero (the line is horizontal). Meanwhile, the other three plots show non-linear relationships — if we drew a line through any of these sets of points, that line would need to be curved, not straight!  \n",
    "![ZEROCORRELATIONSCATTER.png](attachment:ZEROCORRELATIONSCATTER.png)"
   ]
  },
  {
   "cell_type": "markdown",
   "metadata": {},
   "source": [
    "## Project : Penguins  \n",
    "A new dataset named penguins has been uploaded.This dataset contains various measurements for a sample of penguins. To practice the skills learned in this lesson, here are some things to try:\n",
    "1. Inspect the first few rows of data.\n",
    "2. Create a scatter plot of flipper length (flipper_length_mm) and body mass (body_mass_g).\n",
    "3. Inspect your plot. What is the relationship between these variables.\n",
    "4. Calculate the covariance for these two variables?\n",
    "5. Calculate the correlation for these two variables. Does this number make sense given the plot you created?\n"
   ]
  },
  {
   "cell_type": "code",
   "execution_count": 29,
   "metadata": {},
   "outputs": [],
   "source": [
    "# import packages and libraries\n",
    "import numpy as np\n",
    "import pandas as pd\n",
    "import matplotlib.pyplot as plt \n",
    "import seaborn as sns\n",
    "from scipy.stats import pearsonr\n",
    "np.set_printoptions(suppress=True, precision = 1) \n",
    "%matplotlib inline\n",
    "sns.set()"
   ]
  },
  {
   "cell_type": "code",
   "execution_count": 31,
   "metadata": {},
   "outputs": [
    {
     "data": {
      "text/html": [
       "<div>\n",
       "<style scoped>\n",
       "    .dataframe tbody tr th:only-of-type {\n",
       "        vertical-align: middle;\n",
       "    }\n",
       "\n",
       "    .dataframe tbody tr th {\n",
       "        vertical-align: top;\n",
       "    }\n",
       "\n",
       "    .dataframe thead th {\n",
       "        text-align: right;\n",
       "    }\n",
       "</style>\n",
       "<table border=\"1\" class=\"dataframe\">\n",
       "  <thead>\n",
       "    <tr style=\"text-align: right;\">\n",
       "      <th></th>\n",
       "      <th>species</th>\n",
       "      <th>bill_length_mm</th>\n",
       "      <th>bill_depth_mm</th>\n",
       "      <th>flipper_length_mm</th>\n",
       "      <th>body_mass_g</th>\n",
       "      <th>sex</th>\n",
       "    </tr>\n",
       "  </thead>\n",
       "  <tbody>\n",
       "    <tr>\n",
       "      <th>0</th>\n",
       "      <td>Adelie</td>\n",
       "      <td>39.1</td>\n",
       "      <td>18.7</td>\n",
       "      <td>181</td>\n",
       "      <td>3750</td>\n",
       "      <td>male</td>\n",
       "    </tr>\n",
       "    <tr>\n",
       "      <th>1</th>\n",
       "      <td>Adelie</td>\n",
       "      <td>39.5</td>\n",
       "      <td>17.4</td>\n",
       "      <td>186</td>\n",
       "      <td>3800</td>\n",
       "      <td>female</td>\n",
       "    </tr>\n",
       "    <tr>\n",
       "      <th>2</th>\n",
       "      <td>Adelie</td>\n",
       "      <td>40.3</td>\n",
       "      <td>18.0</td>\n",
       "      <td>195</td>\n",
       "      <td>3250</td>\n",
       "      <td>female</td>\n",
       "    </tr>\n",
       "    <tr>\n",
       "      <th>3</th>\n",
       "      <td>Adelie</td>\n",
       "      <td>36.7</td>\n",
       "      <td>19.3</td>\n",
       "      <td>193</td>\n",
       "      <td>3450</td>\n",
       "      <td>female</td>\n",
       "    </tr>\n",
       "    <tr>\n",
       "      <th>4</th>\n",
       "      <td>Adelie</td>\n",
       "      <td>39.3</td>\n",
       "      <td>20.6</td>\n",
       "      <td>190</td>\n",
       "      <td>3650</td>\n",
       "      <td>male</td>\n",
       "    </tr>\n",
       "  </tbody>\n",
       "</table>\n",
       "</div>"
      ],
      "text/plain": [
       "  species  bill_length_mm  bill_depth_mm  flipper_length_mm  body_mass_g  \\\n",
       "0  Adelie            39.1           18.7                181         3750   \n",
       "1  Adelie            39.5           17.4                186         3800   \n",
       "2  Adelie            40.3           18.0                195         3250   \n",
       "3  Adelie            36.7           19.3                193         3450   \n",
       "4  Adelie            39.3           20.6                190         3650   \n",
       "\n",
       "      sex  \n",
       "0    male  \n",
       "1  female  \n",
       "2  female  \n",
       "3  female  \n",
       "4    male  "
      ]
     },
     "execution_count": 31,
     "metadata": {},
     "output_type": "execute_result"
    }
   ],
   "source": [
    "# Task -1 import data\n",
    "df = pd.read_csv(\"penguins.csv\")\n",
    "df.head()"
   ]
  },
  {
   "cell_type": "code",
   "execution_count": 32,
   "metadata": {},
   "outputs": [
    {
     "data": {
      "image/png": "[encoded data removed]",
      "text/plain": [
       "<Figure size 432x288 with 1 Axes>"
      ]
     },
     "metadata": {},
     "output_type": "display_data"
    }
   ],
   "source": [
    "# Task - 2 scatter plot of flipper length (flipper_length_mm) and body mass (body_mass_g)\n",
    "sns.scatterplot(x = df.flipper_length_mm , y = df.body_mass_g)\n",
    "plt.xlabel('Flipper Length (mm)')\n",
    "plt.ylabel('Body Mass (gm))')\n",
    "plt.show();"
   ]
  },
  {
   "cell_type": "markdown",
   "metadata": {},
   "source": [
    "*Flipper Length and Body Mass exhibit a \"+ve\" linear relationship*"
   ]
  },
  {
   "cell_type": "code",
   "execution_count": 35,
   "metadata": {},
   "outputs": [
    {
     "name": "stdout",
     "output_type": "stream",
     "text": [
      "[[   196.4   9852.2]\n",
      " [  9852.2 648372.5]]\n",
      "covariance:  9852.191649480805\n"
     ]
    }
   ],
   "source": [
    "# Task - 3 covariance flipper length (flipper_length_mm) and body mass (body_mass_g) \n",
    "cov_mat_flipl_mass = np.cov(df.flipper_length_mm, df.body_mass_g)\n",
    "print(cov_mat_flipl_mass)\n",
    "print(\"covariance: \", cov_mat_flipl_mass[1][0])"
   ]
  },
  {
   "cell_type": "markdown",
   "metadata": {},
   "source": [
    "*Covariance coefficient is 9852 , makes no sense since the units of measure are mm and gm*"
   ]
  },
  {
   "cell_type": "code",
   "execution_count": 36,
   "metadata": {},
   "outputs": [
    {
     "name": "stdout",
     "output_type": "stream",
     "text": [
      "0.8729788985653613\n",
      "correlation:  0.8729788985653613\n"
     ]
    }
   ],
   "source": [
    "# Task - 4 correlation flipper length (flipper_length_mm) and body mass (body_mass_g)\n",
    "corr_flipl_mass, p = pearsonr(df.flipper_length_mm, df.body_mass_g)\n",
    "print(corr_flipl_mass)\n",
    "print(\"correlation: \", corr_flipl_mass)"
   ]
  },
  {
   "cell_type": "markdown",
   "metadata": {},
   "source": [
    "*Strong Positive Correlation exists between flipper length and body mass*"
   ]
  },
  {
   "cell_type": "markdown",
   "metadata": {},
   "source": [
    "# Association b/w Categorical and Categorical "
   ]
  },
  {
   "cell_type": "markdown",
   "metadata": {},
   "source": [
    "We will explore a sample of data from the Narcissistic Personality Inventory (NPI-40), a personality test with 40 questions about personal preferences and self-view. There are two possible responses to each question. \n",
    "The sample contains responses to the following:\n",
    "* influence: yes = I have a natural talent for influencing people; no = I am not good at influencing people.\n",
    "* blend_in: yes = I prefer to blend in with the crowd; no = I like to be the center of attention.\n",
    "* special: yes = I think I am a special person; no = I am no better or worse than most people.\n",
    "* leader: yes = I see myself as a good leader; no = I am not sure if I would make a good leader.\n",
    "* authority: yes = I like to have authority over other people; no = I don’t mind following orders.\n",
    "\n",
    "Responses to some of these questions are associated. For example, if we know whether someone views themself as a good leader, we may also find that they’re more likely to like having authority"
   ]
  },
  {
   "cell_type": "markdown",
   "metadata": {},
   "source": [
    "## Contingency Tables: Frequencies  \n",
    "Contingency tables, also known as two-way tables or cross-tabulations, are useful for summarizing two variables at the same time.  \n",
    "We use the **crosstab** function from pandas to create a contingency table  "
   ]
  },
  {
   "cell_type": "code",
   "execution_count": 37,
   "metadata": {},
   "outputs": [
    {
     "data": {
      "text/html": [
       "<div>\n",
       "<style scoped>\n",
       "    .dataframe tbody tr th:only-of-type {\n",
       "        vertical-align: middle;\n",
       "    }\n",
       "\n",
       "    .dataframe tbody tr th {\n",
       "        vertical-align: top;\n",
       "    }\n",
       "\n",
       "    .dataframe thead th {\n",
       "        text-align: right;\n",
       "    }\n",
       "</style>\n",
       "<table border=\"1\" class=\"dataframe\">\n",
       "  <thead>\n",
       "    <tr style=\"text-align: right;\">\n",
       "      <th></th>\n",
       "      <th>influence</th>\n",
       "      <th>blend_in</th>\n",
       "      <th>special</th>\n",
       "      <th>leader</th>\n",
       "      <th>authority</th>\n",
       "    </tr>\n",
       "  </thead>\n",
       "  <tbody>\n",
       "    <tr>\n",
       "      <th>0</th>\n",
       "      <td>no</td>\n",
       "      <td>yes</td>\n",
       "      <td>yes</td>\n",
       "      <td>yes</td>\n",
       "      <td>yes</td>\n",
       "    </tr>\n",
       "    <tr>\n",
       "      <th>1</th>\n",
       "      <td>no</td>\n",
       "      <td>yes</td>\n",
       "      <td>no</td>\n",
       "      <td>no</td>\n",
       "      <td>no</td>\n",
       "    </tr>\n",
       "    <tr>\n",
       "      <th>2</th>\n",
       "      <td>yes</td>\n",
       "      <td>no</td>\n",
       "      <td>yes</td>\n",
       "      <td>yes</td>\n",
       "      <td>yes</td>\n",
       "    </tr>\n",
       "    <tr>\n",
       "      <th>3</th>\n",
       "      <td>yes</td>\n",
       "      <td>no</td>\n",
       "      <td>no</td>\n",
       "      <td>yes</td>\n",
       "      <td>yes</td>\n",
       "    </tr>\n",
       "    <tr>\n",
       "      <th>4</th>\n",
       "      <td>yes</td>\n",
       "      <td>yes</td>\n",
       "      <td>no</td>\n",
       "      <td>yes</td>\n",
       "      <td>no</td>\n",
       "    </tr>\n",
       "  </tbody>\n",
       "</table>\n",
       "</div>"
      ],
      "text/plain": [
       "  influence blend_in special leader authority\n",
       "0        no      yes     yes    yes       yes\n",
       "1        no      yes      no     no        no\n",
       "2       yes       no     yes    yes       yes\n",
       "3       yes       no      no    yes       yes\n",
       "4       yes      yes      no    yes        no"
      ]
     },
     "execution_count": 37,
     "metadata": {},
     "output_type": "execute_result"
    }
   ],
   "source": [
    "# load data\n",
    "npi = pd.read_csv(\"narciscist.csv\")\n",
    "npi.head()"
   ]
  },
  {
   "cell_type": "markdown",
   "metadata": {},
   "source": [
    "Question : Do you think whether there is an association between influence (whether a person thinks they have a talent for influencing people) and leader (whether they see themself as a leader)"
   ]
  },
  {
   "cell_type": "code",
   "execution_count": 39,
   "metadata": {},
   "outputs": [
    {
     "data": {
      "text/html": [
       "<div>\n",
       "<style scoped>\n",
       "    .dataframe tbody tr th:only-of-type {\n",
       "        vertical-align: middle;\n",
       "    }\n",
       "\n",
       "    .dataframe tbody tr th {\n",
       "        vertical-align: top;\n",
       "    }\n",
       "\n",
       "    .dataframe thead th {\n",
       "        text-align: right;\n",
       "    }\n",
       "</style>\n",
       "<table border=\"1\" class=\"dataframe\">\n",
       "  <thead>\n",
       "    <tr style=\"text-align: right;\">\n",
       "      <th>leader</th>\n",
       "      <th>no</th>\n",
       "      <th>yes</th>\n",
       "    </tr>\n",
       "    <tr>\n",
       "      <th>influence</th>\n",
       "      <th></th>\n",
       "      <th></th>\n",
       "    </tr>\n",
       "  </thead>\n",
       "  <tbody>\n",
       "    <tr>\n",
       "      <th>no</th>\n",
       "      <td>3015</td>\n",
       "      <td>1293</td>\n",
       "    </tr>\n",
       "    <tr>\n",
       "      <th>yes</th>\n",
       "      <td>2360</td>\n",
       "      <td>4429</td>\n",
       "    </tr>\n",
       "  </tbody>\n",
       "</table>\n",
       "</div>"
      ],
      "text/plain": [
       "leader       no   yes\n",
       "influence            \n",
       "no         3015  1293\n",
       "yes        2360  4429"
      ]
     },
     "execution_count": 39,
     "metadata": {},
     "output_type": "execute_result"
    }
   ],
   "source": [
    "# create the contingency table\n",
    "inluence_leader_freq = pd.crosstab(npi.influence, npi.leader)\n",
    "inluence_leader_freq"
   ]
  },
  {
   "cell_type": "markdown",
   "metadata": {},
   "source": [
    "This table tells us the number of people who gave each possible combination of responses to these two questions. For example, 2360 people said that they do not see themselves as a leader but have a talent for influencing people.\n",
    "\n",
    "To assess whether there is an association between these two variables, we need to ask **whether information about one variable gives us information about the other**. In this example, we see that among people who don’t see themselves as a leader (the first column), a larger number (3015) don’t think they have a talent for influencing people. Meanwhile, among people who do see themselves as a leader (the second column), a larger number (4429) do think they have a talent for influencing people.\n",
    "\n",
    "So, if we know how someone responded to the leadership question, we have some information about how they are likely to respond to the influence question. This suggests that the variables are associated"
   ]
  },
  {
   "cell_type": "markdown",
   "metadata": {},
   "source": [
    "Question : Do you think there will be an association between special (whether or not a person sees themself as “special”) and authority (whether or not a person likes to have authority)? "
   ]
  },
  {
   "cell_type": "code",
   "execution_count": 41,
   "metadata": {},
   "outputs": [
    {
     "data": {
      "text/html": [
       "<div>\n",
       "<style scoped>\n",
       "    .dataframe tbody tr th:only-of-type {\n",
       "        vertical-align: middle;\n",
       "    }\n",
       "\n",
       "    .dataframe tbody tr th {\n",
       "        vertical-align: top;\n",
       "    }\n",
       "\n",
       "    .dataframe thead th {\n",
       "        text-align: right;\n",
       "    }\n",
       "</style>\n",
       "<table border=\"1\" class=\"dataframe\">\n",
       "  <thead>\n",
       "    <tr style=\"text-align: right;\">\n",
       "      <th>authority</th>\n",
       "      <th>no</th>\n",
       "      <th>yes</th>\n",
       "    </tr>\n",
       "    <tr>\n",
       "      <th>special</th>\n",
       "      <th></th>\n",
       "      <th></th>\n",
       "    </tr>\n",
       "  </thead>\n",
       "  <tbody>\n",
       "    <tr>\n",
       "      <th>no</th>\n",
       "      <td>4069</td>\n",
       "      <td>1905</td>\n",
       "    </tr>\n",
       "    <tr>\n",
       "      <th>yes</th>\n",
       "      <td>2229</td>\n",
       "      <td>2894</td>\n",
       "    </tr>\n",
       "  </tbody>\n",
       "</table>\n",
       "</div>"
      ],
      "text/plain": [
       "authority    no   yes\n",
       "special              \n",
       "no         4069  1905\n",
       "yes        2229  2894"
      ]
     },
     "execution_count": 41,
     "metadata": {},
     "output_type": "execute_result"
    }
   ],
   "source": [
    "# create the contingency table\n",
    "special_authority_freq = pd.crosstab(npi.special, npi.authority)\n",
    "special_authority_freq"
   ]
  },
  {
   "cell_type": "markdown",
   "metadata": {},
   "source": [
    "*2894 people with autority think they are special whilst 4069 people without autority do not think they are special. This implies that having authority and being treated as special are associated*"
   ]
  },
  {
   "cell_type": "markdown",
   "metadata": {},
   "source": [
    "## Contingency Tables: Proportions  \n",
    "Sometimes it’s helpful to convert frequencies from a contingency table into proportions. We can accomplish this by dividing the all the frequencies in a contingency table by the total number of observations (the sum of the frequencies).The resulting contingency table makes it slightly easier to compare the proportion of people in each category"
   ]
  },
  {
   "cell_type": "code",
   "execution_count": 43,
   "metadata": {},
   "outputs": [
    {
     "data": {
      "text/html": [
       "<div>\n",
       "<style scoped>\n",
       "    .dataframe tbody tr th:only-of-type {\n",
       "        vertical-align: middle;\n",
       "    }\n",
       "\n",
       "    .dataframe tbody tr th {\n",
       "        vertical-align: top;\n",
       "    }\n",
       "\n",
       "    .dataframe thead th {\n",
       "        text-align: right;\n",
       "    }\n",
       "</style>\n",
       "<table border=\"1\" class=\"dataframe\">\n",
       "  <thead>\n",
       "    <tr style=\"text-align: right;\">\n",
       "      <th>leader</th>\n",
       "      <th>no</th>\n",
       "      <th>yes</th>\n",
       "    </tr>\n",
       "    <tr>\n",
       "      <th>influence</th>\n",
       "      <th></th>\n",
       "      <th></th>\n",
       "    </tr>\n",
       "  </thead>\n",
       "  <tbody>\n",
       "    <tr>\n",
       "      <th>no</th>\n",
       "      <td>3015</td>\n",
       "      <td>1293</td>\n",
       "    </tr>\n",
       "    <tr>\n",
       "      <th>yes</th>\n",
       "      <td>2360</td>\n",
       "      <td>4429</td>\n",
       "    </tr>\n",
       "  </tbody>\n",
       "</table>\n",
       "</div>"
      ],
      "text/plain": [
       "leader       no   yes\n",
       "influence            \n",
       "no         3015  1293\n",
       "yes        2360  4429"
      ]
     },
     "execution_count": 43,
     "metadata": {},
     "output_type": "execute_result"
    }
   ],
   "source": [
    "influence_leader_freq = pd.crosstab(npi.influence, npi.leader)\n",
    "influence_leader_prop = influence_leader_freq/len(npi)\n",
    "inluence_leader_freq"
   ]
  },
  {
   "cell_type": "code",
   "execution_count": 44,
   "metadata": {},
   "outputs": [
    {
     "data": {
      "text/html": [
       "<div>\n",
       "<style scoped>\n",
       "    .dataframe tbody tr th:only-of-type {\n",
       "        vertical-align: middle;\n",
       "    }\n",
       "\n",
       "    .dataframe tbody tr th {\n",
       "        vertical-align: top;\n",
       "    }\n",
       "\n",
       "    .dataframe thead th {\n",
       "        text-align: right;\n",
       "    }\n",
       "</style>\n",
       "<table border=\"1\" class=\"dataframe\">\n",
       "  <thead>\n",
       "    <tr style=\"text-align: right;\">\n",
       "      <th>leader</th>\n",
       "      <th>no</th>\n",
       "      <th>yes</th>\n",
       "    </tr>\n",
       "    <tr>\n",
       "      <th>influence</th>\n",
       "      <th></th>\n",
       "      <th></th>\n",
       "    </tr>\n",
       "  </thead>\n",
       "  <tbody>\n",
       "    <tr>\n",
       "      <th>no</th>\n",
       "      <td>0.271695</td>\n",
       "      <td>0.116518</td>\n",
       "    </tr>\n",
       "    <tr>\n",
       "      <th>yes</th>\n",
       "      <td>0.212670</td>\n",
       "      <td>0.399117</td>\n",
       "    </tr>\n",
       "  </tbody>\n",
       "</table>\n",
       "</div>"
      ],
      "text/plain": [
       "leader           no       yes\n",
       "influence                    \n",
       "no         0.271695  0.116518\n",
       "yes        0.212670  0.399117"
      ]
     },
     "execution_count": 44,
     "metadata": {},
     "output_type": "execute_result"
    }
   ],
   "source": [
    "influence_leader_prop"
   ]
  },
  {
   "cell_type": "markdown",
   "metadata": {},
   "source": [
    "We see that the two largest proportions in the table (.399 and .271) are in the yes/yes and no/no cells of the table. We can also see that almost 40% of the surveyed population (by far the largest proportion) both see themselves as leaders and think they have a talent for influencing people."
   ]
  },
  {
   "cell_type": "code",
   "execution_count": 48,
   "metadata": {},
   "outputs": [
    {
     "data": {
      "text/html": [
       "<div>\n",
       "<style scoped>\n",
       "    .dataframe tbody tr th:only-of-type {\n",
       "        vertical-align: middle;\n",
       "    }\n",
       "\n",
       "    .dataframe tbody tr th {\n",
       "        vertical-align: top;\n",
       "    }\n",
       "\n",
       "    .dataframe thead th {\n",
       "        text-align: right;\n",
       "    }\n",
       "</style>\n",
       "<table border=\"1\" class=\"dataframe\">\n",
       "  <thead>\n",
       "    <tr style=\"text-align: right;\">\n",
       "      <th>authority</th>\n",
       "      <th>no</th>\n",
       "      <th>yes</th>\n",
       "    </tr>\n",
       "    <tr>\n",
       "      <th>special</th>\n",
       "      <th></th>\n",
       "      <th></th>\n",
       "    </tr>\n",
       "  </thead>\n",
       "  <tbody>\n",
       "    <tr>\n",
       "      <th>no</th>\n",
       "      <td>4069</td>\n",
       "      <td>1905</td>\n",
       "    </tr>\n",
       "    <tr>\n",
       "      <th>yes</th>\n",
       "      <td>2229</td>\n",
       "      <td>2894</td>\n",
       "    </tr>\n",
       "  </tbody>\n",
       "</table>\n",
       "</div>"
      ],
      "text/plain": [
       "authority    no   yes\n",
       "special              \n",
       "no         4069  1905\n",
       "yes        2229  2894"
      ]
     },
     "execution_count": 48,
     "metadata": {},
     "output_type": "execute_result"
    }
   ],
   "source": [
    "# create the contingency table\n",
    "special_authority_freq = pd.crosstab(npi.special, npi.authority)\n",
    "special_authority_prop = special_authority_freq/len(npi)\n",
    "special_authority_freq"
   ]
  },
  {
   "cell_type": "code",
   "execution_count": 49,
   "metadata": {},
   "outputs": [
    {
     "data": {
      "text/html": [
       "<div>\n",
       "<style scoped>\n",
       "    .dataframe tbody tr th:only-of-type {\n",
       "        vertical-align: middle;\n",
       "    }\n",
       "\n",
       "    .dataframe tbody tr th {\n",
       "        vertical-align: top;\n",
       "    }\n",
       "\n",
       "    .dataframe thead th {\n",
       "        text-align: right;\n",
       "    }\n",
       "</style>\n",
       "<table border=\"1\" class=\"dataframe\">\n",
       "  <thead>\n",
       "    <tr style=\"text-align: right;\">\n",
       "      <th>authority</th>\n",
       "      <th>no</th>\n",
       "      <th>yes</th>\n",
       "    </tr>\n",
       "    <tr>\n",
       "      <th>special</th>\n",
       "      <th></th>\n",
       "      <th></th>\n",
       "    </tr>\n",
       "  </thead>\n",
       "  <tbody>\n",
       "    <tr>\n",
       "      <th>no</th>\n",
       "      <td>0.366676</td>\n",
       "      <td>0.171668</td>\n",
       "    </tr>\n",
       "    <tr>\n",
       "      <th>yes</th>\n",
       "      <td>0.200865</td>\n",
       "      <td>0.260791</td>\n",
       "    </tr>\n",
       "  </tbody>\n",
       "</table>\n",
       "</div>"
      ],
      "text/plain": [
       "authority        no       yes\n",
       "special                      \n",
       "no         0.366676  0.171668\n",
       "yes        0.200865  0.260791"
      ]
     },
     "execution_count": 49,
     "metadata": {},
     "output_type": "execute_result"
    }
   ],
   "source": [
    "special_authority_prop"
   ]
  },
  {
   "cell_type": "markdown",
   "metadata": {},
   "source": [
    "We see that the two largest proportions in the table (.26 and .36) are in the yes/yes and no/no cells of the table. We can also see that almost 37% of the surveyed population (by far the largest proportion) don't see themselves as having authority over people and don't feel they are treated as special persons"
   ]
  },
  {
   "cell_type": "markdown",
   "metadata": {},
   "source": [
    "## Contingency Tables : Marginal Proportions"
   ]
  },
  {
   "cell_type": "markdown",
   "metadata": {},
   "source": [
    "In the previous exercises, we looked at an association between the influence and leader questions using a contingency table. We saw some evidence of an association between these questions.\n",
    "\n",
    "Now, let’s take a moment to think about what the tables would look like if there were no association between the variables. Our first instinct may be that there would be .25 (25%) of the data in each of the four cells of the table, but that is not the case. Let’s take another look at our contingency table."
   ]
  },
  {
   "cell_type": "code",
   "execution_count": 50,
   "metadata": {},
   "outputs": [
    {
     "data": {
      "text/html": [
       "<div>\n",
       "<style scoped>\n",
       "    .dataframe tbody tr th:only-of-type {\n",
       "        vertical-align: middle;\n",
       "    }\n",
       "\n",
       "    .dataframe tbody tr th {\n",
       "        vertical-align: top;\n",
       "    }\n",
       "\n",
       "    .dataframe thead th {\n",
       "        text-align: right;\n",
       "    }\n",
       "</style>\n",
       "<table border=\"1\" class=\"dataframe\">\n",
       "  <thead>\n",
       "    <tr style=\"text-align: right;\">\n",
       "      <th>leader</th>\n",
       "      <th>no</th>\n",
       "      <th>yes</th>\n",
       "    </tr>\n",
       "    <tr>\n",
       "      <th>influence</th>\n",
       "      <th></th>\n",
       "      <th></th>\n",
       "    </tr>\n",
       "  </thead>\n",
       "  <tbody>\n",
       "    <tr>\n",
       "      <th>no</th>\n",
       "      <td>0.271695</td>\n",
       "      <td>0.116518</td>\n",
       "    </tr>\n",
       "    <tr>\n",
       "      <th>yes</th>\n",
       "      <td>0.212670</td>\n",
       "      <td>0.399117</td>\n",
       "    </tr>\n",
       "  </tbody>\n",
       "</table>\n",
       "</div>"
      ],
      "text/plain": [
       "leader           no       yes\n",
       "influence                    \n",
       "no         0.271695  0.116518\n",
       "yes        0.212670  0.399117"
      ]
     },
     "execution_count": 50,
     "metadata": {},
     "output_type": "execute_result"
    }
   ],
   "source": [
    "influence_leader_prop"
   ]
  },
  {
   "cell_type": "markdown",
   "metadata": {},
   "source": [
    "Notice that the bottom row, which corresponds to people who think they have a talent for influencing people, accounts for 0.213 + 0.399 = 0.612 (or 61.2%) of surveyed people — more than half! This means that we can expect higher proportions in the bottom row, regardless of whether the questions are associated.  \n",
    "**The proportion of respondents in each category of a single question is called a marginal proportion.**  \n",
    "For example, the marginal proportion of the population that has a talent for influencing people is 0.612. We can calculate all the marginal proportions from the contingency table of proportions (saved as influence_leader_prop) using row and column sums.  \n",
    "**axis=0 -- Row Sum ; axis=1 -- Column Sum**"
   ]
  },
  {
   "cell_type": "code",
   "execution_count": 52,
   "metadata": {},
   "outputs": [
    {
     "name": "stdout",
     "output_type": "stream",
     "text": [
      "leader\n",
      "no     0.484365\n",
      "yes    0.515635\n",
      "dtype: float64\n",
      "influence\n",
      "no     0.388213\n",
      "yes    0.611787\n",
      "dtype: float64\n"
     ]
    }
   ],
   "source": [
    "# calculate Row Sums (axis=0)\n",
    "leader_marginals = influence_leader_prop.sum(axis=0)\n",
    "print(leader_marginals)\n",
    "# calculate Column Sums (axis=1)\n",
    "influence_marginals =  influence_leader_prop.sum(axis=1)\n",
    "print(influence_marginals)"
   ]
  },
  {
   "cell_type": "markdown",
   "metadata": {},
   "source": [
    "*Inference : While respondents are approximately split on whether they see themselves as a leader (51%), more people  (61%) think they have a talent for influencing people than not*"
   ]
  },
  {
   "cell_type": "code",
   "execution_count": 55,
   "metadata": {},
   "outputs": [
    {
     "name": "stdout",
     "output_type": "stream",
     "text": [
      "Frequency Table : Special  v/s Authority\n",
      "authority    no   yes\n",
      "special              \n",
      "no         4069  1905\n",
      "yes        2229  2894\n",
      "Proportion Table : Special v/s Authority\n",
      "authority        no       yes\n",
      "special                      \n",
      "no         0.366676  0.171668\n",
      "yes        0.200865  0.260791\n",
      "Marginal Proportions Authority\n",
      "authority\n",
      "no     0.567541\n",
      "yes    0.432459\n",
      "dtype: float64\n",
      "Marginal Proportions Special\n",
      "special\n",
      "no     0.538344\n",
      "yes    0.461656\n",
      "dtype: float64\n"
     ]
    }
   ],
   "source": [
    "# save the table of frequencies as special_authority_freq:\n",
    "special_authority_freq = pd.crosstab(npi.special, npi.authority)\n",
    "print('Frequency Table : Special  v/s Authority')\n",
    "print(special_authority_freq)\n",
    "# save the table of proportions as special_authority_prop:\n",
    "special_authority_prop = special_authority_freq/len(npi)\n",
    "print('Proportion Table : Special v/s Authority')\n",
    "print(special_authority_prop)\n",
    "# calculate and print authority_marginals\n",
    "authority_marginals = special_authority_prop.sum(axis=0)\n",
    "print('Marginal Proportions Authority')\n",
    "print(authority_marginals)\n",
    "# calculate and print special_marginals\n",
    "special_marginals = special_authority_prop.sum(axis=1)\n",
    "print('Marginal Proportions Special')\n",
    "print(special_marginals)"
   ]
  },
  {
   "cell_type": "markdown",
   "metadata": {},
   "source": [
    "*Inference : While 56% of people feel they do not like to have authority over others , they also think they are not Special*"
   ]
  },
  {
   "cell_type": "markdown",
   "metadata": {},
   "source": [
    "## Contingency Tables : Expected Propostions  \n",
    "In order to understand whether questions are associated, we can use the marginal proportions to create a contingency table of **expected proportions if there were no association between these variables**. To calculate these expected proportions, we need to multiply the marginal proportions for each combination of categories  "
   ]
  },
  {
   "cell_type": "code",
   "execution_count": 56,
   "metadata": {},
   "outputs": [
    {
     "data": {
      "text/plain": [
       "leader\n",
       "no     0.484365\n",
       "yes    0.515635\n",
       "dtype: float64"
      ]
     },
     "execution_count": 56,
     "metadata": {},
     "output_type": "execute_result"
    }
   ],
   "source": [
    "leader_marginals"
   ]
  },
  {
   "cell_type": "code",
   "execution_count": 57,
   "metadata": {},
   "outputs": [
    {
     "data": {
      "text/plain": [
       "influence\n",
       "no     0.388213\n",
       "yes    0.611787\n",
       "dtype: float64"
      ]
     },
     "execution_count": 57,
     "metadata": {},
     "output_type": "execute_result"
    }
   ],
   "source": [
    "influence_marginals"
   ]
  },
  {
   "attachments": {
    "EXPECTEDCONTINGENCY.png": {
     "image/png": "[encoded data removed]"
    }
   },
   "cell_type": "markdown",
   "metadata": {},
   "source": [
    "![EXPECTEDCONTINGENCY.png](attachment:EXPECTEDCONTINGENCY.png)"
   ]
  },
  {
   "cell_type": "markdown",
   "metadata": {},
   "source": [
    "These proportions can then be converted to frequencies by multiplying each one by the sample size (11097 for this data)"
   ]
  },
  {
   "cell_type": "code",
   "execution_count": 58,
   "metadata": {},
   "outputs": [
    {
     "data": {
      "text/plain": [
       "11097"
      ]
     },
     "execution_count": 58,
     "metadata": {},
     "output_type": "execute_result"
    }
   ],
   "source": [
    "len(npi)"
   ]
  },
  {
   "attachments": {
    "FINALCONTINGENCYEO.png": {
     "image/png": "[encoded data removed]"
    }
   },
   "cell_type": "markdown",
   "metadata": {},
   "source": [
    "![FINALCONTINGENCYEO.png](attachment:FINALCONTINGENCYEO.png)  \n",
    "\n",
    "This table now tells us that if there were no association between the leader and influence questions, we would expect 2087 people to answer no to both.  \n",
    "In python, we can calculate this table using the **chi2_contingency()** function from SciPy, by passing in the observed frequency table.This gives us 4 outputs chi2, pval, dof, expected. We will only look at \"expected\"."
   ]
  },
  {
   "cell_type": "code",
   "execution_count": 61,
   "metadata": {},
   "outputs": [
    {
     "name": "stdout",
     "output_type": "stream",
     "text": [
      "Expected Frequency\n",
      "[[2087. 2221.]\n",
      " [3288. 3501.]]\n"
     ]
    }
   ],
   "source": [
    "from scipy.stats import chi2_contingency\n",
    "chi2, pval, dof, expected = chi2_contingency(influence_leader_freq)\n",
    "print(\"Expected Frequency\")\n",
    "print(np.round(expected))"
   ]
  },
  {
   "cell_type": "markdown",
   "metadata": {},
   "source": [
    "Note that the ScyPy function returned the same expected frequencies as we calculated “by hand” above! Now that we have the expected contingency table if there’s no association, we can compare it to our observed contingency table"
   ]
  },
  {
   "cell_type": "code",
   "execution_count": 64,
   "metadata": {},
   "outputs": [
    {
     "name": "stdout",
     "output_type": "stream",
     "text": [
      "Expected Frequency\n",
      "[[2087. 2221.]\n",
      " [3288. 3501.]]\n",
      "Observed Frequency\n",
      "leader       no   yes\n",
      "influence            \n",
      "no         3015  1293\n",
      "yes        2360  4429\n"
     ]
    }
   ],
   "source": [
    "print(\"Expected Frequency\")\n",
    "print(np.round(expected))\n",
    "print(\"Observed Frequency\")\n",
    "print(influence_leader_freq)"
   ]
  },
  {
   "cell_type": "markdown",
   "metadata": {},
   "source": [
    "**The more that the expected and observed tables differ, the more sure we can be that the variables are associated.** In this example, we see some pretty big differences (eg., 3015 in the observed table compared to 2087 in the expected table). This provides additional evidence that these variables are associated"
   ]
  },
  {
   "cell_type": "code",
   "execution_count": 66,
   "metadata": {},
   "outputs": [
    {
     "name": "stdout",
     "output_type": "stream",
     "text": [
      "Observed Frequency:\n"
     ]
    },
    {
     "data": {
      "text/html": [
       "<div>\n",
       "<style scoped>\n",
       "    .dataframe tbody tr th:only-of-type {\n",
       "        vertical-align: middle;\n",
       "    }\n",
       "\n",
       "    .dataframe tbody tr th {\n",
       "        vertical-align: top;\n",
       "    }\n",
       "\n",
       "    .dataframe thead th {\n",
       "        text-align: right;\n",
       "    }\n",
       "</style>\n",
       "<table border=\"1\" class=\"dataframe\">\n",
       "  <thead>\n",
       "    <tr style=\"text-align: right;\">\n",
       "      <th>authority</th>\n",
       "      <th>no</th>\n",
       "      <th>yes</th>\n",
       "    </tr>\n",
       "    <tr>\n",
       "      <th>special</th>\n",
       "      <th></th>\n",
       "      <th></th>\n",
       "    </tr>\n",
       "  </thead>\n",
       "  <tbody>\n",
       "    <tr>\n",
       "      <th>no</th>\n",
       "      <td>4069</td>\n",
       "      <td>1905</td>\n",
       "    </tr>\n",
       "    <tr>\n",
       "      <th>yes</th>\n",
       "      <td>2229</td>\n",
       "      <td>2894</td>\n",
       "    </tr>\n",
       "  </tbody>\n",
       "</table>\n",
       "</div>"
      ],
      "text/plain": [
       "authority    no   yes\n",
       "special              \n",
       "no         4069  1905\n",
       "yes        2229  2894"
      ]
     },
     "execution_count": 66,
     "metadata": {},
     "output_type": "execute_result"
    }
   ],
   "source": [
    "# Observed Frequency Table : Special v/s Authority\n",
    "special_authority_freq = pd.crosstab(npi.special, npi.authority)\n",
    "print(\"Observed Frequency:\")\n",
    "# Calculate the expected contingency table if there's no association and save it as expected\n",
    "chi2, pval, dof, expected = chi2_contingency(special_authority_freq)"
   ]
  },
  {
   "cell_type": "code",
   "execution_count": 69,
   "metadata": {},
   "outputs": [
    {
     "name": "stdout",
     "output_type": "stream",
     "text": [
      "Expected Frequency\n",
      "[[3390. 2584.]\n",
      " [2908. 2215.]]\n",
      "Observed Frequency\n",
      "authority    no   yes\n",
      "special              \n",
      "no         4069  1905\n",
      "yes        2229  2894\n"
     ]
    }
   ],
   "source": [
    "# print out the expected frequency table\n",
    "print(\"Expected Frequency\")\n",
    "print(np.round(expected))\n",
    "# print out the observed frequency table\n",
    "print(\"Observed Frequency\")\n",
    "print(special_authority_freq)\n"
   ]
  },
  {
   "cell_type": "markdown",
   "metadata": {},
   "source": [
    "In this example, we see some pretty big differences (eg., 4069 in the observed table compared to 3390 in the expected table & 2894 in the observed table compared 2215 in the expected table). This provides additional evidence that these variables are associated."
   ]
  },
  {
   "attachments": {
    "image.png": {
     "image/png": "[encoded data removed]"
    }
   },
   "cell_type": "markdown",
   "metadata": {},
   "source": [
    "## The Chi-Square Statistic  \n",
    "In the previous exercise, we calculated a contingency table of expected frequencies if there were no association between the leader and influence questions. We then compared this to the observed contingency table. Because the tables looked somewhat different, we concluded that responses to these questions are probably associated.\n",
    "\n",
    "While we can inspect these tables visually, many data scientists use the Chi-Square statistic to summarize how different these two tables are. To calculate the Chi Square statistic, we simply find the squared difference between each value in the observed table and its’ corresponding value in the expected table; then add up those numbers:\n",
    "\n",
    "![image.png](attachment:image.png)\n",
    "\n",
    "O:Observed , E:Expected  \n",
    "The Chi-Square statistic is also the first output of the SciPy function chi2_contingency()"
   ]
  },
  {
   "cell_type": "code",
   "execution_count": 70,
   "metadata": {},
   "outputs": [
    {
     "name": "stdout",
     "output_type": "stream",
     "text": [
      "1307.8836807573769\n"
     ]
    }
   ],
   "source": [
    "from scipy.stats import chi2_contingency\n",
    "chi2, pval, dof, expected = chi2_contingency(influence_leader_freq)\n",
    "print(chi2)"
   ]
  },
  {
   "cell_type": "markdown",
   "metadata": {},
   "source": [
    "The interpretation of the Chi-Square statistic is dependent on the size of the contingency table.   \n",
    "**For a 2x2 table (like the one we’ve been investigating), a Chi-Square statistic larger than around 4 would strongly suggest an association between the variables.** In this example, our Chi-Square statistic is much larger than that — 1307.88! This adds to our evidence that the variables are highly associated"
   ]
  },
  {
   "cell_type": "code",
   "execution_count": 71,
   "metadata": {},
   "outputs": [],
   "source": [
    "# contingency table special v/s authority\n",
    "special_authority_freq = pd.crosstab(npi.special, npi.authority)\n",
    "\n",
    "# chisquare statistic and expected frequencies\n",
    "chi2, pval, dof, expected = chi2_contingency(influence_leader_freq)"
   ]
  },
  {
   "cell_type": "code",
   "execution_count": 74,
   "metadata": {},
   "outputs": [
    {
     "name": "stdout",
     "output_type": "stream",
     "text": [
      "Observed\n",
      "authority    no   yes\n",
      "special              \n",
      "no         4069  1905\n",
      "yes        2229  2894\n",
      "Expected\n",
      "[[2087. 2221.]\n",
      " [3288. 3501.]]\n",
      "Chi Square\n",
      "1307.8836807573769\n"
     ]
    }
   ],
   "source": [
    "# print observed frequencies\n",
    "print(\"Observed\")\n",
    "print(special_authority_freq)\n",
    "# print expected frequencies\n",
    "print(\"Expected\")\n",
    "print(np.round(expected))\n",
    "# print chi-square statistic\n",
    "print(\"Chi Square\")\n",
    "print(chi2)"
   ]
  },
  {
   "cell_type": "markdown",
   "metadata": {},
   "source": [
    "*Inference : Chisquare 1307 significantly > 4 implying there is evidence that \"Special\" and \"Authority\" are  ehighly associated*"
   ]
  },
  {
   "cell_type": "markdown",
   "metadata": {},
   "source": [
    "**Association between Leader and Authority**"
   ]
  },
  {
   "cell_type": "code",
   "execution_count": 76,
   "metadata": {},
   "outputs": [],
   "source": [
    "# contingency table leader v/s authority\n",
    "leader_authority_freq = pd.crosstab(npi.leader, npi.authority)\n",
    "\n",
    "# chisquare statistic and expected frequencies\n",
    "chila2, pval, dof, expectedla2 = chi2_contingency(leader_authority_freq)"
   ]
  },
  {
   "cell_type": "code",
   "execution_count": 77,
   "metadata": {},
   "outputs": [
    {
     "data": {
      "text/html": [
       "<div>\n",
       "<style scoped>\n",
       "    .dataframe tbody tr th:only-of-type {\n",
       "        vertical-align: middle;\n",
       "    }\n",
       "\n",
       "    .dataframe tbody tr th {\n",
       "        vertical-align: top;\n",
       "    }\n",
       "\n",
       "    .dataframe thead th {\n",
       "        text-align: right;\n",
       "    }\n",
       "</style>\n",
       "<table border=\"1\" class=\"dataframe\">\n",
       "  <thead>\n",
       "    <tr style=\"text-align: right;\">\n",
       "      <th>authority</th>\n",
       "      <th>no</th>\n",
       "      <th>yes</th>\n",
       "    </tr>\n",
       "    <tr>\n",
       "      <th>leader</th>\n",
       "      <th></th>\n",
       "      <th></th>\n",
       "    </tr>\n",
       "  </thead>\n",
       "  <tbody>\n",
       "    <tr>\n",
       "      <th>no</th>\n",
       "      <td>3820</td>\n",
       "      <td>1555</td>\n",
       "    </tr>\n",
       "    <tr>\n",
       "      <th>yes</th>\n",
       "      <td>2478</td>\n",
       "      <td>3244</td>\n",
       "    </tr>\n",
       "  </tbody>\n",
       "</table>\n",
       "</div>"
      ],
      "text/plain": [
       "authority    no   yes\n",
       "leader               \n",
       "no         3820  1555\n",
       "yes        2478  3244"
      ]
     },
     "execution_count": 77,
     "metadata": {},
     "output_type": "execute_result"
    }
   ],
   "source": [
    "# Observed\n",
    "leader_authority_freq"
   ]
  },
  {
   "cell_type": "code",
   "execution_count": 80,
   "metadata": {},
   "outputs": [
    {
     "data": {
      "text/plain": [
       "array([[3051., 2324.],\n",
       "       [3247., 2475.]])"
      ]
     },
     "execution_count": 80,
     "metadata": {},
     "output_type": "execute_result"
    }
   ],
   "source": [
    "# Expected\n",
    "np.round(expectedla2)"
   ]
  },
  {
   "cell_type": "code",
   "execution_count": 81,
   "metadata": {},
   "outputs": [
    {
     "data": {
      "text/plain": [
       "869.2684782761069"
      ]
     },
     "execution_count": 81,
     "metadata": {},
     "output_type": "execute_result"
    }
   ],
   "source": [
    "# Chi Square\n",
    "chila2"
   ]
  },
  {
   "cell_type": "markdown",
   "metadata": {},
   "source": [
    "*Inference : Chisquare 1307 significantly > 4 implying there is evidence that \"Leadership\" and \"Authority\" are ehighly associated*"
   ]
  },
  {
   "cell_type": "markdown",
   "metadata": {},
   "source": [
    "## Project NBA Trends  \n",
    "In this project, you’ll analyze data from the NBA (National Basketball Association) and explore possible associations.\n",
    "\n",
    "This data was originally sourced from 538’s Analysis of the Complete History Of The NBA and contains the original, unmodified data from Basketball Reference as well as several additional variables 538 added to perform their own analysis.\n",
    "\n",
    "For this project we’ve limited the data to just 5 teams and 10 columns (plus one constructed column, point_diff, the difference between pts and opp_pts)."
   ]
  },
  {
   "cell_type": "markdown",
   "metadata": {},
   "source": [
    "**Analyzing relationships between Quant and Categorical**"
   ]
  },
  {
   "cell_type": "code",
   "execution_count": 85,
   "metadata": {},
   "outputs": [],
   "source": [
    "# import packages\n",
    "import pandas as pd\n",
    "import numpy as np\n",
    "np.set_printoptions(suppress=True, precision = 2)\n",
    "import matplotlib.pyplot as plt\n",
    "import seaborn as sns\n",
    "%matplotlib inline\n",
    "sns.set()\n",
    "from scipy.stats import pearsonr, chi2_contingency\n"
   ]
  },
  {
   "cell_type": "code",
   "execution_count": 86,
   "metadata": {},
   "outputs": [
    {
     "data": {
      "text/html": [
       "<div>\n",
       "<style scoped>\n",
       "    .dataframe tbody tr th:only-of-type {\n",
       "        vertical-align: middle;\n",
       "    }\n",
       "\n",
       "    .dataframe tbody tr th {\n",
       "        vertical-align: top;\n",
       "    }\n",
       "\n",
       "    .dataframe thead th {\n",
       "        text-align: right;\n",
       "    }\n",
       "</style>\n",
       "<table border=\"1\" class=\"dataframe\">\n",
       "  <thead>\n",
       "    <tr style=\"text-align: right;\">\n",
       "      <th></th>\n",
       "      <th>0</th>\n",
       "      <th>1</th>\n",
       "      <th>2</th>\n",
       "      <th>3</th>\n",
       "      <th>4</th>\n",
       "    </tr>\n",
       "  </thead>\n",
       "  <tbody>\n",
       "    <tr>\n",
       "      <th>game_id</th>\n",
       "      <td>194611010TRH</td>\n",
       "      <td>194611020CHS</td>\n",
       "      <td>194611020PRO</td>\n",
       "      <td>194611050BOS</td>\n",
       "      <td>194611070STB</td>\n",
       "    </tr>\n",
       "    <tr>\n",
       "      <th>year_id</th>\n",
       "      <td>1947</td>\n",
       "      <td>1947</td>\n",
       "      <td>1947</td>\n",
       "      <td>1947</td>\n",
       "      <td>1947</td>\n",
       "    </tr>\n",
       "    <tr>\n",
       "      <th>fran_id</th>\n",
       "      <td>Knicks</td>\n",
       "      <td>Knicks</td>\n",
       "      <td>Celtics</td>\n",
       "      <td>Celtics</td>\n",
       "      <td>Knicks</td>\n",
       "    </tr>\n",
       "    <tr>\n",
       "      <th>opp_fran</th>\n",
       "      <td>Huskies</td>\n",
       "      <td>Stags</td>\n",
       "      <td>Steamrollers</td>\n",
       "      <td>Stags</td>\n",
       "      <td>Bombers</td>\n",
       "    </tr>\n",
       "    <tr>\n",
       "      <th>game_location</th>\n",
       "      <td>A</td>\n",
       "      <td>A</td>\n",
       "      <td>A</td>\n",
       "      <td>H</td>\n",
       "      <td>A</td>\n",
       "    </tr>\n",
       "    <tr>\n",
       "      <th>is_playoffs</th>\n",
       "      <td>0</td>\n",
       "      <td>0</td>\n",
       "      <td>0</td>\n",
       "      <td>0</td>\n",
       "      <td>0</td>\n",
       "    </tr>\n",
       "    <tr>\n",
       "      <th>pts</th>\n",
       "      <td>68</td>\n",
       "      <td>47</td>\n",
       "      <td>53</td>\n",
       "      <td>55</td>\n",
       "      <td>68</td>\n",
       "    </tr>\n",
       "    <tr>\n",
       "      <th>opp_pts</th>\n",
       "      <td>66</td>\n",
       "      <td>63</td>\n",
       "      <td>59</td>\n",
       "      <td>57</td>\n",
       "      <td>63</td>\n",
       "    </tr>\n",
       "    <tr>\n",
       "      <th>game_result</th>\n",
       "      <td>W</td>\n",
       "      <td>L</td>\n",
       "      <td>L</td>\n",
       "      <td>L</td>\n",
       "      <td>W</td>\n",
       "    </tr>\n",
       "    <tr>\n",
       "      <th>forecast</th>\n",
       "      <td>0.359935</td>\n",
       "      <td>0.368899</td>\n",
       "      <td>0.359935</td>\n",
       "      <td>0.620204</td>\n",
       "      <td>0.33929</td>\n",
       "    </tr>\n",
       "    <tr>\n",
       "      <th>point_diff</th>\n",
       "      <td>2</td>\n",
       "      <td>-16</td>\n",
       "      <td>-6</td>\n",
       "      <td>-2</td>\n",
       "      <td>5</td>\n",
       "    </tr>\n",
       "  </tbody>\n",
       "</table>\n",
       "</div>"
      ],
      "text/plain": [
       "                          0             1             2             3  \\\n",
       "game_id        194611010TRH  194611020CHS  194611020PRO  194611050BOS   \n",
       "year_id                1947          1947          1947          1947   \n",
       "fran_id              Knicks        Knicks       Celtics       Celtics   \n",
       "opp_fran            Huskies         Stags  Steamrollers         Stags   \n",
       "game_location             A             A             A             H   \n",
       "is_playoffs               0             0             0             0   \n",
       "pts                      68            47            53            55   \n",
       "opp_pts                  66            63            59            57   \n",
       "game_result               W             L             L             L   \n",
       "forecast           0.359935      0.368899      0.359935      0.620204   \n",
       "point_diff                2           -16            -6            -2   \n",
       "\n",
       "                          4  \n",
       "game_id        194611070STB  \n",
       "year_id                1947  \n",
       "fran_id              Knicks  \n",
       "opp_fran            Bombers  \n",
       "game_location             A  \n",
       "is_playoffs               0  \n",
       "pts                      68  \n",
       "opp_pts                  63  \n",
       "game_result               W  \n",
       "forecast            0.33929  \n",
       "point_diff                5  "
      ]
     },
     "execution_count": 86,
     "metadata": {},
     "output_type": "execute_result"
    }
   ],
   "source": [
    "# import data\n",
    "nba = pd.read_csv('nba_trends.csv')\n",
    "nba.head().T"
   ]
  },
  {
   "cell_type": "markdown",
   "metadata": {},
   "source": [
    "Create subsets for games from 2010 (named nba_2010) and games from 2014 (named nba_2014)"
   ]
  },
  {
   "cell_type": "code",
   "execution_count": 87,
   "metadata": {},
   "outputs": [],
   "source": [
    "# Subset Data to 2010 Season, 2014 Season\n",
    "nba_2010 = nba[nba.year_id == 2010]\n",
    "nba_2014 = nba[nba.year_id == 2014]"
   ]
  },
  {
   "cell_type": "code",
   "execution_count": 88,
   "metadata": {},
   "outputs": [
    {
     "name": "stdout",
     "output_type": "stream",
     "text": [
      "<class 'pandas.core.frame.DataFrame'>\n",
      "Int64Index: 464 entries, 23468 to 23931\n",
      "Data columns (total 11 columns):\n",
      " #   Column         Non-Null Count  Dtype  \n",
      "---  ------         --------------  -----  \n",
      " 0   game_id        464 non-null    object \n",
      " 1   year_id        464 non-null    int64  \n",
      " 2   fran_id        464 non-null    object \n",
      " 3   opp_fran       464 non-null    object \n",
      " 4   game_location  464 non-null    object \n",
      " 5   is_playoffs    464 non-null    int64  \n",
      " 6   pts            464 non-null    int64  \n",
      " 7   opp_pts        464 non-null    int64  \n",
      " 8   game_result    464 non-null    object \n",
      " 9   forecast       464 non-null    float64\n",
      " 10  point_diff     464 non-null    int64  \n",
      "dtypes: float64(1), int64(5), object(5)\n",
      "memory usage: 43.5+ KB\n"
     ]
    }
   ],
   "source": [
    "nba_2014.info()"
   ]
  },
  {
   "cell_type": "code",
   "execution_count": 89,
   "metadata": {},
   "outputs": [
    {
     "name": "stdout",
     "output_type": "stream",
     "text": [
      "<class 'pandas.core.frame.DataFrame'>\n",
      "Int64Index: 450 entries, 21717 to 22166\n",
      "Data columns (total 11 columns):\n",
      " #   Column         Non-Null Count  Dtype  \n",
      "---  ------         --------------  -----  \n",
      " 0   game_id        450 non-null    object \n",
      " 1   year_id        450 non-null    int64  \n",
      " 2   fran_id        450 non-null    object \n",
      " 3   opp_fran       450 non-null    object \n",
      " 4   game_location  450 non-null    object \n",
      " 5   is_playoffs    450 non-null    int64  \n",
      " 6   pts            450 non-null    int64  \n",
      " 7   opp_pts        450 non-null    int64  \n",
      " 8   game_result    450 non-null    object \n",
      " 9   forecast       450 non-null    float64\n",
      " 10  point_diff     450 non-null    int64  \n",
      "dtypes: float64(1), int64(5), object(5)\n",
      "memory usage: 42.2+ KB\n"
     ]
    }
   ],
   "source": [
    "nba_2010.info()"
   ]
  },
  {
   "cell_type": "code",
   "execution_count": null,
   "metadata": {},
   "outputs": [],
   "source": []
  },
  {
   "cell_type": "markdown",
   "metadata": {},
   "source": [
    "**Task 1 : Suppose you want to compare the knicks to the nets with respect to points earned per game. Using the pts column from the nba_2010 DataFrame, create two series named knicks_pts (fran_id = \"Knicks\") and nets_pts(fran_id = \"Nets\") that represent the points each team has scored in their games**"
   ]
  },
  {
   "cell_type": "code",
   "execution_count": 90,
   "metadata": {},
   "outputs": [
    {
     "data": {
      "text/html": [
       "<div>\n",
       "<style scoped>\n",
       "    .dataframe tbody tr th:only-of-type {\n",
       "        vertical-align: middle;\n",
       "    }\n",
       "\n",
       "    .dataframe tbody tr th {\n",
       "        vertical-align: top;\n",
       "    }\n",
       "\n",
       "    .dataframe thead th {\n",
       "        text-align: right;\n",
       "    }\n",
       "</style>\n",
       "<table border=\"1\" class=\"dataframe\">\n",
       "  <thead>\n",
       "    <tr style=\"text-align: right;\">\n",
       "      <th></th>\n",
       "      <th>game_id</th>\n",
       "      <th>year_id</th>\n",
       "      <th>fran_id</th>\n",
       "      <th>opp_fran</th>\n",
       "      <th>game_location</th>\n",
       "      <th>is_playoffs</th>\n",
       "      <th>pts</th>\n",
       "      <th>opp_pts</th>\n",
       "      <th>game_result</th>\n",
       "      <th>forecast</th>\n",
       "      <th>point_diff</th>\n",
       "    </tr>\n",
       "  </thead>\n",
       "  <tbody>\n",
       "    <tr>\n",
       "      <th>23468</th>\n",
       "      <td>201310300CLE</td>\n",
       "      <td>2014</td>\n",
       "      <td>Nets</td>\n",
       "      <td>Cavaliers</td>\n",
       "      <td>A</td>\n",
       "      <td>0</td>\n",
       "      <td>94</td>\n",
       "      <td>98</td>\n",
       "      <td>L</td>\n",
       "      <td>0.611981</td>\n",
       "      <td>-4</td>\n",
       "    </tr>\n",
       "    <tr>\n",
       "      <th>23469</th>\n",
       "      <td>201310300NYK</td>\n",
       "      <td>2014</td>\n",
       "      <td>Knicks</td>\n",
       "      <td>Bucks</td>\n",
       "      <td>H</td>\n",
       "      <td>0</td>\n",
       "      <td>90</td>\n",
       "      <td>83</td>\n",
       "      <td>W</td>\n",
       "      <td>0.793150</td>\n",
       "      <td>7</td>\n",
       "    </tr>\n",
       "    <tr>\n",
       "      <th>23470</th>\n",
       "      <td>201310300SAS</td>\n",
       "      <td>2014</td>\n",
       "      <td>Spurs</td>\n",
       "      <td>Grizzlies</td>\n",
       "      <td>H</td>\n",
       "      <td>0</td>\n",
       "      <td>101</td>\n",
       "      <td>94</td>\n",
       "      <td>W</td>\n",
       "      <td>0.692980</td>\n",
       "      <td>7</td>\n",
       "    </tr>\n",
       "    <tr>\n",
       "      <th>23471</th>\n",
       "      <td>201310300TOR</td>\n",
       "      <td>2014</td>\n",
       "      <td>Celtics</td>\n",
       "      <td>Raptors</td>\n",
       "      <td>A</td>\n",
       "      <td>0</td>\n",
       "      <td>87</td>\n",
       "      <td>93</td>\n",
       "      <td>L</td>\n",
       "      <td>0.361233</td>\n",
       "      <td>-6</td>\n",
       "    </tr>\n",
       "    <tr>\n",
       "      <th>23472</th>\n",
       "      <td>201310300UTA</td>\n",
       "      <td>2014</td>\n",
       "      <td>Thunder</td>\n",
       "      <td>Jazz</td>\n",
       "      <td>A</td>\n",
       "      <td>0</td>\n",
       "      <td>101</td>\n",
       "      <td>98</td>\n",
       "      <td>W</td>\n",
       "      <td>0.526056</td>\n",
       "      <td>3</td>\n",
       "    </tr>\n",
       "  </tbody>\n",
       "</table>\n",
       "</div>"
      ],
      "text/plain": [
       "            game_id  year_id  fran_id   opp_fran game_location  is_playoffs  \\\n",
       "23468  201310300CLE     2014     Nets  Cavaliers             A            0   \n",
       "23469  201310300NYK     2014   Knicks      Bucks             H            0   \n",
       "23470  201310300SAS     2014    Spurs  Grizzlies             H            0   \n",
       "23471  201310300TOR     2014  Celtics    Raptors             A            0   \n",
       "23472  201310300UTA     2014  Thunder       Jazz             A            0   \n",
       "\n",
       "       pts  opp_pts game_result  forecast  point_diff  \n",
       "23468   94       98           L  0.611981          -4  \n",
       "23469   90       83           W  0.793150           7  \n",
       "23470  101       94           W  0.692980           7  \n",
       "23471   87       93           L  0.361233          -6  \n",
       "23472  101       98           W  0.526056           3  "
      ]
     },
     "execution_count": 90,
     "metadata": {},
     "output_type": "execute_result"
    }
   ],
   "source": [
    "nba_2014.head()"
   ]
  },
  {
   "cell_type": "code",
   "execution_count": 91,
   "metadata": {},
   "outputs": [
    {
     "data": {
      "text/html": [
       "<div>\n",
       "<style scoped>\n",
       "    .dataframe tbody tr th:only-of-type {\n",
       "        vertical-align: middle;\n",
       "    }\n",
       "\n",
       "    .dataframe tbody tr th {\n",
       "        vertical-align: top;\n",
       "    }\n",
       "\n",
       "    .dataframe thead th {\n",
       "        text-align: right;\n",
       "    }\n",
       "</style>\n",
       "<table border=\"1\" class=\"dataframe\">\n",
       "  <thead>\n",
       "    <tr style=\"text-align: right;\">\n",
       "      <th></th>\n",
       "      <th>game_id</th>\n",
       "      <th>year_id</th>\n",
       "      <th>fran_id</th>\n",
       "      <th>opp_fran</th>\n",
       "      <th>game_location</th>\n",
       "      <th>is_playoffs</th>\n",
       "      <th>pts</th>\n",
       "      <th>opp_pts</th>\n",
       "      <th>game_result</th>\n",
       "      <th>forecast</th>\n",
       "      <th>point_diff</th>\n",
       "    </tr>\n",
       "  </thead>\n",
       "  <tbody>\n",
       "    <tr>\n",
       "      <th>21717</th>\n",
       "      <td>200910270CLE</td>\n",
       "      <td>2010</td>\n",
       "      <td>Celtics</td>\n",
       "      <td>Cavaliers</td>\n",
       "      <td>A</td>\n",
       "      <td>0</td>\n",
       "      <td>95</td>\n",
       "      <td>89</td>\n",
       "      <td>W</td>\n",
       "      <td>0.277472</td>\n",
       "      <td>6</td>\n",
       "    </tr>\n",
       "    <tr>\n",
       "      <th>21718</th>\n",
       "      <td>200910280BOS</td>\n",
       "      <td>2010</td>\n",
       "      <td>Celtics</td>\n",
       "      <td>Hornets</td>\n",
       "      <td>H</td>\n",
       "      <td>0</td>\n",
       "      <td>92</td>\n",
       "      <td>59</td>\n",
       "      <td>W</td>\n",
       "      <td>0.814619</td>\n",
       "      <td>33</td>\n",
       "    </tr>\n",
       "    <tr>\n",
       "      <th>21719</th>\n",
       "      <td>200910280MIA</td>\n",
       "      <td>2010</td>\n",
       "      <td>Knicks</td>\n",
       "      <td>Heat</td>\n",
       "      <td>A</td>\n",
       "      <td>0</td>\n",
       "      <td>93</td>\n",
       "      <td>115</td>\n",
       "      <td>L</td>\n",
       "      <td>0.258755</td>\n",
       "      <td>-22</td>\n",
       "    </tr>\n",
       "    <tr>\n",
       "      <th>21720</th>\n",
       "      <td>200910280MIN</td>\n",
       "      <td>2010</td>\n",
       "      <td>Nets</td>\n",
       "      <td>Timberwolves</td>\n",
       "      <td>A</td>\n",
       "      <td>0</td>\n",
       "      <td>93</td>\n",
       "      <td>95</td>\n",
       "      <td>L</td>\n",
       "      <td>0.475155</td>\n",
       "      <td>-2</td>\n",
       "    </tr>\n",
       "    <tr>\n",
       "      <th>21721</th>\n",
       "      <td>200910280OKC</td>\n",
       "      <td>2010</td>\n",
       "      <td>Thunder</td>\n",
       "      <td>Kings</td>\n",
       "      <td>H</td>\n",
       "      <td>0</td>\n",
       "      <td>102</td>\n",
       "      <td>89</td>\n",
       "      <td>W</td>\n",
       "      <td>0.716764</td>\n",
       "      <td>13</td>\n",
       "    </tr>\n",
       "  </tbody>\n",
       "</table>\n",
       "</div>"
      ],
      "text/plain": [
       "            game_id  year_id  fran_id      opp_fran game_location  \\\n",
       "21717  200910270CLE     2010  Celtics     Cavaliers             A   \n",
       "21718  200910280BOS     2010  Celtics       Hornets             H   \n",
       "21719  200910280MIA     2010   Knicks          Heat             A   \n",
       "21720  200910280MIN     2010     Nets  Timberwolves             A   \n",
       "21721  200910280OKC     2010  Thunder         Kings             H   \n",
       "\n",
       "       is_playoffs  pts  opp_pts game_result  forecast  point_diff  \n",
       "21717            0   95       89           W  0.277472           6  \n",
       "21718            0   92       59           W  0.814619          33  \n",
       "21719            0   93      115           L  0.258755         -22  \n",
       "21720            0   93       95           L  0.475155          -2  \n",
       "21721            0  102       89           W  0.716764          13  "
      ]
     },
     "execution_count": 91,
     "metadata": {},
     "output_type": "execute_result"
    }
   ],
   "source": [
    "nba_2010.head()"
   ]
  },
  {
   "cell_type": "code",
   "execution_count": 92,
   "metadata": {},
   "outputs": [],
   "source": [
    "knicks_pts = nba_2010.pts[nba.fran_id=='Knicks']\n",
    "nets_pts = nba_2010.pts[nba.fran_id=='Nets']"
   ]
  },
  {
   "cell_type": "markdown",
   "metadata": {},
   "source": [
    "**Task 2 : Calculate the difference between the two teams’ average points scored and save the result as diff_means_2010. Based on this value, do you think fran_id and pts are associated? Why or why not?**"
   ]
  },
  {
   "cell_type": "code",
   "execution_count": 95,
   "metadata": {},
   "outputs": [
    {
     "name": "stdout",
     "output_type": "stream",
     "text": [
      "Average Points Scored by Knicks in 2010 : 102.10975609756098\n",
      "Average Points Scored by Nets in 2010 : 92.3780487804878\n",
      "Difference in Average Points Scored in 2010 :9.731707317073173\n"
     ]
    }
   ],
   "source": [
    "knicks_mean = np.mean(knicks_pts)\n",
    "nets_mean = np.mean(nets_pts)\n",
    "diff_means_2010 = knicks_mean - nets_mean\n",
    "\n",
    "print(\"Average Points Scored by Knicks in 2010 : \" + str(knicks_mean))\n",
    "print(\"Average Points Scored by Nets in 2010 : \" + str(nets_mean))\n",
    "print(\"Difference in Average Points Scored in 2010 :\" + str(diff_means_2010))      "
   ]
  },
  {
   "cell_type": "markdown",
   "metadata": {},
   "source": [
    "*Inference : There is only a 10 point difference in means , which is marginal and cannot be used as a statistic to compare performance of Knicks and Nets in 2010*"
   ]
  },
  {
   "cell_type": "markdown",
   "metadata": {},
   "source": [
    "**Task 3: Create a set of overlapping histograms that can be used to compare the points scored for the Knicks compared to the Nets**"
   ]
  },
  {
   "cell_type": "code",
   "execution_count": 99,
   "metadata": {},
   "outputs": [
    {
     "data": {
      "image/png": "[encoded data removed]",
      "text/plain": [
       "<Figure size 432x288 with 1 Axes>"
      ]
     },
     "metadata": {},
     "output_type": "display_data"
    }
   ],
   "source": [
    "fig, ax = plt.subplots(1, 1)\n",
    "ax.hist(knicks_pts, alpha=0.5, label='Knicks' , density = True , color=\"blue\")\n",
    "ax.hist(nets_pts, alpha=0.5, label='Nets' , density = True , color = \"red\")\n",
    "ax.legend(loc='upper right')\n",
    "plt.show();"
   ]
  },
  {
   "cell_type": "markdown",
   "metadata": {},
   "source": [
    "*Inference : Distributions fairly overlap excepting where scores are > 110 points*"
   ]
  },
  {
   "cell_type": "markdown",
   "metadata": {},
   "source": [
    "**Task 4 : Compare points scored in 2014**"
   ]
  },
  {
   "cell_type": "code",
   "execution_count": 100,
   "metadata": {},
   "outputs": [],
   "source": [
    "# create subsets with year = 2014\n",
    "knicks_pts_2014 = nba_2014.pts[nba.fran_id=='Knicks']\n",
    "nets_pts_2014 = nba_2014.pts[nba.fran_id=='Nets']"
   ]
  },
  {
   "cell_type": "code",
   "execution_count": 102,
   "metadata": {},
   "outputs": [
    {
     "name": "stdout",
     "output_type": "stream",
     "text": [
      "23469     90\n",
      "23473     81\n",
      "23480    100\n",
      "23486     97\n",
      "23490    101\n",
      "Name: pts, dtype: int64\n",
      "23468     94\n",
      "23475    101\n",
      "23482     86\n",
      "23484    104\n",
      "23494    108\n",
      "Name: pts, dtype: int64\n"
     ]
    }
   ],
   "source": [
    "# view top 5 rows\n",
    "print(knicks_pts_2014.head())\n",
    "print(nets_pts_2014.head())"
   ]
  },
  {
   "cell_type": "code",
   "execution_count": 103,
   "metadata": {},
   "outputs": [
    {
     "name": "stdout",
     "output_type": "stream",
     "text": [
      "Average Points Scored by Knicks in 2014 : 98.58536585365853\n",
      "Average Points Scored by Nets in 2014 : 98.13829787234043\n",
      "Difference in Average Points Scored in 2014 :0.44706798131809933\n"
     ]
    }
   ],
   "source": [
    "# calculate average scores and difference in average scores for 2014\n",
    "knicks_mean_2014 = np.mean(knicks_pts_2014)\n",
    "nets_mean_2014 = np.mean(nets_pts_2014)\n",
    "diff_means_2014 = knicks_mean_2014 - nets_mean_2014\n",
    "\n",
    "print(\"Average Points Scored by Knicks in 2014 : \" + str(knicks_mean_2014))\n",
    "print(\"Average Points Scored by Nets in 2014 : \" + str(nets_mean_2014))\n",
    "print(\"Difference in Average Points Scored in 2014 :\" + str(diff_means_2014)) "
   ]
  },
  {
   "cell_type": "markdown",
   "metadata": {},
   "source": [
    "*Inference : There is only 0.5 point difference in means implying performance of Knicks and Nets in 2014 are similar*"
   ]
  },
  {
   "cell_type": "code",
   "execution_count": 104,
   "metadata": {},
   "outputs": [
    {
     "data": {
      "image/png": "[encoded data removed]",
      "text/plain": [
       "<Figure size 432x288 with 1 Axes>"
      ]
     },
     "metadata": {},
     "output_type": "display_data"
    }
   ],
   "source": [
    "# plot the overlapping histograms knicks and nest 2014\n",
    "fig, ax = plt.subplots(1, 1)\n",
    "ax.hist(knicks_pts_2014, alpha=0.5, label='Knicks-2014' , density = True , color=\"blue\")\n",
    "ax.hist(nets_pts_2014, alpha=0.5, label='Nets-2014' , density = True , color = \"red\")\n",
    "ax.legend(loc='upper right')\n",
    "plt.show();"
   ]
  },
  {
   "cell_type": "markdown",
   "metadata": {},
   "source": [
    "*Inference : Distributions fairly overlap excepting there is a spike in 105 points for Nicks implying they have scored many games with 105 points*"
   ]
  },
  {
   "cell_type": "markdown",
   "metadata": {},
   "source": [
    "**Task 4: Using nba_2010, generate side-by-side boxplots with points scored (pts) on the y-axis and team (fran_id) on the x-axis. Is there any overlap between the boxes? Does this chart suggest that fran_id and pts are associated? Which pairs of teams, if any, earn different average scores per game?**"
   ]
  },
  {
   "cell_type": "code",
   "execution_count": 106,
   "metadata": {},
   "outputs": [
    {
     "data": {
      "text/html": [
       "<div>\n",
       "<style scoped>\n",
       "    .dataframe tbody tr th:only-of-type {\n",
       "        vertical-align: middle;\n",
       "    }\n",
       "\n",
       "    .dataframe tbody tr th {\n",
       "        vertical-align: top;\n",
       "    }\n",
       "\n",
       "    .dataframe thead th {\n",
       "        text-align: right;\n",
       "    }\n",
       "</style>\n",
       "<table border=\"1\" class=\"dataframe\">\n",
       "  <thead>\n",
       "    <tr style=\"text-align: right;\">\n",
       "      <th></th>\n",
       "      <th>game_id</th>\n",
       "      <th>year_id</th>\n",
       "      <th>fran_id</th>\n",
       "      <th>opp_fran</th>\n",
       "      <th>game_location</th>\n",
       "      <th>is_playoffs</th>\n",
       "      <th>pts</th>\n",
       "      <th>opp_pts</th>\n",
       "      <th>game_result</th>\n",
       "      <th>forecast</th>\n",
       "      <th>point_diff</th>\n",
       "    </tr>\n",
       "  </thead>\n",
       "  <tbody>\n",
       "    <tr>\n",
       "      <th>21717</th>\n",
       "      <td>200910270CLE</td>\n",
       "      <td>2010</td>\n",
       "      <td>Celtics</td>\n",
       "      <td>Cavaliers</td>\n",
       "      <td>A</td>\n",
       "      <td>0</td>\n",
       "      <td>95</td>\n",
       "      <td>89</td>\n",
       "      <td>W</td>\n",
       "      <td>0.277472</td>\n",
       "      <td>6</td>\n",
       "    </tr>\n",
       "    <tr>\n",
       "      <th>21718</th>\n",
       "      <td>200910280BOS</td>\n",
       "      <td>2010</td>\n",
       "      <td>Celtics</td>\n",
       "      <td>Hornets</td>\n",
       "      <td>H</td>\n",
       "      <td>0</td>\n",
       "      <td>92</td>\n",
       "      <td>59</td>\n",
       "      <td>W</td>\n",
       "      <td>0.814619</td>\n",
       "      <td>33</td>\n",
       "    </tr>\n",
       "    <tr>\n",
       "      <th>21719</th>\n",
       "      <td>200910280MIA</td>\n",
       "      <td>2010</td>\n",
       "      <td>Knicks</td>\n",
       "      <td>Heat</td>\n",
       "      <td>A</td>\n",
       "      <td>0</td>\n",
       "      <td>93</td>\n",
       "      <td>115</td>\n",
       "      <td>L</td>\n",
       "      <td>0.258755</td>\n",
       "      <td>-22</td>\n",
       "    </tr>\n",
       "    <tr>\n",
       "      <th>21720</th>\n",
       "      <td>200910280MIN</td>\n",
       "      <td>2010</td>\n",
       "      <td>Nets</td>\n",
       "      <td>Timberwolves</td>\n",
       "      <td>A</td>\n",
       "      <td>0</td>\n",
       "      <td>93</td>\n",
       "      <td>95</td>\n",
       "      <td>L</td>\n",
       "      <td>0.475155</td>\n",
       "      <td>-2</td>\n",
       "    </tr>\n",
       "    <tr>\n",
       "      <th>21721</th>\n",
       "      <td>200910280OKC</td>\n",
       "      <td>2010</td>\n",
       "      <td>Thunder</td>\n",
       "      <td>Kings</td>\n",
       "      <td>H</td>\n",
       "      <td>0</td>\n",
       "      <td>102</td>\n",
       "      <td>89</td>\n",
       "      <td>W</td>\n",
       "      <td>0.716764</td>\n",
       "      <td>13</td>\n",
       "    </tr>\n",
       "  </tbody>\n",
       "</table>\n",
       "</div>"
      ],
      "text/plain": [
       "            game_id  year_id  fran_id      opp_fran game_location  \\\n",
       "21717  200910270CLE     2010  Celtics     Cavaliers             A   \n",
       "21718  200910280BOS     2010  Celtics       Hornets             H   \n",
       "21719  200910280MIA     2010   Knicks          Heat             A   \n",
       "21720  200910280MIN     2010     Nets  Timberwolves             A   \n",
       "21721  200910280OKC     2010  Thunder         Kings             H   \n",
       "\n",
       "       is_playoffs  pts  opp_pts game_result  forecast  point_diff  \n",
       "21717            0   95       89           W  0.277472           6  \n",
       "21718            0   92       59           W  0.814619          33  \n",
       "21719            0   93      115           L  0.258755         -22  \n",
       "21720            0   93       95           L  0.475155          -2  \n",
       "21721            0  102       89           W  0.716764          13  "
      ]
     },
     "execution_count": 106,
     "metadata": {},
     "output_type": "execute_result"
    }
   ],
   "source": [
    "# 1st 5 rows\n",
    "nba_2010.head()"
   ]
  },
  {
   "cell_type": "code",
   "execution_count": 107,
   "metadata": {},
   "outputs": [
    {
     "data": {
      "image/png": "[encoded data removed]",
      "text/plain": [
       "<Figure size 432x288 with 1 Axes>"
      ]
     },
     "metadata": {},
     "output_type": "display_data"
    }
   ],
   "source": [
    "# box plot points v/s franchises\n",
    "sns.boxplot(x = nba_2010.fran_id, y = nba_2010.pts)\n",
    "plt.xlabel('Franchises')\n",
    "plt.ylabel('Points Scored')\n",
    "plt.show();"
   ]
  },
  {
   "cell_type": "markdown",
   "metadata": {},
   "source": [
    "*Inference :*  \n",
    "1. There is an overlap between boxes except Nets suggesting similar performances across teams other than Nets  \n",
    "2. Difference in \"Medians\" are evident across Franchises suggesting points and franchises maybe associated  \n",
    "3. Knicks and Thunders score higher averages per Game than the others"
   ]
  },
  {
   "cell_type": "markdown",
   "metadata": {},
   "source": [
    "**Analyzing relationships between Categorical variables**  \n",
    "The variable game_result indicates whether a team won a particular game ('W' stands for “win” and 'L' stands for “loss”). The variable game_location indicates whether a team was playing at home or away ('H' stands for “home” and 'A' stands for “away”). Do teams tend to win more games at home compared to away?\n",
    "\n",
    "1. Data scientists will often calculate a contingency table of frequencies to help them determine if categorical variables are associated. Calculate a table of frequencies that shows the counts of game_result and game_location.Save your result as location_result_freq and print your result. Based on this table, do you think the variables are associated?\n"
   ]
  },
  {
   "cell_type": "markdown",
   "metadata": {},
   "source": [
    "*Frequency Table : game_result v/s game_location*"
   ]
  },
  {
   "cell_type": "code",
   "execution_count": 108,
   "metadata": {},
   "outputs": [
    {
     "data": {
      "text/html": [
       "<div>\n",
       "<style scoped>\n",
       "    .dataframe tbody tr th:only-of-type {\n",
       "        vertical-align: middle;\n",
       "    }\n",
       "\n",
       "    .dataframe tbody tr th {\n",
       "        vertical-align: top;\n",
       "    }\n",
       "\n",
       "    .dataframe thead th {\n",
       "        text-align: right;\n",
       "    }\n",
       "</style>\n",
       "<table border=\"1\" class=\"dataframe\">\n",
       "  <thead>\n",
       "    <tr style=\"text-align: right;\">\n",
       "      <th>game_result</th>\n",
       "      <th>L</th>\n",
       "      <th>W</th>\n",
       "    </tr>\n",
       "    <tr>\n",
       "      <th>game_location</th>\n",
       "      <th></th>\n",
       "      <th></th>\n",
       "    </tr>\n",
       "  </thead>\n",
       "  <tbody>\n",
       "    <tr>\n",
       "      <th>A</th>\n",
       "      <td>133</td>\n",
       "      <td>92</td>\n",
       "    </tr>\n",
       "    <tr>\n",
       "      <th>H</th>\n",
       "      <td>105</td>\n",
       "      <td>120</td>\n",
       "    </tr>\n",
       "  </tbody>\n",
       "</table>\n",
       "</div>"
      ],
      "text/plain": [
       "game_result      L    W\n",
       "game_location          \n",
       "A              133   92\n",
       "H              105  120"
      ]
     },
     "execution_count": 108,
     "metadata": {},
     "output_type": "execute_result"
    }
   ],
   "source": [
    "location_result_freq = pd.crosstab(nba_2010.game_location ,nba_2010.game_result)\n",
    "location_result_freq"
   ]
  },
  {
   "cell_type": "markdown",
   "metadata": {},
   "source": [
    "*Inference : Maxium Wins are when playing at Home and Maximum Losses are when playing Away*"
   ]
  },
  {
   "cell_type": "markdown",
   "metadata": {},
   "source": [
    "2. Convert this table of frequencies to a table of proportions and save the result as location_result_proportions. Print your result"
   ]
  },
  {
   "cell_type": "markdown",
   "metadata": {},
   "source": [
    "*Table of Observed Proportions*"
   ]
  },
  {
   "cell_type": "code",
   "execution_count": 110,
   "metadata": {},
   "outputs": [
    {
     "data": {
      "text/html": [
       "<div>\n",
       "<style scoped>\n",
       "    .dataframe tbody tr th:only-of-type {\n",
       "        vertical-align: middle;\n",
       "    }\n",
       "\n",
       "    .dataframe tbody tr th {\n",
       "        vertical-align: top;\n",
       "    }\n",
       "\n",
       "    .dataframe thead th {\n",
       "        text-align: right;\n",
       "    }\n",
       "</style>\n",
       "<table border=\"1\" class=\"dataframe\">\n",
       "  <thead>\n",
       "    <tr style=\"text-align: right;\">\n",
       "      <th>game_result</th>\n",
       "      <th>L</th>\n",
       "      <th>W</th>\n",
       "    </tr>\n",
       "    <tr>\n",
       "      <th>game_location</th>\n",
       "      <th></th>\n",
       "      <th></th>\n",
       "    </tr>\n",
       "  </thead>\n",
       "  <tbody>\n",
       "    <tr>\n",
       "      <th>A</th>\n",
       "      <td>0.295556</td>\n",
       "      <td>0.204444</td>\n",
       "    </tr>\n",
       "    <tr>\n",
       "      <th>H</th>\n",
       "      <td>0.233333</td>\n",
       "      <td>0.266667</td>\n",
       "    </tr>\n",
       "  </tbody>\n",
       "</table>\n",
       "</div>"
      ],
      "text/plain": [
       "game_result           L         W\n",
       "game_location                    \n",
       "A              0.295556  0.204444\n",
       "H              0.233333  0.266667"
      ]
     },
     "execution_count": 110,
     "metadata": {},
     "output_type": "execute_result"
    }
   ],
   "source": [
    "location_result_proportions = location_result_freq/len(nba_2010)\n",
    "location_result_proportions"
   ]
  },
  {
   "cell_type": "markdown",
   "metadata": {},
   "source": [
    "*Inference : We observe largest proportion of Wins is \"Home\" and Largest proportion of Losses is \"Away\"*"
   ]
  },
  {
   "cell_type": "markdown",
   "metadata": {},
   "source": [
    "3. Using the contingency table created in the previous exercise , calculate the expected contingency table (if there were no association) and the Chi-Square statistic and print your results. Does the actual contingency table look similar to the expected table — or different? Based on this output, do you think there is an association between these variables?"
   ]
  },
  {
   "cell_type": "markdown",
   "metadata": {},
   "source": [
    "*Table of Observed Proportions*  \n",
    "--  We will use the chi2_contingency() function to see the expected table and Chi-Square statistic wherein the input to chi2_contingency is a contingency table of observed frequencies  \n",
    "-- We will review the Chi Square statistic and compare it with 4 (statistic for 2X2 Table)"
   ]
  },
  {
   "cell_type": "code",
   "execution_count": 114,
   "metadata": {},
   "outputs": [
    {
     "name": "stdout",
     "output_type": "stream",
     "text": [
      "Observed Frequencies\n",
      "game_result      L    W\n",
      "game_location          \n",
      "A              133   92\n",
      "H              105  120\n",
      "Expected Frequencies\n",
      "[[119. 106.]\n",
      " [119. 106.]]\n",
      "Chi Squared Statistic\n",
      "6.501704455367053\n"
     ]
    }
   ],
   "source": [
    "# apply chi2 test\n",
    "chi2, pval, dof, expected = chi2_contingency(location_result_freq)\n",
    "print(\"Observed Frequencies\")\n",
    "print(location_result_freq)\n",
    "print(\"Expected Frequencies\")\n",
    "print(expected)\n",
    "print(\"Chi Squared Statistic\")\n",
    "print(chi2)"
   ]
  },
  {
   "cell_type": "markdown",
   "metadata": {},
   "source": [
    "*Inference : Observed frequencies are comparable to frequencies both for Wins and Losses with Chi Squared value of 6.5 which is marginally > 4 indicating a moderate association between Location of Game Playes and Wins*"
   ]
  },
  {
   "cell_type": "markdown",
   "metadata": {},
   "source": [
    "**Analyzing Relationships Between Quantitative Variables**  \n",
    "For each game, 538 has calculated the probability that each team will win the game. In the data, this is saved as forecast. The point_diff column gives the margin of victory/defeat for each team (positive values mean that the team won; negative values mean that they lost). Did teams with a higher probability of winning (according to 538) also tend to win games by more points?\n",
    "\n",
    "1. Using nba_2010, calculate the covariance between forecast (538’s projected win probability) and point_diff (the margin of victory/defeat) in the dataset.Save and print your result.Looking at the matrix, what is the covariance between these two variables?"
   ]
  },
  {
   "cell_type": "code",
   "execution_count": 117,
   "metadata": {},
   "outputs": [
    {
     "data": {
      "text/html": [
       "<div>\n",
       "<style scoped>\n",
       "    .dataframe tbody tr th:only-of-type {\n",
       "        vertical-align: middle;\n",
       "    }\n",
       "\n",
       "    .dataframe tbody tr th {\n",
       "        vertical-align: top;\n",
       "    }\n",
       "\n",
       "    .dataframe thead th {\n",
       "        text-align: right;\n",
       "    }\n",
       "</style>\n",
       "<table border=\"1\" class=\"dataframe\">\n",
       "  <thead>\n",
       "    <tr style=\"text-align: right;\">\n",
       "      <th></th>\n",
       "      <th>game_id</th>\n",
       "      <th>year_id</th>\n",
       "      <th>fran_id</th>\n",
       "      <th>opp_fran</th>\n",
       "      <th>game_location</th>\n",
       "      <th>is_playoffs</th>\n",
       "      <th>pts</th>\n",
       "      <th>opp_pts</th>\n",
       "      <th>game_result</th>\n",
       "      <th>forecast</th>\n",
       "      <th>point_diff</th>\n",
       "    </tr>\n",
       "  </thead>\n",
       "  <tbody>\n",
       "    <tr>\n",
       "      <th>21717</th>\n",
       "      <td>200910270CLE</td>\n",
       "      <td>2010</td>\n",
       "      <td>Celtics</td>\n",
       "      <td>Cavaliers</td>\n",
       "      <td>A</td>\n",
       "      <td>0</td>\n",
       "      <td>95</td>\n",
       "      <td>89</td>\n",
       "      <td>W</td>\n",
       "      <td>0.277472</td>\n",
       "      <td>6</td>\n",
       "    </tr>\n",
       "    <tr>\n",
       "      <th>21718</th>\n",
       "      <td>200910280BOS</td>\n",
       "      <td>2010</td>\n",
       "      <td>Celtics</td>\n",
       "      <td>Hornets</td>\n",
       "      <td>H</td>\n",
       "      <td>0</td>\n",
       "      <td>92</td>\n",
       "      <td>59</td>\n",
       "      <td>W</td>\n",
       "      <td>0.814619</td>\n",
       "      <td>33</td>\n",
       "    </tr>\n",
       "    <tr>\n",
       "      <th>21719</th>\n",
       "      <td>200910280MIA</td>\n",
       "      <td>2010</td>\n",
       "      <td>Knicks</td>\n",
       "      <td>Heat</td>\n",
       "      <td>A</td>\n",
       "      <td>0</td>\n",
       "      <td>93</td>\n",
       "      <td>115</td>\n",
       "      <td>L</td>\n",
       "      <td>0.258755</td>\n",
       "      <td>-22</td>\n",
       "    </tr>\n",
       "    <tr>\n",
       "      <th>21720</th>\n",
       "      <td>200910280MIN</td>\n",
       "      <td>2010</td>\n",
       "      <td>Nets</td>\n",
       "      <td>Timberwolves</td>\n",
       "      <td>A</td>\n",
       "      <td>0</td>\n",
       "      <td>93</td>\n",
       "      <td>95</td>\n",
       "      <td>L</td>\n",
       "      <td>0.475155</td>\n",
       "      <td>-2</td>\n",
       "    </tr>\n",
       "    <tr>\n",
       "      <th>21721</th>\n",
       "      <td>200910280OKC</td>\n",
       "      <td>2010</td>\n",
       "      <td>Thunder</td>\n",
       "      <td>Kings</td>\n",
       "      <td>H</td>\n",
       "      <td>0</td>\n",
       "      <td>102</td>\n",
       "      <td>89</td>\n",
       "      <td>W</td>\n",
       "      <td>0.716764</td>\n",
       "      <td>13</td>\n",
       "    </tr>\n",
       "  </tbody>\n",
       "</table>\n",
       "</div>"
      ],
      "text/plain": [
       "            game_id  year_id  fran_id      opp_fran game_location  \\\n",
       "21717  200910270CLE     2010  Celtics     Cavaliers             A   \n",
       "21718  200910280BOS     2010  Celtics       Hornets             H   \n",
       "21719  200910280MIA     2010   Knicks          Heat             A   \n",
       "21720  200910280MIN     2010     Nets  Timberwolves             A   \n",
       "21721  200910280OKC     2010  Thunder         Kings             H   \n",
       "\n",
       "       is_playoffs  pts  opp_pts game_result  forecast  point_diff  \n",
       "21717            0   95       89           W  0.277472           6  \n",
       "21718            0   92       59           W  0.814619          33  \n",
       "21719            0   93      115           L  0.258755         -22  \n",
       "21720            0   93       95           L  0.475155          -2  \n",
       "21721            0  102       89           W  0.716764          13  "
      ]
     },
     "execution_count": 117,
     "metadata": {},
     "output_type": "execute_result"
    }
   ],
   "source": [
    "nba_2010.head()"
   ]
  },
  {
   "cell_type": "code",
   "execution_count": 119,
   "metadata": {},
   "outputs": [
    {
     "name": "stdout",
     "output_type": "stream",
     "text": [
      "[[  0.05   1.37]\n",
      " [  1.37 186.56]]\n"
     ]
    }
   ],
   "source": [
    "# covariance matrix of forecast v/s point diff\n",
    "cov_mat_forecast_pointsdiff = np.cov(nba_2010.forecast, nba_2010.point_diff)\n",
    "print(cov_mat_forecast_pointsdiff)"
   ]
  },
  {
   "cell_type": "markdown",
   "metadata": {},
   "source": [
    "*Inference : There exists a 1.37 Covariance between Forecast and Point Difference*"
   ]
  },
  {
   "cell_type": "markdown",
   "metadata": {},
   "source": [
    "2. Using nba_2010, calculate the correlation between forecast and point_diff. Does this value suggest an association between the two variables?"
   ]
  },
  {
   "cell_type": "code",
   "execution_count": 120,
   "metadata": {},
   "outputs": [
    {
     "name": "stdout",
     "output_type": "stream",
     "text": [
      "0.44020887084680815\n"
     ]
    }
   ],
   "source": [
    "# correaltion coefficient between forecast and point diff\n",
    "from scipy.stats import pearsonr\n",
    "corr_forecast_pointsdiff, p = pearsonr(nba_2010.forecast, nba_2010.point_diff)\n",
    "print(corr_forecast_pointsdiff)"
   ]
  },
  {
   "cell_type": "code",
   "execution_count": 121,
   "metadata": {},
   "outputs": [
    {
     "data": {
      "image/png": "[encoded data removed]",
      "text/plain": [
       "<Figure size 432x288 with 1 Axes>"
      ]
     },
     "metadata": {},
     "output_type": "display_data"
    }
   ],
   "source": [
    "# scatter plot of forecast v/s point diff\n",
    "sns.scatterplot(x = nba_2010.forecast , y = nba_2010.point_diff)\n",
    "plt.show();"
   ]
  },
  {
   "cell_type": "markdown",
   "metadata": {},
   "source": [
    "*Inference : There exists a weak positive correlation between forecast and margin of victory indicting that \"Team with Higher Probability of Winning\" may \"Win Games with More Points\".As the probability of winning increases , the points difference increases suggested by the Scatter plot*"
   ]
  },
  {
   "cell_type": "markdown",
   "metadata": {},
   "source": [
    "# Summary"
   ]
  },
  {
   "cell_type": "code",
   "execution_count": null,
   "metadata": {},
   "outputs": [],
   "source": []
  }
 ],
 "metadata": {
  "hide_input": false,
  "kernelspec": {
   "display_name": "Python 3",
   "language": "python",
   "name": "python3"
  },
  "language_info": {
   "codemirror_mode": {
    "name": "ipython",
    "version": 3
   },
   "file_extension": ".py",
   "mimetype": "text/x-python",
   "name": "python",
   "nbconvert_exporter": "python",
   "pygments_lexer": "ipython3",
   "version": "3.8.5"
  },
  "latex_envs": {
   "LaTeX_envs_menu_present": true,
   "autoclose": false,
   "autocomplete": true,
   "bibliofile": "biblio.bib",
   "cite_by": "apalike",
   "current_citInitial": 1,
   "eqLabelWithNumbers": true,
   "eqNumInitial": 1,
   "hotkeys": {
    "equation": "Ctrl-E",
    "itemize": "Ctrl-I"
   },
   "labels_anchors": false,
   "latex_user_defs": false,
   "report_style_numbering": false,
   "user_envs_cfg": false
  },
  "toc": {
   "base_numbering": 1,
   "nav_menu": {},
   "number_sections": true,
   "sideBar": true,
   "skip_h1_title": false,
   "title_cell": "Chapter4 Statistics-Variable Associations: Ravi Mummigatti : 24-12-20",
   "title_sidebar": "Contents",
   "toc_cell": true,
   "toc_position": {},
   "toc_section_display": true,
   "toc_window_display": true
  },
  "varInspector": {
   "cols": {
    "lenName": 16,
    "lenType": 16,
    "lenVar": 40
   },
   "kernels_config": {
    "python": {
     "delete_cmd_postfix": "",
     "delete_cmd_prefix": "del ",
     "library": "var_list.py",
     "varRefreshCmd": "print(var_dic_list())"
    },
    "r": {
     "delete_cmd_postfix": ") ",
     "delete_cmd_prefix": "rm(",
     "library": "var_list.r",
     "varRefreshCmd": "cat(var_dic_list()) "
    }
   },
   "types_to_exclude": [
    "module",
    "function",
    "builtin_function_or_method",
    "instance",
    "_Feature"
   ],
   "window_display": false
  }
 },
 "nbformat": 4,
 "nbformat_minor": 4
}
