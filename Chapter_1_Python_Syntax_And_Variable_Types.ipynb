{
 "cells": [
  {
   "cell_type": "markdown",
   "metadata": {
    "toc": true
   },
   "source": [
    "<h1>Pyton Syntax<span class=\"tocSkip\"></span></h1>\n",
    "<div class=\"toc\"><ul class=\"toc-item\"><li><span><a href=\"#Introduction\" data-toc-modified-id=\"Introduction-1\"><span class=\"toc-item-num\">1&nbsp;&nbsp;</span>Introduction</a></span></li><li><span><a href=\"#Comments\" data-toc-modified-id=\"Comments-2\"><span class=\"toc-item-num\">2&nbsp;&nbsp;</span>Comments</a></span></li><li><span><a href=\"#Print\" data-toc-modified-id=\"Print-3\"><span class=\"toc-item-num\">3&nbsp;&nbsp;</span>Print</a></span></li><li><span><a href=\"#Strings\" data-toc-modified-id=\"Strings-4\"><span class=\"toc-item-num\">4&nbsp;&nbsp;</span>Strings</a></span></li><li><span><a href=\"#Variables\" data-toc-modified-id=\"Variables-5\"><span class=\"toc-item-num\">5&nbsp;&nbsp;</span>Variables</a></span></li><li><span><a href=\"#Errors\" data-toc-modified-id=\"Errors-6\"><span class=\"toc-item-num\">6&nbsp;&nbsp;</span>Errors</a></span></li><li><span><a href=\"#Numbers\" data-toc-modified-id=\"Numbers-7\"><span class=\"toc-item-num\">7&nbsp;&nbsp;</span>Numbers</a></span></li><li><span><a href=\"#Calculations\" data-toc-modified-id=\"Calculations-8\"><span class=\"toc-item-num\">8&nbsp;&nbsp;</span>Calculations</a></span></li><li><span><a href=\"#Changing-Numbers\" data-toc-modified-id=\"Changing-Numbers-9\"><span class=\"toc-item-num\">9&nbsp;&nbsp;</span>Changing Numbers</a></span></li><li><span><a href=\"#Exponents\" data-toc-modified-id=\"Exponents-10\"><span class=\"toc-item-num\">10&nbsp;&nbsp;</span>Exponents</a></span></li><li><span><a href=\"#Modulo\" data-toc-modified-id=\"Modulo-11\"><span class=\"toc-item-num\">11&nbsp;&nbsp;</span>Modulo</a></span></li><li><span><a href=\"#Concatenation\" data-toc-modified-id=\"Concatenation-12\"><span class=\"toc-item-num\">12&nbsp;&nbsp;</span>Concatenation</a></span></li><li><span><a href=\"#Plus-Equals\" data-toc-modified-id=\"Plus-Equals-13\"><span class=\"toc-item-num\">13&nbsp;&nbsp;</span>Plus Equals</a></span></li><li><span><a href=\"#Multi-line-Strings\" data-toc-modified-id=\"Multi-line-Strings-14\"><span class=\"toc-item-num\">14&nbsp;&nbsp;</span>Multi-line Strings</a></span></li><li><span><a href=\"#Project-:-Purchasing-Information-and-Receipts-for-Lovely-Loveseats\" data-toc-modified-id=\"Project-:-Purchasing-Information-and-Receipts-for-Lovely-Loveseats-15\"><span class=\"toc-item-num\">15&nbsp;&nbsp;</span>Project : Purchasing Information and Receipts for Lovely Loveseats</a></span></li><li><span><a href=\"#Project-:-Medical-Insurance-Project\" data-toc-modified-id=\"Project-:-Medical-Insurance-Project-16\"><span class=\"toc-item-num\">16&nbsp;&nbsp;</span>Project : Medical Insurance Project</a></span></li></ul></div>"
   ]
  },
  {
   "cell_type": "markdown",
   "metadata": {},
   "source": [
    "**Python Syntax Tutorial:**   \n",
    "**Author : Ravi Mummigatti**  \n",
    "**Credits : Code Academy , Wikipedia , Cloudx**  \n",
    "**Pre-requisites : None**  "
   ]
  },
  {
   "cell_type": "markdown",
   "metadata": {},
   "source": [
    "# Introduction\n",
    "Python is a programming language. Like other languages, it gives us a way to communicate ideas. In the case of a programming language, these ideas are “commands” that people use to communicate with a computer!\n",
    "\n",
    "We convey our commands to the computer by writing them in a text file using a programming language. These files are called programs. Running a program means telling a computer to read the text file, translate it to the set of operations that it understands, and perform those actions."
   ]
  },
  {
   "cell_type": "code",
   "execution_count": 1,
   "metadata": {},
   "outputs": [
    {
     "name": "stdout",
     "output_type": "stream",
     "text": [
      "Hello and welcome Ravi!\n"
     ]
    }
   ],
   "source": [
    "my_name = \"Ravi\"\n",
    "print(\"Hello and welcome \" + my_name + \"!\")"
   ]
  },
  {
   "cell_type": "markdown",
   "metadata": {},
   "source": [
    "# Comments \n",
    "Ironically, the first thing we’re going to do is show how to tell a computer to ignore a part of a program. Text written in a program but not run by the computer is called a comment. Python interprets anything after a # as a comment.  \n",
    "\n",
    "Comments can:\n",
    "* Provide context for why something is written the way it is\n",
    "* Help other people reading the code understand it faster\n",
    "* Ignore a line of code and see how a program will run without it:"
   ]
  },
  {
   "cell_type": "code",
   "execution_count": 2,
   "metadata": {},
   "outputs": [
    {
     "name": "stdout",
     "output_type": "stream",
     "text": [
      "Hello and welcome User?\n"
     ]
    }
   ],
   "source": [
    "\"\"\"\n",
    "This is a program that prints the name of the user with multiline comments\n",
    "\"\"\"\n",
    "myname = \"User\"\n",
    "print(\"Hello and welcome \" + myname + \"?\" )"
   ]
  },
  {
   "cell_type": "code",
   "execution_count": 3,
   "metadata": {},
   "outputs": [
    {
     "name": "stdout",
     "output_type": "stream",
     "text": [
      "Hello Name!!\n"
     ]
    }
   ],
   "source": [
    "# This is a program that prints the name of the user with single line comment\n",
    "user = \"Name\"\n",
    "print(\"Hello \" + user + \"!!\")"
   ]
  },
  {
   "cell_type": "markdown",
   "metadata": {},
   "source": [
    "# Print  \n",
    "Now what we’re going to do is teach our computer to communicate.   \n",
    "The gift of speech is valuable: a computer can answer many questions we have about “how” or “why” or “what” it is doing.  \n",
    "In Python, the **print()** function is used to tell a computer to talk. The message to be printed should be surrounded by quotes:"
   ]
  },
  {
   "cell_type": "code",
   "execution_count": 4,
   "metadata": {},
   "outputs": [
    {
     "name": "stdout",
     "output_type": "stream",
     "text": [
      "There is something at work in my soul, which I do not understand.\n"
     ]
    }
   ],
   "source": [
    "# from Mary Shelley's Frankenstein\n",
    "print(\"There is something at work in my soul, which I do not understand.\")"
   ]
  },
  {
   "cell_type": "markdown",
   "metadata": {},
   "source": [
    "In the above example, we direct our program to print() an excerpt from a notable book.  \n",
    "The printed words that appear as a result of the print() function are referred to as **output**"
   ]
  },
  {
   "cell_type": "code",
   "execution_count": 5,
   "metadata": {},
   "outputs": [
    {
     "name": "stdout",
     "output_type": "stream",
     "text": [
      "Hello World\n"
     ]
    }
   ],
   "source": [
    "# Print the distinguished greeting “Hello world!”\n",
    "print(\"Hello World\")"
   ]
  },
  {
   "cell_type": "markdown",
   "metadata": {},
   "source": [
    "**Question** : Are quotes always necessary inside of the print()?  \n",
    "**Answer** : Quotes are not always necessary inside of a print() function. They are only needed when the input value of the function is a string, like \"hello\". The print() functions can be used to output many other values in Python, such as:ones listed below"
   ]
  },
  {
   "cell_type": "code",
   "execution_count": 6,
   "metadata": {},
   "outputs": [
    {
     "name": "stdout",
     "output_type": "stream",
     "text": [
      "10\n",
      "False\n",
      "['adam', 'betty']\n"
     ]
    }
   ],
   "source": [
    "print(10) \n",
    "print(False) \n",
    "print([\"adam\", \"betty\"]) "
   ]
  },
  {
   "cell_type": "markdown",
   "metadata": {},
   "source": [
    "**Question** : How can I tell python program to go to next line after printing something using print()  \n",
    "**Answer** : \n",
    "* Case 1 : print('line1 \\n\\nline3') : You can use \\n in your string to jump to a new line  \n",
    "* Case 2 : \n",
    "print('line1')\n",
    "print()\n",
    "print('line3')"
   ]
  },
  {
   "cell_type": "code",
   "execution_count": 7,
   "metadata": {},
   "outputs": [
    {
     "name": "stdout",
     "output_type": "stream",
     "text": [
      "My Name Is\n",
      "\n",
      "Ravi\n"
     ]
    }
   ],
   "source": [
    "print(\"My Name Is\\n\\nRavi\")"
   ]
  },
  {
   "cell_type": "code",
   "execution_count": 8,
   "metadata": {},
   "outputs": [
    {
     "name": "stdout",
     "output_type": "stream",
     "text": [
      "My Name Is\n",
      "\n",
      "Ravi\n"
     ]
    }
   ],
   "source": [
    "print(\"My Name Is\")\n",
    "print()\n",
    "print(\"Ravi\")"
   ]
  },
  {
   "cell_type": "markdown",
   "metadata": {},
   "source": [
    "# Strings  \n",
    "Computer programmers refer to blocks of text as strings.  \n",
    "In our last exercise, we created the string “Hello world!”.  \n",
    "**In Python a string is either surrounded by double quotes (\"Hello world\") or single quotes ('Hello world').**  \n",
    "It doesn’t matter which kind you use, just be consistent."
   ]
  },
  {
   "cell_type": "code",
   "execution_count": 9,
   "metadata": {},
   "outputs": [
    {
     "name": "stdout",
     "output_type": "stream",
     "text": [
      "Ravi\n"
     ]
    }
   ],
   "source": [
    "# Print your name using the print() command -- double quotes\n",
    "print(\"Ravi\")"
   ]
  },
  {
   "cell_type": "code",
   "execution_count": 10,
   "metadata": {},
   "outputs": [
    {
     "name": "stdout",
     "output_type": "stream",
     "text": [
      "Ravi\n"
     ]
    }
   ],
   "source": [
    "# Print your name using the print() command -- single quotes\n",
    "print('Ravi')"
   ]
  },
  {
   "cell_type": "markdown",
   "metadata": {},
   "source": [
    "**Q** : When should single or double quotes be used for a string?  \n",
    "**A** : Typically, either single or double quotes can be used interchangeably for creating a string. However, in certain situations, the type of quotes can matter, depending on the content of the string itself. If the string contains single quotes, it can be more convenient to wrap the entire string in double quotes. And if the string contains double quotes, you might use single quotes to wrap the string instead.  \n",
    "The reason for this is that each string starts and ends when a pair of quotes is encountered. If there is another matching quote within the string, that may end the string prematurely, causing errors."
   ]
  },
  {
   "cell_type": "code",
   "execution_count": 11,
   "metadata": {},
   "outputs": [
    {
     "name": "stdout",
     "output_type": "stream",
     "text": [
      "I'm coding!\n",
      "The computer printed the string \"Hello!\"\n"
     ]
    }
   ],
   "source": [
    "# Examples of valid strings\n",
    "print(\"I'm coding!\")\n",
    "print('The computer printed the string \"Hello!\"')"
   ]
  },
  {
   "cell_type": "code",
   "execution_count": 12,
   "metadata": {},
   "outputs": [
    {
     "ename": "SyntaxError",
     "evalue": "invalid syntax (<ipython-input-12-f12ee0d3ea6d>, line 2)",
     "output_type": "error",
     "traceback": [
      "\u001b[1;36m  File \u001b[1;32m\"<ipython-input-12-f12ee0d3ea6d>\"\u001b[1;36m, line \u001b[1;32m2\u001b[0m\n\u001b[1;33m    print(\"A common phrase in programming is \"Hello world\"\")\u001b[0m\n\u001b[1;37m                                              ^\u001b[0m\n\u001b[1;31mSyntaxError\u001b[0m\u001b[1;31m:\u001b[0m invalid syntax\n"
     ]
    }
   ],
   "source": [
    "# Example of invalid string \n",
    "print(\"A common phrase in programming is \"Hello world\"\")"
   ]
  },
  {
   "cell_type": "markdown",
   "metadata": {},
   "source": [
    "# Variables  \n",
    "Programming languages offer a method of storing data for reuse.  \n",
    "If there is a greeting we want to present, a date we need to reuse, or a user ID we need to remember we can create a variable which can store a value.  \n",
    "**In Python, we assign variables by using the equals sign (=).**"
   ]
  },
  {
   "cell_type": "markdown",
   "metadata": {},
   "source": [
    "In the example below , we store the message “Hello there” in a variable called message_string.   \n",
    "**Variables can’t have spaces or symbols in their names other than an underscore (_)**.  \n",
    "**Variables can’t begin with numbers but they can have numbers after the first letter (e.g., cool_variable_5 is OK).**"
   ]
  },
  {
   "cell_type": "code",
   "execution_count": 13,
   "metadata": {},
   "outputs": [
    {
     "name": "stdout",
     "output_type": "stream",
     "text": [
      "Hello there\n"
     ]
    }
   ],
   "source": [
    "message_string = \"Hello there\"\n",
    "# Prints \"Hello there\"\n",
    "print(message_string)"
   ]
  },
  {
   "cell_type": "markdown",
   "metadata": {},
   "source": [
    "It’s no coincidence we call these creatures “variables”.   \n",
    "If the context of a program changes, we can update a variable but perform the same logical process on it.  \n",
    "\n",
    "Below, we create the variable message_string, assign a welcome message, and print the greeting.   \n",
    "After we greet the user, we want to wish them goodbye.   \n",
    "We then update message_string to a departure message and print that out."
   ]
  },
  {
   "cell_type": "code",
   "execution_count": 14,
   "metadata": {},
   "outputs": [
    {
     "name": "stdout",
     "output_type": "stream",
     "text": [
      "Hello there\n",
      "Hasta la vista\n"
     ]
    }
   ],
   "source": [
    "# Greeting\n",
    "message_string = \"Hello there\"\n",
    "print(message_string)\n",
    "\n",
    "# Farewell\n",
    "message_string = \"Hasta la vista\"\n",
    "print(message_string)"
   ]
  },
  {
   "cell_type": "code",
   "execution_count": 15,
   "metadata": {},
   "outputs": [],
   "source": [
    "# We've defined the variable \"meal\" here to the name of the food we ate for breakfast!\n",
    "meal = \"An english muffin\""
   ]
  },
  {
   "cell_type": "code",
   "execution_count": 16,
   "metadata": {},
   "outputs": [
    {
     "name": "stdout",
     "output_type": "stream",
     "text": [
      "Breakfast:\n",
      "An english muffin\n"
     ]
    }
   ],
   "source": [
    "# Printing out breakfast\n",
    "print(\"Breakfast:\")\n",
    "print(meal)"
   ]
  },
  {
   "cell_type": "code",
   "execution_count": 17,
   "metadata": {},
   "outputs": [
    {
     "name": "stdout",
     "output_type": "stream",
     "text": [
      "Lunch:\n",
      "Lunch*\n"
     ]
    }
   ],
   "source": [
    "# Now update meal to be lunch!\n",
    "meal = 'Lunch*'\n",
    "\n",
    "# Printing out lunch\n",
    "print(\"Lunch:\")\n",
    "print(meal)"
   ]
  },
  {
   "cell_type": "code",
   "execution_count": 18,
   "metadata": {},
   "outputs": [
    {
     "name": "stdout",
     "output_type": "stream",
     "text": [
      "Dinner:\n",
      "Dinner*\n"
     ]
    }
   ],
   "source": [
    "# Now update \"meal\" to be dinner\n",
    "meal = 'Dinner*'\n",
    "# Printing out dinner\n",
    "print(\"Dinner:\")\n",
    "print(meal)"
   ]
  },
  {
   "cell_type": "markdown",
   "metadata": {},
   "source": [
    "# Errors  \n",
    "Humans are prone to making mistakes. Humans are also typically in charge of creating computer programs. To compensate, programming languages attempt to understand and explain mistakes made in their programs.\n",
    "\n",
    "Python refers to these mistakes as errors and will point to the location where an error occurred with a ^ character. When programs throw errors that we didn’t expect to encounter we call those errors bugs. Programmers call the process of updating the program so that it no longer produces unexpected errors debugging.  \n",
    "\n",
    "Two common errors that we encounter while writing Python are SyntaxError and NameError.\n",
    "\n",
    "    SyntaxError means there is something wrong with the way your program is written — punctuation that does not belong, a command where it is not expected, or a missing parenthesis can all trigger a SyntaxError.\n",
    "\n",
    "    A NameError occurs when the Python interpreter sees a word it does not recognize. Code that contains something that looks like a variable but was never defined will throw a NameError.\n"
   ]
  },
  {
   "cell_type": "markdown",
   "metadata": {},
   "source": [
    "You might encounter a SyntaxError if you open a string with double quotes and end it with a single quote. Update the string so that it starts and ends with the same punctuation.\n",
    "\n",
    "You might encounter a NameError if you try to print a single word string but fail to put any quotes around it. Python expects the word of your string to be defined elsewhere but can’t find where it’s defined. Add quotes to either side of the string to squash this bug."
   ]
  },
  {
   "cell_type": "code",
   "execution_count": 19,
   "metadata": {},
   "outputs": [
    {
     "ename": "SyntaxError",
     "evalue": "EOL while scanning string literal (<ipython-input-19-bac761b9e7ea>, line 1)",
     "output_type": "error",
     "traceback": [
      "\u001b[1;36m  File \u001b[1;32m\"<ipython-input-19-bac761b9e7ea>\"\u001b[1;36m, line \u001b[1;32m1\u001b[0m\n\u001b[1;33m    print('This message has mismatched quote marks!\")\u001b[0m\n\u001b[1;37m                                                     ^\u001b[0m\n\u001b[1;31mSyntaxError\u001b[0m\u001b[1;31m:\u001b[0m EOL while scanning string literal\n"
     ]
    }
   ],
   "source": [
    "print('This message has mismatched quote marks!\")"
   ]
  },
  {
   "cell_type": "code",
   "execution_count": null,
   "metadata": {},
   "outputs": [],
   "source": [
    "print(Abracadabra)"
   ]
  },
  {
   "cell_type": "code",
   "execution_count": null,
   "metadata": {},
   "outputs": [],
   "source": [
    "print(\"This message has mismatched quote marks!\")"
   ]
  },
  {
   "cell_type": "code",
   "execution_count": null,
   "metadata": {},
   "outputs": [],
   "source": [
    "print('Abracadabra')"
   ]
  },
  {
   "cell_type": "markdown",
   "metadata": {},
   "source": [
    "# Numbers  \n",
    "Computers can understand much more than just strings of text. Python has a few numeric data types. It has multiple ways of storing numbers. Which one you use depends on your intended purpose for the number you are saving.\n",
    "\n",
    "An **integer, or int**, is a whole number. It has no decimal point , contains all counting numbers +ve and -ve (1,2,-1,-2..) & the number 0.   \n",
    "*If you were counting the number of people in a room, the number of jellybeans in a jar, or the number of keys on a keyboard you would likely use an integer.*\n",
    "\n",
    "A **floating-point number, or a float**, is a decimal number. It can be used to represent fractional quantities as well as precise measurements.   \n",
    "*If you were measuring the length of your bedroom wall, calculating the average test score of a seventh-grade class, or storing a baseball player’s batting average for the 1998 season you would likely use a float.*  \n",
    "\n",
    "**Numbers can be assigned to variables or used literally in a program**\n",
    "\n",
    "Floating-point numbers can behave in some unexpected ways due to how computers store them. For more information on floating-point numbers and Python, review Python’s documentation on floating-point limitations \"https://docs.python.org/3/tutorial/floatingpoint.html\"."
   ]
  },
  {
   "cell_type": "markdown",
   "metadata": {},
   "source": [
    "Below we defined an integer and a float as the variables an_int and a_float.  \n",
    "We printed out the sum of the variable an_int with the number 3.   \n",
    "We call the number 3 here a literal, meaning it’s actually the number 3 and not a variable with the number 3 assigned to it."
   ]
  },
  {
   "cell_type": "code",
   "execution_count": 20,
   "metadata": {},
   "outputs": [
    {
     "name": "stdout",
     "output_type": "stream",
     "text": [
      "5\n",
      "5.1\n"
     ]
    }
   ],
   "source": [
    "an_int = 2\n",
    "a_float = 2.1\n",
    "\n",
    "print(an_int + 3)\n",
    "# prints 5\n",
    "print(a_float + 3)"
   ]
  },
  {
   "cell_type": "markdown",
   "metadata": {},
   "source": [
    "A recent movie-going experience has you excited to publish a review. You rush out of the cinema and hastily begin programming to create your movie-review website: The Big Screen’s Greatest Scenes Decided By A Machine.\n",
    "\n",
    "Create the following variables and assign integer numbers to them: **release_year** and **runtime**."
   ]
  },
  {
   "cell_type": "code",
   "execution_count": 21,
   "metadata": {},
   "outputs": [
    {
     "name": "stdout",
     "output_type": "stream",
     "text": [
      "Release Year Is 2002\n",
      "Runtime Is 126\n"
     ]
    }
   ],
   "source": [
    "release_year = 2002\n",
    "runtime = 126\n",
    "print(\"Release Year Is\" , release_year)\n",
    "print(\"Runtime Is\" , runtime)"
   ]
  },
  {
   "cell_type": "markdown",
   "metadata": {},
   "source": [
    "Now, create the variable **rating_out_of_10** and assign it a float number between one and ten"
   ]
  },
  {
   "cell_type": "code",
   "execution_count": 22,
   "metadata": {},
   "outputs": [
    {
     "name": "stdout",
     "output_type": "stream",
     "text": [
      "Rating Is 6.7\n"
     ]
    }
   ],
   "source": [
    "rating_out_of_10 = 6.7\n",
    "print(\"Rating Is\" , rating_out_of_10)"
   ]
  },
  {
   "cell_type": "markdown",
   "metadata": {},
   "source": [
    "# Calculations  \n",
    "Computers absolutely excel at performing calculations.  \n",
    "The “compute” in their name comes from their historical association with providing answers to mathematical questions.     \n",
    "\n",
    "Python performs addition, subtraction, multiplication, and division with **+, -, *, and /.**"
   ]
  },
  {
   "cell_type": "code",
   "execution_count": 23,
   "metadata": {},
   "outputs": [
    {
     "name": "stdout",
     "output_type": "stream",
     "text": [
      "500\n",
      "50\n",
      "2.0\n"
     ]
    }
   ],
   "source": [
    "#Prints \"500\"\n",
    "print(573 - 74 + 1)\n",
    "\n",
    "# Prints \"50\"\n",
    "print(25 * 2)\n",
    "\n",
    "# Prints \"2.0\"\n",
    "print(10 / 5)"
   ]
  },
  {
   "cell_type": "markdown",
   "metadata": {},
   "source": [
    "Notice that when we perform division, the result has a decimal place. This is because Python converts all ints to floats before performing division."
   ]
  },
  {
   "cell_type": "markdown",
   "metadata": {},
   "source": [
    "Mathematical operations in Python follow the standard mathematical order of operations. \"https://en.wikipedia.org/wiki/Order_of_operations\""
   ]
  },
  {
   "cell_type": "code",
   "execution_count": 24,
   "metadata": {},
   "outputs": [
    {
     "name": "stdout",
     "output_type": "stream",
     "text": [
      "1700.4642857142858\n"
     ]
    }
   ],
   "source": [
    "#Print out the result of this equation: 25 * 68 + 13 / 28\n",
    "result = 25 * 68 + 13 / 28\n",
    "print(result)"
   ]
  },
  {
   "cell_type": "markdown",
   "metadata": {},
   "source": [
    "Any expressions and operations inside the parentheses of the print() function is always evaluated first, with priority, then the result is printed out at the end."
   ]
  },
  {
   "cell_type": "markdown",
   "metadata": {},
   "source": [
    "# Changing Numbers  \n",
    "\n",
    "Variables that are assigned numeric values can be treated the same as the numbers themselves.  \n",
    "Two variables can be added together, divided by 2, and multiplied by a third variable without Python distinguishing between the variables and literals.  \n",
    "Performing arithmetic on variables does not change the variable — you can only update a variable using the = sign."
   ]
  },
  {
   "cell_type": "markdown",
   "metadata": {},
   "source": [
    "Here , we create two variables and assign numeric values to them.   \n",
    "Then we perform a calculation on them. This doesn’t update the variables!   \n",
    "When we update the coffee_price variable and perform the calculations again, they use the updated values for the variable!"
   ]
  },
  {
   "cell_type": "code",
   "execution_count": 25,
   "metadata": {},
   "outputs": [
    {
     "name": "stdout",
     "output_type": "stream",
     "text": [
      "Price of 4 Coffees @ 1.5 per is  6.0\n",
      "Price of 1 Coffee is  1.5\n",
      "Number of Coffees ordered is 4\n",
      "New Price of 4 Coffes @ 2 per is  8.0\n",
      "New Price of Coffees is  2.0\n",
      "Number of Coffees ordered is  4\n"
     ]
    }
   ],
   "source": [
    "coffee_price = 1.50\n",
    "number_of_coffees = 4\n",
    "\n",
    "# Prints \"6.0\"\n",
    "print(\"Price of 4 Coffees @ 1.5 per is \" , coffee_price * number_of_coffees)\n",
    "\n",
    "# Prints \"1.5\"\n",
    "print(\"Price of 1 Coffee is \" , coffee_price)\n",
    "\n",
    "# Prints \"4\"\n",
    "print(\"Number of Coffees ordered is\" , number_of_coffees)\n",
    "\n",
    "# Updating the price \n",
    "coffee_price = 2.00\n",
    "\n",
    "# Prints \"8.0\"\n",
    "print(\"New Price of 4 Coffes @ 2 per is \" , coffee_price * number_of_coffees)\n",
    "\n",
    "# Prints \"2.0\"\n",
    "print(\"New Price of Coffees is \" , coffee_price)\n",
    "\n",
    "# Prints \"4\"\n",
    "print(\"Number of Coffees ordered is \" , number_of_coffees)"
   ]
  },
  {
   "cell_type": "markdown",
   "metadata": {},
   "source": [
    "You’ve decided to get into quilting!   \n",
    "To calculate the number of squares you’ll need for your first quilt let’s create two variables: **quilt_width** and **quilt_length**.  \n",
    "Let’s make this first quilt 8 squares wide and 12 squares long."
   ]
  },
  {
   "cell_type": "code",
   "execution_count": 26,
   "metadata": {},
   "outputs": [
    {
     "name": "stdout",
     "output_type": "stream",
     "text": [
      "Quilt Width Is  8\n",
      "Quilt Length Is  12\n"
     ]
    }
   ],
   "source": [
    "quilt_width = 8\n",
    "quilt_length = 12\n",
    "print(\"Quilt Width Is \" , quilt_width)\n",
    "print(\"Quilt Length Is \" , quilt_length)"
   ]
  },
  {
   "cell_type": "markdown",
   "metadata": {},
   "source": [
    "Print out the number of squares you’ll need to create the quilt!"
   ]
  },
  {
   "cell_type": "code",
   "execution_count": 27,
   "metadata": {},
   "outputs": [
    {
     "name": "stdout",
     "output_type": "stream",
     "text": [
      "Number of Squares needed for the Quilt Is  96\n"
     ]
    }
   ],
   "source": [
    "print(\"Number of Squares needed for the Quilt Is \" , quilt_width * quilt_length)"
   ]
  },
  {
   "cell_type": "markdown",
   "metadata": {},
   "source": [
    "It turns out that quilt required a little more material than you have on hand! Let’s only make the quilt 8 squares long.   \n",
    "How many squares will you need for this quilt instead?"
   ]
  },
  {
   "cell_type": "code",
   "execution_count": 28,
   "metadata": {},
   "outputs": [
    {
     "name": "stdout",
     "output_type": "stream",
     "text": [
      "New Quilt Length is  8\n",
      "Number of Squares needed for the New Quilt Is  64\n"
     ]
    }
   ],
   "source": [
    "quilt_length = 8\n",
    "print(\"New Quilt Length is \" , quilt_length)\n",
    "print(\"Number of Squares needed for the New Quilt Is \" , quilt_width * quilt_length)"
   ]
  },
  {
   "cell_type": "markdown",
   "metadata": {},
   "source": [
    "# Exponents  \n",
    "Python can also perform exponentiation (Raise to the power of).  \n",
    "We use the notation \"**\" to denote an exponent operation"
   ]
  },
  {
   "cell_type": "markdown",
   "metadata": {},
   "source": [
    "Here, we compute some simple exponents.   \n",
    "* We calculate 2 to the 10th power  \n",
    "* 8 to the 2nd power  \n",
    "* 9 to the 3rd power  \n",
    "* 4 to the 0.5th power."
   ]
  },
  {
   "cell_type": "code",
   "execution_count": 29,
   "metadata": {},
   "outputs": [
    {
     "name": "stdout",
     "output_type": "stream",
     "text": [
      "Exponent of 2^10 is  1024\n",
      "Square of 8 is  64\n",
      "Cube of 9 is  729\n",
      "Square Root of 4 is 2.0\n"
     ]
    }
   ],
   "source": [
    "# 2 to the 10th power, or 1024\n",
    "print(\"Exponent of 2^10 is \" , 2 ** 10)\n",
    "\n",
    "# 8 squared, or 64\n",
    "print(\"Square of 8 is \" , 8 ** 2)\n",
    "\n",
    "# 9 * 9 * 9, 9 cubed, or 729\n",
    "print(\"Cube of 9 is \" , 9 ** 3)\n",
    "\n",
    "# We can even perform fractional exponents\n",
    "# 4 to the half power, or 2\n",
    "print(\"Square Root of 4 is\" , 4 ** 0.5)"
   ]
  },
  {
   "cell_type": "markdown",
   "metadata": {},
   "source": [
    "Using the exponent operator, print out how many squares you’ll need for   \n",
    "* 6x6 quilt  \n",
    "* 7x7 quilt  \n",
    "* 8x8 quilt  "
   ]
  },
  {
   "cell_type": "code",
   "execution_count": 30,
   "metadata": {},
   "outputs": [
    {
     "name": "stdout",
     "output_type": "stream",
     "text": [
      "36\n",
      "49\n",
      "64\n",
      "1296\n"
     ]
    }
   ],
   "source": [
    "# Calculation of squares for:\n",
    "# 6x6 quilt\n",
    "print(6**2)\n",
    "\n",
    "# 7x7 quilt\n",
    "print(7**2)\n",
    "\n",
    "# 8x8 quilt\n",
    "print(8**2)\n",
    "\n",
    "# How many squares for 6 people to have 6 quilts each that are 6x6?\n",
    "print(6**4)"
   ]
  },
  {
   "cell_type": "code",
   "execution_count": 31,
   "metadata": {},
   "outputs": [
    {
     "name": "stdout",
     "output_type": "stream",
     "text": [
      "42\n"
     ]
    }
   ],
   "source": [
    "cool_number = 12 + 30\n",
    "cool_number * 5\n",
    "print(cool_number)\n",
    "#Multiplying the variable by 5 does not change the variable#"
   ]
  },
  {
   "cell_type": "markdown",
   "metadata": {},
   "source": [
    "# Modulo  \n",
    "Python offers a companion to the division operator called the **modulo** operator.  \n",
    "The modulo operator is indicated by **%** and gives the remainder of a division calculation.  \n",
    "If the number is divisible, then the result of the modulo operator will be 0.  \n",
    "The modulo operator is useful in programming when we want to perform an action every nth-time the code is run  \n",
    "\n",
    "Here, we use the modulo operator to find the remainder of division operations.  \n",
    "* 29 % 5 equals 4  \n",
    "* 32 % 3 equals 2  \n",
    "* 44 % 2 equals 0."
   ]
  },
  {
   "cell_type": "code",
   "execution_count": 32,
   "metadata": {},
   "outputs": [
    {
     "name": "stdout",
     "output_type": "stream",
     "text": [
      "4\n",
      "2\n",
      "0\n"
     ]
    }
   ],
   "source": [
    "# Prints 4 because 29 / 5 is 5 with a remainder of 4\n",
    "print(29 % 5)\n",
    "\n",
    "# Prints 2 because 32 / 3 is 10 with a remainder of 2\n",
    "print(32 % 3)\n",
    "\n",
    "# Modulo by 2 returns 0 for even numbers and 1 for odd numbers\n",
    "# Prints 0\n",
    "print(44 % 2)"
   ]
  },
  {
   "cell_type": "markdown",
   "metadata": {},
   "source": [
    "You’re trying to divide a group into four teams. All of you count off, and you get number 27.  \n",
    "\n",
    "Find out your team by computing 27 modulo 4. Save the value to my_team"
   ]
  },
  {
   "cell_type": "code",
   "execution_count": 33,
   "metadata": {},
   "outputs": [
    {
     "name": "stdout",
     "output_type": "stream",
     "text": [
      "3\n"
     ]
    }
   ],
   "source": [
    "my_team = 27%4\n",
    "print(my_team)"
   ]
  },
  {
   "cell_type": "markdown",
   "metadata": {},
   "source": [
    "# Concatenation  \n",
    "The **+** operator doesn’t just add two numbers, it can also “add” two strings!  \n",
    "**The process of combining two strings is called string concatenation.**     \n",
    "Performing string concatenation creates a brand new string comprised of the first string’s contents followed by the second string’s contents (without any added space in-between)."
   ]
  },
  {
   "cell_type": "markdown",
   "metadata": {},
   "source": [
    "In this sample of code, we create two variables that hold strings and then concatenate them"
   ]
  },
  {
   "cell_type": "code",
   "execution_count": 34,
   "metadata": {},
   "outputs": [
    {
     "name": "stdout",
     "output_type": "stream",
     "text": [
      "Hey there!How are you doing?\n"
     ]
    }
   ],
   "source": [
    "greeting_text = \"Hey there!\"\n",
    "question_text = \"How are you doing?\"\n",
    "full_text = greeting_text + question_text\n",
    "\n",
    "# Prints \"Hey there!How are you doing?\"\n",
    "print(full_text)"
   ]
  },
  {
   "cell_type": "markdown",
   "metadata": {},
   "source": [
    "We notice that the result was missing a space between the two, let’s add the space in-between using the same concatenation operator!"
   ]
  },
  {
   "cell_type": "code",
   "execution_count": 35,
   "metadata": {},
   "outputs": [
    {
     "name": "stdout",
     "output_type": "stream",
     "text": [
      "Hey there! How are you doing?\n"
     ]
    }
   ],
   "source": [
    "new_text = greeting_text + \" \" + question_text\n",
    "\n",
    "print(new_text)"
   ]
  },
  {
   "cell_type": "markdown",
   "metadata": {},
   "source": [
    "If you want to concatenate a string with a number you will need to make the number a string first, using the str() function.   \n",
    "If you’re trying to print() a numeric variable you can use commas to pass it as a different argument rather than converting it to a string."
   ]
  },
  {
   "cell_type": "code",
   "execution_count": 36,
   "metadata": {},
   "outputs": [
    {
     "name": "stdout",
     "output_type": "stream",
     "text": [
      "I am 10 years old today!\n",
      "I am  10  years old today!\n"
     ]
    }
   ],
   "source": [
    "birthday_string = \"I am \"\n",
    "age = 10\n",
    "birthday_string_2 = \" years old today!\"\n",
    "\n",
    "# Concatenating an integer with strings is possible if we turn the integer into a string first\n",
    "full_birthday_string = birthday_string + str(age) + birthday_string_2\n",
    "\n",
    "# Prints \"I am 10 years old today!\"\n",
    "print(full_birthday_string)\n",
    "\n",
    "# If we just want to print an integer \n",
    "# we can pass a variable as an argument to \n",
    "# print() regardless of whether \n",
    "# it is a string.\n",
    "\n",
    "# This also prints \"I am 10 years old today!\"\n",
    "print(birthday_string, age, birthday_string_2)"
   ]
  },
  {
   "cell_type": "markdown",
   "metadata": {},
   "source": [
    "Using str() we can convert variables that are not strings to strings and then concatenate them. But we don’t need to convert a number to a string for it to be an argument to a print statement."
   ]
  },
  {
   "cell_type": "markdown",
   "metadata": {},
   "source": [
    "**Concatenating Multiple strings to display a message**"
   ]
  },
  {
   "cell_type": "code",
   "execution_count": 37,
   "metadata": {},
   "outputs": [
    {
     "name": "stdout",
     "output_type": "stream",
     "text": [
      "The wind, which had hitherto carried us along with amazing rapidity, sank at sunset to a light breeze; the soft air just ruffled the water and caused a pleasant motion among the trees as we approached the shore, from which it wafted the most delightful scent of flowers and hay.\n"
     ]
    }
   ],
   "source": [
    "string1 = \"The wind, \"\n",
    "string2 = \"which had hitherto carried us along with amazing rapidity, \"\n",
    "string3 = \"sank at sunset to a light breeze; \"\n",
    "string4 = \"the soft air just ruffled the water and \"\n",
    "string5 = \"caused a pleasant motion among the trees as we approached the shore, \"\n",
    "string6 = \"from which it wafted the most delightful scent of flowers and hay.\"\n",
    "\n",
    "# Define message below:\n",
    "message = string1 + string2 + string3 + string4 + string5 + string6\n",
    "\n",
    "print(message)"
   ]
  },
  {
   "cell_type": "markdown",
   "metadata": {},
   "source": [
    "# Plus Equals  \n",
    "Python offers a shorthand for updating variables.   \n",
    "When you have a number saved in a variable and want to add to the current value of the variable, you can use the **+=** (plus-equals) operator.  \n",
    "\n",
    "Here we keep a running count of the number of miles a person has gone hiking over time. Instead of recalculating from the start, we keep a grand total and update it when we’ve gone hiking further."
   ]
  },
  {
   "cell_type": "code",
   "execution_count": 38,
   "metadata": {},
   "outputs": [
    {
     "name": "stdout",
     "output_type": "stream",
     "text": [
      "14\n"
     ]
    }
   ],
   "source": [
    "# First we have a variable with a number saved\n",
    "number_of_miles_hiked = 12\n",
    "\n",
    "# Then we need to update that variable\n",
    "# Let's say we hike another two miles today\n",
    "number_of_miles_hiked += 2\n",
    "\n",
    "# The new value is the old value\n",
    "# Plus the number after the plus-equals\n",
    "print(number_of_miles_hiked)\n",
    "# Prints 14"
   ]
  },
  {
   "cell_type": "markdown",
   "metadata": {},
   "source": [
    "The plus-equals operator also can be used for string concatenation"
   ]
  },
  {
   "cell_type": "markdown",
   "metadata": {},
   "source": [
    "We’re doing a little bit of online shopping and find a pair of new sneakers. Right before we check out, we spot a nice sweater and some fun books we also want to purchase!\n",
    "\n",
    "Use the += operator to update the total_price to include the prices of nice_sweater and fun_books.\n",
    "\n",
    "The prices (also included in the workspace) are:\n",
    "\n",
    "    new_sneakers = 50.00\n",
    "    nice_sweater = 39.00\n",
    "    fun_books = 20.00"
   ]
  },
  {
   "cell_type": "code",
   "execution_count": 39,
   "metadata": {},
   "outputs": [
    {
     "name": "stdout",
     "output_type": "stream",
     "text": [
      "The total price is 109.0\n"
     ]
    }
   ],
   "source": [
    "# Initialize Total Price to \"Zero\"\n",
    "total_price = 0\n",
    "\n",
    "# Initial Total Price of new sneakers\n",
    "new_sneakers = 50.00\n",
    "\n",
    "# Total Price with \"New Sneakers\"\n",
    "total_price += new_sneakers\n",
    "\n",
    "# Initial Price of New Sweater\n",
    "nice_sweater = 39.00\n",
    "\n",
    "# Initial Price of Fun Books\n",
    "fun_books = 20.00\n",
    "\n",
    "# Update total_price here:\n",
    "total_price = nice_sweater + fun_books + new_sneakers\n",
    "print(\"The total price is\", total_price)"
   ]
  },
  {
   "cell_type": "markdown",
   "metadata": {},
   "source": [
    "**Question :** In Python, can the += operator be used to add more than one value at a time?  \n",
    "**Answer :** Yes, the += operator allows adding more than just a single value at a time. Anything on the right-hand side of the += will be evaluated, and then it will be added to the variable which is then updated to that new value."
   ]
  },
  {
   "cell_type": "code",
   "execution_count": 40,
   "metadata": {},
   "outputs": [
    {
     "name": "stdout",
     "output_type": "stream",
     "text": [
      "100\n",
      "80\n"
     ]
    }
   ],
   "source": [
    "# Plus Equals with a single value:\n",
    "miles = 80\n",
    "miles += 20 # miles is now 100\n",
    "print(miles)\n",
    "\n",
    "# Plus Equals with more than one value:\n",
    "snow_level = 10\n",
    "snow_level += 20 + 10 + 40 # snow_level is now 80\n",
    "print(snow_level)"
   ]
  },
  {
   "cell_type": "code",
   "execution_count": 41,
   "metadata": {},
   "outputs": [
    {
     "name": "stdout",
     "output_type": "stream",
     "text": [
      "15\n"
     ]
    }
   ],
   "source": [
    "total_cost = 5\n",
    "total_cost += 10\n",
    "print(total_cost)"
   ]
  },
  {
   "cell_type": "markdown",
   "metadata": {},
   "source": [
    "# Multi-line Strings  \n",
    "Python strings are very flexible, but if we try to create a string that occupies multiple lines we find ourselves face-to-face with a SyntaxError. Python offers a solution: multi-line strings.   \n",
    "By using three quote-marks (\"\"\" or ''') instead of one, we tell the program that the string doesn’t end until the next triple-quote.   \n",
    "This method is useful if the string being defined contains a lot of quotation marks and we want to be sure we don’t close it prematurely."
   ]
  },
  {
   "cell_type": "code",
   "execution_count": 42,
   "metadata": {},
   "outputs": [
    {
     "name": "stdout",
     "output_type": "stream",
     "text": [
      "\n",
      "Poets to come! orators, singers, musicians to come!\n",
      "Not to-day is to justify me and answer what I am for,\n",
      "But you, a new brood, native, athletic, continental, greater than\n",
      "  before known,\n",
      "Arouse! for you must justify me.\n",
      "\n"
     ]
    }
   ],
   "source": [
    "leaves_of_grass = \"\"\"\n",
    "Poets to come! orators, singers, musicians to come!\n",
    "Not to-day is to justify me and answer what I am for,\n",
    "But you, a new brood, native, athletic, continental, greater than\n",
    "  before known,\n",
    "Arouse! for you must justify me.\n",
    "\"\"\"\n",
    "print(leaves_of_grass)"
   ]
  },
  {
   "cell_type": "markdown",
   "metadata": {},
   "source": [
    "Create variables:\n",
    "\n",
    "    my_age\n",
    "    half_my_age\n",
    "    greeting\n",
    "    name\n",
    "    greeting_with_name\n",
    "\n",
    "Assign values to each using your knowledge of division and concatenation!\n"
   ]
  },
  {
   "cell_type": "code",
   "execution_count": 43,
   "metadata": {},
   "outputs": [
    {
     "name": "stdout",
     "output_type": "stream",
     "text": [
      "My age is 48\n",
      "My name is Ravi and My age is 48\n"
     ]
    }
   ],
   "source": [
    "# Variable my_age\n",
    "my_age = 48\n",
    "\n",
    "# half of my_age\n",
    "half_my_age = my_age / 2\n",
    "\n",
    "# my name\n",
    "name = \"Ravi\"\n",
    "\n",
    "# greeting\n",
    "greeting = \"My age is\"\n",
    "\n",
    "# Base Greeting\n",
    "print(greeting , my_age )\n",
    "\n",
    "# greeting with name\n",
    "greeting_with_name = \"My name is\" \n",
    "\n",
    "# Greeting with Name\n",
    "print(greeting_with_name + \" \" + name + \" \" + \"and\" + \" \" + greeting + \" \" + str(my_age))"
   ]
  },
  {
   "cell_type": "code",
   "execution_count": null,
   "metadata": {},
   "outputs": [],
   "source": []
  },
  {
   "cell_type": "markdown",
   "metadata": {},
   "source": [
    "# Project : Purchasing Information and Receipts for Lovely Loveseats  \n",
    "\n",
    "We’ve decided to pursue the dream of small-business ownership and open up a furniture store called Lovely Loveseats for Neat Suites on Fleet Street. With our newfound knowledge of Python programming, we’re going to build a system to help speed up the process of creating receipts for your customers.\n",
    "\n",
    "In this project, we will be storing the names and prices of a furniture store’s catalog in variables. You will then process the total price and item list of customers, printing them to the output terminal.\n"
   ]
  },
  {
   "cell_type": "markdown",
   "metadata": {},
   "source": [
    "**Task 1 :  Adding In The Catalog**   \n",
    "Let’s add in our first item, the Lovely Loveseat that is the store’s namesake.  \n",
    "Create a variable called lovely_loveseat_description and assign to it the following string:  \n",
    "\"Lovely Loveseat. Tufted polyester blend on wood. 32 inches high x 40 inches wide x 30 inches deep. Red or white.\""
   ]
  },
  {
   "cell_type": "code",
   "execution_count": 44,
   "metadata": {},
   "outputs": [
    {
     "name": "stdout",
     "output_type": "stream",
     "text": [
      "\n",
      "Lovely Loveseat. Tufted polyester blend on wood. 32 inches high x 40 inches wide x 30 inches deep. Red or white.\n",
      "\n"
     ]
    }
   ],
   "source": [
    "lovley_loveseat_description = \"\"\"\n",
    "Lovely Loveseat. Tufted polyester blend on wood. 32 inches high x 40 inches wide x 30 inches deep. Red or white.\n",
    "\"\"\"\n",
    "print(lovley_loveseat_description)"
   ]
  },
  {
   "cell_type": "markdown",
   "metadata": {},
   "source": [
    "**Task 2 : Creating the Price**   \n",
    "Great, now let’s create a price for the loveseat.   \n",
    "Create a variable lovely_loveseat_price and set it equal to 254.00."
   ]
  },
  {
   "cell_type": "code",
   "execution_count": 45,
   "metadata": {},
   "outputs": [
    {
     "name": "stdout",
     "output_type": "stream",
     "text": [
      "254.0\n"
     ]
    }
   ],
   "source": [
    "lovley_seat_price = 254.00\n",
    "print(lovley_seat_price)"
   ]
  },
  {
   "cell_type": "markdown",
   "metadata": {},
   "source": [
    "**Task 3 : Adding more Items**    \n",
    "Let’s extend our inventory with another characteristic piece of furniture!   \n",
    "Create a variable called stylish_settee_description and assign to it the following string:  \n",
    "\"Stylish Settee. Faux leather on birch. 29.50 inches high x 54.75 inches wide x 28 inches deep. Black.\"  "
   ]
  },
  {
   "cell_type": "code",
   "execution_count": 46,
   "metadata": {},
   "outputs": [
    {
     "name": "stdout",
     "output_type": "stream",
     "text": [
      "\n",
      "Stylish Settee. Faux leather on birch. 29.50 inches high x 54.75 inches wide x 28 inches deep. Black\n",
      "\n"
     ]
    }
   ],
   "source": [
    "stylish_settee_description = \"\"\"\n",
    "Stylish Settee. Faux leather on birch. 29.50 inches high x 54.75 inches wide x 28 inches deep. Black\n",
    "\"\"\"\n",
    "print(stylish_settee_description)"
   ]
  },
  {
   "cell_type": "markdown",
   "metadata": {},
   "source": [
    "**Task 4 : Adding Price**    \n",
    "Now let’s set the price for our Stylish Settee.   \n",
    "Create a variable stylish_settee_price and assign it the value of 180.50 "
   ]
  },
  {
   "cell_type": "code",
   "execution_count": 47,
   "metadata": {},
   "outputs": [
    {
     "name": "stdout",
     "output_type": "stream",
     "text": [
      "180.5\n"
     ]
    }
   ],
   "source": [
    "stylish_settee_price = 180.50\n",
    "print(stylish_settee_price)"
   ]
  },
  {
   "cell_type": "markdown",
   "metadata": {},
   "source": [
    "**Task 5 : Adding more items**    \n",
    "Fantastic, we just need one more item before we’re ready for business.   \n",
    "Create a new variable called luxurious_lamp_description and assign it the following:  \n",
    "\"Luxurious Lamp. Glass and iron. 36 inches tall. Brown with cream shade.\""
   ]
  },
  {
   "cell_type": "code",
   "execution_count": 48,
   "metadata": {},
   "outputs": [
    {
     "name": "stdout",
     "output_type": "stream",
     "text": [
      "\n",
      "Luxurious Lamp. Glass and iron. 36 inches tall. Brown with cream shade\n",
      "\n"
     ]
    }
   ],
   "source": [
    "luxurious_lamp_description = \"\"\"\n",
    "Luxurious Lamp. Glass and iron. 36 inches tall. Brown with cream shade\n",
    "\"\"\"\n",
    "print(luxurious_lamp_description)"
   ]
  },
  {
   "cell_type": "markdown",
   "metadata": {},
   "source": [
    "**Task 6 : Adding price for more items**   \n",
    "Let’s set the price for this item. Create a variable called luxurious_lamp_price and set it equal to 52.15."
   ]
  },
  {
   "cell_type": "code",
   "execution_count": 49,
   "metadata": {},
   "outputs": [
    {
     "name": "stdout",
     "output_type": "stream",
     "text": [
      "52.15\n"
     ]
    }
   ],
   "source": [
    "luxurious_lamp_price = 52.15\n",
    "print(luxurious_lamp_price)"
   ]
  },
  {
   "cell_type": "markdown",
   "metadata": {},
   "source": [
    "**Task 7 : Adding Sales tax**   \n",
    "In order to be a business, we should also be calculating sales tax.   \n",
    "Let’s store that in a variable as well.  \n",
    "Define the variable sales_tax and set it equal to .088. That’s 8.8%."
   ]
  },
  {
   "cell_type": "code",
   "execution_count": 50,
   "metadata": {},
   "outputs": [
    {
     "name": "stdout",
     "output_type": "stream",
     "text": [
      "0.088\n"
     ]
    }
   ],
   "source": [
    "sales_tax = 0.088\n",
    "print(sales_tax)"
   ]
  },
  {
   "cell_type": "markdown",
   "metadata": {},
   "source": [
    "**Task 8 : Customer One**     \n",
    "Our first customer is making their purchase! Let’s keep a running tally of their expenses by defining a variable called customer_one_total. Since they haven’t purchased anything yet, let’s set that variable equal to 0 for now."
   ]
  },
  {
   "cell_type": "code",
   "execution_count": 51,
   "metadata": {},
   "outputs": [
    {
     "name": "stdout",
     "output_type": "stream",
     "text": [
      "0\n"
     ]
    }
   ],
   "source": [
    "customer_one_total = 0\n",
    "print(customer_one_total)"
   ]
  },
  {
   "cell_type": "markdown",
   "metadata": {},
   "source": [
    "**Task 9 : Customer One Itemization**   \n",
    "We should also keep a list of the descriptions of things they’re purchasing. Create a variable called customer_one_itemization and set that equal to the empty string \"\". We’ll tack on the descriptions to this as they make their purchases."
   ]
  },
  {
   "cell_type": "code",
   "execution_count": 52,
   "metadata": {},
   "outputs": [
    {
     "name": "stdout",
     "output_type": "stream",
     "text": [
      "\n"
     ]
    }
   ],
   "source": [
    "customer_one_itemization = \"\"\n",
    "print(customer_one_itemization)"
   ]
  },
  {
   "cell_type": "markdown",
   "metadata": {},
   "source": [
    "**Task 10 : Customer Purchase**  \n",
    "* Our customer has decided they are going to purchase our Lovely Loveseat! Add the price to customer_one_total  \n",
    "* Let’s start keeping track of the items our customer purchased. Add the description of the Lovely Loveseat to customer_one_itemization  \n",
    "* Our customer has also decided to purchase the Luxurious Lamp! Let’s add the price to the customer’s total.  \n",
    "* Let’s keep the itemization up-to-date and add the description of the Luxurious Lamp to our itemization."
   ]
  },
  {
   "cell_type": "code",
   "execution_count": 53,
   "metadata": {},
   "outputs": [
    {
     "name": "stdout",
     "output_type": "stream",
     "text": [
      "52.15\n"
     ]
    }
   ],
   "source": [
    "customer_one_total += luxurious_lamp_price\n",
    "print(customer_one_total)"
   ]
  },
  {
   "cell_type": "code",
   "execution_count": 54,
   "metadata": {},
   "outputs": [
    {
     "name": "stdout",
     "output_type": "stream",
     "text": [
      "\n",
      "Lovely Loveseat. Tufted polyester blend on wood. 32 inches high x 40 inches wide x 30 inches deep. Red or white.\n",
      "\n"
     ]
    }
   ],
   "source": [
    "customer_one_itemization += lovley_loveseat_description\n",
    "print(customer_one_itemization)"
   ]
  },
  {
   "cell_type": "code",
   "execution_count": 55,
   "metadata": {},
   "outputs": [
    {
     "name": "stdout",
     "output_type": "stream",
     "text": [
      "104.3\n"
     ]
    }
   ],
   "source": [
    "customer_one_total += luxurious_lamp_price\n",
    "print(customer_one_total)"
   ]
  },
  {
   "cell_type": "code",
   "execution_count": 56,
   "metadata": {},
   "outputs": [
    {
     "name": "stdout",
     "output_type": "stream",
     "text": [
      "\n",
      "Lovely Loveseat. Tufted polyester blend on wood. 32 inches high x 40 inches wide x 30 inches deep. Red or white.\n",
      "\n",
      "Luxurious Lamp. Glass and iron. 36 inches tall. Brown with cream shade\n",
      "\n"
     ]
    }
   ],
   "source": [
    "customer_one_itemization += luxurious_lamp_description\n",
    "print(customer_one_itemization)"
   ]
  },
  {
   "cell_type": "markdown",
   "metadata": {},
   "source": [
    "**Task 11 : Customer Check Out**   \n",
    "They’re ready to check out! Let’s begin by calculating sales tax.  \n",
    "* Create a variable called customer_one_tax and set it equal to customer_one_total times sales_tax  \n",
    "* Add the sales tax to the customer’s total cost."
   ]
  },
  {
   "cell_type": "code",
   "execution_count": 57,
   "metadata": {},
   "outputs": [
    {
     "name": "stdout",
     "output_type": "stream",
     "text": [
      "9.1784\n"
     ]
    }
   ],
   "source": [
    "customer_one_tax = customer_one_total * sales_tax\n",
    "print(customer_one_tax)"
   ]
  },
  {
   "cell_type": "code",
   "execution_count": 58,
   "metadata": {},
   "outputs": [
    {
     "name": "stdout",
     "output_type": "stream",
     "text": [
      "113.4784\n"
     ]
    }
   ],
   "source": [
    "customer_one_total += customer_one_tax\n",
    "print(customer_one_total)"
   ]
  },
  {
   "cell_type": "markdown",
   "metadata": {},
   "source": [
    "**Task 12 : Customer Bill Printing**    \n",
    "Let’s start printing up their receipt!   \n",
    "* Begin by printing out the heading for their itemization. Print the phrase \"Customer One Items:\".  \n",
    "* Print customer_one_itemization. \n",
    "* Now add a heading for their total cost: Print out \"Customer One Total:\"  \n",
    "* Now print out their total! Our first customer now has a receipt for the things they purchased."
   ]
  },
  {
   "cell_type": "code",
   "execution_count": 59,
   "metadata": {},
   "outputs": [
    {
     "name": "stdout",
     "output_type": "stream",
     "text": [
      "CUSTOMER ONE ITEMS :\n",
      "\n",
      "Lovely Loveseat. Tufted polyester blend on wood. 32 inches high x 40 inches wide x 30 inches deep. Red or white.\n",
      "\n",
      "Luxurious Lamp. Glass and iron. 36 inches tall. Brown with cream shade\n",
      "\n",
      "CUSTOMER ONE TOTAL : 113.4784\n"
     ]
    }
   ],
   "source": [
    "print(\"CUSTOMER ONE ITEMS :\")\n",
    "print(customer_one_itemization)\n",
    "print(\"CUSTOMER ONE TOTAL :\" , customer_one_total)"
   ]
  },
  {
   "cell_type": "markdown",
   "metadata": {},
   "source": [
    "# Project : Medical Insurance Project  \n",
    "Suppose you are a medical professional curious about how certain factors contribute to medical insurance costs. Using a formula that estimates a person’s yearly insurance costs, you will investigate how different factors such as age, sex, BMI, etc. affect the prediction"
   ]
  },
  {
   "cell_type": "markdown",
   "metadata": {},
   "source": [
    "**Task 1 : Setting up Factors**   \n",
    "Create the following variables for a 28-year-old, nonsmoking woman who has three children and a BMI of 26.2.:  \n",
    "\n",
    "    age: age of the individual in years\n",
    "    sex: 0 for female, 1 for male*\n",
    "    bmi: individual’s body mass index\n",
    "    num_of_children: number of children the individual has\n",
    "    smoker: 0 for a non-smoker, 1 for a smoker\n",
    "\n"
   ]
  },
  {
   "cell_type": "code",
   "execution_count": 60,
   "metadata": {},
   "outputs": [],
   "source": [
    "# create initial variables\n",
    "age = 28\n",
    "sex = 0\n",
    "bmi = 26.2\n",
    "num_of_children = 3\n",
    "smoker = 0"
   ]
  },
  {
   "cell_type": "markdown",
   "metadata": {},
   "source": [
    "**Task 2 : Working with the Formula**   \n",
    "After the declaration of the variables, create a variable called insurance_costs that utilizes the following formula:\n",
    "\n",
    "insurance_cost = 250∗age−128∗sex+370∗bmi+425∗num_of_children+24000∗smoker−12500\n",
    "\n"
   ]
  },
  {
   "cell_type": "code",
   "execution_count": 61,
   "metadata": {},
   "outputs": [
    {
     "data": {
      "text/plain": [
       "5469.0"
      ]
     },
     "execution_count": 61,
     "metadata": {},
     "output_type": "execute_result"
    }
   ],
   "source": [
    "# Add insurance estimate formula\n",
    "insurance_cost = 250*age - 128*sex + 370*bmi + 425*num_of_children + 24000*smoker - 12500\n",
    "insurance_cost"
   ]
  },
  {
   "cell_type": "markdown",
   "metadata": {},
   "source": [
    "**Task 3 : Informative display**    \n",
    "Let’s display this value in an informative way. Print out the following string in the terminal:\n",
    "\n",
    "**This person's insurance cost is {insurance_cost} dollars.**"
   ]
  },
  {
   "cell_type": "code",
   "execution_count": 62,
   "metadata": {},
   "outputs": [
    {
     "name": "stdout",
     "output_type": "stream",
     "text": [
      "This person's insurance cost is 5469.0 dollars\n"
     ]
    }
   ],
   "source": [
    "# Display the insurance Cost\n",
    "print(\"This person's insurance cost is \" + str(insurance_cost) + \" dollars\")"
   ]
  },
  {
   "cell_type": "markdown",
   "metadata": {},
   "source": [
    "**Task 4 : Looking at Age Factor**    \n",
    "We have seen how our formula can estimate costs for one individual. Now let’s play with some individual factors to see what role each one plays in our estimation!\n",
    "\n",
    "Let’s start with the age factor. Using a plus-equal operator, add 4 years to our age variable.\n"
   ]
  },
  {
   "cell_type": "code",
   "execution_count": 63,
   "metadata": {},
   "outputs": [
    {
     "data": {
      "text/plain": [
       "32"
      ]
     },
     "execution_count": 63,
     "metadata": {},
     "output_type": "execute_result"
    }
   ],
   "source": [
    "age+=4\n",
    "age"
   ]
  },
  {
   "cell_type": "markdown",
   "metadata": {},
   "source": [
    "**Task 5 : Recalculate Insurance Cost**    \n",
    "Now that we have changed our age value, we want to recalculate our insurance cost.   \n",
    "Declare a new variable called new_insurance_cost underneath the expression that increased age by 4."
   ]
  },
  {
   "cell_type": "code",
   "execution_count": 64,
   "metadata": {},
   "outputs": [
    {
     "data": {
      "text/plain": [
       "6469.0"
      ]
     },
     "execution_count": 64,
     "metadata": {},
     "output_type": "execute_result"
    }
   ],
   "source": [
    "# declare new variable\n",
    "new_insurance_cost = 250*age - 128*sex + 370*bmi + 425*num_of_children + 24000*smoker - 12500\n",
    "new_insurance_cost"
   ]
  },
  {
   "cell_type": "markdown",
   "metadata": {},
   "source": [
    "**Task 6 : Difference in insurance cost**    \n",
    "Next, we want to find the difference between our new_insurance_cost and insurance_cost.   \n",
    "To do this, let’s create a new variable called change_in_insurance_cost and set it equal to the difference between new_insurance_cost and insurance cost\n",
    "\n",
    "On the following line, print the following string in the terminal:  \n",
    "**The change in cost of insurance after increasing the age by 4 years is {change_in_insurance_cost} dollars.**"
   ]
  },
  {
   "cell_type": "code",
   "execution_count": 65,
   "metadata": {},
   "outputs": [
    {
     "data": {
      "text/plain": [
       "1000.0"
      ]
     },
     "execution_count": 65,
     "metadata": {},
     "output_type": "execute_result"
    }
   ],
   "source": [
    "# diffrence in insurance cost  \n",
    "change_in_insurance_cost = new_insurance_cost - insurance_cost\n",
    "change_in_insurance_cost"
   ]
  },
  {
   "cell_type": "code",
   "execution_count": 66,
   "metadata": {},
   "outputs": [
    {
     "name": "stdout",
     "output_type": "stream",
     "text": [
      "The change in cost of insurance after increasing the age by 4 years is 1000.0 dollars\n"
     ]
    }
   ],
   "source": [
    "# Display the change in cost  \n",
    "print(\"The change in cost of insurance after increasing the age by 4 years is \" + str(change_in_insurance_cost) + \" dollars\")"
   ]
  },
  {
   "cell_type": "markdown",
   "metadata": {},
   "source": [
    "**Task 7 : Looking at BMI Factor**   \n",
    "Now that you have looked at the age factor, let’s move onto another one: BMI. First, we have to redefine our age variable to be its original value.\n",
    "\n",
    "Set age to 28 following your last piece of code. This will reset its value and allow us to focus on just the change in the BMI factor moving forward.\n",
    "\n",
    "On the next line, using the plus-equal operator, add 3.1 to our bmi variable.\n"
   ]
  },
  {
   "cell_type": "code",
   "execution_count": 67,
   "metadata": {},
   "outputs": [
    {
     "data": {
      "text/plain": [
       "29.3"
      ]
     },
     "execution_count": 67,
     "metadata": {},
     "output_type": "execute_result"
    }
   ],
   "source": [
    "# reset age to 28\n",
    "age = 28 \n",
    "age\n",
    "\n",
    "# bmi factor increase\n",
    "bmi+= 3.1\n",
    "bmi"
   ]
  },
  {
   "cell_type": "markdown",
   "metadata": {},
   "source": [
    "**Task 7 : Print**    \n",
    "Now let’s find out how a change in BMI affects insurance costs.\n",
    "Rewrite the insurance cost formula and assign it to the variable name new_insurance_cost_bmi.  \n",
    "Save the difference between new_insurance_cost and insurance_cost in a variable called change_in_insurance_cost  \n",
    "Display the following string in the output terminal:  \n",
    "**The change in estimated insurance cost after increasing BMI by 3.1 is {change_in_insurance_cost} dollars.**"
   ]
  },
  {
   "cell_type": "code",
   "execution_count": 68,
   "metadata": {},
   "outputs": [
    {
     "name": "stdout",
     "output_type": "stream",
     "text": [
      "The change in estimated insurance cost after increasing BMI by 3.1 is 1147.0 dollars\n"
     ]
    }
   ],
   "source": [
    "# new_insurance_cost_bmi\n",
    "new_insurance_cost_bmi = 250*age - 128*sex + 370*bmi + 425*num_of_children + 24000*smoker - 12500 \n",
    "\n",
    "# change in insurance cost  \n",
    "change_bmi = new_insurance_cost_bmi - insurance_cost  \n",
    "\n",
    "# display the message\n",
    "print(\"The change in estimated insurance cost after increasing BMI by 3.1 is \" + \n",
    "     str(change_bmi) + \" dollars\")"
   ]
  },
  {
   "cell_type": "code",
   "execution_count": null,
   "metadata": {},
   "outputs": [],
   "source": []
  }
 ],
 "metadata": {
  "hide_input": false,
  "kernelspec": {
   "display_name": "Python 3",
   "language": "python",
   "name": "python3"
  },
  "language_info": {
   "codemirror_mode": {
    "name": "ipython",
    "version": 3
   },
   "file_extension": ".py",
   "mimetype": "text/x-python",
   "name": "python",
   "nbconvert_exporter": "python",
   "pygments_lexer": "ipython3",
   "version": "3.8.5"
  },
  "latex_envs": {
   "LaTeX_envs_menu_present": true,
   "autoclose": false,
   "autocomplete": true,
   "bibliofile": "biblio.bib",
   "cite_by": "apalike",
   "current_citInitial": 1,
   "eqLabelWithNumbers": true,
   "eqNumInitial": 1,
   "hotkeys": {
    "equation": "Ctrl-E",
    "itemize": "Ctrl-I"
   },
   "labels_anchors": false,
   "latex_user_defs": false,
   "report_style_numbering": false,
   "user_envs_cfg": false
  },
  "toc": {
   "base_numbering": 1,
   "nav_menu": {},
   "number_sections": true,
   "sideBar": true,
   "skip_h1_title": false,
   "title_cell": "Pyton Syntax",
   "title_sidebar": "Contents",
   "toc_cell": true,
   "toc_position": {},
   "toc_section_display": true,
   "toc_window_display": true
  },
  "varInspector": {
   "cols": {
    "lenName": 16,
    "lenType": 16,
    "lenVar": 40
   },
   "kernels_config": {
    "python": {
     "delete_cmd_postfix": "",
     "delete_cmd_prefix": "del ",
     "library": "var_list.py",
     "varRefreshCmd": "print(var_dic_list())"
    },
    "r": {
     "delete_cmd_postfix": ") ",
     "delete_cmd_prefix": "rm(",
     "library": "var_list.r",
     "varRefreshCmd": "cat(var_dic_list()) "
    }
   },
   "types_to_exclude": [
    "module",
    "function",
    "builtin_function_or_method",
    "instance",
    "_Feature"
   ],
   "window_display": false
  }
 },
 "nbformat": 4,
 "nbformat_minor": 2
}
