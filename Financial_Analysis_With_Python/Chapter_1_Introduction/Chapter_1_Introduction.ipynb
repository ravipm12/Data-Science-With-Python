{
 "cells": [
  {
   "cell_type": "markdown",
   "metadata": {},
   "source": [
    "<div class=\"alert alert-info\" style=\"background-color:#006a79; color:white; padding:0px 10px; border-radius:5px;\"><h2 style='margin:10px 5px'>Required Packages</h2>\n",
    "</div>"
   ]
  },
  {
   "cell_type": "code",
   "execution_count": 1,
   "metadata": {},
   "outputs": [],
   "source": [
    "# Web Scraping Finance Data\n",
    "from pandas_datareader import data as wb\n",
    "\n",
    "# Data Manipulation\n",
    "import numpy as np\n",
    "import pandas as pd \n",
    "import pandas_profiling\n",
    "import pandas_datareader\n",
    "\n",
    "# Data Visualization\n",
    "import seaborn as sns \n",
    "import matplotlib.pyplot as plt\n",
    "import matplotlib.lines as mlines\n",
    "\n",
    "# Track time\n",
    "import time\n",
    "import datetime\n",
    "import calendar\n",
    "\n",
    "# Statistics\n",
    "import scipy.stats\n",
    "import statsmodels\n",
    "import math\n",
    "import random\n",
    "import warnings\n",
    "\n",
    "# Set Options\n",
    "pd.set_option('display.max_rows', 800)\n",
    "pd.set_option('display.max_columns', 500)\n",
    "pd.set_option('expand_frame_repr', False)\n",
    "%matplotlib inline\n",
    "warnings.filterwarnings(\"ignore\")"
   ]
  },
  {
   "cell_type": "markdown",
   "metadata": {},
   "source": [
    "<div class=\"alert alert-info\" style=\"background-color:#006a79; color:white; padding:0px 10px; border-radius:5px;\"><h2 style='margin:10px 5px'>Numpy Introduction</h2>\n",
    "</div>"
   ]
  },
  {
   "cell_type": "markdown",
   "metadata": {},
   "source": [
    "Numpy is the core library for scientific computing in Python. It provides a high-performance multidimensional array object, and tools for working with these arrays.  \n",
    "\n",
    "A numpy array is a grid of values, **all of the same type**, and is indexed by a tuple of nonnegative integers. The number of dimensions is the rank of the array; the shape of an array is a tuple of integers giving the size of the array along each dimension.  \n",
    "\n",
    "We can initialize numpy arrays from nested Python lists, and access elements using square brackets.  \n",
    "\n",
    "Arrays are \"Zero Indexed\"  \n",
    "\n",
    "You can read about other methods of array creation @ http://docs.scipy.org/doc/numpy/user/basics.creation.html#arrays-creation"
   ]
  },
  {
   "cell_type": "code",
   "execution_count": 2,
   "metadata": {},
   "outputs": [],
   "source": [
    "# import numpy library\n",
    "import numpy as np"
   ]
  },
  {
   "cell_type": "code",
   "execution_count": 3,
   "metadata": {},
   "outputs": [
    {
     "data": {
      "text/plain": [
       "array([[0, 1, 2, 3],\n",
       "       [4, 5, 6, 7]])"
      ]
     },
     "execution_count": 3,
     "metadata": {},
     "output_type": "execute_result"
    }
   ],
   "source": [
    "# Array of Rank 2 (2 lists)\n",
    "a = np.array([[0, 1, 2, 3], [4, 5, 6, 7]])\n",
    "a"
   ]
  },
  {
   "cell_type": "code",
   "execution_count": 4,
   "metadata": {},
   "outputs": [
    {
     "data": {
      "text/plain": [
       "array([[1, 2, 3],\n",
       "       [4, 5, 6]])"
      ]
     },
     "execution_count": 4,
     "metadata": {},
     "output_type": "execute_result"
    }
   ],
   "source": [
    "# Array of Rank 2\n",
    "b = np.array([[1,2,3],[4,5,6]])    # Create a rank 2 array\n",
    "b"
   ]
  },
  {
   "cell_type": "code",
   "execution_count": 5,
   "metadata": {},
   "outputs": [
    {
     "data": {
      "text/plain": [
       "(2, 4)"
      ]
     },
     "execution_count": 5,
     "metadata": {},
     "output_type": "execute_result"
    }
   ],
   "source": [
    "# Shape of Array\n",
    "a.shape"
   ]
  },
  {
   "cell_type": "markdown",
   "metadata": {},
   "source": [
    "Similar to Python lists, numpy arrays can be sliced/accessed. Since arrays may be multidimensional, you must specify a slice for each dimension of the array."
   ]
  },
  {
   "cell_type": "code",
   "execution_count": 6,
   "metadata": {},
   "outputs": [
    {
     "data": {
      "text/plain": [
       "6"
      ]
     },
     "execution_count": 6,
     "metadata": {},
     "output_type": "execute_result"
    }
   ],
   "source": [
    "# Return item at 2nd Row and 3rd Column\n",
    "a[1,2]"
   ]
  },
  {
   "cell_type": "markdown",
   "metadata": {},
   "source": [
    "We can replace the value an array by specifying the value at the desired position of the Array in square brackets"
   ]
  },
  {
   "cell_type": "code",
   "execution_count": 7,
   "metadata": {},
   "outputs": [
    {
     "data": {
      "text/plain": [
       "array([[ 0,  1,  2,  3],\n",
       "       [ 4,  5, 10,  7]])"
      ]
     },
     "execution_count": 7,
     "metadata": {},
     "output_type": "execute_result"
    }
   ],
   "source": [
    "# Replace 2nd Row and 3rd Coumn with value 10\n",
    "a[1,2] = 10\n",
    "a"
   ]
  },
  {
   "cell_type": "markdown",
   "metadata": {},
   "source": [
    "We can extract a complete row of the array by specifying Row Index"
   ]
  },
  {
   "cell_type": "code",
   "execution_count": 8,
   "metadata": {},
   "outputs": [
    {
     "data": {
      "text/plain": [
       "array([0, 1, 2, 3])"
      ]
     },
     "execution_count": 8,
     "metadata": {},
     "output_type": "execute_result"
    }
   ],
   "source": [
    "# Extract the 1st row of a\n",
    "a[0]"
   ]
  },
  {
   "cell_type": "markdown",
   "metadata": {},
   "source": [
    "**Exercise 1** Create a 3 x 6-dimensional array, containing only float values"
   ]
  },
  {
   "cell_type": "code",
   "execution_count": 9,
   "metadata": {},
   "outputs": [
    {
     "data": {
      "text/plain": [
       "array([[ 0.  ,  1.  ,  2.  ,  3.  , 15.25,  6.15],\n",
       "       [ 4.15,  5.65,  6.23,  7.  ,  8.  , 81.5 ],\n",
       "       [ 4.  ,  5.  ,  8.3 ,  7.  , 17.5 , 20.  ]])"
      ]
     },
     "execution_count": 9,
     "metadata": {},
     "output_type": "execute_result"
    }
   ],
   "source": [
    "x = np.array([[0, 1, 2, 3, 15.25, 6.15], [4.15, 5.65, 6.23, 7, 8.0, 81.5], [4, 5, 8.3, 7, 17.5, 20]])\n",
    "x"
   ]
  },
  {
   "cell_type": "markdown",
   "metadata": {},
   "source": [
    "**Exercise 2** Check the dimension you have created is correct (use “.shape”)"
   ]
  },
  {
   "cell_type": "code",
   "execution_count": 10,
   "metadata": {},
   "outputs": [
    {
     "data": {
      "text/plain": [
       "(3, 6)"
      ]
     },
     "execution_count": 10,
     "metadata": {},
     "output_type": "execute_result"
    }
   ],
   "source": [
    "x.shape"
   ]
  },
  {
   "cell_type": "markdown",
   "metadata": {},
   "source": [
    "**Exercise 3** Substitute the 5th element from the 2nd row with 19.75"
   ]
  },
  {
   "cell_type": "code",
   "execution_count": 11,
   "metadata": {},
   "outputs": [
    {
     "data": {
      "text/plain": [
       "array([[ 0.  ,  1.  ,  2.  ,  3.  , 15.25,  6.15],\n",
       "       [ 4.15,  5.65,  6.23,  7.  , 19.75, 81.5 ],\n",
       "       [ 4.  ,  5.  ,  8.3 ,  7.  , 17.5 , 20.  ]])"
      ]
     },
     "execution_count": 11,
     "metadata": {},
     "output_type": "execute_result"
    }
   ],
   "source": [
    "x[1,4] = 19.75 ## Row_Index -- 1 , Col_Index -- 4\n",
    "x"
   ]
  },
  {
   "cell_type": "markdown",
   "metadata": {},
   "source": [
    "**Exercise 4** Extract the 2nd and the 3rd row of the array you created. "
   ]
  },
  {
   "cell_type": "code",
   "execution_count": 12,
   "metadata": {},
   "outputs": [
    {
     "data": {
      "text/plain": [
       "array([ 4.15,  5.65,  6.23,  7.  , 19.75, 81.5 ])"
      ]
     },
     "execution_count": 12,
     "metadata": {},
     "output_type": "execute_result"
    }
   ],
   "source": [
    "x[1]"
   ]
  },
  {
   "cell_type": "code",
   "execution_count": 13,
   "metadata": {},
   "outputs": [
    {
     "data": {
      "text/plain": [
       "array([ 4. ,  5. ,  8.3,  7. , 17.5, 20. ])"
      ]
     },
     "execution_count": 13,
     "metadata": {},
     "output_type": "execute_result"
    }
   ],
   "source": [
    "x[2]"
   ]
  },
  {
   "cell_type": "markdown",
   "metadata": {},
   "source": [
    "<div class=\"alert alert-info\" style=\"background-color:#006a79; color:white; padding:0px 10px; border-radius:5px;\"><h2 style='margin:10px 5px'>Random Numbers</h2>\n",
    "</div>  \n",
    "\n",
    "When working with Finance data we are required to run simulations to validate our hypothesis. These simulations call for generating numbers at random.The \"random\" module from core python can be leveraged to generate random numbers."
   ]
  },
  {
   "cell_type": "markdown",
   "metadata": {},
   "source": [
    "**Random Numbers with random module**  \n",
    "The random.random() function generates a float in the range [0,1].  \n",
    "This Random number represents the \"Probability\" of an event happening which will always be between 0 and 1"
   ]
  },
  {
   "cell_type": "code",
   "execution_count": 14,
   "metadata": {},
   "outputs": [],
   "source": [
    "# import random module\n",
    "import random"
   ]
  },
  {
   "cell_type": "code",
   "execution_count": 15,
   "metadata": {},
   "outputs": [
    {
     "name": "stdout",
     "output_type": "stream",
     "text": [
      "0.016154969115516615\n"
     ]
    }
   ],
   "source": [
    "# Random Probability\n",
    "prob = random.random()\n",
    "print (prob)"
   ]
  },
  {
   "cell_type": "markdown",
   "metadata": {},
   "source": [
    "**Random Numbers with randint() function**  \n",
    "This function provides a \"random integer\" value over a provided interval.   \n",
    "Let us generate a random number between 1 & 6 i.e. random number from a fair dice"
   ]
  },
  {
   "cell_type": "code",
   "execution_count": 16,
   "metadata": {},
   "outputs": [
    {
     "name": "stdout",
     "output_type": "stream",
     "text": [
      "6\n"
     ]
    }
   ],
   "source": [
    "# Random number b/w 1 and 6\n",
    "number = random.randint(1, 6)\n",
    "print (number)"
   ]
  },
  {
   "cell_type": "markdown",
   "metadata": {},
   "source": [
    "**Array of Random Numbers with numpy**  \n",
    "We can generate an array of random numbers by applying the np extension to random.randint() i.e. np.random.randint(.  \n",
    "Let us generate an 4X6 array of random numbers between 1 and 6"
   ]
  },
  {
   "cell_type": "code",
   "execution_count": 17,
   "metadata": {},
   "outputs": [
    {
     "data": {
      "text/plain": [
       "array([[4, 5, 5, 3, 4, 2],\n",
       "       [3, 1, 4, 1, 1, 2],\n",
       "       [3, 1, 1, 5, 5, 1],\n",
       "       [2, 4, 4, 5, 2, 4]])"
      ]
     },
     "execution_count": 17,
     "metadata": {},
     "output_type": "execute_result"
    }
   ],
   "source": [
    "# Array of random numbers\n",
    "y = np.random.randint(1,6,(4,6))\n",
    "y"
   ]
  },
  {
   "cell_type": "markdown",
   "metadata": {},
   "source": [
    "**Exercise 1** Generate a random integer within the range of 1 and 20."
   ]
  },
  {
   "cell_type": "code",
   "execution_count": 18,
   "metadata": {},
   "outputs": [
    {
     "name": "stdout",
     "output_type": "stream",
     "text": [
      "19\n"
     ]
    }
   ],
   "source": [
    "# Random integer b/w 1 and 20\n",
    "number = random.randint(1, 20)\n",
    "print (number)"
   ]
  },
  {
   "cell_type": "markdown",
   "metadata": {},
   "source": [
    "**Exercise 2** Create a 3 x 5-dimensional array, filled with random integers within the range of 1 and 20."
   ]
  },
  {
   "cell_type": "code",
   "execution_count": 19,
   "metadata": {},
   "outputs": [
    {
     "data": {
      "text/plain": [
       "array([[ 9,  2, 16,  1, 13],\n",
       "       [ 1,  4, 12, 18, 17],\n",
       "       [ 1,  4, 18, 15,  2]])"
      ]
     },
     "execution_count": 19,
     "metadata": {},
     "output_type": "execute_result"
    }
   ],
   "source": [
    "# 3X5 Array of random numbers\n",
    "z = np.random.randint(1,20,(3,5))\n",
    "z"
   ]
  },
  {
   "attachments": {
    "pandas_series.png": {
     "image/png": "[encoded data removed]"
    }
   },
   "cell_type": "markdown",
   "metadata": {},
   "source": [
    "<div class=\"alert alert-info\" style=\"background-color:#006a79; color:white; padding:0px 10px; border-radius:5px;\"><h2 style='margin:10px 5px'>Pandas Dataframes and Series</h2>\n",
    "</div>   \n",
    "\n",
    "### Series  \n",
    "\n",
    "A Pandas Series is a one-dimensional labeled array capable of holding data of any type (integer, string, float, python objects, etc.). The axis labels are collectively called index. Pandas Series is like a column in an excel sheet.  \n",
    "The Series object supports both integer and label-based indexing and provides a host of methods for performing operations involving the index.  \n",
    "\n",
    "![pandas_series.png](attachment:pandas_series.png)  \n",
    "\n",
    "A Pandas Series can be created from the lists, dictionary, and from a scalar value etc.  \n",
    "\n",
    "In order to access the series element refers to the index number. Use the index operator [ ] to access an element in a series. The index must be an integer. In order to access multiple elements from a series, we use Slice operation. Note that Series are \"Zero Indexed\"."
   ]
  },
  {
   "cell_type": "code",
   "execution_count": 20,
   "metadata": {},
   "outputs": [],
   "source": [
    "# import libraries\n",
    "import pandas as pd\n",
    "import numpy as np"
   ]
  },
  {
   "cell_type": "code",
   "execution_count": 21,
   "metadata": {},
   "outputs": [
    {
     "data": {
      "text/plain": [
       "0    0.219407\n",
       "1    0.115026\n",
       "2    0.764470\n",
       "3    0.595363\n",
       "4    0.708374\n",
       "Name: Numbers, dtype: float64"
      ]
     },
     "execution_count": 21,
     "metadata": {},
     "output_type": "execute_result"
    }
   ],
   "source": [
    "# Create a Series of 5 Random Numbers with a Column Name\n",
    "ser = pd.Series(np.random.random(5), name = \"Numbers\")\n",
    "ser"
   ]
  },
  {
   "cell_type": "markdown",
   "metadata": {},
   "source": [
    "The numbers \"0,1,2\" represent the indices of each row of values in column \"Numbers\""
   ]
  },
  {
   "cell_type": "code",
   "execution_count": 22,
   "metadata": {},
   "outputs": [
    {
     "data": {
      "text/plain": [
       "0.7644704617667336"
      ]
     },
     "execution_count": 22,
     "metadata": {},
     "output_type": "execute_result"
    }
   ],
   "source": [
    "# Access the 3rd Element of the series\n",
    "ser[2]"
   ]
  },
  {
   "attachments": {
    "pandas_dataframe.png": {
     "image/png": "[encoded data removed]"
    }
   },
   "cell_type": "markdown",
   "metadata": {},
   "source": [
    "### Data Frame  \n",
    "A Pandas DataFrame is two-dimensional size-mutable tabular data structure with labeled axes (rows and columns). A Data frame is a two-dimensional data structure, i.e., data is aligned in a tabular fashion in rows and columns. Pandas DataFrame consists of three principal components, the data, rows, and columns.\n",
    "\n",
    "![pandas_dataframe.png](attachment:pandas_dataframe.png)  \n",
    "\n",
    "\n",
    "In the real world, a Pandas DataFrame can be created by loading the datasets from existing storage systems like SQL Database, CSV file, and Excel file. Pandas DataFrame can also be created from the lists, dictionary, and from a list of dictionary etc.. Individual columns of a Data Frame can be treated as a Series object.  \n",
    "\n",
    "We can use the pandas method pd.read...() to read a data as a Data frame with several arguments.\n",
    "\n",
    "Here is the official pandas documentation on Data Frames : https://pandas.pydata.org/pandas-docs/stable/reference/api/pandas.DataFrame.html\n",
    "\n",
    "\n",
    "\n"
   ]
  },
  {
   "cell_type": "markdown",
   "metadata": {},
   "source": [
    "Let us create a Dataframe of Procter and Gamble Stock data downloaded from yahoo finance using pandas_datareader.  \n",
    "We will store the data as a DataFrame object named PG {Ticker \"PG\" , Start date \"1-Jan-1995\"}  \n",
    "We will review some aspects of the data we have imported"
   ]
  },
  {
   "cell_type": "code",
   "execution_count": 23,
   "metadata": {},
   "outputs": [],
   "source": [
    "# load pandas data reader\n",
    "from pandas_datareader import data as wb"
   ]
  },
  {
   "cell_type": "code",
   "execution_count": 24,
   "metadata": {},
   "outputs": [],
   "source": [
    "# Load P&G Stock Data from yahoo finance into dataframe PG\n",
    "PG = wb.DataReader('PG', data_source='yahoo', start='1995-1-1')"
   ]
  },
  {
   "cell_type": "code",
   "execution_count": 25,
   "metadata": {},
   "outputs": [
    {
     "name": "stdout",
     "output_type": "stream",
     "text": [
      "<class 'pandas.core.frame.DataFrame'>\n",
      "DatetimeIndex: 6762 entries, 1995-01-03 to 2021-11-08\n",
      "Data columns (total 6 columns):\n",
      " #   Column     Non-Null Count  Dtype  \n",
      "---  ------     --------------  -----  \n",
      " 0   High       6762 non-null   float64\n",
      " 1   Low        6762 non-null   float64\n",
      " 2   Open       6762 non-null   float64\n",
      " 3   Close      6762 non-null   float64\n",
      " 4   Volume     6762 non-null   float64\n",
      " 5   Adj Close  6762 non-null   float64\n",
      "dtypes: float64(6)\n",
      "memory usage: 369.8 KB\n"
     ]
    }
   ],
   "source": [
    "# Examine the Structure\n",
    "PG.info()"
   ]
  },
  {
   "cell_type": "markdown",
   "metadata": {},
   "source": [
    "The data we have extracted is a Time Series Data where we have values of various stock metrics recodrded daily"
   ]
  },
  {
   "cell_type": "markdown",
   "metadata": {},
   "source": [
    "<div class=\"alert alert-info\" style=\"background-color:#006a79; color:white; padding:0px 10px; border-radius:5px;\"><h2 style='margin:10px 5px'>Data Ingestion</h2>\n",
    "</div>    \n",
    "\n",
    "Let us understand various methods to load Finance Data into a Data Frame  \n",
    "\n",
    "### Single Ticker - Yahoo Finance\n"
   ]
  },
  {
   "cell_type": "code",
   "execution_count": 26,
   "metadata": {},
   "outputs": [],
   "source": [
    "# load pandas data reader\n",
    "from pandas_datareader import data as wb"
   ]
  },
  {
   "cell_type": "code",
   "execution_count": 27,
   "metadata": {},
   "outputs": [],
   "source": [
    "# Load P&G Stock Data from yahoo finance into dataframe PG\n",
    "PG = wb.DataReader('PG', data_source='yahoo', start='1995-1-1')"
   ]
  },
  {
   "cell_type": "markdown",
   "metadata": {},
   "source": [
    "**Initial Data Exploration**  "
   ]
  },
  {
   "cell_type": "code",
   "execution_count": 28,
   "metadata": {},
   "outputs": [
    {
     "name": "stdout",
     "output_type": "stream",
     "text": [
      "<class 'pandas.core.frame.DataFrame'>\n",
      "DatetimeIndex: 6762 entries, 1995-01-03 to 2021-11-08\n",
      "Data columns (total 6 columns):\n",
      " #   Column     Non-Null Count  Dtype  \n",
      "---  ------     --------------  -----  \n",
      " 0   High       6762 non-null   float64\n",
      " 1   Low        6762 non-null   float64\n",
      " 2   Open       6762 non-null   float64\n",
      " 3   Close      6762 non-null   float64\n",
      " 4   Volume     6762 non-null   float64\n",
      " 5   Adj Close  6762 non-null   float64\n",
      "dtypes: float64(6)\n",
      "memory usage: 369.8 KB\n"
     ]
    }
   ],
   "source": [
    "# Examine the structure\n",
    "PG.info()"
   ]
  },
  {
   "cell_type": "code",
   "execution_count": 29,
   "metadata": {},
   "outputs": [
    {
     "data": {
      "text/html": [
       "<div>\n",
       "<style scoped>\n",
       "    .dataframe tbody tr th:only-of-type {\n",
       "        vertical-align: middle;\n",
       "    }\n",
       "\n",
       "    .dataframe tbody tr th {\n",
       "        vertical-align: top;\n",
       "    }\n",
       "\n",
       "    .dataframe thead th {\n",
       "        text-align: right;\n",
       "    }\n",
       "</style>\n",
       "<table border=\"1\" class=\"dataframe\">\n",
       "  <thead>\n",
       "    <tr style=\"text-align: right;\">\n",
       "      <th></th>\n",
       "      <th>High</th>\n",
       "      <th>Low</th>\n",
       "      <th>Open</th>\n",
       "      <th>Close</th>\n",
       "      <th>Volume</th>\n",
       "      <th>Adj Close</th>\n",
       "    </tr>\n",
       "    <tr>\n",
       "      <th>Date</th>\n",
       "      <th></th>\n",
       "      <th></th>\n",
       "      <th></th>\n",
       "      <th></th>\n",
       "      <th></th>\n",
       "      <th></th>\n",
       "    </tr>\n",
       "  </thead>\n",
       "  <tbody>\n",
       "    <tr>\n",
       "      <th>1995-01-03</th>\n",
       "      <td>15.62500</td>\n",
       "      <td>15.43750</td>\n",
       "      <td>15.46875</td>\n",
       "      <td>15.59375</td>\n",
       "      <td>3318400.0</td>\n",
       "      <td>8.014160</td>\n",
       "    </tr>\n",
       "    <tr>\n",
       "      <th>1995-01-04</th>\n",
       "      <td>15.65625</td>\n",
       "      <td>15.31250</td>\n",
       "      <td>15.53125</td>\n",
       "      <td>15.46875</td>\n",
       "      <td>2218800.0</td>\n",
       "      <td>7.949914</td>\n",
       "    </tr>\n",
       "    <tr>\n",
       "      <th>1995-01-05</th>\n",
       "      <td>15.43750</td>\n",
       "      <td>15.21875</td>\n",
       "      <td>15.37500</td>\n",
       "      <td>15.25000</td>\n",
       "      <td>2319600.0</td>\n",
       "      <td>7.837494</td>\n",
       "    </tr>\n",
       "    <tr>\n",
       "      <th>1995-01-06</th>\n",
       "      <td>15.40625</td>\n",
       "      <td>15.15625</td>\n",
       "      <td>15.15625</td>\n",
       "      <td>15.28125</td>\n",
       "      <td>3438000.0</td>\n",
       "      <td>7.853553</td>\n",
       "    </tr>\n",
       "    <tr>\n",
       "      <th>1995-01-09</th>\n",
       "      <td>15.40625</td>\n",
       "      <td>15.18750</td>\n",
       "      <td>15.34375</td>\n",
       "      <td>15.21875</td>\n",
       "      <td>1795200.0</td>\n",
       "      <td>7.821435</td>\n",
       "    </tr>\n",
       "  </tbody>\n",
       "</table>\n",
       "</div>"
      ],
      "text/plain": [
       "                High       Low      Open     Close     Volume  Adj Close\n",
       "Date                                                                    \n",
       "1995-01-03  15.62500  15.43750  15.46875  15.59375  3318400.0   8.014160\n",
       "1995-01-04  15.65625  15.31250  15.53125  15.46875  2218800.0   7.949914\n",
       "1995-01-05  15.43750  15.21875  15.37500  15.25000  2319600.0   7.837494\n",
       "1995-01-06  15.40625  15.15625  15.15625  15.28125  3438000.0   7.853553\n",
       "1995-01-09  15.40625  15.18750  15.34375  15.21875  1795200.0   7.821435"
      ]
     },
     "execution_count": 29,
     "metadata": {},
     "output_type": "execute_result"
    }
   ],
   "source": [
    "# Examine top 5 Rows\n",
    "PG.head()"
   ]
  },
  {
   "cell_type": "code",
   "execution_count": 30,
   "metadata": {},
   "outputs": [
    {
     "data": {
      "text/html": [
       "<div>\n",
       "<style scoped>\n",
       "    .dataframe tbody tr th:only-of-type {\n",
       "        vertical-align: middle;\n",
       "    }\n",
       "\n",
       "    .dataframe tbody tr th {\n",
       "        vertical-align: top;\n",
       "    }\n",
       "\n",
       "    .dataframe thead th {\n",
       "        text-align: right;\n",
       "    }\n",
       "</style>\n",
       "<table border=\"1\" class=\"dataframe\">\n",
       "  <thead>\n",
       "    <tr style=\"text-align: right;\">\n",
       "      <th></th>\n",
       "      <th>High</th>\n",
       "      <th>Low</th>\n",
       "      <th>Open</th>\n",
       "      <th>Close</th>\n",
       "      <th>Volume</th>\n",
       "      <th>Adj Close</th>\n",
       "    </tr>\n",
       "    <tr>\n",
       "      <th>Date</th>\n",
       "      <th></th>\n",
       "      <th></th>\n",
       "      <th></th>\n",
       "      <th></th>\n",
       "      <th></th>\n",
       "      <th></th>\n",
       "    </tr>\n",
       "  </thead>\n",
       "  <tbody>\n",
       "    <tr>\n",
       "      <th>2021-11-02</th>\n",
       "      <td>144.580002</td>\n",
       "      <td>142.279999</td>\n",
       "      <td>142.720001</td>\n",
       "      <td>144.059998</td>\n",
       "      <td>9954300.0</td>\n",
       "      <td>144.059998</td>\n",
       "    </tr>\n",
       "    <tr>\n",
       "      <th>2021-11-03</th>\n",
       "      <td>145.110001</td>\n",
       "      <td>143.520004</td>\n",
       "      <td>144.130005</td>\n",
       "      <td>145.050003</td>\n",
       "      <td>7620100.0</td>\n",
       "      <td>145.050003</td>\n",
       "    </tr>\n",
       "    <tr>\n",
       "      <th>2021-11-04</th>\n",
       "      <td>145.389999</td>\n",
       "      <td>142.339996</td>\n",
       "      <td>142.839996</td>\n",
       "      <td>145.320007</td>\n",
       "      <td>6402500.0</td>\n",
       "      <td>145.320007</td>\n",
       "    </tr>\n",
       "    <tr>\n",
       "      <th>2021-11-05</th>\n",
       "      <td>146.369995</td>\n",
       "      <td>144.800003</td>\n",
       "      <td>145.440002</td>\n",
       "      <td>146.039993</td>\n",
       "      <td>6062700.0</td>\n",
       "      <td>146.039993</td>\n",
       "    </tr>\n",
       "    <tr>\n",
       "      <th>2021-11-08</th>\n",
       "      <td>146.089996</td>\n",
       "      <td>144.200104</td>\n",
       "      <td>145.500000</td>\n",
       "      <td>144.410004</td>\n",
       "      <td>836670.0</td>\n",
       "      <td>144.410004</td>\n",
       "    </tr>\n",
       "  </tbody>\n",
       "</table>\n",
       "</div>"
      ],
      "text/plain": [
       "                  High         Low        Open       Close     Volume   Adj Close\n",
       "Date                                                                             \n",
       "2021-11-02  144.580002  142.279999  142.720001  144.059998  9954300.0  144.059998\n",
       "2021-11-03  145.110001  143.520004  144.130005  145.050003  7620100.0  145.050003\n",
       "2021-11-04  145.389999  142.339996  142.839996  145.320007  6402500.0  145.320007\n",
       "2021-11-05  146.369995  144.800003  145.440002  146.039993  6062700.0  146.039993\n",
       "2021-11-08  146.089996  144.200104  145.500000  144.410004   836670.0  144.410004"
      ]
     },
     "execution_count": 30,
     "metadata": {},
     "output_type": "execute_result"
    }
   ],
   "source": [
    "# Examine the bottom 5 Rows\n",
    "PG.tail()"
   ]
  },
  {
   "cell_type": "code",
   "execution_count": 31,
   "metadata": {},
   "outputs": [
    {
     "data": {
      "text/plain": [
       "High         0\n",
       "Low          0\n",
       "Open         0\n",
       "Close        0\n",
       "Volume       0\n",
       "Adj Close    0\n",
       "dtype: int64"
      ]
     },
     "execution_count": 31,
     "metadata": {},
     "output_type": "execute_result"
    }
   ],
   "source": [
    "# Missing values\n",
    "PG.isna().sum()"
   ]
  },
  {
   "cell_type": "code",
   "execution_count": 32,
   "metadata": {},
   "outputs": [
    {
     "data": {
      "text/html": [
       "<div>\n",
       "<style scoped>\n",
       "    .dataframe tbody tr th:only-of-type {\n",
       "        vertical-align: middle;\n",
       "    }\n",
       "\n",
       "    .dataframe tbody tr th {\n",
       "        vertical-align: top;\n",
       "    }\n",
       "\n",
       "    .dataframe thead th {\n",
       "        text-align: right;\n",
       "    }\n",
       "</style>\n",
       "<table border=\"1\" class=\"dataframe\">\n",
       "  <thead>\n",
       "    <tr style=\"text-align: right;\">\n",
       "      <th></th>\n",
       "      <th>High</th>\n",
       "      <th>Low</th>\n",
       "      <th>Open</th>\n",
       "      <th>Close</th>\n",
       "      <th>Volume</th>\n",
       "      <th>Adj Close</th>\n",
       "    </tr>\n",
       "  </thead>\n",
       "  <tbody>\n",
       "    <tr>\n",
       "      <th>count</th>\n",
       "      <td>6762.000000</td>\n",
       "      <td>6762.000000</td>\n",
       "      <td>6762.000000</td>\n",
       "      <td>6762.000000</td>\n",
       "      <td>6.762000e+03</td>\n",
       "      <td>6762.000000</td>\n",
       "    </tr>\n",
       "    <tr>\n",
       "      <th>mean</th>\n",
       "      <td>64.607988</td>\n",
       "      <td>63.600211</td>\n",
       "      <td>64.086292</td>\n",
       "      <td>64.129321</td>\n",
       "      <td>8.404452e+06</td>\n",
       "      <td>48.959324</td>\n",
       "    </tr>\n",
       "    <tr>\n",
       "      <th>std</th>\n",
       "      <td>28.606989</td>\n",
       "      <td>28.293683</td>\n",
       "      <td>28.436430</td>\n",
       "      <td>28.438291</td>\n",
       "      <td>5.680144e+06</td>\n",
       "      <td>31.583739</td>\n",
       "    </tr>\n",
       "    <tr>\n",
       "      <th>min</th>\n",
       "      <td>15.406250</td>\n",
       "      <td>15.156250</td>\n",
       "      <td>15.156250</td>\n",
       "      <td>15.218750</td>\n",
       "      <td>6.142000e+05</td>\n",
       "      <td>7.821435</td>\n",
       "    </tr>\n",
       "    <tr>\n",
       "      <th>25%</th>\n",
       "      <td>44.846251</td>\n",
       "      <td>43.911250</td>\n",
       "      <td>44.435626</td>\n",
       "      <td>44.400002</td>\n",
       "      <td>5.334600e+06</td>\n",
       "      <td>25.644286</td>\n",
       "    </tr>\n",
       "    <tr>\n",
       "      <th>50%</th>\n",
       "      <td>62.130001</td>\n",
       "      <td>61.230000</td>\n",
       "      <td>61.699999</td>\n",
       "      <td>61.750000</td>\n",
       "      <td>7.259500e+06</td>\n",
       "      <td>41.566399</td>\n",
       "    </tr>\n",
       "    <tr>\n",
       "      <th>75%</th>\n",
       "      <td>80.669998</td>\n",
       "      <td>79.839996</td>\n",
       "      <td>80.227503</td>\n",
       "      <td>80.230003</td>\n",
       "      <td>9.869800e+06</td>\n",
       "      <td>65.992664</td>\n",
       "    </tr>\n",
       "    <tr>\n",
       "      <th>max</th>\n",
       "      <td>147.229996</td>\n",
       "      <td>144.949997</td>\n",
       "      <td>146.149994</td>\n",
       "      <td>146.039993</td>\n",
       "      <td>1.372872e+08</td>\n",
       "      <td>146.039993</td>\n",
       "    </tr>\n",
       "  </tbody>\n",
       "</table>\n",
       "</div>"
      ],
      "text/plain": [
       "              High          Low         Open        Close        Volume    Adj Close\n",
       "count  6762.000000  6762.000000  6762.000000  6762.000000  6.762000e+03  6762.000000\n",
       "mean     64.607988    63.600211    64.086292    64.129321  8.404452e+06    48.959324\n",
       "std      28.606989    28.293683    28.436430    28.438291  5.680144e+06    31.583739\n",
       "min      15.406250    15.156250    15.156250    15.218750  6.142000e+05     7.821435\n",
       "25%      44.846251    43.911250    44.435626    44.400002  5.334600e+06    25.644286\n",
       "50%      62.130001    61.230000    61.699999    61.750000  7.259500e+06    41.566399\n",
       "75%      80.669998    79.839996    80.227503    80.230003  9.869800e+06    65.992664\n",
       "max     147.229996   144.949997   146.149994   146.039993  1.372872e+08   146.039993"
      ]
     },
     "execution_count": 32,
     "metadata": {},
     "output_type": "execute_result"
    }
   ],
   "source": [
    "# Statistical Summary\n",
    "PG.describe()"
   ]
  },
  {
   "cell_type": "markdown",
   "metadata": {},
   "source": [
    "<div class=\"alert alert-block alert-info\"><b>Inference:</b></div> \n",
    "    \n",
    "* Asjusted Closing Price : Start \"8\" end \"146\"... There may be other factors e.g. Dividend Payouts , Stock Splits during the period 01-Jan-1995 to 05-Nov-2021  \n",
    "\n",
    "    \n",
    "* Date : When we look at top 5 rows we notice values not present for 07-Jan-1995 and 08-Jan-1995.These are Weekends when markets are closed (Non-Trading Days). We do not have values for \"Weekends and Holidays\"   \n",
    "\n",
    "    \n",
    "* Missing Values : There are no missing values "
   ]
  },
  {
   "cell_type": "markdown",
   "metadata": {},
   "source": [
    "### Multiple Tickers Adjusted Closing Price - Yahoo Finance  \n",
    "We will use a for loop construct to extract adjusted closing prices for 6 companies : P&G , Microsoft , AT&T , Ford , GE and Cisco  \n",
    "Note : Refer to Yahoo Finance for Ticker Symbols"
   ]
  },
  {
   "cell_type": "code",
   "execution_count": 33,
   "metadata": {},
   "outputs": [],
   "source": [
    "# load pandas data reader\n",
    "from pandas_datareader import data as wb\n",
    "\n",
    "# Initialize tickers object with list of ticker symbols\n",
    "tickers = ['PG', 'MSFT', 'T', 'F', 'GE' , 'CSCO']\n",
    "\n",
    "# Initialize a blank Data Frame\n",
    "my_stocks = pd.DataFrame()\n",
    "\n",
    "# Use Data reader and loop through tickers specifying \"Adj Close\"\n",
    "for t in tickers:\n",
    "    my_stocks[t] = wb.DataReader(t, data_source='yahoo', start='1995-1-1')['Adj Close']\n",
    "    \n",
    "## Note : (t) takes the value of ticker from the list of tickers"
   ]
  },
  {
   "cell_type": "code",
   "execution_count": 34,
   "metadata": {},
   "outputs": [
    {
     "data": {
      "text/html": [
       "<div>\n",
       "<style scoped>\n",
       "    .dataframe tbody tr th:only-of-type {\n",
       "        vertical-align: middle;\n",
       "    }\n",
       "\n",
       "    .dataframe tbody tr th {\n",
       "        vertical-align: top;\n",
       "    }\n",
       "\n",
       "    .dataframe thead th {\n",
       "        text-align: right;\n",
       "    }\n",
       "</style>\n",
       "<table border=\"1\" class=\"dataframe\">\n",
       "  <thead>\n",
       "    <tr style=\"text-align: right;\">\n",
       "      <th></th>\n",
       "      <th>PG</th>\n",
       "      <th>MSFT</th>\n",
       "      <th>T</th>\n",
       "      <th>F</th>\n",
       "      <th>GE</th>\n",
       "      <th>CSCO</th>\n",
       "    </tr>\n",
       "    <tr>\n",
       "      <th>Date</th>\n",
       "      <th></th>\n",
       "      <th></th>\n",
       "      <th></th>\n",
       "      <th></th>\n",
       "      <th></th>\n",
       "      <th></th>\n",
       "    </tr>\n",
       "  </thead>\n",
       "  <tbody>\n",
       "    <tr>\n",
       "      <th>1995-01-03</th>\n",
       "      <td>8.014159</td>\n",
       "      <td>2.379200</td>\n",
       "      <td>5.765275</td>\n",
       "      <td>4.380184</td>\n",
       "      <td>32.906101</td>\n",
       "      <td>1.388546</td>\n",
       "    </tr>\n",
       "    <tr>\n",
       "      <th>1995-01-04</th>\n",
       "      <td>7.949916</td>\n",
       "      <td>2.396494</td>\n",
       "      <td>5.732315</td>\n",
       "      <td>4.498034</td>\n",
       "      <td>32.906101</td>\n",
       "      <td>1.398719</td>\n",
       "    </tr>\n",
       "    <tr>\n",
       "      <th>1995-01-05</th>\n",
       "      <td>7.837495</td>\n",
       "      <td>2.356964</td>\n",
       "      <td>5.821883</td>\n",
       "      <td>4.458752</td>\n",
       "      <td>32.986752</td>\n",
       "      <td>1.388546</td>\n",
       "    </tr>\n",
       "    <tr>\n",
       "      <th>1995-01-06</th>\n",
       "      <td>7.853555</td>\n",
       "      <td>2.396494</td>\n",
       "      <td>5.821883</td>\n",
       "      <td>4.458752</td>\n",
       "      <td>32.825459</td>\n",
       "      <td>1.388546</td>\n",
       "    </tr>\n",
       "    <tr>\n",
       "      <th>1995-01-09</th>\n",
       "      <td>7.821431</td>\n",
       "      <td>2.381670</td>\n",
       "      <td>5.803971</td>\n",
       "      <td>4.537319</td>\n",
       "      <td>32.502827</td>\n",
       "      <td>1.419064</td>\n",
       "    </tr>\n",
       "  </tbody>\n",
       "</table>\n",
       "</div>"
      ],
      "text/plain": [
       "                  PG      MSFT         T         F         GE      CSCO\n",
       "Date                                                                   \n",
       "1995-01-03  8.014159  2.379200  5.765275  4.380184  32.906101  1.388546\n",
       "1995-01-04  7.949916  2.396494  5.732315  4.498034  32.906101  1.398719\n",
       "1995-01-05  7.837495  2.356964  5.821883  4.458752  32.986752  1.388546\n",
       "1995-01-06  7.853555  2.396494  5.821883  4.458752  32.825459  1.388546\n",
       "1995-01-09  7.821431  2.381670  5.803971  4.537319  32.502827  1.419064"
      ]
     },
     "execution_count": 34,
     "metadata": {},
     "output_type": "execute_result"
    }
   ],
   "source": [
    "# Top 5 Rows\n",
    "my_stocks.head()"
   ]
  },
  {
   "cell_type": "code",
   "execution_count": 35,
   "metadata": {},
   "outputs": [
    {
     "data": {
      "text/html": [
       "<div>\n",
       "<style scoped>\n",
       "    .dataframe tbody tr th:only-of-type {\n",
       "        vertical-align: middle;\n",
       "    }\n",
       "\n",
       "    .dataframe tbody tr th {\n",
       "        vertical-align: top;\n",
       "    }\n",
       "\n",
       "    .dataframe thead th {\n",
       "        text-align: right;\n",
       "    }\n",
       "</style>\n",
       "<table border=\"1\" class=\"dataframe\">\n",
       "  <thead>\n",
       "    <tr style=\"text-align: right;\">\n",
       "      <th></th>\n",
       "      <th>PG</th>\n",
       "      <th>MSFT</th>\n",
       "      <th>T</th>\n",
       "      <th>F</th>\n",
       "      <th>GE</th>\n",
       "      <th>CSCO</th>\n",
       "    </tr>\n",
       "    <tr>\n",
       "      <th>Date</th>\n",
       "      <th></th>\n",
       "      <th></th>\n",
       "      <th></th>\n",
       "      <th></th>\n",
       "      <th></th>\n",
       "      <th></th>\n",
       "    </tr>\n",
       "  </thead>\n",
       "  <tbody>\n",
       "    <tr>\n",
       "      <th>2021-11-02</th>\n",
       "      <td>144.059998</td>\n",
       "      <td>333.130005</td>\n",
       "      <td>25.230000</td>\n",
       "      <td>18.010000</td>\n",
       "      <td>106.690002</td>\n",
       "      <td>57.619999</td>\n",
       "    </tr>\n",
       "    <tr>\n",
       "      <th>2021-11-03</th>\n",
       "      <td>145.050003</td>\n",
       "      <td>334.000000</td>\n",
       "      <td>25.180000</td>\n",
       "      <td>18.629999</td>\n",
       "      <td>105.970001</td>\n",
       "      <td>57.650002</td>\n",
       "    </tr>\n",
       "    <tr>\n",
       "      <th>2021-11-04</th>\n",
       "      <td>145.320007</td>\n",
       "      <td>336.440002</td>\n",
       "      <td>24.799999</td>\n",
       "      <td>19.420000</td>\n",
       "      <td>105.209999</td>\n",
       "      <td>57.119999</td>\n",
       "    </tr>\n",
       "    <tr>\n",
       "      <th>2021-11-05</th>\n",
       "      <td>146.039993</td>\n",
       "      <td>336.059998</td>\n",
       "      <td>25.100000</td>\n",
       "      <td>19.290001</td>\n",
       "      <td>108.739998</td>\n",
       "      <td>57.070000</td>\n",
       "    </tr>\n",
       "    <tr>\n",
       "      <th>2021-11-08</th>\n",
       "      <td>144.440002</td>\n",
       "      <td>335.350006</td>\n",
       "      <td>25.112101</td>\n",
       "      <td>19.895000</td>\n",
       "      <td>109.345001</td>\n",
       "      <td>56.900002</td>\n",
       "    </tr>\n",
       "  </tbody>\n",
       "</table>\n",
       "</div>"
      ],
      "text/plain": [
       "                    PG        MSFT          T          F          GE       CSCO\n",
       "Date                                                                           \n",
       "2021-11-02  144.059998  333.130005  25.230000  18.010000  106.690002  57.619999\n",
       "2021-11-03  145.050003  334.000000  25.180000  18.629999  105.970001  57.650002\n",
       "2021-11-04  145.320007  336.440002  24.799999  19.420000  105.209999  57.119999\n",
       "2021-11-05  146.039993  336.059998  25.100000  19.290001  108.739998  57.070000\n",
       "2021-11-08  144.440002  335.350006  25.112101  19.895000  109.345001  56.900002"
      ]
     },
     "execution_count": 35,
     "metadata": {},
     "output_type": "execute_result"
    }
   ],
   "source": [
    "# Bottom 5 Rows\n",
    "my_stocks.tail()"
   ]
  },
  {
   "cell_type": "markdown",
   "metadata": {},
   "source": [
    "### Other file formats - Predownloaded  \n",
    "We can also use data stored in an excel or .csv file to create our Data Frame "
   ]
  },
  {
   "cell_type": "code",
   "execution_count": 36,
   "metadata": {},
   "outputs": [],
   "source": [
    "# import pandas \n",
    "import pandas as pd"
   ]
  },
  {
   "cell_type": "code",
   "execution_count": 37,
   "metadata": {},
   "outputs": [],
   "source": [
    "# import the data specifying the file type and file path\n",
    "my_data = pd.read_excel(\"Datasets/Data_03.xlsx\")"
   ]
  },
  {
   "cell_type": "code",
   "execution_count": 38,
   "metadata": {},
   "outputs": [
    {
     "data": {
      "text/html": [
       "<div>\n",
       "<style scoped>\n",
       "    .dataframe tbody tr th:only-of-type {\n",
       "        vertical-align: middle;\n",
       "    }\n",
       "\n",
       "    .dataframe tbody tr th {\n",
       "        vertical-align: top;\n",
       "    }\n",
       "\n",
       "    .dataframe thead th {\n",
       "        text-align: right;\n",
       "    }\n",
       "</style>\n",
       "<table border=\"1\" class=\"dataframe\">\n",
       "  <thead>\n",
       "    <tr style=\"text-align: right;\">\n",
       "      <th></th>\n",
       "      <th>Year</th>\n",
       "      <th>Gas Exp</th>\n",
       "      <th>Pop</th>\n",
       "      <th>Gasp</th>\n",
       "      <th>Income</th>\n",
       "    </tr>\n",
       "  </thead>\n",
       "  <tbody>\n",
       "    <tr>\n",
       "      <th>0</th>\n",
       "      <td>1953</td>\n",
       "      <td>7.4</td>\n",
       "      <td>159565</td>\n",
       "      <td>16.667999</td>\n",
       "      <td>8883</td>\n",
       "    </tr>\n",
       "    <tr>\n",
       "      <th>1</th>\n",
       "      <td>1954</td>\n",
       "      <td>7.8</td>\n",
       "      <td>162391</td>\n",
       "      <td>17.028999</td>\n",
       "      <td>8685</td>\n",
       "    </tr>\n",
       "    <tr>\n",
       "      <th>2</th>\n",
       "      <td>1955</td>\n",
       "      <td>8.6</td>\n",
       "      <td>165275</td>\n",
       "      <td>17.209999</td>\n",
       "      <td>9137</td>\n",
       "    </tr>\n",
       "    <tr>\n",
       "      <th>3</th>\n",
       "      <td>1956</td>\n",
       "      <td>9.4</td>\n",
       "      <td>168221</td>\n",
       "      <td>17.729000</td>\n",
       "      <td>9436</td>\n",
       "    </tr>\n",
       "    <tr>\n",
       "      <th>4</th>\n",
       "      <td>1957</td>\n",
       "      <td>10.2</td>\n",
       "      <td>171274</td>\n",
       "      <td>18.497000</td>\n",
       "      <td>9534</td>\n",
       "    </tr>\n",
       "  </tbody>\n",
       "</table>\n",
       "</div>"
      ],
      "text/plain": [
       "   Year  Gas Exp     Pop       Gasp  Income\n",
       "0  1953      7.4  159565  16.667999    8883\n",
       "1  1954      7.8  162391  17.028999    8685\n",
       "2  1955      8.6  165275  17.209999    9137\n",
       "3  1956      9.4  168221  17.729000    9436\n",
       "4  1957     10.2  171274  18.497000    9534"
      ]
     },
     "execution_count": 38,
     "metadata": {},
     "output_type": "execute_result"
    }
   ],
   "source": [
    "# Top 5 Rows\n",
    "my_data.head()"
   ]
  },
  {
   "cell_type": "code",
   "execution_count": 39,
   "metadata": {},
   "outputs": [
    {
     "name": "stdout",
     "output_type": "stream",
     "text": [
      "<class 'pandas.core.frame.DataFrame'>\n",
      "RangeIndex: 52 entries, 0 to 51\n",
      "Data columns (total 5 columns):\n",
      " #   Column   Non-Null Count  Dtype  \n",
      "---  ------   --------------  -----  \n",
      " 0   Year     52 non-null     int64  \n",
      " 1   Gas Exp  52 non-null     float64\n",
      " 2   Pop      52 non-null     int64  \n",
      " 3   Gasp     52 non-null     float64\n",
      " 4   Income   52 non-null     int64  \n",
      "dtypes: float64(2), int64(3)\n",
      "memory usage: 2.2 KB\n"
     ]
    }
   ],
   "source": [
    "# Information\n",
    "my_data.info()"
   ]
  },
  {
   "cell_type": "markdown",
   "metadata": {},
   "source": [
    "### Exporing Data : to_csv() ; to_excel()  \n",
    "We can export our downloaded data into a .csv or a .excel file for later use.   \n",
    "Note : Specfy the file path and the extension"
   ]
  },
  {
   "cell_type": "code",
   "execution_count": 40,
   "metadata": {},
   "outputs": [],
   "source": [
    "# Export to Excel\n",
    "my_stocks.to_excel(\"Datasets/my_downloaded_stocks.xlsx\")"
   ]
  },
  {
   "cell_type": "markdown",
   "metadata": {},
   "source": [
    "<div class=\"alert alert-info\" style=\"background-color:#006a79; color:white; padding:0px 10px; border-radius:5px;\"><h2 style='margin:10px 5px'>Date Indexing</h2>\n",
    "</div>   \n",
    "\n",
    "To refer to a set of values as a Time Series, each one should correspond to a time period.This is crucial for referring to values according to the day they were recorded.\n",
    "\n",
    "We often wish to examine specific chunks of data between two concrete dates , hence we need to use the associated time periods as indices.We may have a dataset with daily values of various Stock exchanges Index Values , therefore, each date would be a separate time period.We can therefore use the date column from the data frame as the new index column.\n",
    "\n",
    "Pandas provides a method called data.set_index(“column name , inplace=True) where data is the dataframe ,”column_name” is the name of the column which we want the dataframe to be indexed on and the inplace = True ensures that the data frame is overwritten.Note : Column name should be in \"quotes”.  \n",
    "\n",
    "Note :  \n",
    "1. We should also ensure that the \"Column To be Indexed\" is of datetime type. If not then convert it to datetime type applying the to_datetime() method from pandas adding the appropriate date format  \n",
    "2. If we need to overwrite the dataframe after indexing , ensure to include inplace = True when you apply set_index method\n",
    "\n",
    "### Indexing after importing\n",
    "\n",
    "Let us look at the dataframe my_data we just created"
   ]
  },
  {
   "cell_type": "code",
   "execution_count": 41,
   "metadata": {},
   "outputs": [
    {
     "data": {
      "text/html": [
       "<div>\n",
       "<style scoped>\n",
       "    .dataframe tbody tr th:only-of-type {\n",
       "        vertical-align: middle;\n",
       "    }\n",
       "\n",
       "    .dataframe tbody tr th {\n",
       "        vertical-align: top;\n",
       "    }\n",
       "\n",
       "    .dataframe thead th {\n",
       "        text-align: right;\n",
       "    }\n",
       "</style>\n",
       "<table border=\"1\" class=\"dataframe\">\n",
       "  <thead>\n",
       "    <tr style=\"text-align: right;\">\n",
       "      <th></th>\n",
       "      <th>Year</th>\n",
       "      <th>Gas Exp</th>\n",
       "      <th>Pop</th>\n",
       "      <th>Gasp</th>\n",
       "      <th>Income</th>\n",
       "    </tr>\n",
       "  </thead>\n",
       "  <tbody>\n",
       "    <tr>\n",
       "      <th>0</th>\n",
       "      <td>1953</td>\n",
       "      <td>7.4</td>\n",
       "      <td>159565</td>\n",
       "      <td>16.667999</td>\n",
       "      <td>8883</td>\n",
       "    </tr>\n",
       "    <tr>\n",
       "      <th>1</th>\n",
       "      <td>1954</td>\n",
       "      <td>7.8</td>\n",
       "      <td>162391</td>\n",
       "      <td>17.028999</td>\n",
       "      <td>8685</td>\n",
       "    </tr>\n",
       "    <tr>\n",
       "      <th>2</th>\n",
       "      <td>1955</td>\n",
       "      <td>8.6</td>\n",
       "      <td>165275</td>\n",
       "      <td>17.209999</td>\n",
       "      <td>9137</td>\n",
       "    </tr>\n",
       "    <tr>\n",
       "      <th>3</th>\n",
       "      <td>1956</td>\n",
       "      <td>9.4</td>\n",
       "      <td>168221</td>\n",
       "      <td>17.729000</td>\n",
       "      <td>9436</td>\n",
       "    </tr>\n",
       "    <tr>\n",
       "      <th>4</th>\n",
       "      <td>1957</td>\n",
       "      <td>10.2</td>\n",
       "      <td>171274</td>\n",
       "      <td>18.497000</td>\n",
       "      <td>9534</td>\n",
       "    </tr>\n",
       "  </tbody>\n",
       "</table>\n",
       "</div>"
      ],
      "text/plain": [
       "   Year  Gas Exp     Pop       Gasp  Income\n",
       "0  1953      7.4  159565  16.667999    8883\n",
       "1  1954      7.8  162391  17.028999    8685\n",
       "2  1955      8.6  165275  17.209999    9137\n",
       "3  1956      9.4  168221  17.729000    9436\n",
       "4  1957     10.2  171274  18.497000    9534"
      ]
     },
     "execution_count": 41,
     "metadata": {},
     "output_type": "execute_result"
    }
   ],
   "source": [
    "# my data\n",
    "my_data.head()"
   ]
  },
  {
   "cell_type": "code",
   "execution_count": 42,
   "metadata": {},
   "outputs": [
    {
     "name": "stdout",
     "output_type": "stream",
     "text": [
      "<class 'pandas.core.frame.DataFrame'>\n",
      "RangeIndex: 52 entries, 0 to 51\n",
      "Data columns (total 5 columns):\n",
      " #   Column   Non-Null Count  Dtype  \n",
      "---  ------   --------------  -----  \n",
      " 0   Year     52 non-null     int64  \n",
      " 1   Gas Exp  52 non-null     float64\n",
      " 2   Pop      52 non-null     int64  \n",
      " 3   Gasp     52 non-null     float64\n",
      " 4   Income   52 non-null     int64  \n",
      "dtypes: float64(2), int64(3)\n",
      "memory usage: 2.2 KB\n"
     ]
    }
   ],
   "source": [
    "my_data.info()"
   ]
  },
  {
   "cell_type": "markdown",
   "metadata": {},
   "source": [
    "The Year Column is an Integer so we need to first convert it to datetime type and then index it"
   ]
  },
  {
   "cell_type": "code",
   "execution_count": 43,
   "metadata": {},
   "outputs": [
    {
     "name": "stdout",
     "output_type": "stream",
     "text": [
      "<class 'pandas.core.frame.DataFrame'>\n",
      "RangeIndex: 52 entries, 0 to 51\n",
      "Data columns (total 5 columns):\n",
      " #   Column   Non-Null Count  Dtype         \n",
      "---  ------   --------------  -----         \n",
      " 0   Year     52 non-null     datetime64[ns]\n",
      " 1   Gas Exp  52 non-null     float64       \n",
      " 2   Pop      52 non-null     int64         \n",
      " 3   Gasp     52 non-null     float64       \n",
      " 4   Income   52 non-null     int64         \n",
      "dtypes: datetime64[ns](1), float64(2), int64(2)\n",
      "memory usage: 2.2 KB\n"
     ]
    }
   ],
   "source": [
    "# Convert Year Column to datetime type\n",
    "my_data.Year = pd.to_datetime(my_data.Year , format='%Y')\n",
    "my_data.info()"
   ]
  },
  {
   "cell_type": "code",
   "execution_count": 44,
   "metadata": {},
   "outputs": [
    {
     "data": {
      "text/html": [
       "<div>\n",
       "<style scoped>\n",
       "    .dataframe tbody tr th:only-of-type {\n",
       "        vertical-align: middle;\n",
       "    }\n",
       "\n",
       "    .dataframe tbody tr th {\n",
       "        vertical-align: top;\n",
       "    }\n",
       "\n",
       "    .dataframe thead th {\n",
       "        text-align: right;\n",
       "    }\n",
       "</style>\n",
       "<table border=\"1\" class=\"dataframe\">\n",
       "  <thead>\n",
       "    <tr style=\"text-align: right;\">\n",
       "      <th></th>\n",
       "      <th>Year</th>\n",
       "      <th>Gas Exp</th>\n",
       "      <th>Pop</th>\n",
       "      <th>Gasp</th>\n",
       "      <th>Income</th>\n",
       "    </tr>\n",
       "  </thead>\n",
       "  <tbody>\n",
       "    <tr>\n",
       "      <th>0</th>\n",
       "      <td>1953-01-01</td>\n",
       "      <td>7.4</td>\n",
       "      <td>159565</td>\n",
       "      <td>16.667999</td>\n",
       "      <td>8883</td>\n",
       "    </tr>\n",
       "    <tr>\n",
       "      <th>1</th>\n",
       "      <td>1954-01-01</td>\n",
       "      <td>7.8</td>\n",
       "      <td>162391</td>\n",
       "      <td>17.028999</td>\n",
       "      <td>8685</td>\n",
       "    </tr>\n",
       "    <tr>\n",
       "      <th>2</th>\n",
       "      <td>1955-01-01</td>\n",
       "      <td>8.6</td>\n",
       "      <td>165275</td>\n",
       "      <td>17.209999</td>\n",
       "      <td>9137</td>\n",
       "    </tr>\n",
       "    <tr>\n",
       "      <th>3</th>\n",
       "      <td>1956-01-01</td>\n",
       "      <td>9.4</td>\n",
       "      <td>168221</td>\n",
       "      <td>17.729000</td>\n",
       "      <td>9436</td>\n",
       "    </tr>\n",
       "    <tr>\n",
       "      <th>4</th>\n",
       "      <td>1957-01-01</td>\n",
       "      <td>10.2</td>\n",
       "      <td>171274</td>\n",
       "      <td>18.497000</td>\n",
       "      <td>9534</td>\n",
       "    </tr>\n",
       "  </tbody>\n",
       "</table>\n",
       "</div>"
      ],
      "text/plain": [
       "        Year  Gas Exp     Pop       Gasp  Income\n",
       "0 1953-01-01      7.4  159565  16.667999    8883\n",
       "1 1954-01-01      7.8  162391  17.028999    8685\n",
       "2 1955-01-01      8.6  165275  17.209999    9137\n",
       "3 1956-01-01      9.4  168221  17.729000    9436\n",
       "4 1957-01-01     10.2  171274  18.497000    9534"
      ]
     },
     "execution_count": 44,
     "metadata": {},
     "output_type": "execute_result"
    }
   ],
   "source": [
    "# Top 5 Rows\n",
    "my_data.head()"
   ]
  },
  {
   "cell_type": "code",
   "execution_count": 45,
   "metadata": {},
   "outputs": [
    {
     "name": "stdout",
     "output_type": "stream",
     "text": [
      "<class 'pandas.core.frame.DataFrame'>\n",
      "DatetimeIndex: 52 entries, 1953-01-01 to 2004-01-01\n",
      "Data columns (total 4 columns):\n",
      " #   Column   Non-Null Count  Dtype  \n",
      "---  ------   --------------  -----  \n",
      " 0   Gas Exp  52 non-null     float64\n",
      " 1   Pop      52 non-null     int64  \n",
      " 2   Gasp     52 non-null     float64\n",
      " 3   Income   52 non-null     int64  \n",
      "dtypes: float64(2), int64(2)\n",
      "memory usage: 2.0 KB\n"
     ]
    }
   ],
   "source": [
    "# Make Year column as index applying set_index method\n",
    "my_data.set_index('Year' , inplace = True)\n",
    "my_data.info()"
   ]
  },
  {
   "cell_type": "code",
   "execution_count": 46,
   "metadata": {},
   "outputs": [
    {
     "data": {
      "text/html": [
       "<div>\n",
       "<style scoped>\n",
       "    .dataframe tbody tr th:only-of-type {\n",
       "        vertical-align: middle;\n",
       "    }\n",
       "\n",
       "    .dataframe tbody tr th {\n",
       "        vertical-align: top;\n",
       "    }\n",
       "\n",
       "    .dataframe thead th {\n",
       "        text-align: right;\n",
       "    }\n",
       "</style>\n",
       "<table border=\"1\" class=\"dataframe\">\n",
       "  <thead>\n",
       "    <tr style=\"text-align: right;\">\n",
       "      <th></th>\n",
       "      <th>Gas Exp</th>\n",
       "      <th>Pop</th>\n",
       "      <th>Gasp</th>\n",
       "      <th>Income</th>\n",
       "    </tr>\n",
       "    <tr>\n",
       "      <th>Year</th>\n",
       "      <th></th>\n",
       "      <th></th>\n",
       "      <th></th>\n",
       "      <th></th>\n",
       "    </tr>\n",
       "  </thead>\n",
       "  <tbody>\n",
       "    <tr>\n",
       "      <th>1953-01-01</th>\n",
       "      <td>7.4</td>\n",
       "      <td>159565</td>\n",
       "      <td>16.667999</td>\n",
       "      <td>8883</td>\n",
       "    </tr>\n",
       "    <tr>\n",
       "      <th>1954-01-01</th>\n",
       "      <td>7.8</td>\n",
       "      <td>162391</td>\n",
       "      <td>17.028999</td>\n",
       "      <td>8685</td>\n",
       "    </tr>\n",
       "    <tr>\n",
       "      <th>1955-01-01</th>\n",
       "      <td>8.6</td>\n",
       "      <td>165275</td>\n",
       "      <td>17.209999</td>\n",
       "      <td>9137</td>\n",
       "    </tr>\n",
       "    <tr>\n",
       "      <th>1956-01-01</th>\n",
       "      <td>9.4</td>\n",
       "      <td>168221</td>\n",
       "      <td>17.729000</td>\n",
       "      <td>9436</td>\n",
       "    </tr>\n",
       "    <tr>\n",
       "      <th>1957-01-01</th>\n",
       "      <td>10.2</td>\n",
       "      <td>171274</td>\n",
       "      <td>18.497000</td>\n",
       "      <td>9534</td>\n",
       "    </tr>\n",
       "  </tbody>\n",
       "</table>\n",
       "</div>"
      ],
      "text/plain": [
       "            Gas Exp     Pop       Gasp  Income\n",
       "Year                                          \n",
       "1953-01-01      7.4  159565  16.667999    8883\n",
       "1954-01-01      7.8  162391  17.028999    8685\n",
       "1955-01-01      8.6  165275  17.209999    9137\n",
       "1956-01-01      9.4  168221  17.729000    9436\n",
       "1957-01-01     10.2  171274  18.497000    9534"
      ]
     },
     "execution_count": 46,
     "metadata": {},
     "output_type": "execute_result"
    }
   ],
   "source": [
    "my_data.head()"
   ]
  },
  {
   "cell_type": "markdown",
   "metadata": {},
   "source": [
    "### Indexing during importing    \n",
    "\n",
    "When we read the “.csv” file we can pass the argument parse_dates = True which tells pandas to convert the dates to datetime format.  \n",
    "\n",
    "We can also index the data frame to the Date column by passing index_col = “Date” \n",
    "\n",
    "Here is the Dataframe with a normal read_csv operation"
   ]
  },
  {
   "cell_type": "code",
   "execution_count": 47,
   "metadata": {},
   "outputs": [
    {
     "name": "stdout",
     "output_type": "stream",
     "text": [
      "<class 'pandas.core.frame.DataFrame'>\n",
      "RangeIndex: 1006 entries, 0 to 1005\n",
      "Data columns (total 3 columns):\n",
      " #   Column  Non-Null Count  Dtype  \n",
      "---  ------  --------------  -----  \n",
      " 0   Date    1006 non-null   object \n",
      " 1   Close   1006 non-null   float64\n",
      " 2   Volume  1006 non-null   int64  \n",
      "dtypes: float64(1), int64(1), object(1)\n",
      "memory usage: 23.7+ KB\n"
     ]
    }
   ],
   "source": [
    "# Read the Starbucks Stocks Data\n",
    "starbucks = pd.read_csv(\"Datasets/starbucks.csv\")\n",
    "starbucks.info()"
   ]
  },
  {
   "cell_type": "code",
   "execution_count": 48,
   "metadata": {},
   "outputs": [],
   "source": [
    "# Read the Starbucks file by parsing dates\n",
    "# load Starbucks dataset\n",
    "starbucksdf = pd.read_csv(\"Datasets/starbucks.csv\" , \n",
    "                  index_col = \"Date\" , \n",
    "                  parse_dates = True)"
   ]
  },
  {
   "cell_type": "code",
   "execution_count": 49,
   "metadata": {},
   "outputs": [
    {
     "name": "stdout",
     "output_type": "stream",
     "text": [
      "<class 'pandas.core.frame.DataFrame'>\n",
      "DatetimeIndex: 1006 entries, 2015-01-02 to 2018-12-31\n",
      "Data columns (total 2 columns):\n",
      " #   Column  Non-Null Count  Dtype  \n",
      "---  ------  --------------  -----  \n",
      " 0   Close   1006 non-null   float64\n",
      " 1   Volume  1006 non-null   int64  \n",
      "dtypes: float64(1), int64(1)\n",
      "memory usage: 23.6 KB\n"
     ]
    }
   ],
   "source": [
    "starbucksdf.info()"
   ]
  },
  {
   "cell_type": "code",
   "execution_count": 50,
   "metadata": {},
   "outputs": [
    {
     "data": {
      "text/html": [
       "<div>\n",
       "<style scoped>\n",
       "    .dataframe tbody tr th:only-of-type {\n",
       "        vertical-align: middle;\n",
       "    }\n",
       "\n",
       "    .dataframe tbody tr th {\n",
       "        vertical-align: top;\n",
       "    }\n",
       "\n",
       "    .dataframe thead th {\n",
       "        text-align: right;\n",
       "    }\n",
       "</style>\n",
       "<table border=\"1\" class=\"dataframe\">\n",
       "  <thead>\n",
       "    <tr style=\"text-align: right;\">\n",
       "      <th></th>\n",
       "      <th>Close</th>\n",
       "      <th>Volume</th>\n",
       "    </tr>\n",
       "    <tr>\n",
       "      <th>Date</th>\n",
       "      <th></th>\n",
       "      <th></th>\n",
       "    </tr>\n",
       "  </thead>\n",
       "  <tbody>\n",
       "    <tr>\n",
       "      <th>2015-01-02</th>\n",
       "      <td>38.0061</td>\n",
       "      <td>6906098</td>\n",
       "    </tr>\n",
       "    <tr>\n",
       "      <th>2015-01-05</th>\n",
       "      <td>37.2781</td>\n",
       "      <td>11623796</td>\n",
       "    </tr>\n",
       "    <tr>\n",
       "      <th>2015-01-06</th>\n",
       "      <td>36.9748</td>\n",
       "      <td>7664340</td>\n",
       "    </tr>\n",
       "    <tr>\n",
       "      <th>2015-01-07</th>\n",
       "      <td>37.8848</td>\n",
       "      <td>9732554</td>\n",
       "    </tr>\n",
       "    <tr>\n",
       "      <th>2015-01-08</th>\n",
       "      <td>38.4961</td>\n",
       "      <td>13170548</td>\n",
       "    </tr>\n",
       "  </tbody>\n",
       "</table>\n",
       "</div>"
      ],
      "text/plain": [
       "              Close    Volume\n",
       "Date                         \n",
       "2015-01-02  38.0061   6906098\n",
       "2015-01-05  37.2781  11623796\n",
       "2015-01-06  36.9748   7664340\n",
       "2015-01-07  37.8848   9732554\n",
       "2015-01-08  38.4961  13170548"
      ]
     },
     "execution_count": 50,
     "metadata": {},
     "output_type": "execute_result"
    }
   ],
   "source": [
    "starbucksdf.head()"
   ]
  },
  {
   "cell_type": "code",
   "execution_count": null,
   "metadata": {},
   "outputs": [],
   "source": []
  }
 ],
 "metadata": {
  "kernelspec": {
   "display_name": "Python 3",
   "language": "python",
   "name": "python3"
  },
  "language_info": {
   "codemirror_mode": {
    "name": "ipython",
    "version": 3
   },
   "file_extension": ".py",
   "mimetype": "text/x-python",
   "name": "python",
   "nbconvert_exporter": "python",
   "pygments_lexer": "ipython3",
   "version": "3.8.5"
  },
  "latex_envs": {
   "LaTeX_envs_menu_present": true,
   "autoclose": false,
   "autocomplete": true,
   "bibliofile": "biblio.bib",
   "cite_by": "apalike",
   "current_citInitial": 1,
   "eqLabelWithNumbers": true,
   "eqNumInitial": 1,
   "hotkeys": {
    "equation": "Ctrl-E",
    "itemize": "Ctrl-I"
   },
   "labels_anchors": false,
   "latex_user_defs": false,
   "report_style_numbering": false,
   "user_envs_cfg": false
  },
  "toc": {
   "base_numbering": 1,
   "nav_menu": {},
   "number_sections": true,
   "sideBar": true,
   "skip_h1_title": true,
   "title_cell": "Table of Contents",
   "title_sidebar": "Contents",
   "toc_cell": false,
   "toc_position": {},
   "toc_section_display": true,
   "toc_window_display": true
  },
  "varInspector": {
   "cols": {
    "lenName": 16,
    "lenType": 16,
    "lenVar": 40
   },
   "kernels_config": {
    "python": {
     "delete_cmd_postfix": "",
     "delete_cmd_prefix": "del ",
     "library": "var_list.py",
     "varRefreshCmd": "print(var_dic_list())"
    },
    "r": {
     "delete_cmd_postfix": ") ",
     "delete_cmd_prefix": "rm(",
     "library": "var_list.r",
     "varRefreshCmd": "cat(var_dic_list()) "
    }
   },
   "types_to_exclude": [
    "module",
    "function",
    "builtin_function_or_method",
    "instance",
    "_Feature"
   ],
   "window_display": false
  }
 },
 "nbformat": 4,
 "nbformat_minor": 4
}
