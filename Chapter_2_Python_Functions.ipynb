{
 "cells": [
  {
   "cell_type": "markdown",
   "metadata": {
    "toc": true
   },
   "source": [
    "<h1>Chapter_2_Python_Functions<span class=\"tocSkip\"></span></h1>\n",
    "<div class=\"toc\"><ul class=\"toc-item\"><li><span><a href=\"#Introduction\" data-toc-modified-id=\"Introduction-1\"><span class=\"toc-item-num\">1&nbsp;&nbsp;</span>Introduction</a></span></li><li><span><a href=\"#Define-a-Function\" data-toc-modified-id=\"Define-a-Function-2\"><span class=\"toc-item-num\">2&nbsp;&nbsp;</span>Define a Function</a></span></li><li><span><a href=\"#Whitespace-&amp;-Execution-Flow\" data-toc-modified-id=\"Whitespace-&amp;-Execution-Flow-3\"><span class=\"toc-item-num\">3&nbsp;&nbsp;</span>Whitespace &amp; Execution Flow</a></span></li><li><span><a href=\"#Parameters-&amp;-Arguments\" data-toc-modified-id=\"Parameters-&amp;-Arguments-4\"><span class=\"toc-item-num\">4&nbsp;&nbsp;</span>Parameters &amp; Arguments</a></span></li><li><span><a href=\"#Multiple-Parameters\" data-toc-modified-id=\"Multiple-Parameters-5\"><span class=\"toc-item-num\">5&nbsp;&nbsp;</span>Multiple Parameters</a></span></li><li><span><a href=\"#Types-of-Arguments\" data-toc-modified-id=\"Types-of-Arguments-6\"><span class=\"toc-item-num\">6&nbsp;&nbsp;</span>Types of Arguments</a></span></li><li><span><a href=\"#User-Defined-Functions\" data-toc-modified-id=\"User-Defined-Functions-7\"><span class=\"toc-item-num\">7&nbsp;&nbsp;</span>User Defined Functions</a></span></li><li><span><a href=\"#Variable-Scope\" data-toc-modified-id=\"Variable-Scope-8\"><span class=\"toc-item-num\">8&nbsp;&nbsp;</span>Variable Scope</a></span></li><li><span><a href=\"#Returns\" data-toc-modified-id=\"Returns-9\"><span class=\"toc-item-num\">9&nbsp;&nbsp;</span>Returns</a></span></li><li><span><a href=\"#Multiple-Return-Values\" data-toc-modified-id=\"Multiple-Return-Values-10\"><span class=\"toc-item-num\">10&nbsp;&nbsp;</span>Multiple Return Values</a></span></li><li><span><a href=\"#Scope\" data-toc-modified-id=\"Scope-11\"><span class=\"toc-item-num\">11&nbsp;&nbsp;</span>Scope</a></span></li><li><span><a href=\"#Practice-1-:-Tenth-Power\" data-toc-modified-id=\"Practice-1-:-Tenth-Power-12\"><span class=\"toc-item-num\">12&nbsp;&nbsp;</span>Practice 1 : Tenth Power</a></span></li><li><span><a href=\"#Practice-2--:-Turn-up-the-Temperature\" data-toc-modified-id=\"Practice-2--:-Turn-up-the-Temperature-13\"><span class=\"toc-item-num\">13&nbsp;&nbsp;</span>Practice 2  : Turn up the Temperature</a></span></li><li><span><a href=\"#Practice-3-:-Use-the-Force\" data-toc-modified-id=\"Practice-3-:-Use-the-Force-14\"><span class=\"toc-item-num\">14&nbsp;&nbsp;</span>Practice 3 : Use the Force</a></span></li><li><span><a href=\"#Practice-4-:-Medical-Insurance-Project\" data-toc-modified-id=\"Practice-4-:-Medical-Insurance-Project-15\"><span class=\"toc-item-num\">15&nbsp;&nbsp;</span>Practice 4 : Medical Insurance Project</a></span></li></ul></div>"
   ]
  },
  {
   "cell_type": "markdown",
   "metadata": {},
   "source": [
    "**Python Functions Tutorial:**   \n",
    "**Author : Ravi Mummigatti**  \n",
    "**Credits : Code Academy , Wikipedia , Cloudx**  \n",
    "**Pre-requisites : None**  "
   ]
  },
  {
   "cell_type": "markdown",
   "metadata": {},
   "source": [
    "# Introduction  \n",
    "* A function is a collection of several lines of code. By calling a function, we can call all of these lines of code at once, without having to repeat ourselves.  \n",
    "\n",
    "* **A function is a tool that you can use over and over again to produce consistent output from different inputs.**"
   ]
  },
  {
   "cell_type": "markdown",
   "metadata": {},
   "source": [
    "**Q :** In Python, some pieces of code are categorized as statements or as functions. What are some of the main differences between the two?  \n",
    "\n",
    "**A :** \n",
    "* Statement is typically a line of code we write to give an “instruction” or “command” for Python to perform. For example, variable assignment, which we used quite often, is a statement, which tells Python to set a variable to a value, for it carry out when it processes that code line. Statements are essentially always an “imperative” task that must be carried out.\n",
    "\n",
    "* Funnctions are a collection of multiple code lines which you are able to call all at once. Functions themselves are not statements, because they are not an imperative task that must be performed. Rather, they are closer to some object or value, that you can call in your program when you need to run its code.\n",
    "\n",
    "* Statements do not return anything, while functions always return some value, returning the value None if no return value is specified."
   ]
  },
  {
   "cell_type": "markdown",
   "metadata": {},
   "source": [
    "Let’s imagine that we are creating a program that greets customers as they enter a grocery store. We want a big screen at the entrance of the store to say:  \n",
    "\"Welcome to Engrossing Grocers.  \n",
    "Our special is mandarin oranges.  \n",
    "Have fun shopping!\"  \n",
    "\n",
    "We have learned to use print statements for this purpose:  \n",
    "print(\"Welcome to Engrossing Grocers.\")  \n",
    "print(\"Our special is mandarin oranges.\")  \n",
    "print(\"Have fun shopping!\")  \n",
    "\n",
    "Every time a customer enters, we call these three lines of code. Even if only 3 or 4 customers come in, that’s a lot of lines of code required.  \n",
    "\n",
    "In Python, we can make this process easier by assigning these lines of code to a function. We’ll name this function greet_customer. In order to call a function, we use the syntax function_name(). The parentheses are important! They make the code inside the function run. In this example, the function call looks like: **greet_customer()**  \n",
    "\n",
    "Every time we call greet_customer(), we would see:  \n",
    "\n",
    "\"Welcome to Engrossing Grocer's.  \n",
    "Our special is mandarin oranges.  \n",
    "Have fun shopping!\"  \n",
    "\n",
    "Having this functionality inside greet_customer() is better form, because we have isolated this behavior from the rest of our code. Once we determine that greet_customer() works the way we want, we can reuse it anywhere and be confident that it greets, without having to look at the implementation. We can get the same output, with less repeated code. Repeated code is generally more error prone and harder to understand, so it’s a good goal to reduce the amount of it.\n",
    "\n",
    "\n"
   ]
  },
  {
   "cell_type": "code",
   "execution_count": 1,
   "metadata": {},
   "outputs": [
    {
     "name": "stdout",
     "output_type": "stream",
     "text": [
      "You may say I'm a dreamer\n",
      "But I'm not the only one\n",
      "I hope some day you'll join us\n",
      "And the world will be as one\n"
     ]
    }
   ],
   "source": [
    "# define the function sing a song\n",
    "def sing_song():\n",
    "  print(\"You may say I'm a dreamer\")\n",
    "  print(\"But I'm not the only one\")\n",
    "  print(\"I hope some day you'll join us\")\n",
    "  print(\"And the world will be as one\")\n",
    "\n",
    "# call sing_song() below:\n",
    "sing_song()"
   ]
  },
  {
   "cell_type": "markdown",
   "metadata": {},
   "source": [
    "# Define a Function  \n",
    "A function consists of many parts, so let’s first get familiar with its core - a function definition.\n",
    "\n",
    "Here’s an example of a function definition:\n",
    "\n",
    "def function_name():   \n",
    "\n",
    "            #functions tasks go here\n",
    "\n",
    "There are some key components we want to note here:\n",
    "\n",
    "    The def keyword indicates the beginning of a function (also known as a function header). The function header is followed by a name in snake_case format that describes the task the function performs. It’s best practice to give your functions a descriptive yet concise name.\n",
    "\n",
    "    Following the function name is a pair of parenthesis ( ) that can hold input values known as parameters (more on parameters later in the lesson!). In this example function, we have no parameters.\n",
    "\n",
    "    A colon : to mark the end of the function header.\n",
    "\n",
    "    Lastly, we have one or more valid python statements that make up the function body (where we have our python comment).\n",
    "\n",
    "Notice we’ve indented our # function tasks go here comment. Like loops and conditionals, code inside a function must be indented to show that they are part of the function."
   ]
  },
  {
   "cell_type": "code",
   "execution_count": 2,
   "metadata": {},
   "outputs": [
    {
     "name": "stdout",
     "output_type": "stream",
     "text": [
      "Welcome to Engrossing Grocers.\n",
      "Our special is mandarin oranges.\n",
      "Have fun shopping!\n"
     ]
    }
   ],
   "source": [
    "def greet_customer():\n",
    "  print(\"Welcome to Engrossing Grocers.\")\n",
    "  print(\"Our special is mandarin oranges.\")\n",
    "  print(\"Have fun shopping!\")\n",
    "\n",
    "greet_customer()\n",
    "# prints greeting lines"
   ]
  },
  {
   "cell_type": "markdown",
   "metadata": {},
   "source": [
    "The keyword **def** tells Python that we are defining a function called **greet_customer**.  \n",
    "Everything that is indented after the **(:)** is what is run when greet_customer() is called.  \n",
    "So every time we call **greet_customer()**, the three print statements run"
   ]
  },
  {
   "cell_type": "code",
   "execution_count": null,
   "metadata": {},
   "outputs": [],
   "source": []
  },
  {
   "cell_type": "markdown",
   "metadata": {},
   "source": [
    "* Write a function called loading_screen that prints \"This page is loading...\" to the console.  \n",
    "* Outside of the function body (unindented), call loading_screen(). \n"
   ]
  },
  {
   "cell_type": "code",
   "execution_count": 3,
   "metadata": {},
   "outputs": [
    {
     "name": "stdout",
     "output_type": "stream",
     "text": [
      "This page is loading...\n"
     ]
    }
   ],
   "source": [
    "def loading_screen():\n",
    "    print(\"This page is loading...\")\n",
    "\n",
    "loading_screen()"
   ]
  },
  {
   "cell_type": "markdown",
   "metadata": {},
   "source": [
    "**Q :** Within the context of this exercise 62, we placed a print() function within another function. Is it okay to place function calls inside another function?  \n",
    "\n",
    "**A :** Yes, you have functions calls within another function. You can think of functions as generally being a collection of multiple lines of code. These lines can be statements, expressions, and even other function calls.  \n",
    "When you run a function that calls another function, it will go through its code lines as usual, and when it gets to the function call, it will complete that call, and then continue with its next lines of code as usual."
   ]
  },
  {
   "cell_type": "code",
   "execution_count": 4,
   "metadata": {},
   "outputs": [
    {
     "name": "stdout",
     "output_type": "stream",
     "text": [
      "Hi!\n",
      "How are you?\n"
     ]
    }
   ],
   "source": [
    "def sayHi():\n",
    "    print(\"Hi!\")\n",
    "sayHi()# The function call will run and complete.\n",
    "  \n",
    "# After the function call above completes, then Python will continue with the next code lines in the function.\n",
    "print(\"How are you?\")"
   ]
  },
  {
   "cell_type": "markdown",
   "metadata": {},
   "source": [
    "# Whitespace & Execution Flow  \n",
    "In Python, the amount of whitespace tells the computer what is part of a function and what is not part of that function.   \n",
    "If we wanted to write another line outside of function(), we would have to unindent the new line:"
   ]
  },
  {
   "cell_type": "code",
   "execution_count": 5,
   "metadata": {},
   "outputs": [
    {
     "name": "stdout",
     "output_type": "stream",
     "text": [
      "Welcome to Engrossing Grocers.\n",
      "Our special is mandarin oranges.\n",
      "Have fun shopping!\n"
     ]
    }
   ],
   "source": [
    "def greet_customer():\n",
    "  print(\"Welcome to Engrossing Grocers.\")\n",
    "  print(\"Our special is mandarin oranges.\")\n",
    "  print(\"Have fun shopping!\")\n",
    "\n",
    "greet_customer()"
   ]
  },
  {
   "cell_type": "markdown",
   "metadata": {},
   "source": [
    "Here the three print statements are all executed together when greet_customer_1() is called. This is because they have the same level of indentation"
   ]
  },
  {
   "cell_type": "code",
   "execution_count": 1,
   "metadata": {},
   "outputs": [
    {
     "name": "stdout",
     "output_type": "stream",
     "text": [
      "Cleanup on Aisle 6\n",
      "Welcome to Engrossing Grocers.\n",
      "Our special is mandarin oranges.\n",
      "Have fun shopping!\n",
      "============\n",
      "Welcome to Engrossing Grocers.\n",
      "Our special is mandarin oranges.\n",
      "Have fun shopping!\n",
      "============\n"
     ]
    }
   ],
   "source": [
    "def greet_customer_1():\n",
    "  print(\"Welcome to Engrossing Grocers.\")\n",
    "  print(\"Our special is mandarin oranges.\")\n",
    "  print(\"Have fun shopping!\")\n",
    "  print(\"============\")\n",
    "print(\"Cleanup on Aisle 6\")\n",
    "greet_customer_1()\n",
    "greet_customer_1()"
   ]
  },
  {
   "cell_type": "markdown",
   "metadata": {},
   "source": [
    "When we run this program, the message \"Cleanup on Aisle 6\" will be printed once, while the messages in greet_customer_1() will all be printed twice.   \n",
    "This is because we call the function twice, and \"Cleanup on Aisle 6\" is not part of the function.   \n",
    "Notice also that \"Cleanup on Aisle 6\" will be printed before the greet_customer() messages since we call the function after it"
   ]
  },
  {
   "cell_type": "markdown",
   "metadata": {},
   "source": [
    "# Parameters & Arguments    \n",
    "**Parameters, are variables that you can pass into the function when you call it**    \n",
    "Function parameters allow our function to accept data as an input value. We list parameters that a function takes as input between the parentheses of a function ( )  \n",
    "\n",
    "The Parameter defined in the paranthesis of a function () is is used by passing in an argument to the function when we call it.\n"
   ]
  },
  {
   "cell_type": "code",
   "execution_count": 2,
   "metadata": {},
   "outputs": [
    {
     "name": "stdout",
     "output_type": "stream",
     "text": [
      "Welcome to Engrossing Grocers.\n",
      "Our special is peanut butter.\n",
      "Have fun shopping!\n"
     ]
    }
   ],
   "source": [
    "# define the function with parameters\n",
    "def greet_customer_2(special_item): ## special_item is parameter\n",
    "  print(\"Welcome to Engrossing Grocers.\")\n",
    "  print(\"Our special is \" + special_item + \".\")\n",
    "  print(\"Have fun shopping!\")\n",
    "\n",
    "# call the function with arguments which are values of the parameter\n",
    "greet_customer_2(\"peanut butter\") ## peanut butter is argument"
   ]
  },
  {
   "cell_type": "markdown",
   "metadata": {},
   "source": [
    "The **special_item** is referred to as a **formal parameter**.   \n",
    "This variable name is a placeholder for the name of the item that is the grocery’s special today.   \n",
    "Now, when we call greet_customer, we have to provide a special_item: in this case \"peanut butter\".  \n",
    "\n",
    "The **value between the parentheses when we call the function** (in this case, \"peanut butter\") is referred to as an **argument** of the function call.   \n",
    "The argument is the information that is to be used in the execution of the function.   \n",
    "When we then call the function, Python assigns the formal parameter name special_item with the actual parameter data, \"peanut_butter\""
   ]
  },
  {
   "cell_type": "code",
   "execution_count": 8,
   "metadata": {},
   "outputs": [
    {
     "name": "stdout",
     "output_type": "stream",
     "text": [
      "Welcome to Engrossing Grocers.\n",
      "Our special is Cheese Balls.\n",
      "Have fun shopping!\n"
     ]
    }
   ],
   "source": [
    "greet_customer_2(\"Cheese Balls\") ## \"Cheese Balls\" is the argument"
   ]
  },
  {
   "cell_type": "markdown",
   "metadata": {},
   "source": [
    "The function mult_two_add_three() prints a number multiplied by 2 and added to 3.   \n",
    "As it is written right now, the number that it operates on is always 5.  \n",
    "Call the function and see what it prints to the console.\n"
   ]
  },
  {
   "cell_type": "code",
   "execution_count": 9,
   "metadata": {},
   "outputs": [
    {
     "name": "stdout",
     "output_type": "stream",
     "text": [
      "13\n"
     ]
    }
   ],
   "source": [
    "# define the function\n",
    "def mult_two_add_three():\n",
    "    number = 5\n",
    "    print(number*2 +3)\n",
    "\n",
    "# call the function\n",
    "mult_two_add_three()"
   ]
  },
  {
   "cell_type": "markdown",
   "metadata": {},
   "source": [
    "Now, modify the function definition so that it has a parameter called number.  \n",
    "Then delete the number = 5 assignment on the first line of the function.  \n",
    "Pass the number 1 into your function call.\n"
   ]
  },
  {
   "cell_type": "code",
   "execution_count": 10,
   "metadata": {},
   "outputs": [
    {
     "name": "stdout",
     "output_type": "stream",
     "text": [
      "5\n"
     ]
    }
   ],
   "source": [
    "# define the function with a parameter\n",
    "def mult_by_two_add_three(number):\n",
    "    print(number*2 + 3)\n",
    "    \n",
    "# call the function with argument 1\n",
    "mult_by_two_add_three(1)"
   ]
  },
  {
   "cell_type": "markdown",
   "metadata": {},
   "source": [
    "Call the function with the value 5 as the argument."
   ]
  },
  {
   "cell_type": "code",
   "execution_count": 11,
   "metadata": {},
   "outputs": [
    {
     "name": "stdout",
     "output_type": "stream",
     "text": [
      "13\n"
     ]
    }
   ],
   "source": [
    "# call the function with aggument 5\n",
    "mult_by_two_add_three(5)"
   ]
  },
  {
   "cell_type": "markdown",
   "metadata": {},
   "source": [
    "Call the function with the value -1 as the argument."
   ]
  },
  {
   "cell_type": "code",
   "execution_count": 12,
   "metadata": {},
   "outputs": [
    {
     "name": "stdout",
     "output_type": "stream",
     "text": [
      "1\n"
     ]
    }
   ],
   "source": [
    "# call the function with argument as -1\n",
    "mult_by_two_add_three(-1)"
   ]
  },
  {
   "cell_type": "markdown",
   "metadata": {},
   "source": [
    "Call the function with the value 0 as the argument"
   ]
  },
  {
   "cell_type": "code",
   "execution_count": 13,
   "metadata": {},
   "outputs": [
    {
     "name": "stdout",
     "output_type": "stream",
     "text": [
      "3\n"
     ]
    }
   ],
   "source": [
    "# call the function with argument as 0\n",
    "mult_by_two_add_three(0)"
   ]
  },
  {
   "cell_type": "markdown",
   "metadata": {},
   "source": [
    "**Q :** In Python, do parameters still hold some value when the function call completes?  \n",
    "**A :** When a function call completes, all the parameters will no longer store any values in them.  \n",
    "\n",
    "Unlike regular variables we’ve worked with before, that were not parameters, parameters do not continue to reference some value after the function finishes running. **Parameters are essentially “temporary placeholder variables”**, so they only temporarily, for the duration of the function call, hold onto values, and reference them while the function is running. Once the function call completes entirely, the parameters will dereference any values and become “empty” again."
   ]
  },
  {
   "cell_type": "code",
   "execution_count": 14,
   "metadata": {},
   "outputs": [
    {
     "data": {
      "text/plain": [
       "'aaaaaaaaaa'"
      ]
     },
     "execution_count": 14,
     "metadata": {},
     "output_type": "execute_result"
    }
   ],
   "source": [
    "def foo(number):     # formal parameter => number\n",
    "    return ''.join(['a'] * number)\n",
    "\n",
    "foo(10)              # argument         => 25"
   ]
  },
  {
   "cell_type": "markdown",
   "metadata": {},
   "source": [
    "# Multiple Parameters  \n",
    "Our grocery greeting system has gotten popular, and now other supermarkets want to use it.   \n",
    "As such, we want to be able to modify both the special item and the name of the grocery store in a greeting like this:"
   ]
  },
  {
   "cell_type": "code",
   "execution_count": 15,
   "metadata": {},
   "outputs": [
    {
     "name": "stdout",
     "output_type": "stream",
     "text": [
      "Welcome to Engrossing Grocers.\n",
      "Our special is peanut butter.\n",
      "Have fun shopping!\n"
     ]
    }
   ],
   "source": [
    "def greet_customer_x(special_item): ## special_item is parameter\n",
    "  print(\"Welcome to Engrossing Grocers.\")\n",
    "  print(\"Our special is \" + special_item + \".\")\n",
    "  print(\"Have fun shopping!\")\n",
    "greet_customer_x(\"peanut butter\") ## peanut butter is argument"
   ]
  },
  {
   "cell_type": "markdown",
   "metadata": {},
   "source": [
    "We can make a function take more than one parameter by using commas:  \n",
    "The variables grocery_store and special_item must now both be provided to the function upon calling it"
   ]
  },
  {
   "cell_type": "code",
   "execution_count": 16,
   "metadata": {},
   "outputs": [
    {
     "name": "stdout",
     "output_type": "stream",
     "text": [
      "Welcome to Hopcoms.\n",
      "Our special is papayas.\n",
      "Have fun shopping!\n"
     ]
    }
   ],
   "source": [
    "def greet_customer_y(grocery_store, special_item): ## special_item and grocery_store are parameters\n",
    "  print(\"Welcome to \"+ grocery_store + \".\")\n",
    "  print(\"Our special is \" + special_item + \".\")\n",
    "  print(\"Have fun shopping!\")\n",
    "\n",
    "greet_customer_y(\"Hopcoms\", \"papayas\") ## Hopcoms and papayas are arguments"
   ]
  },
  {
   "cell_type": "code",
   "execution_count": 17,
   "metadata": {},
   "outputs": [
    {
     "name": "stdout",
     "output_type": "stream",
     "text": [
      "13\n"
     ]
    }
   ],
   "source": [
    "def mult_x_add_y(number , x , y): ## number , x , y are parameters\n",
    "    print(number*x+y)\n",
    "\n",
    "mult_x_add_y(5,2,3) ## 5 , 2 , 3 are arguments"
   ]
  },
  {
   "cell_type": "code",
   "execution_count": 18,
   "metadata": {},
   "outputs": [
    {
     "name": "stdout",
     "output_type": "stream",
     "text": [
      "4\n"
     ]
    }
   ],
   "source": [
    "mult_x_add_y(1 , 3 , 1)"
   ]
  },
  {
   "cell_type": "code",
   "execution_count": 19,
   "metadata": {},
   "outputs": [
    {
     "name": "stdout",
     "output_type": "stream",
     "text": [
      "5\n"
     ]
    }
   ],
   "source": [
    "# define the function\n",
    "def mult_x_add_y_ret(number , x , y): ## number , x , y are parameters\n",
    "    new_number = (number * x + y) ## new number is the variable to store the result of the operation\n",
    "    return new_number ## this will return the result\n",
    "\n",
    "# call the function within the varaible and print the result\n",
    "new_number = mult_x_add_y_ret(1 , 2 , 3)\n",
    "print(new_number)\n"
   ]
  },
  {
   "cell_type": "code",
   "execution_count": 20,
   "metadata": {},
   "outputs": [
    {
     "name": "stdout",
     "output_type": "stream",
     "text": [
      "Welcome to Food-World.\n",
      "Our special is Bananas.\n",
      "Have fun shopping!\n"
     ]
    }
   ],
   "source": [
    "def greeting(grocery_store, special_item):\n",
    "  print(\"Welcome to \"+ grocery_store + \".\")\n",
    "  print(\"Our special is \" + special_item + \".\")\n",
    "  print(\"Have fun shopping!\")\n",
    "greeting(\"Food-World\" , \"Bananas\") # calling function with \"user-defined\" arguments"
   ]
  },
  {
   "cell_type": "markdown",
   "metadata": {},
   "source": [
    "Our travel application users want to calculate the total expenses they may have to incur on a trip.\n",
    "\n",
    "1. Write a function called calculate_expenses that will have four parameters (in exact order):    plane_ticket_price ; car_rental_rate ; hotel_rate ; trip_time.Each of these parameters will account for a different expense that our users will incur.   \n",
    "2. Within the body of the function, let’s start to make some calculations for our expenses. First, let’s calculate the total price for a car rental.Create new variable called car_rental_total that is the product of car_rental_rate and trip_time.  \n",
    "3. Next, we want to apply the same logic but for our hotel_rate.Create new variable called hotel_total that is the product of hotel_rate and trip_time.We also have a coupon to give our users some cashback for their hotel visit so subtract 10 from that total in the same statement.    \n",
    "4. Lastly, let’s print a nice message for our users to see the total. Use print to output the sum of car_rental_total, hotel_total and plane_ticket_price.  \n",
    "5. Call the function with argument values for the parameters listed:plane_ticket_price : 200;car_rental_rate : 100 ; hotel_rate : 100 ; trip_time: 5\n",
    "\n",
    "\n"
   ]
  },
  {
   "cell_type": "code",
   "execution_count": 8,
   "metadata": {},
   "outputs": [
    {
     "name": "stdout",
     "output_type": "stream",
     "text": [
      "Total Ticket Price inclusive of Flight , Car Rental and Hotel Stay is USD: 1190\n"
     ]
    }
   ],
   "source": [
    "# define the travel application function\n",
    "def calculate_expenses (plane_ticket_price , car_rental_rate , hotel_rate , trip_time):\n",
    "    # define the car rental variable with calculations on parameters\n",
    "    car_rental_total = car_rental_rate * trip_time\n",
    "    # define the hotel rate variable with calculations on parameters\n",
    "    hotel_total = hotel_rate * trip_time - 10\n",
    "    # print the total ticket price\n",
    "    print(\"Total Ticket Price inclusive of Flight , Car Rental and Hotel Stay is USD:\" , \n",
    "          car_rental_total + hotel_total + plane_ticket_price)\n",
    "\n",
    "# call the function with the desired arguments\n",
    "calculate_expenses(200,100,100,5)"
   ]
  },
  {
   "cell_type": "markdown",
   "metadata": {},
   "source": [
    "# Types of Arguments    \n",
    "\n",
    "In Python, there are 3 different types of arguments we can give a function.\n",
    "\n",
    "    Positional arguments: arguments that can be called by their position in the function definition.\n",
    "\n",
    "    Keyword arguments: arguments that can be called by their name.\n",
    "\n",
    "    Default arguments: arguments that are given default values.\n",
    "\n",
    "**Positional Arguments**  \n",
    "Positional Arguments are arguments we have already been using! Their assignments depend on their positions in the function call. Let’s look at a function called calculate_taxi_price() that allows our users to see how much a taxi would cost to their destination"
   ]
  },
  {
   "cell_type": "code",
   "execution_count": 9,
   "metadata": {},
   "outputs": [],
   "source": [
    "def calculate_taxi_price(miles_to_travel, rate, discount):\n",
    "  print(miles_to_travel * rate - discount )"
   ]
  },
  {
   "cell_type": "markdown",
   "metadata": {},
   "source": [
    "In this function, miles_to_travel is positioned as the first parameter, rate is positioned as the second parameter, and discount is the third.   \n",
    "When we call our function, the position of the arguments will be mapped to the positions defined in the function declaration. "
   ]
  },
  {
   "cell_type": "code",
   "execution_count": 10,
   "metadata": {},
   "outputs": [
    {
     "name": "stdout",
     "output_type": "stream",
     "text": [
      "995\n"
     ]
    }
   ],
   "source": [
    "# 100 is miles_to_travel\n",
    "# 10 is rate\n",
    "# 5 is discount\n",
    "calculate_taxi_price(100, 10, 5)"
   ]
  },
  {
   "cell_type": "markdown",
   "metadata": {},
   "source": [
    "**Keyword Arguments**  \n",
    "We can use Keyword Arguments where we explicitly refer to what each argument is assigned to in the function call. Notice in the code example below that the arguments do not follow the same order as defined in the function declaration."
   ]
  },
  {
   "cell_type": "code",
   "execution_count": 11,
   "metadata": {},
   "outputs": [
    {
     "name": "stdout",
     "output_type": "stream",
     "text": [
      "40.0\n"
     ]
    }
   ],
   "source": [
    "calculate_taxi_price(rate=0.5, discount=10, miles_to_travel=100)"
   ]
  },
  {
   "cell_type": "markdown",
   "metadata": {},
   "source": [
    "**Default Arguments**  \n",
    "Sometimes we want to give our function arguments default values. We can provide a default value to an argument by using the assignment operator (=). This will happen in the function declaration rather than the function call.   \n",
    "Here is an example where the discount argument in our calculate_taxi_price function will always have a default value of 10: "
   ]
  },
  {
   "cell_type": "code",
   "execution_count": 16,
   "metadata": {},
   "outputs": [],
   "source": [
    "def calculate_taxi_price_1(miles_to_travel, rate, discount = 10):\n",
    "  print((miles_to_travel * rate) - discount)"
   ]
  },
  {
   "cell_type": "markdown",
   "metadata": {},
   "source": [
    "When using a default argument, we can either choose to call the function without providing a value for a discount (and thus our function will use the default value assigned) or overwrite the default argument by providing our own."
   ]
  },
  {
   "cell_type": "code",
   "execution_count": 19,
   "metadata": {},
   "outputs": [
    {
     "name": "stdout",
     "output_type": "stream",
     "text": [
      "40.0\n"
     ]
    }
   ],
   "source": [
    "# Using the default value of 10 for discount.\n",
    "calculate_taxi_price_1(100, 0.5)"
   ]
  },
  {
   "cell_type": "code",
   "execution_count": 20,
   "metadata": {},
   "outputs": [
    {
     "name": "stdout",
     "output_type": "stream",
     "text": [
      "30.0\n"
     ]
    }
   ],
   "source": [
    "# Overwriting the default value of 10 with 20\n",
    "calculate_taxi_price_1(100, 0.5, 20)"
   ]
  },
  {
   "cell_type": "markdown",
   "metadata": {},
   "source": [
    "Tripcademy (our trusty travel app) needs to allow passengers to plan a trip (duh).\n",
    "\n",
    "1. Write a function called trip_planner() that will have three parameters: first_destination, second_destination and final_destination.  \n",
    "\n",
    "2. Give the final_destination parameter a default value of \"Berlin HQ\".  \n",
    "\n",
    "3. First, we want to introduce the trip to users. Use print() in our function to output Here is what your trip will look like!  \n",
    "\n",
    "4. In our function definition let’s provide an itinerary that will describe the destinations our user will visit in order. Print a statement that follows this form:First, we will stop in <first_destination>, then <second_destination>, and lastly <final_destination>  \n",
    "\n",
    "5. Call the function trip_planner() with the following values for the parameters:    first_destination: \"France\" , second_destination: \"Germany\" , final_destination: \"Denmark\"  \n",
    "\n",
    "6. Call the function trip_planner() again using keyword arguments in this exact order:    first_destination: \"Iceland\" , final_destination: \"Germany\" , second_destination: \"India\"\n",
    "\n",
    "7. Call the function trip_planner() using only two positional arguments to see the default argument in action:first_destination: \"Brooklyn\" , second_destination: \"Queens\" "
   ]
  },
  {
   "cell_type": "code",
   "execution_count": 25,
   "metadata": {},
   "outputs": [],
   "source": [
    "# define the function with the desired parameters\n",
    "def trip_planner(first_destination, second_destination, final_destination=\"Berlin HQ\"):\n",
    "  print(\"Here is what your trip will look like!\")\n",
    "  print(\"First, we will stop in \" + \n",
    "        first_destination + \",then \" + second_destination + \",and lastly \" + final_destination)"
   ]
  },
  {
   "cell_type": "code",
   "execution_count": 24,
   "metadata": {},
   "outputs": [
    {
     "name": "stdout",
     "output_type": "stream",
     "text": [
      "Here is what your trip will look like!\n",
      "First, we will stop in France,then Germany,and lastly Denmark\n"
     ]
    }
   ],
   "source": [
    "trip_planner(\"France\", \"Germany\", \"Denmark\")"
   ]
  },
  {
   "cell_type": "code",
   "execution_count": 27,
   "metadata": {},
   "outputs": [
    {
     "name": "stdout",
     "output_type": "stream",
     "text": [
      "Here is what your trip will look like!\n",
      "First, we will stop in Iceland,then India,and lastly Germany\n"
     ]
    }
   ],
   "source": [
    "trip_planner(first_destination=\"Iceland\", final_destination=\"Germany\", second_destination=\"India\")"
   ]
  },
  {
   "cell_type": "code",
   "execution_count": 28,
   "metadata": {},
   "outputs": [
    {
     "name": "stdout",
     "output_type": "stream",
     "text": [
      "Here is what your trip will look like!\n",
      "First, we will stop in Brooklyn,then Queens,and lastly Berlin HQ\n"
     ]
    }
   ],
   "source": [
    "trip_planner(\"Brooklyn\", \"Queens\")"
   ]
  },
  {
   "cell_type": "markdown",
   "metadata": {},
   "source": [
    "**Q :** When writing a function in Python, do we have to place all keyword arguments so that they come after all the positional arguments in the function definition?  \n",
    "**A :** Yes, keyword arguments, which are assigned some value in the definition, must be written after all the positional arguments.  \n",
    "If we do not follow this rule, then Python will give us an error message"
   ]
  },
  {
   "cell_type": "markdown",
   "metadata": {},
   "source": [
    "# User Defined Functions  \n",
    "\n",
    "There are two distinct categories for functions in the world of Python. What we have been writing so far are called *User Defined Functions* - functions that are written by users.\n",
    "\n",
    "There is another category called Built-in functions - functions that come built into Python for us to use. e.g. print() , str(), are functions built into the python language.  \n",
    "\n",
    "There are lots of different built-in functions that we can use in our programs"
   ]
  },
  {
   "cell_type": "code",
   "execution_count": 1,
   "metadata": {},
   "outputs": [
    {
     "name": "stdout",
     "output_type": "stream",
     "text": [
      "28\n"
     ]
    }
   ],
   "source": [
    "# create a sring variable\n",
    "destination_name = \"Venkatanarasimharajuvaripeta\"\n",
    " \n",
    "# Built-in function: len()\n",
    "length_of_destination = len(destination_name)\n",
    " \n",
    "# Built-in function: print()\n",
    "print(length_of_destination)"
   ]
  },
  {
   "cell_type": "markdown",
   "metadata": {},
   "source": [
    "Here we are using a total of two built-in functions in our example: print(), and len().  \n",
    "\n",
    "Check out all the latest built-in functions in the official Python docs @ https://docs.python.org/3/library/functions.html"
   ]
  },
  {
   "cell_type": "markdown",
   "metadata": {},
   "source": [
    "We were provided a list of prices for some gift shop items:T-shirt: 9.75 ; Shorts: 15.50 ; Mug: 5.99 and    Poster: 2.00  \n",
    "\n",
    "Create a variable called max_price and call the built-in function max() with the variables of prices to get the maximum price.Print max_price.\n"
   ]
  },
  {
   "cell_type": "code",
   "execution_count": 2,
   "metadata": {},
   "outputs": [],
   "source": [
    "tshirt_price = 9.75\n",
    "shorts_price = 15.50\n",
    "mug_price = 5.99\n",
    "poster_price = 2.00"
   ]
  },
  {
   "cell_type": "code",
   "execution_count": 3,
   "metadata": {},
   "outputs": [
    {
     "name": "stdout",
     "output_type": "stream",
     "text": [
      "15.5\n"
     ]
    }
   ],
   "source": [
    "max_price = max(tshirt_price , shorts_price , mug_price , poster_price)\n",
    "print(max_price)"
   ]
  },
  {
   "cell_type": "markdown",
   "metadata": {},
   "source": [
    "Using the same set of prices, create a new variable called min_price and use the built-in function min() with the variables of prices to get the minimum price.Print min_price."
   ]
  },
  {
   "cell_type": "code",
   "execution_count": 5,
   "metadata": {},
   "outputs": [
    {
     "name": "stdout",
     "output_type": "stream",
     "text": [
      "2.0\n"
     ]
    }
   ],
   "source": [
    "min_price = min(tshirt_price , shorts_price , mug_price , poster_price)\n",
    "print(min_price)"
   ]
  },
  {
   "cell_type": "markdown",
   "metadata": {},
   "source": [
    "Use the built-in function round() to round the price of the variable tshirt_price by one decimal place.Save the result to a variable called rounded_price and print it"
   ]
  },
  {
   "cell_type": "code",
   "execution_count": 6,
   "metadata": {},
   "outputs": [
    {
     "name": "stdout",
     "output_type": "stream",
     "text": [
      "9.8\n"
     ]
    }
   ],
   "source": [
    "round_price = round(tshirt_price , 1)\n",
    "print(round_price)"
   ]
  },
  {
   "cell_type": "markdown",
   "metadata": {},
   "source": [
    "# Variable Scope  \n",
    "**Global Variables**\n",
    "\n",
    "A variable that is defined outside of a function is called a global variable. It can be accessed inside the body of a function.   \n",
    "In the example below, the variable **a** is a global variable because it is defined outside of the function prints_a. It is therefore accessible to prints_a, which will print the value of a."
   ]
  },
  {
   "cell_type": "code",
   "execution_count": 7,
   "metadata": {},
   "outputs": [
    {
     "name": "stdout",
     "output_type": "stream",
     "text": [
      "Hello\n"
     ]
    }
   ],
   "source": [
    "a = \"Hello\"\n",
    " \n",
    "def prints_a():\n",
    "  print(a)\n",
    "  \n",
    "# will print \"Hello\"\n",
    "prints_a()"
   ]
  },
  {
   "cell_type": "markdown",
   "metadata": {},
   "source": [
    "**The Scope of Variables**\n",
    "\n",
    "In Python, a variable defined inside a function is called a local variable. It cannot be used outside of the scope of the function, and attempting to do so without defining the variable outside of the function will cause an error. "
   ]
  },
  {
   "cell_type": "code",
   "execution_count": 8,
   "metadata": {},
   "outputs": [
    {
     "ename": "NameError",
     "evalue": "name 'destination' is not defined",
     "output_type": "error",
     "traceback": [
      "\u001b[1;31m---------------------------------------------------------------------------\u001b[0m",
      "\u001b[1;31mNameError\u001b[0m                                 Traceback (most recent call last)",
      "\u001b[1;32m<ipython-input-8-aef2a7467549>\u001b[0m in \u001b[0;36m<module>\u001b[1;34m\u001b[0m\n\u001b[0;32m      2\u001b[0m   \u001b[0mprint\u001b[0m\u001b[1;33m(\u001b[0m\u001b[1;34m\" Looks like you're going to the \"\u001b[0m \u001b[1;33m+\u001b[0m \u001b[0mdestination\u001b[0m \u001b[1;33m+\u001b[0m \u001b[1;34m\" today. \"\u001b[0m\u001b[1;33m)\u001b[0m\u001b[1;33m\u001b[0m\u001b[1;33m\u001b[0m\u001b[0m\n\u001b[0;32m      3\u001b[0m \u001b[1;33m\u001b[0m\u001b[0m\n\u001b[1;32m----> 4\u001b[1;33m \u001b[0mprint\u001b[0m\u001b[1;33m(\u001b[0m\u001b[0mdestination\u001b[0m\u001b[1;33m)\u001b[0m\u001b[1;33m\u001b[0m\u001b[1;33m\u001b[0m\u001b[0m\n\u001b[0m",
      "\u001b[1;31mNameError\u001b[0m: name 'destination' is not defined"
     ]
    }
   ],
   "source": [
    "def trip_welcome(destination):\n",
    "  print(\" Looks like you're going to the \" + destination + \" today. \")\n",
    " \n",
    "print(destination)"
   ]
  },
  {
   "cell_type": "markdown",
   "metadata": {},
   "source": [
    "Notice that the scope of destination is only inside the trip_welcome()"
   ]
  },
  {
   "cell_type": "markdown",
   "metadata": {},
   "source": [
    "In the example below, the variable a is defined both inside and outside of the function. When the function f1() is implemented, a is printed as 2 because it is locally defined to be so. However, when printing a outside of the function, a is printed as 5 because it is implemented outside of the scope of the function. "
   ]
  },
  {
   "cell_type": "code",
   "execution_count": 9,
   "metadata": {},
   "outputs": [
    {
     "name": "stdout",
     "output_type": "stream",
     "text": [
      "5\n",
      "2\n"
     ]
    }
   ],
   "source": [
    "a = 5\n",
    " \n",
    "def f1():\n",
    "  a = 2\n",
    "  print(a)\n",
    "  \n",
    "print(a)   # Will print 5\n",
    "f1()       # Will print 2"
   ]
  },
  {
   "cell_type": "markdown",
   "metadata": {},
   "source": [
    "# Returns  \n",
    "So far, we have only seen functions that print out some result to the console.Functions can also return a value to the user so that this value can be modified or used later.     \n",
    "**When there is a result from a function that can be stored in a variable, it is called a returned function value.** \n",
    "\n",
    "**We use the keyword return to do this.**  \n",
    "\n",
    "**We cannot return a statement, only an expression.**  \n",
    "\n",
    "**A return statement is the last line of code in a function since it should be run last.The reason for this is because of how a return statement works. When a return statement is run inside of a function, the function will immediately terminate and return that value, and none of the remaining code lines in the function will run. Because of this, functions usually have the return statement at the very end, so that all the other lines of code in the function will complete first before the function terminates and returns a value**\n",
    "\n",
    "In the example below , the function check_leap_year returns a string which indicates if the passed parameter is a leap year or not."
   ]
  },
  {
   "cell_type": "code",
   "execution_count": 10,
   "metadata": {},
   "outputs": [
    {
     "name": "stdout",
     "output_type": "stream",
     "text": [
      "2018 is not a leap year.\n"
     ]
    }
   ],
   "source": [
    "def check_leap_year(year): \n",
    "  if year % 4 == 0:\n",
    "    return str(year) + \" is a leap year.\"\n",
    "  else:\n",
    "    return str(year) + \" is not a leap year.\"\n",
    " \n",
    "year_to_check = 2018\n",
    "returned_value = check_leap_year(year_to_check)\n",
    "print(returned_value) # 2018 is not a leap year."
   ]
  },
  {
   "cell_type": "markdown",
   "metadata": {},
   "source": [
    "Here’s an example of a program that will return a converted currency for a given location a user may want to visit in our trip planner application. "
   ]
  },
  {
   "cell_type": "code",
   "execution_count": 11,
   "metadata": {},
   "outputs": [
    {
     "name": "stdout",
     "output_type": "stream",
     "text": [
      "100 dollars in US currency would give you 140.0 New Zealand dollars\n"
     ]
    }
   ],
   "source": [
    "def calculate_exchange_usd(us_dollars, exchange_rate):\n",
    "  return us_dollars * exchange_rate\n",
    " \n",
    "new_zealand_exchange = calculate_exchange_usd(100, 1.4)\n",
    " \n",
    "print(\"100 dollars in US currency would give you \" + str(new_zealand_exchange) + \" New Zealand dollars\")"
   ]
  },
  {
   "cell_type": "markdown",
   "metadata": {},
   "source": [
    "The program that calls divide_by_four can then use the result later:"
   ]
  },
  {
   "cell_type": "markdown",
   "metadata": {},
   "source": [
    "* The function calculate_age creates a variable called age that is the difference between the current year, and a birth year, both of which are inputs of the function  \n",
    "* Outside of the function, we call calculate_age with values 2021 (current_year) and 1993 (birth_year) and save the value to a variable called my_age.  \n",
    "* Call calculate_age with values 2021 (current_year) and 1953 (birth_year) and save the value to a variable called dads_age.  \n",
    "* Print the string \"I am X years old and my dad is Y years old\" to the console, with my_age where the X is and dads_age where the Y is.\n"
   ]
  },
  {
   "cell_type": "code",
   "execution_count": 12,
   "metadata": {},
   "outputs": [
    {
     "name": "stdout",
     "output_type": "stream",
     "text": [
      "I am 28 years old and my dad is 68 years old\n"
     ]
    }
   ],
   "source": [
    "# define a function to calculate the age given current year and year of birth\n",
    "def calculate_age(current_year , birth_year):\n",
    "    age = current_year - birth_year ## age calculation\n",
    "    return(age)\n",
    "\n",
    "# calculate my age given current year and my birth year\n",
    "my_age = calculate_age(2021 , 1993)\n",
    "\n",
    "# calculate my dads age given current year and my dads birth year\n",
    "dads_age = calculate_age(2021 , 1953)\n",
    "\n",
    "# print my age and my dads age \n",
    "print(\"I am \" + str(my_age) + \" years old \" + \"and my dad is \" + str(dads_age) + \" years old\")"
   ]
  },
  {
   "cell_type": "markdown",
   "metadata": {},
   "source": [
    "# Multiple Return Values   \n",
    "Sometimes we may want to return more than one value from a function.   \n",
    "We can return several values by separating them with a comma  \n",
    "\n",
    "Take a look at this example of a function that allows users in our travel application to check the upcoming week’s weather (starting on Monday): "
   ]
  },
  {
   "cell_type": "code",
   "execution_count": 13,
   "metadata": {},
   "outputs": [],
   "source": [
    "weather_data = ['Sunny', 'Sunny', 'Cloudy', 'Raining', 'Snowing']\n",
    " \n",
    "def threeday_weather_report(weather):\n",
    "  first_day = \" Tomorrow the weather will be \" + weather[0]\n",
    "  second_day = \" The following day it will be \" + weather[1]\n",
    "  third_day = \" Two days from now it will be \" + weather[2]\n",
    "  return first_day, second_day, third_day"
   ]
  },
  {
   "cell_type": "markdown",
   "metadata": {},
   "source": [
    "This function takes in a set of data in the form of a list for the upcoming week’s weather. We can get our returned function values by assigning them to variables when we call the function:"
   ]
  },
  {
   "cell_type": "code",
   "execution_count": 14,
   "metadata": {},
   "outputs": [
    {
     "name": "stdout",
     "output_type": "stream",
     "text": [
      " Tomorrow the weather will be Sunny\n",
      " The following day it will be Sunny\n",
      " Two days from now it will be Cloudy\n"
     ]
    }
   ],
   "source": [
    "monday, tuesday, wednesday = threeday_weather_report(weather_data)\n",
    " \n",
    "print(monday)\n",
    "print(tuesday)\n",
    "print(wednesday)"
   ]
  },
  {
   "cell_type": "markdown",
   "metadata": {},
   "source": [
    "Write a function called get_boundaries() that takes in two parameters, a number called target and a number called margin.  \n",
    "(1) It should create two variables:low_limit: target minus the margin ; high_limit: margin added to target  \n",
    "(2) Return both low_limit and high_limit from the function, in that order  \n",
    "(3) Call the function on the target 100 with a margin of 20.  \n",
    "(4) Save the returned values to variables called low and high.\n",
    "\n"
   ]
  },
  {
   "cell_type": "code",
   "execution_count": 30,
   "metadata": {},
   "outputs": [
    {
     "name": "stdout",
     "output_type": "stream",
     "text": [
      "Low Margin is :80\n",
      "High Margin is :120\n"
     ]
    }
   ],
   "source": [
    "# define the function \n",
    "def get_boundaries(target , margin): ## parameters taken by function\n",
    "    \"\"\"This function returns the Lower Limit and the Higher Limit\n",
    "    based on the Target and Margin input by the user when calling the function\"\"\"\n",
    "    low_limit = target - margin # operations to arrive at low_margin\n",
    "    high_limit= margin + target # opeartions to arrive at high_margin\n",
    "    return (low_limit , high_limit) # return result\n",
    "\n",
    "# call the function with specified arguments 100 and 20 and store the resultant in \"low\" and \"high\"\n",
    "L , H = get_boundaries(100,20) # arguments are t=100 , m=20\n",
    "\n",
    "# print the results\n",
    "print(\"Low Margin is :\" + str(L))\n",
    "print(\"High Margin is :\" + str(H))\n",
    "\n"
   ]
  },
  {
   "cell_type": "markdown",
   "metadata": {},
   "source": [
    "In the example below , the function square_point() returns x_squared, y_squared, and z_squared."
   ]
  },
  {
   "cell_type": "code",
   "execution_count": 17,
   "metadata": {},
   "outputs": [
    {
     "name": "stdout",
     "output_type": "stream",
     "text": [
      "9\n",
      "16\n",
      "25\n"
     ]
    }
   ],
   "source": [
    "def square_point(x, y, z):\n",
    "  x_squared = x * x\n",
    "  y_squared = y * y\n",
    "  z_squared = z * z\n",
    "  # Return all three values:\n",
    "  return x_squared, y_squared, z_squared\n",
    " \n",
    "three_squared, four_squared, five_squared = square_point(3, 4, 5)\n",
    "\n",
    "print(three_squared)\n",
    "print(four_squared)\n",
    "print(five_squared)"
   ]
  },
  {
   "cell_type": "markdown",
   "metadata": {},
   "source": [
    "# Practice 1 : Tenth Power \n",
    "Write a function named tenth_power() that has one parameter named num.  \n",
    "\n",
    "The function should return num raised to the 10th power.\n"
   ]
  },
  {
   "cell_type": "code",
   "execution_count": 37,
   "metadata": {},
   "outputs": [
    {
     "name": "stdout",
     "output_type": "stream",
     "text": [
      "1\n",
      "1024\n"
     ]
    }
   ],
   "source": [
    "def tenth_power (num):\n",
    "    return num**10\n",
    "\n",
    "print(tenth_power(1))\n",
    "# 1 to the 10th power is 1\n",
    "\n",
    "print(tenth_power(2))\n",
    "# 2 to the 10th power is 1024"
   ]
  },
  {
   "cell_type": "markdown",
   "metadata": {},
   "source": [
    "# Practice 2  : Turn up the Temperature  \n",
    "Write a function called f_to_c that takes an input f_temp, a temperature in Fahrenheit, and converts it to c_temp, that temperature in Celsius.  \n",
    "It should then return c_temp.  \n",
    "The equation you should use is:Temp (C) = (Temp (F) - 32) * 5/9  \n",
    "Convert 100F to C\n"
   ]
  },
  {
   "cell_type": "code",
   "execution_count": 38,
   "metadata": {},
   "outputs": [
    {
     "name": "stdout",
     "output_type": "stream",
     "text": [
      "37.77777777777778\n"
     ]
    }
   ],
   "source": [
    "#define the function\n",
    "def f_to_c(f_temp):\n",
    "    \"\"\"input is f temp and output is c temp\"\"\"\n",
    "    c_temp = (f_temp - 32)*5/9 # formula for F to C conversion\n",
    "    return c_temp\n",
    "\n",
    "#call the function with 100F\n",
    "print(f_to_c(100))"
   ]
  },
  {
   "cell_type": "markdown",
   "metadata": {},
   "source": [
    "Write a function called c_to_f that takes an input c_temp, a temperature in Celsius, and converts it to f_temp, that temperature in Fahrenheit.  \n",
    "It should then return f_temp.  \n",
    "The equation you should use is: Temp (F) = Temp (C) * (9/5) + 32  \n",
    "Convert 0C to F\n"
   ]
  },
  {
   "cell_type": "code",
   "execution_count": 39,
   "metadata": {},
   "outputs": [
    {
     "name": "stdout",
     "output_type": "stream",
     "text": [
      "32.0\n"
     ]
    }
   ],
   "source": [
    "# define the function\n",
    "def c_to_f (c_temp):\n",
    "    \"\"\"input is c temp output is f temp\"\"\"\n",
    "    f_temp = (c_temp * 9/5) + 32\n",
    "    return f_temp\n",
    "\n",
    "# call the function with 0C\n",
    "print(c_to_f(0))"
   ]
  },
  {
   "cell_type": "markdown",
   "metadata": {},
   "source": [
    "# Practice 3 : Use the Force  \n",
    "Define a function called get_force that takes in mass and acceleration.   \n",
    "It should return mass multiplied by acceleration.  \n",
    "Default values are train_mass = 22680 and train_acceleration = 10  \n",
    "Test get_force by calling it with the variables train_mass and train_acceleration.  \n",
    "Save the result to a variable called train_force and print it out.  \n"
   ]
  },
  {
   "cell_type": "code",
   "execution_count": 40,
   "metadata": {},
   "outputs": [
    {
     "name": "stdout",
     "output_type": "stream",
     "text": [
      "Force of the train with mass of -22680 and an acceleration of - 10 is - 226800\n"
     ]
    }
   ],
   "source": [
    "# global scope variables\n",
    "train_mass = 22680\n",
    "train_acceleration = 10\n",
    "\n",
    "# define the function\n",
    "def get_force(mass , acceleration) :\n",
    "    return mass*acceleration\n",
    "\n",
    "# calculate force\n",
    "train_force = get_force(train_mass , train_acceleration)\n",
    "\n",
    "print(\"Force of the train with mass of -\" + str(train_mass) + \" \" +\n",
    "      \"and an acceleration of -\" + \" \" + str(train_acceleration) + \" \" \n",
    "      \"is - \" + str(train_force))"
   ]
  },
  {
   "cell_type": "markdown",
   "metadata": {},
   "source": [
    "What line of code will call force with a value of 10 for mass and a value of 9.81 for acceleration?"
   ]
  },
  {
   "cell_type": "code",
   "execution_count": 41,
   "metadata": {},
   "outputs": [],
   "source": [
    "def force(mass, acceleration):\n",
    "  force_val = mass*acceleration\n",
    "  return force_val"
   ]
  },
  {
   "cell_type": "code",
   "execution_count": 42,
   "metadata": {},
   "outputs": [
    {
     "data": {
      "text/plain": [
       "98.10000000000001"
      ]
     },
     "execution_count": 42,
     "metadata": {},
     "output_type": "execute_result"
    }
   ],
   "source": [
    "force(10 , 9.81)"
   ]
  },
  {
   "cell_type": "code",
   "execution_count": 43,
   "metadata": {},
   "outputs": [
    {
     "name": "stdout",
     "output_type": "stream",
     "text": [
      "Beginning of report\n",
      "The current time is 3pm\n",
      "The mood is good\n"
     ]
    }
   ],
   "source": [
    "time = \"3pm\"\n",
    "mood = \"good\"\n",
    "\n",
    "def report():\n",
    "  print(\"The current time is \" + time)\n",
    "  print(\"The mood is \" + mood)\n",
    "\n",
    "print(\"Beginning of report\")\n",
    "\n",
    "report()"
   ]
  },
  {
   "cell_type": "code",
   "execution_count": 44,
   "metadata": {},
   "outputs": [
    {
     "name": "stdout",
     "output_type": "stream",
     "text": [
      "The current time is 3pm\n",
      "The mood is good\n"
     ]
    }
   ],
   "source": [
    "report()"
   ]
  },
  {
   "cell_type": "markdown",
   "metadata": {},
   "source": [
    "# Practice 4 : Medical Insurance Project   \n",
    "You are curious about how certain factors such as age, sex, BMI, number of children, and smoking status contribute to medical insurance costs.\n",
    "\n",
    "You will apply your new knowledge of Python functions to write a useful function that calculates medical insurance costs. "
   ]
  },
  {
   "cell_type": "markdown",
   "metadata": {},
   "source": [
    "First, take a look at the code below :  \n",
    "In this code, we estimate the medical insurance costs for two individuals, Maria and Omar, based on five variables:  \n",
    "* age: age of the individual in years  \n",
    "* sex: 0 for female, 1 for male  \n",
    "* bmi: individual’s body mass index  \n",
    "* num_of_children: number of children the individual has  \n",
    "* smoker: 0 for a non-smoker, 1 for a smoker  \n",
    "\n",
    "These variables are used in the following formula to estimate an individual’s insurance cost (in USD):  \n",
    "\n",
    "**insurance_cost=250∗age−128∗sex+370∗bmi+425∗num_of_children+24000∗smoker−12500**"
   ]
  },
  {
   "cell_type": "code",
   "execution_count": 2,
   "metadata": {},
   "outputs": [
    {
     "name": "stdout",
     "output_type": "stream",
     "text": [
      "The estimated insurance cost for Maria is 5469.0 dollars.\n",
      "The estimated insurance cost for Omar is 28336.0 dollars.\n"
     ]
    }
   ],
   "source": [
    "# Initial variables for Maria \n",
    "age = 28\n",
    "sex = 0  \n",
    "bmi = 26.2\n",
    "num_of_children = 3\n",
    "smoker = 0  \n",
    "\n",
    "# Estimate Maria's insurance cost\n",
    "insurance_cost = 250*age - 128*sex + 370*bmi + 425*num_of_children + 24000*smoker - 12500\n",
    "\n",
    "print(\"The estimated insurance cost for Maria is \" + str(insurance_cost) + \" dollars.\")\n",
    "\n",
    "# Initial variables for Omar\n",
    "age = 35\n",
    "sex = 1 \n",
    "bmi = 22.2\n",
    "num_of_children = 0\n",
    "smoker = 1  \n",
    "\n",
    "# Estimate Omar's insurance cost \n",
    "insurance_cost = 250*age - 128*sex + 370*bmi + 425*num_of_children + 24000*smoker - 12500\n",
    "\n",
    "print(\"The estimated insurance cost for Omar is \" + str(insurance_cost) + \" dollars.\")"
   ]
  },
  {
   "cell_type": "code",
   "execution_count": 13,
   "metadata": {},
   "outputs": [],
   "source": [
    "# create function \n",
    "def calculate_insurance_cost(age , sex , bmi , num_of_children , smoker , name):\n",
    "    \"\"\"This function calculates the insurance cost of a person with parameters \n",
    "    age , sex , bmi , #of children , smoker and name as input parameters and prints the details\"\"\"\n",
    "    estimated_cost = 250*age - 128*sex + 370*bmi + 425*num_of_children + 24000*smoker - 12500 # formula\n",
    "    print(\"The estimated insurance cost for\" + \" \" + name + \" is \" + str(estimated_cost) + \" dollars.\")"
   ]
  },
  {
   "cell_type": "code",
   "execution_count": 14,
   "metadata": {},
   "outputs": [
    {
     "name": "stdout",
     "output_type": "stream",
     "text": [
      "The estimated insurance cost for Maria is 5469.0 dollars.\n"
     ]
    }
   ],
   "source": [
    "# calculate maria's insurance cost taking in maria's arguments \n",
    "calculate_insurance_cost(28 , 0 , 26.2 , 3 , 0 , name = \"Maria\")"
   ]
  },
  {
   "cell_type": "code",
   "execution_count": 15,
   "metadata": {},
   "outputs": [
    {
     "name": "stdout",
     "output_type": "stream",
     "text": [
      "The estimated insurance cost for Omar is 28336.0 dollars.\n"
     ]
    }
   ],
   "source": [
    "# calculate omar's insurance cost taking in omar's arguments\n",
    "calculate_insurance_cost(35 , 1 , 22.2 , 0 , 1 , name = \"Omar\")"
   ]
  },
  {
   "cell_type": "code",
   "execution_count": 16,
   "metadata": {},
   "outputs": [
    {
     "name": "stdout",
     "output_type": "stream",
     "text": [
      "The estimated insurance cost for Ravi is 32362 dollars.\n"
     ]
    }
   ],
   "source": [
    "# calculate my insurance cost\n",
    "calculate_insurance_cost(48 , 1 , 22 , 2 , 1 , name = \"Ravi\")"
   ]
  },
  {
   "cell_type": "code",
   "execution_count": null,
   "metadata": {},
   "outputs": [],
   "source": []
  }
 ],
 "metadata": {
  "hide_input": false,
  "kernelspec": {
   "display_name": "Python 3",
   "language": "python",
   "name": "python3"
  },
  "language_info": {
   "codemirror_mode": {
    "name": "ipython",
    "version": 3
   },
   "file_extension": ".py",
   "mimetype": "text/x-python",
   "name": "python",
   "nbconvert_exporter": "python",
   "pygments_lexer": "ipython3",
   "version": "3.8.5"
  },
  "latex_envs": {
   "LaTeX_envs_menu_present": true,
   "autoclose": false,
   "autocomplete": true,
   "bibliofile": "biblio.bib",
   "cite_by": "apalike",
   "current_citInitial": 1,
   "eqLabelWithNumbers": true,
   "eqNumInitial": 1,
   "hotkeys": {
    "equation": "Ctrl-E",
    "itemize": "Ctrl-I"
   },
   "labels_anchors": false,
   "latex_user_defs": false,
   "report_style_numbering": false,
   "user_envs_cfg": false
  },
  "toc": {
   "base_numbering": 1,
   "nav_menu": {},
   "number_sections": true,
   "sideBar": true,
   "skip_h1_title": false,
   "title_cell": "Chapter_2_Python_Functions",
   "title_sidebar": "Contents",
   "toc_cell": true,
   "toc_position": {
    "height": "calc(100% - 180px)",
    "left": "10px",
    "top": "150px",
    "width": "304.333px"
   },
   "toc_section_display": true,
   "toc_window_display": true
  },
  "varInspector": {
   "cols": {
    "lenName": 16,
    "lenType": 16,
    "lenVar": 40
   },
   "kernels_config": {
    "python": {
     "delete_cmd_postfix": "",
     "delete_cmd_prefix": "del ",
     "library": "var_list.py",
     "varRefreshCmd": "print(var_dic_list())"
    },
    "r": {
     "delete_cmd_postfix": ") ",
     "delete_cmd_prefix": "rm(",
     "library": "var_list.r",
     "varRefreshCmd": "cat(var_dic_list()) "
    }
   },
   "types_to_exclude": [
    "module",
    "function",
    "builtin_function_or_method",
    "instance",
    "_Feature"
   ],
   "window_display": false
  }
 },
 "nbformat": 4,
 "nbformat_minor": 2
}
